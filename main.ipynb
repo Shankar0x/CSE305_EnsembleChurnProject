{
 "cells": [
  {
   "cell_type": "code",
   "execution_count": 1,
   "metadata": {},
   "outputs": [],
   "source": [
    "import numpy as np\n",
    "import pandas as pd\n",
    "import seaborn as sns\n",
    "import matplotlib.pyplot as plt\n",
    "import warnings\n",
    "warnings.filterwarnings('ignore')"
   ]
  },
  {
   "cell_type": "code",
   "execution_count": 2,
   "metadata": {},
   "outputs": [],
   "source": [
    "df = pd.read_csv('Dataset/WA_Fn-UseC_-Telco-Customer-Churn.csv')"
   ]
  },
  {
   "cell_type": "code",
   "execution_count": 3,
   "metadata": {},
   "outputs": [
    {
     "data": {
      "text/html": [
       "<div>\n",
       "<style scoped>\n",
       "    .dataframe tbody tr th:only-of-type {\n",
       "        vertical-align: middle;\n",
       "    }\n",
       "\n",
       "    .dataframe tbody tr th {\n",
       "        vertical-align: top;\n",
       "    }\n",
       "\n",
       "    .dataframe thead th {\n",
       "        text-align: right;\n",
       "    }\n",
       "</style>\n",
       "<table border=\"1\" class=\"dataframe\">\n",
       "  <thead>\n",
       "    <tr style=\"text-align: right;\">\n",
       "      <th></th>\n",
       "      <th>customerID</th>\n",
       "      <th>gender</th>\n",
       "      <th>SeniorCitizen</th>\n",
       "      <th>Partner</th>\n",
       "      <th>Dependents</th>\n",
       "      <th>tenure</th>\n",
       "      <th>PhoneService</th>\n",
       "      <th>MultipleLines</th>\n",
       "      <th>InternetService</th>\n",
       "      <th>OnlineSecurity</th>\n",
       "      <th>...</th>\n",
       "      <th>DeviceProtection</th>\n",
       "      <th>TechSupport</th>\n",
       "      <th>StreamingTV</th>\n",
       "      <th>StreamingMovies</th>\n",
       "      <th>Contract</th>\n",
       "      <th>PaperlessBilling</th>\n",
       "      <th>PaymentMethod</th>\n",
       "      <th>MonthlyCharges</th>\n",
       "      <th>TotalCharges</th>\n",
       "      <th>Churn</th>\n",
       "    </tr>\n",
       "  </thead>\n",
       "  <tbody>\n",
       "    <tr>\n",
       "      <th>0</th>\n",
       "      <td>7590-VHVEG</td>\n",
       "      <td>Female</td>\n",
       "      <td>0</td>\n",
       "      <td>Yes</td>\n",
       "      <td>No</td>\n",
       "      <td>1</td>\n",
       "      <td>No</td>\n",
       "      <td>No phone service</td>\n",
       "      <td>DSL</td>\n",
       "      <td>No</td>\n",
       "      <td>...</td>\n",
       "      <td>No</td>\n",
       "      <td>No</td>\n",
       "      <td>No</td>\n",
       "      <td>No</td>\n",
       "      <td>Month-to-month</td>\n",
       "      <td>Yes</td>\n",
       "      <td>Electronic check</td>\n",
       "      <td>29.85</td>\n",
       "      <td>29.85</td>\n",
       "      <td>No</td>\n",
       "    </tr>\n",
       "    <tr>\n",
       "      <th>1</th>\n",
       "      <td>5575-GNVDE</td>\n",
       "      <td>Male</td>\n",
       "      <td>0</td>\n",
       "      <td>No</td>\n",
       "      <td>No</td>\n",
       "      <td>34</td>\n",
       "      <td>Yes</td>\n",
       "      <td>No</td>\n",
       "      <td>DSL</td>\n",
       "      <td>Yes</td>\n",
       "      <td>...</td>\n",
       "      <td>Yes</td>\n",
       "      <td>No</td>\n",
       "      <td>No</td>\n",
       "      <td>No</td>\n",
       "      <td>One year</td>\n",
       "      <td>No</td>\n",
       "      <td>Mailed check</td>\n",
       "      <td>56.95</td>\n",
       "      <td>1889.5</td>\n",
       "      <td>No</td>\n",
       "    </tr>\n",
       "    <tr>\n",
       "      <th>2</th>\n",
       "      <td>3668-QPYBK</td>\n",
       "      <td>Male</td>\n",
       "      <td>0</td>\n",
       "      <td>No</td>\n",
       "      <td>No</td>\n",
       "      <td>2</td>\n",
       "      <td>Yes</td>\n",
       "      <td>No</td>\n",
       "      <td>DSL</td>\n",
       "      <td>Yes</td>\n",
       "      <td>...</td>\n",
       "      <td>No</td>\n",
       "      <td>No</td>\n",
       "      <td>No</td>\n",
       "      <td>No</td>\n",
       "      <td>Month-to-month</td>\n",
       "      <td>Yes</td>\n",
       "      <td>Mailed check</td>\n",
       "      <td>53.85</td>\n",
       "      <td>108.15</td>\n",
       "      <td>Yes</td>\n",
       "    </tr>\n",
       "    <tr>\n",
       "      <th>3</th>\n",
       "      <td>7795-CFOCW</td>\n",
       "      <td>Male</td>\n",
       "      <td>0</td>\n",
       "      <td>No</td>\n",
       "      <td>No</td>\n",
       "      <td>45</td>\n",
       "      <td>No</td>\n",
       "      <td>No phone service</td>\n",
       "      <td>DSL</td>\n",
       "      <td>Yes</td>\n",
       "      <td>...</td>\n",
       "      <td>Yes</td>\n",
       "      <td>Yes</td>\n",
       "      <td>No</td>\n",
       "      <td>No</td>\n",
       "      <td>One year</td>\n",
       "      <td>No</td>\n",
       "      <td>Bank transfer (automatic)</td>\n",
       "      <td>42.30</td>\n",
       "      <td>1840.75</td>\n",
       "      <td>No</td>\n",
       "    </tr>\n",
       "    <tr>\n",
       "      <th>4</th>\n",
       "      <td>9237-HQITU</td>\n",
       "      <td>Female</td>\n",
       "      <td>0</td>\n",
       "      <td>No</td>\n",
       "      <td>No</td>\n",
       "      <td>2</td>\n",
       "      <td>Yes</td>\n",
       "      <td>No</td>\n",
       "      <td>Fiber optic</td>\n",
       "      <td>No</td>\n",
       "      <td>...</td>\n",
       "      <td>No</td>\n",
       "      <td>No</td>\n",
       "      <td>No</td>\n",
       "      <td>No</td>\n",
       "      <td>Month-to-month</td>\n",
       "      <td>Yes</td>\n",
       "      <td>Electronic check</td>\n",
       "      <td>70.70</td>\n",
       "      <td>151.65</td>\n",
       "      <td>Yes</td>\n",
       "    </tr>\n",
       "    <tr>\n",
       "      <th>...</th>\n",
       "      <td>...</td>\n",
       "      <td>...</td>\n",
       "      <td>...</td>\n",
       "      <td>...</td>\n",
       "      <td>...</td>\n",
       "      <td>...</td>\n",
       "      <td>...</td>\n",
       "      <td>...</td>\n",
       "      <td>...</td>\n",
       "      <td>...</td>\n",
       "      <td>...</td>\n",
       "      <td>...</td>\n",
       "      <td>...</td>\n",
       "      <td>...</td>\n",
       "      <td>...</td>\n",
       "      <td>...</td>\n",
       "      <td>...</td>\n",
       "      <td>...</td>\n",
       "      <td>...</td>\n",
       "      <td>...</td>\n",
       "      <td>...</td>\n",
       "    </tr>\n",
       "    <tr>\n",
       "      <th>7038</th>\n",
       "      <td>6840-RESVB</td>\n",
       "      <td>Male</td>\n",
       "      <td>0</td>\n",
       "      <td>Yes</td>\n",
       "      <td>Yes</td>\n",
       "      <td>24</td>\n",
       "      <td>Yes</td>\n",
       "      <td>Yes</td>\n",
       "      <td>DSL</td>\n",
       "      <td>Yes</td>\n",
       "      <td>...</td>\n",
       "      <td>Yes</td>\n",
       "      <td>Yes</td>\n",
       "      <td>Yes</td>\n",
       "      <td>Yes</td>\n",
       "      <td>One year</td>\n",
       "      <td>Yes</td>\n",
       "      <td>Mailed check</td>\n",
       "      <td>84.80</td>\n",
       "      <td>1990.5</td>\n",
       "      <td>No</td>\n",
       "    </tr>\n",
       "    <tr>\n",
       "      <th>7039</th>\n",
       "      <td>2234-XADUH</td>\n",
       "      <td>Female</td>\n",
       "      <td>0</td>\n",
       "      <td>Yes</td>\n",
       "      <td>Yes</td>\n",
       "      <td>72</td>\n",
       "      <td>Yes</td>\n",
       "      <td>Yes</td>\n",
       "      <td>Fiber optic</td>\n",
       "      <td>No</td>\n",
       "      <td>...</td>\n",
       "      <td>Yes</td>\n",
       "      <td>No</td>\n",
       "      <td>Yes</td>\n",
       "      <td>Yes</td>\n",
       "      <td>One year</td>\n",
       "      <td>Yes</td>\n",
       "      <td>Credit card (automatic)</td>\n",
       "      <td>103.20</td>\n",
       "      <td>7362.9</td>\n",
       "      <td>No</td>\n",
       "    </tr>\n",
       "    <tr>\n",
       "      <th>7040</th>\n",
       "      <td>4801-JZAZL</td>\n",
       "      <td>Female</td>\n",
       "      <td>0</td>\n",
       "      <td>Yes</td>\n",
       "      <td>Yes</td>\n",
       "      <td>11</td>\n",
       "      <td>No</td>\n",
       "      <td>No phone service</td>\n",
       "      <td>DSL</td>\n",
       "      <td>Yes</td>\n",
       "      <td>...</td>\n",
       "      <td>No</td>\n",
       "      <td>No</td>\n",
       "      <td>No</td>\n",
       "      <td>No</td>\n",
       "      <td>Month-to-month</td>\n",
       "      <td>Yes</td>\n",
       "      <td>Electronic check</td>\n",
       "      <td>29.60</td>\n",
       "      <td>346.45</td>\n",
       "      <td>No</td>\n",
       "    </tr>\n",
       "    <tr>\n",
       "      <th>7041</th>\n",
       "      <td>8361-LTMKD</td>\n",
       "      <td>Male</td>\n",
       "      <td>1</td>\n",
       "      <td>Yes</td>\n",
       "      <td>No</td>\n",
       "      <td>4</td>\n",
       "      <td>Yes</td>\n",
       "      <td>Yes</td>\n",
       "      <td>Fiber optic</td>\n",
       "      <td>No</td>\n",
       "      <td>...</td>\n",
       "      <td>No</td>\n",
       "      <td>No</td>\n",
       "      <td>No</td>\n",
       "      <td>No</td>\n",
       "      <td>Month-to-month</td>\n",
       "      <td>Yes</td>\n",
       "      <td>Mailed check</td>\n",
       "      <td>74.40</td>\n",
       "      <td>306.6</td>\n",
       "      <td>Yes</td>\n",
       "    </tr>\n",
       "    <tr>\n",
       "      <th>7042</th>\n",
       "      <td>3186-AJIEK</td>\n",
       "      <td>Male</td>\n",
       "      <td>0</td>\n",
       "      <td>No</td>\n",
       "      <td>No</td>\n",
       "      <td>66</td>\n",
       "      <td>Yes</td>\n",
       "      <td>No</td>\n",
       "      <td>Fiber optic</td>\n",
       "      <td>Yes</td>\n",
       "      <td>...</td>\n",
       "      <td>Yes</td>\n",
       "      <td>Yes</td>\n",
       "      <td>Yes</td>\n",
       "      <td>Yes</td>\n",
       "      <td>Two year</td>\n",
       "      <td>Yes</td>\n",
       "      <td>Bank transfer (automatic)</td>\n",
       "      <td>105.65</td>\n",
       "      <td>6844.5</td>\n",
       "      <td>No</td>\n",
       "    </tr>\n",
       "  </tbody>\n",
       "</table>\n",
       "<p>7043 rows × 21 columns</p>\n",
       "</div>"
      ],
      "text/plain": [
       "      customerID  gender  SeniorCitizen Partner Dependents  tenure  \\\n",
       "0     7590-VHVEG  Female              0     Yes         No       1   \n",
       "1     5575-GNVDE    Male              0      No         No      34   \n",
       "2     3668-QPYBK    Male              0      No         No       2   \n",
       "3     7795-CFOCW    Male              0      No         No      45   \n",
       "4     9237-HQITU  Female              0      No         No       2   \n",
       "...          ...     ...            ...     ...        ...     ...   \n",
       "7038  6840-RESVB    Male              0     Yes        Yes      24   \n",
       "7039  2234-XADUH  Female              0     Yes        Yes      72   \n",
       "7040  4801-JZAZL  Female              0     Yes        Yes      11   \n",
       "7041  8361-LTMKD    Male              1     Yes         No       4   \n",
       "7042  3186-AJIEK    Male              0      No         No      66   \n",
       "\n",
       "     PhoneService     MultipleLines InternetService OnlineSecurity  ...  \\\n",
       "0              No  No phone service             DSL             No  ...   \n",
       "1             Yes                No             DSL            Yes  ...   \n",
       "2             Yes                No             DSL            Yes  ...   \n",
       "3              No  No phone service             DSL            Yes  ...   \n",
       "4             Yes                No     Fiber optic             No  ...   \n",
       "...           ...               ...             ...            ...  ...   \n",
       "7038          Yes               Yes             DSL            Yes  ...   \n",
       "7039          Yes               Yes     Fiber optic             No  ...   \n",
       "7040           No  No phone service             DSL            Yes  ...   \n",
       "7041          Yes               Yes     Fiber optic             No  ...   \n",
       "7042          Yes                No     Fiber optic            Yes  ...   \n",
       "\n",
       "     DeviceProtection TechSupport StreamingTV StreamingMovies        Contract  \\\n",
       "0                  No          No          No              No  Month-to-month   \n",
       "1                 Yes          No          No              No        One year   \n",
       "2                  No          No          No              No  Month-to-month   \n",
       "3                 Yes         Yes          No              No        One year   \n",
       "4                  No          No          No              No  Month-to-month   \n",
       "...               ...         ...         ...             ...             ...   \n",
       "7038              Yes         Yes         Yes             Yes        One year   \n",
       "7039              Yes          No         Yes             Yes        One year   \n",
       "7040               No          No          No              No  Month-to-month   \n",
       "7041               No          No          No              No  Month-to-month   \n",
       "7042              Yes         Yes         Yes             Yes        Two year   \n",
       "\n",
       "     PaperlessBilling              PaymentMethod MonthlyCharges  TotalCharges  \\\n",
       "0                 Yes           Electronic check          29.85         29.85   \n",
       "1                  No               Mailed check          56.95        1889.5   \n",
       "2                 Yes               Mailed check          53.85        108.15   \n",
       "3                  No  Bank transfer (automatic)          42.30       1840.75   \n",
       "4                 Yes           Electronic check          70.70        151.65   \n",
       "...               ...                        ...            ...           ...   \n",
       "7038              Yes               Mailed check          84.80        1990.5   \n",
       "7039              Yes    Credit card (automatic)         103.20        7362.9   \n",
       "7040              Yes           Electronic check          29.60        346.45   \n",
       "7041              Yes               Mailed check          74.40         306.6   \n",
       "7042              Yes  Bank transfer (automatic)         105.65        6844.5   \n",
       "\n",
       "     Churn  \n",
       "0       No  \n",
       "1       No  \n",
       "2      Yes  \n",
       "3       No  \n",
       "4      Yes  \n",
       "...    ...  \n",
       "7038    No  \n",
       "7039    No  \n",
       "7040    No  \n",
       "7041   Yes  \n",
       "7042    No  \n",
       "\n",
       "[7043 rows x 21 columns]"
      ]
     },
     "execution_count": 3,
     "metadata": {},
     "output_type": "execute_result"
    }
   ],
   "source": [
    "df"
   ]
  },
  {
   "cell_type": "code",
   "execution_count": 4,
   "metadata": {},
   "outputs": [
    {
     "name": "stdout",
     "output_type": "stream",
     "text": [
      "<class 'pandas.core.frame.DataFrame'>\n",
      "RangeIndex: 7043 entries, 0 to 7042\n",
      "Data columns (total 21 columns):\n",
      " #   Column            Non-Null Count  Dtype  \n",
      "---  ------            --------------  -----  \n",
      " 0   customerID        7043 non-null   object \n",
      " 1   gender            7043 non-null   object \n",
      " 2   SeniorCitizen     7043 non-null   int64  \n",
      " 3   Partner           7043 non-null   object \n",
      " 4   Dependents        7043 non-null   object \n",
      " 5   tenure            7043 non-null   int64  \n",
      " 6   PhoneService      7043 non-null   object \n",
      " 7   MultipleLines     7043 non-null   object \n",
      " 8   InternetService   7043 non-null   object \n",
      " 9   OnlineSecurity    7043 non-null   object \n",
      " 10  OnlineBackup      7043 non-null   object \n",
      " 11  DeviceProtection  7043 non-null   object \n",
      " 12  TechSupport       7043 non-null   object \n",
      " 13  StreamingTV       7043 non-null   object \n",
      " 14  StreamingMovies   7043 non-null   object \n",
      " 15  Contract          7043 non-null   object \n",
      " 16  PaperlessBilling  7043 non-null   object \n",
      " 17  PaymentMethod     7043 non-null   object \n",
      " 18  MonthlyCharges    7043 non-null   float64\n",
      " 19  TotalCharges      7043 non-null   object \n",
      " 20  Churn             7043 non-null   object \n",
      "dtypes: float64(1), int64(2), object(18)\n",
      "memory usage: 1.1+ MB\n"
     ]
    }
   ],
   "source": [
    "df.info()"
   ]
  },
  {
   "cell_type": "markdown",
   "metadata": {},
   "source": [
    "Dropping 'customer ID' as it is unique to all customers and does not contribute anything to the final churn"
   ]
  },
  {
   "cell_type": "code",
   "execution_count": 5,
   "metadata": {},
   "outputs": [],
   "source": [
    "df.drop(['customerID'],axis=1,inplace=True)"
   ]
  },
  {
   "cell_type": "markdown",
   "metadata": {},
   "source": [
    "Checking if there are any null values in the dataset"
   ]
  },
  {
   "cell_type": "code",
   "execution_count": 6,
   "metadata": {},
   "outputs": [
    {
     "data": {
      "text/plain": [
       "gender              0\n",
       "SeniorCitizen       0\n",
       "Partner             0\n",
       "Dependents          0\n",
       "tenure              0\n",
       "PhoneService        0\n",
       "MultipleLines       0\n",
       "InternetService     0\n",
       "OnlineSecurity      0\n",
       "OnlineBackup        0\n",
       "DeviceProtection    0\n",
       "TechSupport         0\n",
       "StreamingTV         0\n",
       "StreamingMovies     0\n",
       "Contract            0\n",
       "PaperlessBilling    0\n",
       "PaymentMethod       0\n",
       "MonthlyCharges      0\n",
       "TotalCharges        0\n",
       "Churn               0\n",
       "dtype: int64"
      ]
     },
     "execution_count": 6,
     "metadata": {},
     "output_type": "execute_result"
    }
   ],
   "source": [
    "df.isnull().sum()"
   ]
  },
  {
   "cell_type": "markdown",
   "metadata": {},
   "source": [
    "Checking if there are any NAN values in the dataset"
   ]
  },
  {
   "cell_type": "code",
   "execution_count": 7,
   "metadata": {},
   "outputs": [
    {
     "data": {
      "text/plain": [
       "gender              0\n",
       "SeniorCitizen       0\n",
       "Partner             0\n",
       "Dependents          0\n",
       "tenure              0\n",
       "PhoneService        0\n",
       "MultipleLines       0\n",
       "InternetService     0\n",
       "OnlineSecurity      0\n",
       "OnlineBackup        0\n",
       "DeviceProtection    0\n",
       "TechSupport         0\n",
       "StreamingTV         0\n",
       "StreamingMovies     0\n",
       "Contract            0\n",
       "PaperlessBilling    0\n",
       "PaymentMethod       0\n",
       "MonthlyCharges      0\n",
       "TotalCharges        0\n",
       "Churn               0\n",
       "dtype: int64"
      ]
     },
     "execution_count": 7,
     "metadata": {},
     "output_type": "execute_result"
    }
   ],
   "source": [
    "df.isna().sum()"
   ]
  },
  {
   "cell_type": "code",
   "execution_count": 8,
   "metadata": {},
   "outputs": [
    {
     "data": {
      "text/plain": [
       "gender               0\n",
       "SeniorCitizen        0\n",
       "Partner              0\n",
       "Dependents           0\n",
       "tenure               0\n",
       "PhoneService         0\n",
       "MultipleLines        0\n",
       "InternetService      0\n",
       "OnlineSecurity       0\n",
       "OnlineBackup         0\n",
       "DeviceProtection     0\n",
       "TechSupport          0\n",
       "StreamingTV          0\n",
       "StreamingMovies      0\n",
       "Contract             0\n",
       "PaperlessBilling     0\n",
       "PaymentMethod        0\n",
       "MonthlyCharges       0\n",
       "TotalCharges        11\n",
       "Churn                0\n",
       "dtype: int64"
      ]
     },
     "execution_count": 8,
     "metadata": {},
     "output_type": "execute_result"
    }
   ],
   "source": [
    "df['TotalCharges'] = pd.to_numeric(df.TotalCharges,errors='coerce')\n",
    "df.isnull().sum()"
   ]
  },
  {
   "cell_type": "code",
   "execution_count": 9,
   "metadata": {},
   "outputs": [
    {
     "data": {
      "text/html": [
       "<div>\n",
       "<style scoped>\n",
       "    .dataframe tbody tr th:only-of-type {\n",
       "        vertical-align: middle;\n",
       "    }\n",
       "\n",
       "    .dataframe tbody tr th {\n",
       "        vertical-align: top;\n",
       "    }\n",
       "\n",
       "    .dataframe thead th {\n",
       "        text-align: right;\n",
       "    }\n",
       "</style>\n",
       "<table border=\"1\" class=\"dataframe\">\n",
       "  <thead>\n",
       "    <tr style=\"text-align: right;\">\n",
       "      <th></th>\n",
       "      <th>gender</th>\n",
       "      <th>SeniorCitizen</th>\n",
       "      <th>Partner</th>\n",
       "      <th>Dependents</th>\n",
       "      <th>tenure</th>\n",
       "      <th>PhoneService</th>\n",
       "      <th>MultipleLines</th>\n",
       "      <th>InternetService</th>\n",
       "      <th>OnlineSecurity</th>\n",
       "      <th>OnlineBackup</th>\n",
       "      <th>DeviceProtection</th>\n",
       "      <th>TechSupport</th>\n",
       "      <th>StreamingTV</th>\n",
       "      <th>StreamingMovies</th>\n",
       "      <th>Contract</th>\n",
       "      <th>PaperlessBilling</th>\n",
       "      <th>PaymentMethod</th>\n",
       "      <th>MonthlyCharges</th>\n",
       "      <th>TotalCharges</th>\n",
       "      <th>Churn</th>\n",
       "    </tr>\n",
       "  </thead>\n",
       "  <tbody>\n",
       "    <tr>\n",
       "      <th>488</th>\n",
       "      <td>Female</td>\n",
       "      <td>0</td>\n",
       "      <td>Yes</td>\n",
       "      <td>Yes</td>\n",
       "      <td>0</td>\n",
       "      <td>No</td>\n",
       "      <td>No phone service</td>\n",
       "      <td>DSL</td>\n",
       "      <td>Yes</td>\n",
       "      <td>No</td>\n",
       "      <td>Yes</td>\n",
       "      <td>Yes</td>\n",
       "      <td>Yes</td>\n",
       "      <td>No</td>\n",
       "      <td>Two year</td>\n",
       "      <td>Yes</td>\n",
       "      <td>Bank transfer (automatic)</td>\n",
       "      <td>52.55</td>\n",
       "      <td>NaN</td>\n",
       "      <td>No</td>\n",
       "    </tr>\n",
       "    <tr>\n",
       "      <th>753</th>\n",
       "      <td>Male</td>\n",
       "      <td>0</td>\n",
       "      <td>No</td>\n",
       "      <td>Yes</td>\n",
       "      <td>0</td>\n",
       "      <td>Yes</td>\n",
       "      <td>No</td>\n",
       "      <td>No</td>\n",
       "      <td>No internet service</td>\n",
       "      <td>No internet service</td>\n",
       "      <td>No internet service</td>\n",
       "      <td>No internet service</td>\n",
       "      <td>No internet service</td>\n",
       "      <td>No internet service</td>\n",
       "      <td>Two year</td>\n",
       "      <td>No</td>\n",
       "      <td>Mailed check</td>\n",
       "      <td>20.25</td>\n",
       "      <td>NaN</td>\n",
       "      <td>No</td>\n",
       "    </tr>\n",
       "    <tr>\n",
       "      <th>936</th>\n",
       "      <td>Female</td>\n",
       "      <td>0</td>\n",
       "      <td>Yes</td>\n",
       "      <td>Yes</td>\n",
       "      <td>0</td>\n",
       "      <td>Yes</td>\n",
       "      <td>No</td>\n",
       "      <td>DSL</td>\n",
       "      <td>Yes</td>\n",
       "      <td>Yes</td>\n",
       "      <td>Yes</td>\n",
       "      <td>No</td>\n",
       "      <td>Yes</td>\n",
       "      <td>Yes</td>\n",
       "      <td>Two year</td>\n",
       "      <td>No</td>\n",
       "      <td>Mailed check</td>\n",
       "      <td>80.85</td>\n",
       "      <td>NaN</td>\n",
       "      <td>No</td>\n",
       "    </tr>\n",
       "    <tr>\n",
       "      <th>1082</th>\n",
       "      <td>Male</td>\n",
       "      <td>0</td>\n",
       "      <td>Yes</td>\n",
       "      <td>Yes</td>\n",
       "      <td>0</td>\n",
       "      <td>Yes</td>\n",
       "      <td>Yes</td>\n",
       "      <td>No</td>\n",
       "      <td>No internet service</td>\n",
       "      <td>No internet service</td>\n",
       "      <td>No internet service</td>\n",
       "      <td>No internet service</td>\n",
       "      <td>No internet service</td>\n",
       "      <td>No internet service</td>\n",
       "      <td>Two year</td>\n",
       "      <td>No</td>\n",
       "      <td>Mailed check</td>\n",
       "      <td>25.75</td>\n",
       "      <td>NaN</td>\n",
       "      <td>No</td>\n",
       "    </tr>\n",
       "    <tr>\n",
       "      <th>1340</th>\n",
       "      <td>Female</td>\n",
       "      <td>0</td>\n",
       "      <td>Yes</td>\n",
       "      <td>Yes</td>\n",
       "      <td>0</td>\n",
       "      <td>No</td>\n",
       "      <td>No phone service</td>\n",
       "      <td>DSL</td>\n",
       "      <td>Yes</td>\n",
       "      <td>Yes</td>\n",
       "      <td>Yes</td>\n",
       "      <td>Yes</td>\n",
       "      <td>Yes</td>\n",
       "      <td>No</td>\n",
       "      <td>Two year</td>\n",
       "      <td>No</td>\n",
       "      <td>Credit card (automatic)</td>\n",
       "      <td>56.05</td>\n",
       "      <td>NaN</td>\n",
       "      <td>No</td>\n",
       "    </tr>\n",
       "    <tr>\n",
       "      <th>3331</th>\n",
       "      <td>Male</td>\n",
       "      <td>0</td>\n",
       "      <td>Yes</td>\n",
       "      <td>Yes</td>\n",
       "      <td>0</td>\n",
       "      <td>Yes</td>\n",
       "      <td>No</td>\n",
       "      <td>No</td>\n",
       "      <td>No internet service</td>\n",
       "      <td>No internet service</td>\n",
       "      <td>No internet service</td>\n",
       "      <td>No internet service</td>\n",
       "      <td>No internet service</td>\n",
       "      <td>No internet service</td>\n",
       "      <td>Two year</td>\n",
       "      <td>No</td>\n",
       "      <td>Mailed check</td>\n",
       "      <td>19.85</td>\n",
       "      <td>NaN</td>\n",
       "      <td>No</td>\n",
       "    </tr>\n",
       "    <tr>\n",
       "      <th>3826</th>\n",
       "      <td>Male</td>\n",
       "      <td>0</td>\n",
       "      <td>Yes</td>\n",
       "      <td>Yes</td>\n",
       "      <td>0</td>\n",
       "      <td>Yes</td>\n",
       "      <td>Yes</td>\n",
       "      <td>No</td>\n",
       "      <td>No internet service</td>\n",
       "      <td>No internet service</td>\n",
       "      <td>No internet service</td>\n",
       "      <td>No internet service</td>\n",
       "      <td>No internet service</td>\n",
       "      <td>No internet service</td>\n",
       "      <td>Two year</td>\n",
       "      <td>No</td>\n",
       "      <td>Mailed check</td>\n",
       "      <td>25.35</td>\n",
       "      <td>NaN</td>\n",
       "      <td>No</td>\n",
       "    </tr>\n",
       "    <tr>\n",
       "      <th>4380</th>\n",
       "      <td>Female</td>\n",
       "      <td>0</td>\n",
       "      <td>Yes</td>\n",
       "      <td>Yes</td>\n",
       "      <td>0</td>\n",
       "      <td>Yes</td>\n",
       "      <td>No</td>\n",
       "      <td>No</td>\n",
       "      <td>No internet service</td>\n",
       "      <td>No internet service</td>\n",
       "      <td>No internet service</td>\n",
       "      <td>No internet service</td>\n",
       "      <td>No internet service</td>\n",
       "      <td>No internet service</td>\n",
       "      <td>Two year</td>\n",
       "      <td>No</td>\n",
       "      <td>Mailed check</td>\n",
       "      <td>20.00</td>\n",
       "      <td>NaN</td>\n",
       "      <td>No</td>\n",
       "    </tr>\n",
       "    <tr>\n",
       "      <th>5218</th>\n",
       "      <td>Male</td>\n",
       "      <td>0</td>\n",
       "      <td>Yes</td>\n",
       "      <td>Yes</td>\n",
       "      <td>0</td>\n",
       "      <td>Yes</td>\n",
       "      <td>No</td>\n",
       "      <td>No</td>\n",
       "      <td>No internet service</td>\n",
       "      <td>No internet service</td>\n",
       "      <td>No internet service</td>\n",
       "      <td>No internet service</td>\n",
       "      <td>No internet service</td>\n",
       "      <td>No internet service</td>\n",
       "      <td>One year</td>\n",
       "      <td>Yes</td>\n",
       "      <td>Mailed check</td>\n",
       "      <td>19.70</td>\n",
       "      <td>NaN</td>\n",
       "      <td>No</td>\n",
       "    </tr>\n",
       "    <tr>\n",
       "      <th>6670</th>\n",
       "      <td>Female</td>\n",
       "      <td>0</td>\n",
       "      <td>Yes</td>\n",
       "      <td>Yes</td>\n",
       "      <td>0</td>\n",
       "      <td>Yes</td>\n",
       "      <td>Yes</td>\n",
       "      <td>DSL</td>\n",
       "      <td>No</td>\n",
       "      <td>Yes</td>\n",
       "      <td>Yes</td>\n",
       "      <td>Yes</td>\n",
       "      <td>Yes</td>\n",
       "      <td>No</td>\n",
       "      <td>Two year</td>\n",
       "      <td>No</td>\n",
       "      <td>Mailed check</td>\n",
       "      <td>73.35</td>\n",
       "      <td>NaN</td>\n",
       "      <td>No</td>\n",
       "    </tr>\n",
       "    <tr>\n",
       "      <th>6754</th>\n",
       "      <td>Male</td>\n",
       "      <td>0</td>\n",
       "      <td>No</td>\n",
       "      <td>Yes</td>\n",
       "      <td>0</td>\n",
       "      <td>Yes</td>\n",
       "      <td>Yes</td>\n",
       "      <td>DSL</td>\n",
       "      <td>Yes</td>\n",
       "      <td>Yes</td>\n",
       "      <td>No</td>\n",
       "      <td>Yes</td>\n",
       "      <td>No</td>\n",
       "      <td>No</td>\n",
       "      <td>Two year</td>\n",
       "      <td>Yes</td>\n",
       "      <td>Bank transfer (automatic)</td>\n",
       "      <td>61.90</td>\n",
       "      <td>NaN</td>\n",
       "      <td>No</td>\n",
       "    </tr>\n",
       "  </tbody>\n",
       "</table>\n",
       "</div>"
      ],
      "text/plain": [
       "      gender  SeniorCitizen Partner Dependents  tenure PhoneService  \\\n",
       "488   Female              0     Yes        Yes       0           No   \n",
       "753     Male              0      No        Yes       0          Yes   \n",
       "936   Female              0     Yes        Yes       0          Yes   \n",
       "1082    Male              0     Yes        Yes       0          Yes   \n",
       "1340  Female              0     Yes        Yes       0           No   \n",
       "3331    Male              0     Yes        Yes       0          Yes   \n",
       "3826    Male              0     Yes        Yes       0          Yes   \n",
       "4380  Female              0     Yes        Yes       0          Yes   \n",
       "5218    Male              0     Yes        Yes       0          Yes   \n",
       "6670  Female              0     Yes        Yes       0          Yes   \n",
       "6754    Male              0      No        Yes       0          Yes   \n",
       "\n",
       "         MultipleLines InternetService       OnlineSecurity  \\\n",
       "488   No phone service             DSL                  Yes   \n",
       "753                 No              No  No internet service   \n",
       "936                 No             DSL                  Yes   \n",
       "1082               Yes              No  No internet service   \n",
       "1340  No phone service             DSL                  Yes   \n",
       "3331                No              No  No internet service   \n",
       "3826               Yes              No  No internet service   \n",
       "4380                No              No  No internet service   \n",
       "5218                No              No  No internet service   \n",
       "6670               Yes             DSL                   No   \n",
       "6754               Yes             DSL                  Yes   \n",
       "\n",
       "             OnlineBackup     DeviceProtection          TechSupport  \\\n",
       "488                    No                  Yes                  Yes   \n",
       "753   No internet service  No internet service  No internet service   \n",
       "936                   Yes                  Yes                   No   \n",
       "1082  No internet service  No internet service  No internet service   \n",
       "1340                  Yes                  Yes                  Yes   \n",
       "3331  No internet service  No internet service  No internet service   \n",
       "3826  No internet service  No internet service  No internet service   \n",
       "4380  No internet service  No internet service  No internet service   \n",
       "5218  No internet service  No internet service  No internet service   \n",
       "6670                  Yes                  Yes                  Yes   \n",
       "6754                  Yes                   No                  Yes   \n",
       "\n",
       "              StreamingTV      StreamingMovies  Contract PaperlessBilling  \\\n",
       "488                   Yes                   No  Two year              Yes   \n",
       "753   No internet service  No internet service  Two year               No   \n",
       "936                   Yes                  Yes  Two year               No   \n",
       "1082  No internet service  No internet service  Two year               No   \n",
       "1340                  Yes                   No  Two year               No   \n",
       "3331  No internet service  No internet service  Two year               No   \n",
       "3826  No internet service  No internet service  Two year               No   \n",
       "4380  No internet service  No internet service  Two year               No   \n",
       "5218  No internet service  No internet service  One year              Yes   \n",
       "6670                  Yes                   No  Two year               No   \n",
       "6754                   No                   No  Two year              Yes   \n",
       "\n",
       "                  PaymentMethod  MonthlyCharges  TotalCharges Churn  \n",
       "488   Bank transfer (automatic)           52.55           NaN    No  \n",
       "753                Mailed check           20.25           NaN    No  \n",
       "936                Mailed check           80.85           NaN    No  \n",
       "1082               Mailed check           25.75           NaN    No  \n",
       "1340    Credit card (automatic)           56.05           NaN    No  \n",
       "3331               Mailed check           19.85           NaN    No  \n",
       "3826               Mailed check           25.35           NaN    No  \n",
       "4380               Mailed check           20.00           NaN    No  \n",
       "5218               Mailed check           19.70           NaN    No  \n",
       "6670               Mailed check           73.35           NaN    No  \n",
       "6754  Bank transfer (automatic)           61.90           NaN    No  "
      ]
     },
     "execution_count": 9,
     "metadata": {},
     "output_type": "execute_result"
    }
   ],
   "source": [
    "df[np.isnan(df['TotalCharges'])]"
   ]
  },
  {
   "cell_type": "code",
   "execution_count": 10,
   "metadata": {},
   "outputs": [
    {
     "data": {
      "text/plain": [
       "Int64Index([], dtype='int64')"
      ]
     },
     "execution_count": 10,
     "metadata": {},
     "output_type": "execute_result"
    }
   ],
   "source": [
    "# dropping all tenure rows with 0 values\n",
    "df.drop(labels=df[df['tenure']==0].index,axis=0,inplace=True)\n",
    "df[df['tenure']==0].index"
   ]
  },
  {
   "cell_type": "code",
   "execution_count": 11,
   "metadata": {},
   "outputs": [
    {
     "data": {
      "text/plain": [
       "gender              0\n",
       "SeniorCitizen       0\n",
       "Partner             0\n",
       "Dependents          0\n",
       "tenure              0\n",
       "PhoneService        0\n",
       "MultipleLines       0\n",
       "InternetService     0\n",
       "OnlineSecurity      0\n",
       "OnlineBackup        0\n",
       "DeviceProtection    0\n",
       "TechSupport         0\n",
       "StreamingTV         0\n",
       "StreamingMovies     0\n",
       "Contract            0\n",
       "PaperlessBilling    0\n",
       "PaymentMethod       0\n",
       "MonthlyCharges      0\n",
       "TotalCharges        0\n",
       "Churn               0\n",
       "dtype: int64"
      ]
     },
     "execution_count": 11,
     "metadata": {},
     "output_type": "execute_result"
    }
   ],
   "source": [
    "df.isna().sum()"
   ]
  },
  {
   "cell_type": "markdown",
   "metadata": {},
   "source": [
    "Label encoding the Churn column (0 = No, 1 = Yes)"
   ]
  },
  {
   "cell_type": "code",
   "execution_count": 12,
   "metadata": {},
   "outputs": [],
   "source": [
    "from sklearn import preprocessing\n",
    "LE = preprocessing.LabelBinarizer()\n",
    "df['Churn'] = LE.fit_transform(list(df['Churn']))"
   ]
  },
  {
   "cell_type": "markdown",
   "metadata": {},
   "source": [
    "Checking out how many churned and not churned"
   ]
  },
  {
   "cell_type": "code",
   "execution_count": 13,
   "metadata": {},
   "outputs": [
    {
     "name": "stdout",
     "output_type": "stream",
     "text": [
      "Churned percentage is 26.58\n",
      "Not churned percentage is 73.42\n"
     ]
    },
    {
     "data": {
      "image/png": "[encoded data removed]",
      "text/plain": [
       "<Figure size 216x504 with 1 Axes>"
      ]
     },
     "metadata": {
      "needs_background": "light"
     },
     "output_type": "display_data"
    }
   ],
   "source": [
    "churned = round((df['Churn'].value_counts()[1]/df.shape[0])*100,2)\n",
    "notchurned = round((df['Churn'].value_counts()[0]/df.shape[0])*100,2)\n",
    "print(f\"Churned percentage is {churned}\")\n",
    "print(f\"Not churned percentage is {notchurned}\")\n",
    "plotter = {'Retained':df['Churn'].value_counts()[0],'Churned':df['Churn'].value_counts()[1]}\n",
    "fig = plt.figure(figsize=(3,7))\n",
    "axis = fig.add_axes([0,0,1,1])\n",
    "axis.bar(list(plotter.keys()), list(plotter.values()),color=['green','red']);\n",
    "axis.set_ylim(0,df.shape[0])\n",
    "plt.show()\n",
    "# Adding a semi colon in the end of plot statement will suppress unwanted output from the plot"
   ]
  },
  {
   "cell_type": "markdown",
   "metadata": {},
   "source": [
    "Splitting all the categorical and continuous variables"
   ]
  },
  {
   "cell_type": "code",
   "execution_count": 14,
   "metadata": {},
   "outputs": [],
   "source": [
    "categorical = ['gender','SeniorCitizen','Partner','Dependents','PhoneService','MultipleLines','InternetService','OnlineSecurity','OnlineBackup','DeviceProtection','TechSupport','StreamingTV','StreamingMovies','Contract','PaperlessBilling','PaymentMethod']\n",
    "continuous = ['tenure','MonthlyCharges','TotalCharges']"
   ]
  },
  {
   "cell_type": "code",
   "execution_count": 15,
   "metadata": {},
   "outputs": [
    {
     "data": {
      "image/png": "[encoded data removed]",
      "text/plain": [
       "<Figure size 1440x432 with 3 Axes>"
      ]
     },
     "metadata": {
      "needs_background": "light"
     },
     "output_type": "display_data"
    }
   ],
   "source": [
    "df[continuous].hist(figsize=(20, 6),\n",
    "                          bins=20,\n",
    "                          layout=(1, 3),\n",
    "                          color='steelblue',\n",
    "                          edgecolor='firebrick',\n",
    "                          linewidth=1.5);"
   ]
  },
  {
   "cell_type": "markdown",
   "metadata": {},
   "source": [
    "Plotting categorical values in histgrams"
   ]
  },
  {
   "cell_type": "code",
   "execution_count": 16,
   "metadata": {},
   "outputs": [],
   "source": [
    "def plot_categorical(feature):\n",
    "    fig, (ax1, ax2) = plt.subplots(1, 2, figsize=(12, 4))\n",
    "\n",
    "    sns.countplot(x=feature,\n",
    "                  hue='Churn',\n",
    "                  data=df,\n",
    "                  ax=ax1)\n",
    "    ax1.set_ylabel('Count')\n",
    "    ax1.legend(labels=['Retained', 'Churned'])\n",
    "\n",
    "    sns.barplot(x=feature,\n",
    "                y='Churn',\n",
    "                data=df,\n",
    "                ax=ax2)\n",
    "    ax2.set_ylabel('Churn rate')\n",
    "\n",
    "\n",
    "    plt.tight_layout()"
   ]
  },
  {
   "cell_type": "code",
   "execution_count": 17,
   "metadata": {},
   "outputs": [
    {
     "data": {
      "image/png": "[encoded data removed]",
      "text/plain": [
       "<Figure size 864x288 with 2 Axes>"
      ]
     },
     "metadata": {
      "needs_background": "light"
     },
     "output_type": "display_data"
    }
   ],
   "source": [
    "plot_categorical('gender')"
   ]
  },
  {
   "cell_type": "markdown",
   "metadata": {},
   "source": [
    "Analysis of Gender variable\n",
    "\n",
    "The data set has almost equal number of Male and Female customers, and both genders are equally likely to Churn or Retain.\n",
    "The gender variable does not contribute much in determining / predicting if a customer will churn or not."
   ]
  },
  {
   "cell_type": "code",
   "execution_count": 18,
   "metadata": {},
   "outputs": [
    {
     "data": {
      "image/png": "[encoded data removed]",
      "text/plain": [
       "<Figure size 864x288 with 2 Axes>"
      ]
     },
     "metadata": {
      "needs_background": "light"
     },
     "output_type": "display_data"
    }
   ],
   "source": [
    "plot_categorical('SeniorCitizen')"
   ]
  },
  {
   "cell_type": "markdown",
   "metadata": {},
   "source": [
    "Analysis of Senior Citizens variable\n",
    "\n",
    "The majority of customers are not Senior Citizens. The majority of Senior Citizens are likely to retain, while a slightly less number will considern to Churn."
   ]
  },
  {
   "cell_type": "code",
   "execution_count": 19,
   "metadata": {},
   "outputs": [
    {
     "data": {
      "image/png": "[encoded data removed]",
      "text/plain": [
       "<Figure size 864x288 with 2 Axes>"
      ]
     },
     "metadata": {
      "needs_background": "light"
     },
     "output_type": "display_data"
    }
   ],
   "source": [
    "plot_categorical('Partner')"
   ]
  },
  {
   "cell_type": "markdown",
   "metadata": {},
   "source": [
    "Analysis of Partner\n",
    "\n",
    "There is a almost equal number of customers who have and do not have partners. There is not significant distinction of churn rate between customers who have partners and those who do not."
   ]
  },
  {
   "cell_type": "code",
   "execution_count": 20,
   "metadata": {},
   "outputs": [
    {
     "data": {
      "image/png": "[encoded data removed]",
      "text/plain": [
       "<Figure size 864x288 with 2 Axes>"
      ]
     },
     "metadata": {
      "needs_background": "light"
     },
     "output_type": "display_data"
    }
   ],
   "source": [
    "plot_categorical('Dependents')"
   ]
  },
  {
   "cell_type": "markdown",
   "metadata": {},
   "source": [
    "Analysis of Dependents\n",
    "\n",
    "The majority of customers do NOT have any dependents. Majority of people regardless if they have dependents are more likely to Retain then churn."
   ]
  },
  {
   "cell_type": "code",
   "execution_count": 21,
   "metadata": {},
   "outputs": [
    {
     "data": {
      "image/png": "[encoded data removed]",
      "text/plain": [
       "<Figure size 864x288 with 2 Axes>"
      ]
     },
     "metadata": {
      "needs_background": "light"
     },
     "output_type": "display_data"
    }
   ],
   "source": [
    "plot_categorical('PhoneService')"
   ]
  },
  {
   "cell_type": "markdown",
   "metadata": {},
   "source": [
    "Analysis of Phone Service\n",
    "\n",
    "The majority of customers have a phone service. Those who do not are slightly more likely to Retain then churn. The customers who have phone service are most likely going to Retain then Churn."
   ]
  },
  {
   "cell_type": "code",
   "execution_count": 22,
   "metadata": {},
   "outputs": [
    {
     "data": {
      "image/png": "[encoded data removed]",
      "text/plain": [
       "<Figure size 864x288 with 2 Axes>"
      ]
     },
     "metadata": {
      "needs_background": "light"
     },
     "output_type": "display_data"
    }
   ],
   "source": [
    "plot_categorical('MultipleLines')"
   ]
  },
  {
   "cell_type": "markdown",
   "metadata": {},
   "source": [
    "Analysis of Multiple Lines\n",
    "\n",
    "The number of customers who have multiple lines is marginarlly lesser than number of customers who have no multiple lines (by almost 300). The customers with a single line are in the minority."
   ]
  },
  {
   "cell_type": "code",
   "execution_count": 23,
   "metadata": {},
   "outputs": [
    {
     "data": {
      "image/png": "[encoded data removed]",
      "text/plain": [
       "<Figure size 864x288 with 2 Axes>"
      ]
     },
     "metadata": {
      "needs_background": "light"
     },
     "output_type": "display_data"
    }
   ],
   "source": [
    "plot_categorical('InternetService')"
   ]
  },
  {
   "cell_type": "markdown",
   "metadata": {},
   "source": [
    "Analysis of Internet Service\n",
    "\n",
    "Customers having fiber optic or DSL service is considerably higher than those who have no internet service."
   ]
  },
  {
   "cell_type": "code",
   "execution_count": 24,
   "metadata": {},
   "outputs": [
    {
     "data": {
      "image/png": "[encoded data removed]",
      "text/plain": [
       "<Figure size 864x288 with 2 Axes>"
      ]
     },
     "metadata": {
      "needs_background": "light"
     },
     "output_type": "display_data"
    }
   ],
   "source": [
    "plot_categorical('OnlineSecurity')"
   ]
  },
  {
   "cell_type": "markdown",
   "metadata": {},
   "source": [
    "Analysis of Online Security\n",
    "\n",
    "The number of customers who DO NOT have some sort of online security is almost 1500 more than those who have online security.\n",
    "More people with online security are most likely to Retain than Churn."
   ]
  },
  {
   "cell_type": "code",
   "execution_count": 25,
   "metadata": {},
   "outputs": [
    {
     "data": {
      "text/plain": [
       "<AxesSubplot:title={'center':'OnlineBackup'}, xlabel='OnlineBackup', ylabel='count'>"
      ]
     },
     "execution_count": 25,
     "metadata": {},
     "output_type": "execute_result"
    },
    {
     "data": {
      "image/png": "[encoded data removed]",
      "text/plain": [
       "<Figure size 432x288 with 1 Axes>"
      ]
     },
     "metadata": {
      "needs_background": "light"
     },
     "output_type": "display_data"
    }
   ],
   "source": [
    "plt.title('OnlineBackup')\n",
    "sns.countplot(data=df, x=df['OnlineBackup'])"
   ]
  },
  {
   "cell_type": "markdown",
   "metadata": {},
   "source": [
    "Analysis of Online Backup\n",
    "\n",
    "There is almost equal balance between the number of customers who have online backup compared to those who do not."
   ]
  },
  {
   "cell_type": "code",
   "execution_count": 26,
   "metadata": {},
   "outputs": [
    {
     "data": {
      "text/plain": [
       "<AxesSubplot:title={'center':'DeviceProtection'}, xlabel='DeviceProtection', ylabel='count'>"
      ]
     },
     "execution_count": 26,
     "metadata": {},
     "output_type": "execute_result"
    },
    {
     "data": {
      "image/png": "[encoded data removed]",
      "text/plain": [
       "<Figure size 432x288 with 1 Axes>"
      ]
     },
     "metadata": {
      "needs_background": "light"
     },
     "output_type": "display_data"
    }
   ],
   "source": [
    "plt.title('DeviceProtection')\n",
    "sns.countplot(data=df, x=df['DeviceProtection'])"
   ]
  },
  {
   "cell_type": "markdown",
   "metadata": {},
   "source": [
    "There is almost 3000 people with no Device Protection and 2250 customers with some sort of device prediction (which is similar to the results seen in online security)"
   ]
  },
  {
   "cell_type": "code",
   "execution_count": 27,
   "metadata": {},
   "outputs": [
    {
     "data": {
      "text/plain": [
       "<AxesSubplot:title={'center':'TechSupport'}, xlabel='TechSupport', ylabel='count'>"
      ]
     },
     "execution_count": 27,
     "metadata": {},
     "output_type": "execute_result"
    },
    {
     "data": {
      "image/png": "[encoded data removed]",
      "text/plain": [
       "<Figure size 432x288 with 1 Axes>"
      ]
     },
     "metadata": {
      "needs_background": "light"
     },
     "output_type": "display_data"
    }
   ],
   "source": [
    "plt.title('TechSupport')\n",
    "sns.countplot(data=df, x=df['TechSupport'])"
   ]
  },
  {
   "cell_type": "markdown",
   "metadata": {},
   "source": [
    "The results are similar to Online Security and Device Protection. There are about 1250 people more who have no tech support compared to those who have tech support.\n"
   ]
  },
  {
   "cell_type": "code",
   "execution_count": 28,
   "metadata": {},
   "outputs": [
    {
     "data": {
      "image/png": "[encoded data removed]",
      "text/plain": [
       "<Figure size 432x288 with 1 Axes>"
      ]
     },
     "metadata": {
      "needs_background": "light"
     },
     "output_type": "display_data"
    },
    {
     "data": {
      "image/png": "[encoded data removed]",
      "text/plain": [
       "<Figure size 432x288 with 1 Axes>"
      ]
     },
     "metadata": {
      "needs_background": "light"
     },
     "output_type": "display_data"
    },
    {
     "data": {
      "text/plain": [
       "<AxesSubplot:xlabel='Contract', ylabel='count'>"
      ]
     },
     "execution_count": 28,
     "metadata": {},
     "output_type": "execute_result"
    },
    {
     "data": {
      "image/png": "[encoded data removed]",
      "text/plain": [
       "<Figure size 432x288 with 1 Axes>"
      ]
     },
     "metadata": {
      "needs_background": "light"
     },
     "output_type": "display_data"
    }
   ],
   "source": [
    "sns.countplot(data=df, x=df['StreamingTV'])\n",
    "plt.show()\n",
    "sns.countplot(data=df, x=df['StreamingMovies'])\n",
    "plt.show()\n",
    "sns.countplot(data=df, x=df['Contract'])"
   ]
  },
  {
   "cell_type": "markdown",
   "metadata": {},
   "source": [
    "Almost a equal number of people stream movies and TV compared to those who dont. Also, most people prefer to take monthly subscriptions compared to yearly or biyearly subscriptions."
   ]
  },
  {
   "cell_type": "code",
   "execution_count": 29,
   "metadata": {},
   "outputs": [
    {
     "data": {
      "image/png": "[encoded data removed]",
      "text/plain": [
       "<Figure size 432x288 with 1 Axes>"
      ]
     },
     "metadata": {
      "needs_background": "light"
     },
     "output_type": "display_data"
    },
    {
     "data": {
      "image/png": "[encoded data removed]",
      "text/plain": [
       "<Figure size 648x648 with 1 Axes>"
      ]
     },
     "metadata": {
      "needs_background": "light"
     },
     "output_type": "display_data"
    }
   ],
   "source": [
    "plt.title('PaperlessBilling')\n",
    "sns.countplot(data=df, x=df['PaperlessBilling'])\n",
    "plt.show()\n",
    "\n",
    "plt.figure(figsize=(9,9))\n",
    "plt.title('PaymentMethod')\n",
    "sns.countplot(data=df, x=df['PaymentMethod'])\n",
    "plt.show()"
   ]
  },
  {
   "cell_type": "markdown",
   "metadata": {},
   "source": [
    "The number of people using paperless billing is must higher than those who dont (can also be observed by the Payment Method table, where msot people prefer Electronic Check, Bank or Credit Card Transfer)."
   ]
  },
  {
   "cell_type": "code",
   "execution_count": 30,
   "metadata": {},
   "outputs": [
    {
     "data": {
      "image/png": "[encoded data removed]",
      "text/plain": [
       "<Figure size 864x288 with 2 Axes>"
      ]
     },
     "metadata": {
      "needs_background": "light"
     },
     "output_type": "display_data"
    }
   ],
   "source": [
    "plot_categorical('Contract')"
   ]
  },
  {
   "cell_type": "markdown",
   "metadata": {},
   "source": [
    "Analysis of Contract\n",
    "\n",
    "Here, we can see that people with monthly subscriptions are more likely to Churn, while those who have biyearly or yearly subscriptions are less likely to Churn. \\\n",
    "Most people with yearly or biyearly subscriptions will most likely Retain than Churn. "
   ]
  },
  {
   "cell_type": "markdown",
   "metadata": {},
   "source": [
    "### Data Preprocessing"
   ]
  },
  {
   "cell_type": "markdown",
   "metadata": {},
   "source": [
    "Listing out the keys in each column to determine best approach for preprocessing."
   ]
  },
  {
   "cell_type": "code",
   "execution_count": 31,
   "metadata": {},
   "outputs": [
    {
     "name": "stdout",
     "output_type": "stream",
     "text": [
      "gender  :  {'Male', 'Female'}\n",
      "SeniorCitizen  :  {0, 1}\n",
      "Partner  :  {'No', 'Yes'}\n",
      "Dependents  :  {'No', 'Yes'}\n",
      "PhoneService  :  {'No', 'Yes'}\n",
      "MultipleLines  :  {'No', 'No phone service', 'Yes'}\n",
      "InternetService  :  {'No', 'DSL', 'Fiber optic'}\n",
      "OnlineSecurity  :  {'No', 'No internet service', 'Yes'}\n",
      "OnlineBackup  :  {'No', 'No internet service', 'Yes'}\n",
      "DeviceProtection  :  {'No', 'No internet service', 'Yes'}\n",
      "TechSupport  :  {'No', 'No internet service', 'Yes'}\n",
      "StreamingTV  :  {'No', 'No internet service', 'Yes'}\n",
      "StreamingMovies  :  {'No', 'No internet service', 'Yes'}\n",
      "Contract  :  {'Month-to-month', 'One year', 'Two year'}\n",
      "PaperlessBilling  :  {'No', 'Yes'}\n",
      "PaymentMethod  :  {'Bank transfer (automatic)', 'Electronic check', 'Credit card (automatic)', 'Mailed check'}\n"
     ]
    }
   ],
   "source": [
    "for category in categorical:\n",
    "    print(category, \" : \", set(list(df[category])))"
   ]
  },
  {
   "cell_type": "markdown",
   "metadata": {},
   "source": [
    "Data Preprocessing\n",
    "\n",
    "Perform encoding for the categorical variables in the data frame"
   ]
  },
  {
   "cell_type": "code",
   "execution_count": 32,
   "metadata": {},
   "outputs": [
    {
     "data": {
      "text/html": [
       "<div>\n",
       "<style scoped>\n",
       "    .dataframe tbody tr th:only-of-type {\n",
       "        vertical-align: middle;\n",
       "    }\n",
       "\n",
       "    .dataframe tbody tr th {\n",
       "        vertical-align: top;\n",
       "    }\n",
       "\n",
       "    .dataframe thead th {\n",
       "        text-align: right;\n",
       "    }\n",
       "</style>\n",
       "<table border=\"1\" class=\"dataframe\">\n",
       "  <thead>\n",
       "    <tr style=\"text-align: right;\">\n",
       "      <th></th>\n",
       "      <th>gender</th>\n",
       "      <th>SeniorCitizen</th>\n",
       "      <th>Partner</th>\n",
       "      <th>Dependents</th>\n",
       "      <th>tenure</th>\n",
       "      <th>PhoneService</th>\n",
       "      <th>MultipleLines</th>\n",
       "      <th>InternetService</th>\n",
       "      <th>OnlineSecurity</th>\n",
       "      <th>OnlineBackup</th>\n",
       "      <th>DeviceProtection</th>\n",
       "      <th>TechSupport</th>\n",
       "      <th>StreamingTV</th>\n",
       "      <th>StreamingMovies</th>\n",
       "      <th>Contract</th>\n",
       "      <th>PaperlessBilling</th>\n",
       "      <th>PaymentMethod</th>\n",
       "      <th>MonthlyCharges</th>\n",
       "      <th>TotalCharges</th>\n",
       "      <th>Churn</th>\n",
       "    </tr>\n",
       "  </thead>\n",
       "  <tbody>\n",
       "    <tr>\n",
       "      <th>0</th>\n",
       "      <td>0</td>\n",
       "      <td>0</td>\n",
       "      <td>1</td>\n",
       "      <td>0</td>\n",
       "      <td>1</td>\n",
       "      <td>0</td>\n",
       "      <td>No phone service</td>\n",
       "      <td>DSL</td>\n",
       "      <td>No</td>\n",
       "      <td>Yes</td>\n",
       "      <td>No</td>\n",
       "      <td>No</td>\n",
       "      <td>No</td>\n",
       "      <td>No</td>\n",
       "      <td>Month-to-month</td>\n",
       "      <td>1</td>\n",
       "      <td>Electronic check</td>\n",
       "      <td>29.85</td>\n",
       "      <td>29.85</td>\n",
       "      <td>0</td>\n",
       "    </tr>\n",
       "    <tr>\n",
       "      <th>1</th>\n",
       "      <td>1</td>\n",
       "      <td>0</td>\n",
       "      <td>0</td>\n",
       "      <td>0</td>\n",
       "      <td>34</td>\n",
       "      <td>1</td>\n",
       "      <td>No</td>\n",
       "      <td>DSL</td>\n",
       "      <td>Yes</td>\n",
       "      <td>No</td>\n",
       "      <td>Yes</td>\n",
       "      <td>No</td>\n",
       "      <td>No</td>\n",
       "      <td>No</td>\n",
       "      <td>One year</td>\n",
       "      <td>0</td>\n",
       "      <td>Mailed check</td>\n",
       "      <td>56.95</td>\n",
       "      <td>1889.50</td>\n",
       "      <td>0</td>\n",
       "    </tr>\n",
       "    <tr>\n",
       "      <th>2</th>\n",
       "      <td>1</td>\n",
       "      <td>0</td>\n",
       "      <td>0</td>\n",
       "      <td>0</td>\n",
       "      <td>2</td>\n",
       "      <td>1</td>\n",
       "      <td>No</td>\n",
       "      <td>DSL</td>\n",
       "      <td>Yes</td>\n",
       "      <td>Yes</td>\n",
       "      <td>No</td>\n",
       "      <td>No</td>\n",
       "      <td>No</td>\n",
       "      <td>No</td>\n",
       "      <td>Month-to-month</td>\n",
       "      <td>1</td>\n",
       "      <td>Mailed check</td>\n",
       "      <td>53.85</td>\n",
       "      <td>108.15</td>\n",
       "      <td>1</td>\n",
       "    </tr>\n",
       "    <tr>\n",
       "      <th>3</th>\n",
       "      <td>1</td>\n",
       "      <td>0</td>\n",
       "      <td>0</td>\n",
       "      <td>0</td>\n",
       "      <td>45</td>\n",
       "      <td>0</td>\n",
       "      <td>No phone service</td>\n",
       "      <td>DSL</td>\n",
       "      <td>Yes</td>\n",
       "      <td>No</td>\n",
       "      <td>Yes</td>\n",
       "      <td>Yes</td>\n",
       "      <td>No</td>\n",
       "      <td>No</td>\n",
       "      <td>One year</td>\n",
       "      <td>0</td>\n",
       "      <td>Bank transfer (automatic)</td>\n",
       "      <td>42.30</td>\n",
       "      <td>1840.75</td>\n",
       "      <td>0</td>\n",
       "    </tr>\n",
       "    <tr>\n",
       "      <th>4</th>\n",
       "      <td>0</td>\n",
       "      <td>0</td>\n",
       "      <td>0</td>\n",
       "      <td>0</td>\n",
       "      <td>2</td>\n",
       "      <td>1</td>\n",
       "      <td>No</td>\n",
       "      <td>Fiber optic</td>\n",
       "      <td>No</td>\n",
       "      <td>No</td>\n",
       "      <td>No</td>\n",
       "      <td>No</td>\n",
       "      <td>No</td>\n",
       "      <td>No</td>\n",
       "      <td>Month-to-month</td>\n",
       "      <td>1</td>\n",
       "      <td>Electronic check</td>\n",
       "      <td>70.70</td>\n",
       "      <td>151.65</td>\n",
       "      <td>1</td>\n",
       "    </tr>\n",
       "  </tbody>\n",
       "</table>\n",
       "</div>"
      ],
      "text/plain": [
       "   gender  SeniorCitizen  Partner  Dependents  tenure  PhoneService  \\\n",
       "0       0              0        1           0       1             0   \n",
       "1       1              0        0           0      34             1   \n",
       "2       1              0        0           0       2             1   \n",
       "3       1              0        0           0      45             0   \n",
       "4       0              0        0           0       2             1   \n",
       "\n",
       "      MultipleLines InternetService OnlineSecurity OnlineBackup  \\\n",
       "0  No phone service             DSL             No          Yes   \n",
       "1                No             DSL            Yes           No   \n",
       "2                No             DSL            Yes          Yes   \n",
       "3  No phone service             DSL            Yes           No   \n",
       "4                No     Fiber optic             No           No   \n",
       "\n",
       "  DeviceProtection TechSupport StreamingTV StreamingMovies        Contract  \\\n",
       "0               No          No          No              No  Month-to-month   \n",
       "1              Yes          No          No              No        One year   \n",
       "2               No          No          No              No  Month-to-month   \n",
       "3              Yes         Yes          No              No        One year   \n",
       "4               No          No          No              No  Month-to-month   \n",
       "\n",
       "   PaperlessBilling              PaymentMethod  MonthlyCharges  TotalCharges  \\\n",
       "0                 1           Electronic check           29.85         29.85   \n",
       "1                 0               Mailed check           56.95       1889.50   \n",
       "2                 1               Mailed check           53.85        108.15   \n",
       "3                 0  Bank transfer (automatic)           42.30       1840.75   \n",
       "4                 1           Electronic check           70.70        151.65   \n",
       "\n",
       "   Churn  \n",
       "0      0  \n",
       "1      0  \n",
       "2      1  \n",
       "3      0  \n",
       "4      1  "
      ]
     },
     "execution_count": 32,
     "metadata": {},
     "output_type": "execute_result"
    }
   ],
   "source": [
    "from sklearn import preprocessing\n",
    "LE = preprocessing.LabelBinarizer()\n",
    "df['gender'] = LE.fit_transform(list(df['gender']))\n",
    "df['SeniorCitizen'] = LE.fit_transform(list(df['SeniorCitizen']))\n",
    "df['Partner'] = LE.fit_transform(list(df['Partner']))\n",
    "df['Dependents'] = LE.fit_transform(list(df['Dependents']))\n",
    "df['PhoneService'] = LE.fit_transform(list(df['PhoneService']))\n",
    "df['PaperlessBilling'] = LE.fit_transform(list(df['PaperlessBilling']))\n",
    "df.head()"
   ]
  },
  {
   "cell_type": "code",
   "execution_count": 33,
   "metadata": {},
   "outputs": [
    {
     "data": {
      "text/html": [
       "<div>\n",
       "<style scoped>\n",
       "    .dataframe tbody tr th:only-of-type {\n",
       "        vertical-align: middle;\n",
       "    }\n",
       "\n",
       "    .dataframe tbody tr th {\n",
       "        vertical-align: top;\n",
       "    }\n",
       "\n",
       "    .dataframe thead th {\n",
       "        text-align: right;\n",
       "    }\n",
       "</style>\n",
       "<table border=\"1\" class=\"dataframe\">\n",
       "  <thead>\n",
       "    <tr style=\"text-align: right;\">\n",
       "      <th></th>\n",
       "      <th>gender</th>\n",
       "      <th>SeniorCitizen</th>\n",
       "      <th>Partner</th>\n",
       "      <th>Dependents</th>\n",
       "      <th>tenure</th>\n",
       "      <th>PhoneService</th>\n",
       "      <th>MultipleLines</th>\n",
       "      <th>InternetService</th>\n",
       "      <th>OnlineSecurity</th>\n",
       "      <th>OnlineBackup</th>\n",
       "      <th>DeviceProtection</th>\n",
       "      <th>TechSupport</th>\n",
       "      <th>StreamingTV</th>\n",
       "      <th>StreamingMovies</th>\n",
       "      <th>Contract</th>\n",
       "      <th>PaperlessBilling</th>\n",
       "      <th>PaymentMethod</th>\n",
       "      <th>MonthlyCharges</th>\n",
       "      <th>TotalCharges</th>\n",
       "      <th>Churn</th>\n",
       "    </tr>\n",
       "  </thead>\n",
       "  <tbody>\n",
       "    <tr>\n",
       "      <th>0</th>\n",
       "      <td>0</td>\n",
       "      <td>0</td>\n",
       "      <td>1</td>\n",
       "      <td>0</td>\n",
       "      <td>1</td>\n",
       "      <td>0</td>\n",
       "      <td>1.0</td>\n",
       "      <td>0.0</td>\n",
       "      <td>0.0</td>\n",
       "      <td>2.0</td>\n",
       "      <td>0.0</td>\n",
       "      <td>0.0</td>\n",
       "      <td>0.0</td>\n",
       "      <td>0.0</td>\n",
       "      <td>0.0</td>\n",
       "      <td>1</td>\n",
       "      <td>2.0</td>\n",
       "      <td>29.85</td>\n",
       "      <td>29.85</td>\n",
       "      <td>0</td>\n",
       "    </tr>\n",
       "    <tr>\n",
       "      <th>1</th>\n",
       "      <td>1</td>\n",
       "      <td>0</td>\n",
       "      <td>0</td>\n",
       "      <td>0</td>\n",
       "      <td>34</td>\n",
       "      <td>1</td>\n",
       "      <td>0.0</td>\n",
       "      <td>0.0</td>\n",
       "      <td>2.0</td>\n",
       "      <td>0.0</td>\n",
       "      <td>2.0</td>\n",
       "      <td>0.0</td>\n",
       "      <td>0.0</td>\n",
       "      <td>0.0</td>\n",
       "      <td>1.0</td>\n",
       "      <td>0</td>\n",
       "      <td>3.0</td>\n",
       "      <td>56.95</td>\n",
       "      <td>1889.50</td>\n",
       "      <td>0</td>\n",
       "    </tr>\n",
       "    <tr>\n",
       "      <th>2</th>\n",
       "      <td>1</td>\n",
       "      <td>0</td>\n",
       "      <td>0</td>\n",
       "      <td>0</td>\n",
       "      <td>2</td>\n",
       "      <td>1</td>\n",
       "      <td>0.0</td>\n",
       "      <td>0.0</td>\n",
       "      <td>2.0</td>\n",
       "      <td>2.0</td>\n",
       "      <td>0.0</td>\n",
       "      <td>0.0</td>\n",
       "      <td>0.0</td>\n",
       "      <td>0.0</td>\n",
       "      <td>0.0</td>\n",
       "      <td>1</td>\n",
       "      <td>3.0</td>\n",
       "      <td>53.85</td>\n",
       "      <td>108.15</td>\n",
       "      <td>1</td>\n",
       "    </tr>\n",
       "    <tr>\n",
       "      <th>3</th>\n",
       "      <td>1</td>\n",
       "      <td>0</td>\n",
       "      <td>0</td>\n",
       "      <td>0</td>\n",
       "      <td>45</td>\n",
       "      <td>0</td>\n",
       "      <td>1.0</td>\n",
       "      <td>0.0</td>\n",
       "      <td>2.0</td>\n",
       "      <td>0.0</td>\n",
       "      <td>2.0</td>\n",
       "      <td>2.0</td>\n",
       "      <td>0.0</td>\n",
       "      <td>0.0</td>\n",
       "      <td>1.0</td>\n",
       "      <td>0</td>\n",
       "      <td>0.0</td>\n",
       "      <td>42.30</td>\n",
       "      <td>1840.75</td>\n",
       "      <td>0</td>\n",
       "    </tr>\n",
       "    <tr>\n",
       "      <th>4</th>\n",
       "      <td>0</td>\n",
       "      <td>0</td>\n",
       "      <td>0</td>\n",
       "      <td>0</td>\n",
       "      <td>2</td>\n",
       "      <td>1</td>\n",
       "      <td>0.0</td>\n",
       "      <td>1.0</td>\n",
       "      <td>0.0</td>\n",
       "      <td>0.0</td>\n",
       "      <td>0.0</td>\n",
       "      <td>0.0</td>\n",
       "      <td>0.0</td>\n",
       "      <td>0.0</td>\n",
       "      <td>0.0</td>\n",
       "      <td>1</td>\n",
       "      <td>2.0</td>\n",
       "      <td>70.70</td>\n",
       "      <td>151.65</td>\n",
       "      <td>1</td>\n",
       "    </tr>\n",
       "    <tr>\n",
       "      <th>...</th>\n",
       "      <td>...</td>\n",
       "      <td>...</td>\n",
       "      <td>...</td>\n",
       "      <td>...</td>\n",
       "      <td>...</td>\n",
       "      <td>...</td>\n",
       "      <td>...</td>\n",
       "      <td>...</td>\n",
       "      <td>...</td>\n",
       "      <td>...</td>\n",
       "      <td>...</td>\n",
       "      <td>...</td>\n",
       "      <td>...</td>\n",
       "      <td>...</td>\n",
       "      <td>...</td>\n",
       "      <td>...</td>\n",
       "      <td>...</td>\n",
       "      <td>...</td>\n",
       "      <td>...</td>\n",
       "      <td>...</td>\n",
       "    </tr>\n",
       "    <tr>\n",
       "      <th>7038</th>\n",
       "      <td>1</td>\n",
       "      <td>0</td>\n",
       "      <td>1</td>\n",
       "      <td>1</td>\n",
       "      <td>24</td>\n",
       "      <td>1</td>\n",
       "      <td>2.0</td>\n",
       "      <td>0.0</td>\n",
       "      <td>2.0</td>\n",
       "      <td>0.0</td>\n",
       "      <td>2.0</td>\n",
       "      <td>2.0</td>\n",
       "      <td>2.0</td>\n",
       "      <td>2.0</td>\n",
       "      <td>1.0</td>\n",
       "      <td>1</td>\n",
       "      <td>3.0</td>\n",
       "      <td>84.80</td>\n",
       "      <td>1990.50</td>\n",
       "      <td>0</td>\n",
       "    </tr>\n",
       "    <tr>\n",
       "      <th>7039</th>\n",
       "      <td>0</td>\n",
       "      <td>0</td>\n",
       "      <td>1</td>\n",
       "      <td>1</td>\n",
       "      <td>72</td>\n",
       "      <td>1</td>\n",
       "      <td>2.0</td>\n",
       "      <td>1.0</td>\n",
       "      <td>0.0</td>\n",
       "      <td>2.0</td>\n",
       "      <td>2.0</td>\n",
       "      <td>0.0</td>\n",
       "      <td>2.0</td>\n",
       "      <td>2.0</td>\n",
       "      <td>1.0</td>\n",
       "      <td>1</td>\n",
       "      <td>1.0</td>\n",
       "      <td>103.20</td>\n",
       "      <td>7362.90</td>\n",
       "      <td>0</td>\n",
       "    </tr>\n",
       "    <tr>\n",
       "      <th>7040</th>\n",
       "      <td>0</td>\n",
       "      <td>0</td>\n",
       "      <td>1</td>\n",
       "      <td>1</td>\n",
       "      <td>11</td>\n",
       "      <td>0</td>\n",
       "      <td>1.0</td>\n",
       "      <td>0.0</td>\n",
       "      <td>2.0</td>\n",
       "      <td>0.0</td>\n",
       "      <td>0.0</td>\n",
       "      <td>0.0</td>\n",
       "      <td>0.0</td>\n",
       "      <td>0.0</td>\n",
       "      <td>0.0</td>\n",
       "      <td>1</td>\n",
       "      <td>2.0</td>\n",
       "      <td>29.60</td>\n",
       "      <td>346.45</td>\n",
       "      <td>0</td>\n",
       "    </tr>\n",
       "    <tr>\n",
       "      <th>7041</th>\n",
       "      <td>1</td>\n",
       "      <td>1</td>\n",
       "      <td>1</td>\n",
       "      <td>0</td>\n",
       "      <td>4</td>\n",
       "      <td>1</td>\n",
       "      <td>2.0</td>\n",
       "      <td>1.0</td>\n",
       "      <td>0.0</td>\n",
       "      <td>0.0</td>\n",
       "      <td>0.0</td>\n",
       "      <td>0.0</td>\n",
       "      <td>0.0</td>\n",
       "      <td>0.0</td>\n",
       "      <td>0.0</td>\n",
       "      <td>1</td>\n",
       "      <td>3.0</td>\n",
       "      <td>74.40</td>\n",
       "      <td>306.60</td>\n",
       "      <td>1</td>\n",
       "    </tr>\n",
       "    <tr>\n",
       "      <th>7042</th>\n",
       "      <td>1</td>\n",
       "      <td>0</td>\n",
       "      <td>0</td>\n",
       "      <td>0</td>\n",
       "      <td>66</td>\n",
       "      <td>1</td>\n",
       "      <td>0.0</td>\n",
       "      <td>1.0</td>\n",
       "      <td>2.0</td>\n",
       "      <td>0.0</td>\n",
       "      <td>2.0</td>\n",
       "      <td>2.0</td>\n",
       "      <td>2.0</td>\n",
       "      <td>2.0</td>\n",
       "      <td>2.0</td>\n",
       "      <td>1</td>\n",
       "      <td>0.0</td>\n",
       "      <td>105.65</td>\n",
       "      <td>6844.50</td>\n",
       "      <td>0</td>\n",
       "    </tr>\n",
       "  </tbody>\n",
       "</table>\n",
       "<p>7032 rows × 20 columns</p>\n",
       "</div>"
      ],
      "text/plain": [
       "      gender  SeniorCitizen  Partner  Dependents  tenure  PhoneService  \\\n",
       "0          0              0        1           0       1             0   \n",
       "1          1              0        0           0      34             1   \n",
       "2          1              0        0           0       2             1   \n",
       "3          1              0        0           0      45             0   \n",
       "4          0              0        0           0       2             1   \n",
       "...      ...            ...      ...         ...     ...           ...   \n",
       "7038       1              0        1           1      24             1   \n",
       "7039       0              0        1           1      72             1   \n",
       "7040       0              0        1           1      11             0   \n",
       "7041       1              1        1           0       4             1   \n",
       "7042       1              0        0           0      66             1   \n",
       "\n",
       "      MultipleLines  InternetService  OnlineSecurity  OnlineBackup  \\\n",
       "0               1.0              0.0             0.0           2.0   \n",
       "1               0.0              0.0             2.0           0.0   \n",
       "2               0.0              0.0             2.0           2.0   \n",
       "3               1.0              0.0             2.0           0.0   \n",
       "4               0.0              1.0             0.0           0.0   \n",
       "...             ...              ...             ...           ...   \n",
       "7038            2.0              0.0             2.0           0.0   \n",
       "7039            2.0              1.0             0.0           2.0   \n",
       "7040            1.0              0.0             2.0           0.0   \n",
       "7041            2.0              1.0             0.0           0.0   \n",
       "7042            0.0              1.0             2.0           0.0   \n",
       "\n",
       "      DeviceProtection  TechSupport  StreamingTV  StreamingMovies  Contract  \\\n",
       "0                  0.0          0.0          0.0              0.0       0.0   \n",
       "1                  2.0          0.0          0.0              0.0       1.0   \n",
       "2                  0.0          0.0          0.0              0.0       0.0   \n",
       "3                  2.0          2.0          0.0              0.0       1.0   \n",
       "4                  0.0          0.0          0.0              0.0       0.0   \n",
       "...                ...          ...          ...              ...       ...   \n",
       "7038               2.0          2.0          2.0              2.0       1.0   \n",
       "7039               2.0          0.0          2.0              2.0       1.0   \n",
       "7040               0.0          0.0          0.0              0.0       0.0   \n",
       "7041               0.0          0.0          0.0              0.0       0.0   \n",
       "7042               2.0          2.0          2.0              2.0       2.0   \n",
       "\n",
       "      PaperlessBilling  PaymentMethod  MonthlyCharges  TotalCharges  Churn  \n",
       "0                    1            2.0           29.85         29.85      0  \n",
       "1                    0            3.0           56.95       1889.50      0  \n",
       "2                    1            3.0           53.85        108.15      1  \n",
       "3                    0            0.0           42.30       1840.75      0  \n",
       "4                    1            2.0           70.70        151.65      1  \n",
       "...                ...            ...             ...           ...    ...  \n",
       "7038                 1            3.0           84.80       1990.50      0  \n",
       "7039                 1            1.0          103.20       7362.90      0  \n",
       "7040                 1            2.0           29.60        346.45      0  \n",
       "7041                 1            3.0           74.40        306.60      1  \n",
       "7042                 1            0.0          105.65       6844.50      0  \n",
       "\n",
       "[7032 rows x 20 columns]"
      ]
     },
     "execution_count": 33,
     "metadata": {},
     "output_type": "execute_result"
    }
   ],
   "source": [
    "import numpy as np\n",
    "from sklearn.preprocessing import OrdinalEncoder\n",
    "OE=OrdinalEncoder()\n",
    "df['MultipleLines']= OE.fit_transform(df.MultipleLines.values.reshape(-1,1))\n",
    "df['InternetService'] = OE.fit_transform(df.InternetService.values.reshape(-1,1))\n",
    "df['OnlineSecurity'] = OE.fit_transform(df.OnlineSecurity.values.reshape(-1,1))\n",
    "df['OnlineBackup']=OE.fit_transform(df.OnlineBackup.values.reshape(-1,1))\n",
    "df['DeviceProtection'] = OE.fit_transform(df.DeviceProtection.values.reshape(-1,1))\n",
    "df['TechSupport'] = OE.fit_transform(df.TechSupport.values.reshape(-1,1))\n",
    "df['StreamingTV']= OE.fit_transform(df.StreamingTV.values.reshape(-1,1))\n",
    "df['StreamingMovies'] = OE.fit_transform(df.StreamingMovies.values.reshape(-1,1))\n",
    "df['Contract']=OE.fit_transform(df.Contract.values.reshape(-1,1))\n",
    "df['PaymentMethod']= OE.fit_transform(df.PaymentMethod.values.reshape(-1,1))\n",
    "df"
   ]
  },
  {
   "cell_type": "markdown",
   "metadata": {},
   "source": [
    "Check the data types of all values (categorical) in each column to determine if any conversion have to be made.\n",
    "\n",
    "This is done because performing statisticaly measures on larger than required data types and non numerical types (ex : object) \n",
    "can give false results when calculating statistical results"
   ]
  },
  {
   "cell_type": "code",
   "execution_count": 34,
   "metadata": {},
   "outputs": [
    {
     "name": "stdout",
     "output_type": "stream",
     "text": [
      "gender                int64\n",
      "SeniorCitizen         int64\n",
      "Partner               int64\n",
      "Dependents            int64\n",
      "tenure                int64\n",
      "PhoneService          int64\n",
      "MultipleLines       float64\n",
      "InternetService     float64\n",
      "OnlineSecurity      float64\n",
      "OnlineBackup        float64\n",
      "DeviceProtection    float64\n",
      "TechSupport         float64\n",
      "StreamingTV         float64\n",
      "StreamingMovies     float64\n",
      "Contract            float64\n",
      "PaperlessBilling      int64\n",
      "PaymentMethod       float64\n",
      "MonthlyCharges      float64\n",
      "TotalCharges        float64\n",
      "Churn                 int64\n",
      "dtype: object\n"
     ]
    }
   ],
   "source": [
    "# Check the data types of all values in each column to determine if any conversion have to be made.\n",
    "print(df.dtypes)"
   ]
  },
  {
   "cell_type": "markdown",
   "metadata": {},
   "source": [
    "Because of encoding done earlier, all categorical variables are now represented as integer data tyeps. \n",
    "\n",
    "Now, we check the max / min range of these variables and perform data compression wherever appropriate"
   ]
  },
  {
   "cell_type": "code",
   "execution_count": 35,
   "metadata": {},
   "outputs": [
    {
     "name": "stdout",
     "output_type": "stream",
     "text": [
      "127\n",
      "Converting data types of  gender  to int8 as max value is only :  1\n",
      "Converting data types of  SeniorCitizen  to int8 as max value is only :  1\n",
      "Converting data types of  Partner  to int8 as max value is only :  1\n",
      "Converting data types of  Dependents  to int8 as max value is only :  1\n",
      "Converting data types of  PhoneService  to int8 as max value is only :  1\n",
      "Converting data types of  MultipleLines  to int8 as max value is only :  2.0\n",
      "Converting data types of  InternetService  to int8 as max value is only :  2.0\n",
      "Converting data types of  OnlineSecurity  to int8 as max value is only :  2.0\n",
      "Converting data types of  OnlineBackup  to int8 as max value is only :  2.0\n",
      "Converting data types of  DeviceProtection  to int8 as max value is only :  2.0\n",
      "Converting data types of  TechSupport  to int8 as max value is only :  2.0\n",
      "Converting data types of  StreamingTV  to int8 as max value is only :  2.0\n",
      "Converting data types of  StreamingMovies  to int8 as max value is only :  2.0\n",
      "Converting data types of  Contract  to int8 as max value is only :  2.0\n",
      "Converting data types of  PaperlessBilling  to int8 as max value is only :  1\n",
      "Converting data types of  PaymentMethod  to int8 as max value is only :  3.0\n",
      "Data types after performing conversions:\n"
     ]
    },
    {
     "data": {
      "text/plain": [
       "gender                 int8\n",
       "SeniorCitizen          int8\n",
       "Partner                int8\n",
       "Dependents             int8\n",
       "tenure                int64\n",
       "PhoneService           int8\n",
       "MultipleLines          int8\n",
       "InternetService        int8\n",
       "OnlineSecurity         int8\n",
       "OnlineBackup           int8\n",
       "DeviceProtection       int8\n",
       "TechSupport            int8\n",
       "StreamingTV            int8\n",
       "StreamingMovies        int8\n",
       "Contract               int8\n",
       "PaperlessBilling       int8\n",
       "PaymentMethod          int8\n",
       "MonthlyCharges      float64\n",
       "TotalCharges        float64\n",
       "Churn                 int64\n",
       "dtype: object"
      ]
     },
     "execution_count": 35,
     "metadata": {},
     "output_type": "execute_result"
    }
   ],
   "source": [
    "ii8 = np.iinfo(np.int8)\n",
    "ii16 = np.iinfo(np.int16)\n",
    "ii32 = np.iinfo(np.int32)\n",
    "ii64 = np.iinfo(np.int64)\n",
    "\n",
    "print(ii8.max)\n",
    "for category in categorical:\n",
    "    max_value = df[category].max()\n",
    "    min_value = df[category].min()\n",
    "\n",
    "    if max_value < ii8.max:\n",
    "        print(\"Converting data types of \", category, \" to int8 as max value is only : \", max_value)\n",
    "        df[category] = df[category].astype(np.int8)\n",
    "\n",
    "    elif max_value < ii16.max:\n",
    "        print(\"Converting data types of \", category, \" to int16 as max value is only : \", max_value)\n",
    "        df[category] = df[category].astype(np.int16)\n",
    "\n",
    "    elif max_value < ii32.max:\n",
    "        print(\"Converting data types of \", category, \" to int32 as max value is only : \", max_value)\n",
    "        df[category] = df[category].astype(np.int32)\n",
    "\n",
    "    elif max_value < ii64.max:\n",
    "        print(\"Converting data types of \", category, \" to int64 as max value is only : \", max_value)\n",
    "        df[category] = df[category].astype(np.int64)\n",
    "\n",
    "print(\"Data types after performing conversions:\")\n",
    "df.dtypes"
   ]
  },
  {
   "cell_type": "markdown",
   "metadata": {},
   "source": [
    "We can observe that TotalCharges has a data type of float64. We check the range of values it holds to determine if casting to a \n",
    "smaller type (float16, for example) is possible."
   ]
  },
  {
   "cell_type": "code",
   "execution_count": 36,
   "metadata": {},
   "outputs": [
    {
     "name": "stdout",
     "output_type": "stream",
     "text": [
      "Converting data types of  TotalCharges  to f16 as max value is only :  8684.8\n",
      "New data type of  TotalCharges  :  float16\n"
     ]
    }
   ],
   "source": [
    "f16 = np.finfo(np.float16)\n",
    "f32 = np.finfo(np.float32)\n",
    "f64 = np.finfo(np.float64)\n",
    "\n",
    "category = 'TotalCharges'\n",
    "\n",
    "max_value = df[category].max()\n",
    "min_value = df[category].min()\n",
    "\n",
    "\n",
    "if max_value < f16.max:\n",
    "    print(\"Converting data types of \", category, \" to f16 as max value is only : \", max_value)\n",
    "    df[category] = df[category].astype(np.float16)\n",
    "\n",
    "elif max_value < f32.max:\n",
    "    print(\"Converting data types of \", category, \" to f32 as max value is only : \", max_value)\n",
    "    df[category] = df[category].astype(np.float32)\n",
    "\n",
    "elif max_value < f64.max:\n",
    "    print(\"Converting data types of \", category, \" to f64 as max value is only : \", max_value)\n",
    "    df[category] = df[category].astype(np.float64)\n",
    "\n",
    "print(\"New data type of \", category, \" : \", df[category].dtype)"
   ]
  },
  {
   "cell_type": "markdown",
   "metadata": {},
   "source": [
    "## Plotting "
   ]
  },
  {
   "cell_type": "code",
   "execution_count": 37,
   "metadata": {},
   "outputs": [
    {
     "data": {
      "text/plain": [
       "<AxesSubplot:>"
      ]
     },
     "execution_count": 37,
     "metadata": {},
     "output_type": "execute_result"
    },
    {
     "data": {
      "image/png": "[encoded data removed]",
      "text/plain": [
       "<Figure size 1440x1440 with 2 Axes>"
      ]
     },
     "metadata": {
      "needs_background": "light"
     },
     "output_type": "display_data"
    }
   ],
   "source": [
    "corr = abs(df.corr())\n",
    "plt.figure(figsize=(20,20))\n",
    "sns.heatmap(corr, annot=True)"
   ]
  },
  {
   "cell_type": "markdown",
   "metadata": {},
   "source": [
    "Analysis of the HeatMap (correlation Map):"
   ]
  },
  {
   "cell_type": "markdown",
   "metadata": {},
   "source": [
    "* Correlation between target (Churn) and independent variables \\\n",
    "    We can see the independent variables (gender, phoneService, MultipleLines, InternetService, StreamingTV, StreamingMovies, PaymentMethod) have a correlation value < 0.15 when compared to Churn.\n",
    "    This implies that we cannot directly uses these variables for prediction using linear regression, but we can definitely use multiple regression, decision tree etc"
   ]
  },
  {
   "cell_type": "markdown",
   "metadata": {},
   "source": [
    "* Correlation between the independent variables \\\n",
    "    We can see that between the independent variables, the pairs (Contract, Tenure), (TotalCharges, Tenure) and (MonthlyCharges, TotalCharges) have very high correlation values. This significant intercorrelation can cause multicollinearity problems."
   ]
  },
  {
   "cell_type": "markdown",
   "metadata": {},
   "source": [
    "Determining which records contribute more towards Churn:\n",
    "\n",
    "* Correlations of Contract, TotalCharges, and MonthlyCharges, Tenure vs Churn \n",
    "    >Contract -> 0.68 \\\n",
    "    TotalCharges -> 0.83 \\\n",
    "    MonthlyCharges -> 0.25 \\\n",
    "    Tenure -> 0.35 \n",
    "\n",
    "    We could drop MonthlyCharges and Tenure in favour of TotalCharges and MonthlyCharges as the laters have higher correlation with the Target variable. Doing so would remove multicollinearity problems.\n"
   ]
  },
  {
   "cell_type": "markdown",
   "metadata": {},
   "source": [
    "Determining outliers in Continuos variables"
   ]
  },
  {
   "cell_type": "code",
   "execution_count": 38,
   "metadata": {},
   "outputs": [
    {
     "data": {
      "image/png": "[encoded data removed]",
      "text/plain": [
       "<Figure size 432x288 with 1 Axes>"
      ]
     },
     "metadata": {
      "needs_background": "light"
     },
     "output_type": "display_data"
    },
    {
     "data": {
      "image/png": "[encoded data removed]",
      "text/plain": [
       "<Figure size 432x288 with 1 Axes>"
      ]
     },
     "metadata": {
      "needs_background": "light"
     },
     "output_type": "display_data"
    },
    {
     "data": {
      "text/plain": [
       "<AxesSubplot:title={'center':'TotalCharges'}>"
      ]
     },
     "execution_count": 38,
     "metadata": {},
     "output_type": "execute_result"
    },
    {
     "data": {
      "image/png": "[encoded data removed]",
      "text/plain": [
       "<Figure size 432x288 with 1 Axes>"
      ]
     },
     "metadata": {
      "needs_background": "light"
     },
     "output_type": "display_data"
    }
   ],
   "source": [
    "plt.title(\"Tenure\")\n",
    "sns.boxplot(data=df, x=df['tenure'])\n",
    "plt.show()\n",
    "\n",
    "plt.title(\"MonthlyCharges\")\n",
    "sns.boxplot(data=df['MonthlyCharges'])\n",
    "plt.show()\n",
    "\n",
    "plt.title(\"TotalCharges\")\n",
    "sns.boxplot(data=df['TotalCharges'])"
   ]
  },
  {
   "cell_type": "markdown",
   "metadata": {},
   "source": [
    "There is no outliers in the continuous variables."
   ]
  },
  {
   "cell_type": "markdown",
   "metadata": {},
   "source": [
    "View continuous variables in a histogram to determine if scaling should be used."
   ]
  },
  {
   "cell_type": "code",
   "execution_count": 39,
   "metadata": {},
   "outputs": [
    {
     "data": {
      "image/png": "[encoded data removed]",
      "text/plain": [
       "<Figure size 432x288 with 1 Axes>"
      ]
     },
     "metadata": {
      "needs_background": "light"
     },
     "output_type": "display_data"
    },
    {
     "data": {
      "image/png": "[encoded data removed]",
      "text/plain": [
       "<Figure size 432x288 with 1 Axes>"
      ]
     },
     "metadata": {
      "needs_background": "light"
     },
     "output_type": "display_data"
    },
    {
     "data": {
      "image/png": "[encoded data removed]",
      "text/plain": [
       "<Figure size 432x288 with 1 Axes>"
      ]
     },
     "metadata": {
      "needs_background": "light"
     },
     "output_type": "display_data"
    }
   ],
   "source": [
    "plt.title('Tenure')\n",
    "sns.histplot(data=df, x=df['tenure'], kde=True)\n",
    "plt.show()\n",
    "\n",
    "plt.title('TotalCharges')\n",
    "sns.histplot(data=df, x=df['TotalCharges'], kde=True)\n",
    "plt.show()\n",
    "\n",
    "plt.title('Monthly Charges')\n",
    "sns.histplot(data=df, x=df['MonthlyCharges'], kde=True)\n",
    "plt.show()"
   ]
  },
  {
   "cell_type": "markdown",
   "metadata": {},
   "source": [
    "Inferences\n",
    "> None of the continuos variables match normal distribution.\n",
    "> The second graph (i.e TotalCharges) can be scaled using min max scaling as the data should a continuous decreasing trend.\n",
    "> The third graph (i.e MonthlyCharges) varies on a random basis.\n"
   ]
  },
  {
   "cell_type": "code",
   "execution_count": 40,
   "metadata": {},
   "outputs": [
    {
     "data": {
      "text/html": [
       "<div>\n",
       "<style scoped>\n",
       "    .dataframe tbody tr th:only-of-type {\n",
       "        vertical-align: middle;\n",
       "    }\n",
       "\n",
       "    .dataframe tbody tr th {\n",
       "        vertical-align: top;\n",
       "    }\n",
       "\n",
       "    .dataframe thead th {\n",
       "        text-align: right;\n",
       "    }\n",
       "</style>\n",
       "<table border=\"1\" class=\"dataframe\">\n",
       "  <thead>\n",
       "    <tr style=\"text-align: right;\">\n",
       "      <th></th>\n",
       "      <th>gender</th>\n",
       "      <th>SeniorCitizen</th>\n",
       "      <th>Partner</th>\n",
       "      <th>Dependents</th>\n",
       "      <th>tenure</th>\n",
       "      <th>PhoneService</th>\n",
       "      <th>MultipleLines</th>\n",
       "      <th>InternetService</th>\n",
       "      <th>OnlineSecurity</th>\n",
       "      <th>OnlineBackup</th>\n",
       "      <th>DeviceProtection</th>\n",
       "      <th>TechSupport</th>\n",
       "      <th>StreamingTV</th>\n",
       "      <th>StreamingMovies</th>\n",
       "      <th>Contract</th>\n",
       "      <th>PaperlessBilling</th>\n",
       "      <th>PaymentMethod</th>\n",
       "      <th>MonthlyCharges</th>\n",
       "      <th>TotalCharges</th>\n",
       "      <th>Churn</th>\n",
       "    </tr>\n",
       "  </thead>\n",
       "  <tbody>\n",
       "    <tr>\n",
       "      <th>0</th>\n",
       "      <td>0</td>\n",
       "      <td>0</td>\n",
       "      <td>1</td>\n",
       "      <td>0</td>\n",
       "      <td>1</td>\n",
       "      <td>0</td>\n",
       "      <td>1</td>\n",
       "      <td>0</td>\n",
       "      <td>0</td>\n",
       "      <td>2</td>\n",
       "      <td>0</td>\n",
       "      <td>0</td>\n",
       "      <td>0</td>\n",
       "      <td>0</td>\n",
       "      <td>0</td>\n",
       "      <td>1</td>\n",
       "      <td>2</td>\n",
       "      <td>29.85</td>\n",
       "      <td>29.84375</td>\n",
       "      <td>0</td>\n",
       "    </tr>\n",
       "    <tr>\n",
       "      <th>1</th>\n",
       "      <td>1</td>\n",
       "      <td>0</td>\n",
       "      <td>0</td>\n",
       "      <td>0</td>\n",
       "      <td>34</td>\n",
       "      <td>1</td>\n",
       "      <td>0</td>\n",
       "      <td>0</td>\n",
       "      <td>2</td>\n",
       "      <td>0</td>\n",
       "      <td>2</td>\n",
       "      <td>0</td>\n",
       "      <td>0</td>\n",
       "      <td>0</td>\n",
       "      <td>1</td>\n",
       "      <td>0</td>\n",
       "      <td>3</td>\n",
       "      <td>56.95</td>\n",
       "      <td>1890.00000</td>\n",
       "      <td>0</td>\n",
       "    </tr>\n",
       "    <tr>\n",
       "      <th>2</th>\n",
       "      <td>1</td>\n",
       "      <td>0</td>\n",
       "      <td>0</td>\n",
       "      <td>0</td>\n",
       "      <td>2</td>\n",
       "      <td>1</td>\n",
       "      <td>0</td>\n",
       "      <td>0</td>\n",
       "      <td>2</td>\n",
       "      <td>2</td>\n",
       "      <td>0</td>\n",
       "      <td>0</td>\n",
       "      <td>0</td>\n",
       "      <td>0</td>\n",
       "      <td>0</td>\n",
       "      <td>1</td>\n",
       "      <td>3</td>\n",
       "      <td>53.85</td>\n",
       "      <td>108.12500</td>\n",
       "      <td>1</td>\n",
       "    </tr>\n",
       "    <tr>\n",
       "      <th>3</th>\n",
       "      <td>1</td>\n",
       "      <td>0</td>\n",
       "      <td>0</td>\n",
       "      <td>0</td>\n",
       "      <td>45</td>\n",
       "      <td>0</td>\n",
       "      <td>1</td>\n",
       "      <td>0</td>\n",
       "      <td>2</td>\n",
       "      <td>0</td>\n",
       "      <td>2</td>\n",
       "      <td>2</td>\n",
       "      <td>0</td>\n",
       "      <td>0</td>\n",
       "      <td>1</td>\n",
       "      <td>0</td>\n",
       "      <td>0</td>\n",
       "      <td>42.30</td>\n",
       "      <td>1841.00000</td>\n",
       "      <td>0</td>\n",
       "    </tr>\n",
       "    <tr>\n",
       "      <th>4</th>\n",
       "      <td>0</td>\n",
       "      <td>0</td>\n",
       "      <td>0</td>\n",
       "      <td>0</td>\n",
       "      <td>2</td>\n",
       "      <td>1</td>\n",
       "      <td>0</td>\n",
       "      <td>1</td>\n",
       "      <td>0</td>\n",
       "      <td>0</td>\n",
       "      <td>0</td>\n",
       "      <td>0</td>\n",
       "      <td>0</td>\n",
       "      <td>0</td>\n",
       "      <td>0</td>\n",
       "      <td>1</td>\n",
       "      <td>2</td>\n",
       "      <td>70.70</td>\n",
       "      <td>151.62500</td>\n",
       "      <td>1</td>\n",
       "    </tr>\n",
       "  </tbody>\n",
       "</table>\n",
       "</div>"
      ],
      "text/plain": [
       "   gender  SeniorCitizen  Partner  Dependents  tenure  PhoneService  \\\n",
       "0       0              0        1           0       1             0   \n",
       "1       1              0        0           0      34             1   \n",
       "2       1              0        0           0       2             1   \n",
       "3       1              0        0           0      45             0   \n",
       "4       0              0        0           0       2             1   \n",
       "\n",
       "   MultipleLines  InternetService  OnlineSecurity  OnlineBackup  \\\n",
       "0              1                0               0             2   \n",
       "1              0                0               2             0   \n",
       "2              0                0               2             2   \n",
       "3              1                0               2             0   \n",
       "4              0                1               0             0   \n",
       "\n",
       "   DeviceProtection  TechSupport  StreamingTV  StreamingMovies  Contract  \\\n",
       "0                 0            0            0                0         0   \n",
       "1                 2            0            0                0         1   \n",
       "2                 0            0            0                0         0   \n",
       "3                 2            2            0                0         1   \n",
       "4                 0            0            0                0         0   \n",
       "\n",
       "   PaperlessBilling  PaymentMethod  MonthlyCharges  TotalCharges  Churn  \n",
       "0                 1              2           29.85      29.84375      0  \n",
       "1                 0              3           56.95    1890.00000      0  \n",
       "2                 1              3           53.85     108.12500      1  \n",
       "3                 0              0           42.30    1841.00000      0  \n",
       "4                 1              2           70.70     151.62500      1  "
      ]
     },
     "execution_count": 40,
     "metadata": {},
     "output_type": "execute_result"
    }
   ],
   "source": [
    "df.head()"
   ]
  },
  {
   "cell_type": "code",
   "execution_count": 41,
   "metadata": {},
   "outputs": [
    {
     "name": "stdout",
     "output_type": "stream",
     "text": [
      "The dimensions of train data frame is (5625, 20) and test data frame is (1407, 20)\n"
     ]
    }
   ],
   "source": [
    "# Train and Test split\n",
    "from sklearn.model_selection import train_test_split as tts \n",
    "traindf, testdf = tts(df,test_size=0.2,random_state=42)\n",
    "print(f\"The dimensions of train data frame is {traindf.shape} and test data frame is {testdf.shape}\")"
   ]
  },
  {
   "cell_type": "code",
   "execution_count": 42,
   "metadata": {},
   "outputs": [
    {
     "data": {
      "text/plain": [
       "gender                 int8\n",
       "SeniorCitizen          int8\n",
       "Partner                int8\n",
       "Dependents             int8\n",
       "tenure                int64\n",
       "PhoneService           int8\n",
       "MultipleLines          int8\n",
       "InternetService        int8\n",
       "OnlineSecurity         int8\n",
       "OnlineBackup           int8\n",
       "DeviceProtection       int8\n",
       "TechSupport            int8\n",
       "StreamingTV            int8\n",
       "StreamingMovies        int8\n",
       "Contract               int8\n",
       "PaperlessBilling       int8\n",
       "PaymentMethod          int8\n",
       "MonthlyCharges      float64\n",
       "TotalCharges        float16\n",
       "Churn                 int64\n",
       "dtype: object"
      ]
     },
     "execution_count": 42,
     "metadata": {},
     "output_type": "execute_result"
    }
   ],
   "source": [
    "df.dtypes"
   ]
  },
  {
   "cell_type": "code",
   "execution_count": 43,
   "metadata": {},
   "outputs": [
    {
     "data": {
      "text/html": [
       "<div>\n",
       "<style scoped>\n",
       "    .dataframe tbody tr th:only-of-type {\n",
       "        vertical-align: middle;\n",
       "    }\n",
       "\n",
       "    .dataframe tbody tr th {\n",
       "        vertical-align: top;\n",
       "    }\n",
       "\n",
       "    .dataframe thead th {\n",
       "        text-align: right;\n",
       "    }\n",
       "</style>\n",
       "<table border=\"1\" class=\"dataframe\">\n",
       "  <thead>\n",
       "    <tr style=\"text-align: right;\">\n",
       "      <th></th>\n",
       "      <th>gender</th>\n",
       "      <th>SeniorCitizen</th>\n",
       "      <th>Partner</th>\n",
       "      <th>Dependents</th>\n",
       "      <th>tenure</th>\n",
       "      <th>PhoneService</th>\n",
       "      <th>MultipleLines</th>\n",
       "      <th>InternetService</th>\n",
       "      <th>OnlineSecurity</th>\n",
       "      <th>OnlineBackup</th>\n",
       "      <th>DeviceProtection</th>\n",
       "      <th>TechSupport</th>\n",
       "      <th>StreamingTV</th>\n",
       "      <th>StreamingMovies</th>\n",
       "      <th>Contract</th>\n",
       "      <th>PaperlessBilling</th>\n",
       "      <th>PaymentMethod</th>\n",
       "      <th>MonthlyCharges</th>\n",
       "      <th>TotalCharges</th>\n",
       "      <th>Churn</th>\n",
       "    </tr>\n",
       "  </thead>\n",
       "  <tbody>\n",
       "    <tr>\n",
       "      <th>0</th>\n",
       "      <td>0</td>\n",
       "      <td>0</td>\n",
       "      <td>1</td>\n",
       "      <td>0</td>\n",
       "      <td>1</td>\n",
       "      <td>0</td>\n",
       "      <td>1</td>\n",
       "      <td>0</td>\n",
       "      <td>0</td>\n",
       "      <td>2</td>\n",
       "      <td>0</td>\n",
       "      <td>0</td>\n",
       "      <td>0</td>\n",
       "      <td>0</td>\n",
       "      <td>0</td>\n",
       "      <td>1</td>\n",
       "      <td>2</td>\n",
       "      <td>29.85</td>\n",
       "      <td>29.84375</td>\n",
       "      <td>0</td>\n",
       "    </tr>\n",
       "    <tr>\n",
       "      <th>1</th>\n",
       "      <td>1</td>\n",
       "      <td>0</td>\n",
       "      <td>0</td>\n",
       "      <td>0</td>\n",
       "      <td>34</td>\n",
       "      <td>1</td>\n",
       "      <td>0</td>\n",
       "      <td>0</td>\n",
       "      <td>2</td>\n",
       "      <td>0</td>\n",
       "      <td>2</td>\n",
       "      <td>0</td>\n",
       "      <td>0</td>\n",
       "      <td>0</td>\n",
       "      <td>1</td>\n",
       "      <td>0</td>\n",
       "      <td>3</td>\n",
       "      <td>56.95</td>\n",
       "      <td>1890.00000</td>\n",
       "      <td>0</td>\n",
       "    </tr>\n",
       "    <tr>\n",
       "      <th>2</th>\n",
       "      <td>1</td>\n",
       "      <td>0</td>\n",
       "      <td>0</td>\n",
       "      <td>0</td>\n",
       "      <td>2</td>\n",
       "      <td>1</td>\n",
       "      <td>0</td>\n",
       "      <td>0</td>\n",
       "      <td>2</td>\n",
       "      <td>2</td>\n",
       "      <td>0</td>\n",
       "      <td>0</td>\n",
       "      <td>0</td>\n",
       "      <td>0</td>\n",
       "      <td>0</td>\n",
       "      <td>1</td>\n",
       "      <td>3</td>\n",
       "      <td>53.85</td>\n",
       "      <td>108.12500</td>\n",
       "      <td>1</td>\n",
       "    </tr>\n",
       "    <tr>\n",
       "      <th>3</th>\n",
       "      <td>1</td>\n",
       "      <td>0</td>\n",
       "      <td>0</td>\n",
       "      <td>0</td>\n",
       "      <td>45</td>\n",
       "      <td>0</td>\n",
       "      <td>1</td>\n",
       "      <td>0</td>\n",
       "      <td>2</td>\n",
       "      <td>0</td>\n",
       "      <td>2</td>\n",
       "      <td>2</td>\n",
       "      <td>0</td>\n",
       "      <td>0</td>\n",
       "      <td>1</td>\n",
       "      <td>0</td>\n",
       "      <td>0</td>\n",
       "      <td>42.30</td>\n",
       "      <td>1841.00000</td>\n",
       "      <td>0</td>\n",
       "    </tr>\n",
       "    <tr>\n",
       "      <th>4</th>\n",
       "      <td>0</td>\n",
       "      <td>0</td>\n",
       "      <td>0</td>\n",
       "      <td>0</td>\n",
       "      <td>2</td>\n",
       "      <td>1</td>\n",
       "      <td>0</td>\n",
       "      <td>1</td>\n",
       "      <td>0</td>\n",
       "      <td>0</td>\n",
       "      <td>0</td>\n",
       "      <td>0</td>\n",
       "      <td>0</td>\n",
       "      <td>0</td>\n",
       "      <td>0</td>\n",
       "      <td>1</td>\n",
       "      <td>2</td>\n",
       "      <td>70.70</td>\n",
       "      <td>151.62500</td>\n",
       "      <td>1</td>\n",
       "    </tr>\n",
       "    <tr>\n",
       "      <th>...</th>\n",
       "      <td>...</td>\n",
       "      <td>...</td>\n",
       "      <td>...</td>\n",
       "      <td>...</td>\n",
       "      <td>...</td>\n",
       "      <td>...</td>\n",
       "      <td>...</td>\n",
       "      <td>...</td>\n",
       "      <td>...</td>\n",
       "      <td>...</td>\n",
       "      <td>...</td>\n",
       "      <td>...</td>\n",
       "      <td>...</td>\n",
       "      <td>...</td>\n",
       "      <td>...</td>\n",
       "      <td>...</td>\n",
       "      <td>...</td>\n",
       "      <td>...</td>\n",
       "      <td>...</td>\n",
       "      <td>...</td>\n",
       "    </tr>\n",
       "    <tr>\n",
       "      <th>7038</th>\n",
       "      <td>1</td>\n",
       "      <td>0</td>\n",
       "      <td>1</td>\n",
       "      <td>1</td>\n",
       "      <td>24</td>\n",
       "      <td>1</td>\n",
       "      <td>2</td>\n",
       "      <td>0</td>\n",
       "      <td>2</td>\n",
       "      <td>0</td>\n",
       "      <td>2</td>\n",
       "      <td>2</td>\n",
       "      <td>2</td>\n",
       "      <td>2</td>\n",
       "      <td>1</td>\n",
       "      <td>1</td>\n",
       "      <td>3</td>\n",
       "      <td>84.80</td>\n",
       "      <td>1990.00000</td>\n",
       "      <td>0</td>\n",
       "    </tr>\n",
       "    <tr>\n",
       "      <th>7039</th>\n",
       "      <td>0</td>\n",
       "      <td>0</td>\n",
       "      <td>1</td>\n",
       "      <td>1</td>\n",
       "      <td>72</td>\n",
       "      <td>1</td>\n",
       "      <td>2</td>\n",
       "      <td>1</td>\n",
       "      <td>0</td>\n",
       "      <td>2</td>\n",
       "      <td>2</td>\n",
       "      <td>0</td>\n",
       "      <td>2</td>\n",
       "      <td>2</td>\n",
       "      <td>1</td>\n",
       "      <td>1</td>\n",
       "      <td>1</td>\n",
       "      <td>103.20</td>\n",
       "      <td>7364.00000</td>\n",
       "      <td>0</td>\n",
       "    </tr>\n",
       "    <tr>\n",
       "      <th>7040</th>\n",
       "      <td>0</td>\n",
       "      <td>0</td>\n",
       "      <td>1</td>\n",
       "      <td>1</td>\n",
       "      <td>11</td>\n",
       "      <td>0</td>\n",
       "      <td>1</td>\n",
       "      <td>0</td>\n",
       "      <td>2</td>\n",
       "      <td>0</td>\n",
       "      <td>0</td>\n",
       "      <td>0</td>\n",
       "      <td>0</td>\n",
       "      <td>0</td>\n",
       "      <td>0</td>\n",
       "      <td>1</td>\n",
       "      <td>2</td>\n",
       "      <td>29.60</td>\n",
       "      <td>346.50000</td>\n",
       "      <td>0</td>\n",
       "    </tr>\n",
       "    <tr>\n",
       "      <th>7041</th>\n",
       "      <td>1</td>\n",
       "      <td>1</td>\n",
       "      <td>1</td>\n",
       "      <td>0</td>\n",
       "      <td>4</td>\n",
       "      <td>1</td>\n",
       "      <td>2</td>\n",
       "      <td>1</td>\n",
       "      <td>0</td>\n",
       "      <td>0</td>\n",
       "      <td>0</td>\n",
       "      <td>0</td>\n",
       "      <td>0</td>\n",
       "      <td>0</td>\n",
       "      <td>0</td>\n",
       "      <td>1</td>\n",
       "      <td>3</td>\n",
       "      <td>74.40</td>\n",
       "      <td>306.50000</td>\n",
       "      <td>1</td>\n",
       "    </tr>\n",
       "    <tr>\n",
       "      <th>7042</th>\n",
       "      <td>1</td>\n",
       "      <td>0</td>\n",
       "      <td>0</td>\n",
       "      <td>0</td>\n",
       "      <td>66</td>\n",
       "      <td>1</td>\n",
       "      <td>0</td>\n",
       "      <td>1</td>\n",
       "      <td>2</td>\n",
       "      <td>0</td>\n",
       "      <td>2</td>\n",
       "      <td>2</td>\n",
       "      <td>2</td>\n",
       "      <td>2</td>\n",
       "      <td>2</td>\n",
       "      <td>1</td>\n",
       "      <td>0</td>\n",
       "      <td>105.65</td>\n",
       "      <td>6844.00000</td>\n",
       "      <td>0</td>\n",
       "    </tr>\n",
       "  </tbody>\n",
       "</table>\n",
       "<p>7032 rows × 20 columns</p>\n",
       "</div>"
      ],
      "text/plain": [
       "      gender  SeniorCitizen  Partner  Dependents  tenure  PhoneService  \\\n",
       "0          0              0        1           0       1             0   \n",
       "1          1              0        0           0      34             1   \n",
       "2          1              0        0           0       2             1   \n",
       "3          1              0        0           0      45             0   \n",
       "4          0              0        0           0       2             1   \n",
       "...      ...            ...      ...         ...     ...           ...   \n",
       "7038       1              0        1           1      24             1   \n",
       "7039       0              0        1           1      72             1   \n",
       "7040       0              0        1           1      11             0   \n",
       "7041       1              1        1           0       4             1   \n",
       "7042       1              0        0           0      66             1   \n",
       "\n",
       "      MultipleLines  InternetService  OnlineSecurity  OnlineBackup  \\\n",
       "0                 1                0               0             2   \n",
       "1                 0                0               2             0   \n",
       "2                 0                0               2             2   \n",
       "3                 1                0               2             0   \n",
       "4                 0                1               0             0   \n",
       "...             ...              ...             ...           ...   \n",
       "7038              2                0               2             0   \n",
       "7039              2                1               0             2   \n",
       "7040              1                0               2             0   \n",
       "7041              2                1               0             0   \n",
       "7042              0                1               2             0   \n",
       "\n",
       "      DeviceProtection  TechSupport  StreamingTV  StreamingMovies  Contract  \\\n",
       "0                    0            0            0                0         0   \n",
       "1                    2            0            0                0         1   \n",
       "2                    0            0            0                0         0   \n",
       "3                    2            2            0                0         1   \n",
       "4                    0            0            0                0         0   \n",
       "...                ...          ...          ...              ...       ...   \n",
       "7038                 2            2            2                2         1   \n",
       "7039                 2            0            2                2         1   \n",
       "7040                 0            0            0                0         0   \n",
       "7041                 0            0            0                0         0   \n",
       "7042                 2            2            2                2         2   \n",
       "\n",
       "      PaperlessBilling  PaymentMethod  MonthlyCharges  TotalCharges  Churn  \n",
       "0                    1              2           29.85      29.84375      0  \n",
       "1                    0              3           56.95    1890.00000      0  \n",
       "2                    1              3           53.85     108.12500      1  \n",
       "3                    0              0           42.30    1841.00000      0  \n",
       "4                    1              2           70.70     151.62500      1  \n",
       "...                ...            ...             ...           ...    ...  \n",
       "7038                 1              3           84.80    1990.00000      0  \n",
       "7039                 1              1          103.20    7364.00000      0  \n",
       "7040                 1              2           29.60     346.50000      0  \n",
       "7041                 1              3           74.40     306.50000      1  \n",
       "7042                 1              0          105.65    6844.00000      0  \n",
       "\n",
       "[7032 rows x 20 columns]"
      ]
     },
     "execution_count": 43,
     "metadata": {},
     "output_type": "execute_result"
    }
   ],
   "source": [
    "df"
   ]
  },
  {
   "cell_type": "markdown",
   "metadata": {},
   "source": [
    "## Review 2 starts here"
   ]
  },
  {
   "cell_type": "markdown",
   "metadata": {},
   "source": [
    "<b> Setting up the dataset </b>\n",
    "<ul>\n",
    "<li> Removing the class imbalance over random samples beign generated. \n",
    "<li> Dropping TotalCharges as it has high correlation between Monthly charges and Tenure\n",
    "</ol>\n"
   ]
  },
  {
   "cell_type": "code",
   "execution_count": 44,
   "metadata": {},
   "outputs": [],
   "source": [
    "df.drop('TotalCharges',axis=1 ,inplace=True)\n",
    "X = df.iloc[:,:-1]\n",
    "y = df['Churn']\n",
    "from imblearn.over_sampling import RandomOverSampler\n",
    "ros = RandomOverSampler(random_state=0)\n",
    "X, y = ros.fit_resample(X, y)\n",
    "x_train, x_test, y_train, y_test = tts(X,y,test_size=0.2)"
   ]
  },
  {
   "cell_type": "markdown",
   "metadata": {},
   "source": [
    "<b> Simple candidate model </b>"
   ]
  },
  {
   "cell_type": "markdown",
   "metadata": {},
   "source": [
    "1. Decision Tree"
   ]
  },
  {
   "cell_type": "code",
   "execution_count": 45,
   "metadata": {},
   "outputs": [
    {
     "name": "stdout",
     "output_type": "stream",
     "text": [
      "0.8620522749273959\n"
     ]
    }
   ],
   "source": [
    "# DT\n",
    "from sklearn.metrics import accuracy_score\n",
    "from sklearn import tree\n",
    "clf = tree.DecisionTreeClassifier()\n",
    "clf = clf.fit(x_train, y_train)\n",
    "y_pred_DT = clf.predict(x_test)\n",
    "print(accuracy_score(y_test, y_pred_DT))"
   ]
  },
  {
   "cell_type": "markdown",
   "metadata": {},
   "source": [
    "2. K-Nearest Neighbours"
   ]
  },
  {
   "cell_type": "code",
   "execution_count": 46,
   "metadata": {},
   "outputs": [
    {
     "name": "stdout",
     "output_type": "stream",
     "text": [
      "0.7841239109390126\n"
     ]
    }
   ],
   "source": [
    "# KNN\n",
    "from sklearn.neighbors import KNeighborsClassifier\n",
    "model = KNeighborsClassifier(n_neighbors=3)\n",
    "model.fit(x_train, y_train)\n",
    "y_pred_KNN = model.predict(x_test)\n",
    "print(accuracy_score(y_test, y_pred_KNN))"
   ]
  },
  {
   "cell_type": "markdown",
   "metadata": {},
   "source": [
    "3. Support Vector Machines"
   ]
  },
  {
   "cell_type": "code",
   "execution_count": 47,
   "metadata": {},
   "outputs": [
    {
     "name": "stdout",
     "output_type": "stream",
     "text": [
      "0.8121974830590513\n"
     ]
    }
   ],
   "source": [
    "# SVM\n",
    "from sklearn.pipeline import make_pipeline\n",
    "from sklearn.preprocessing import StandardScaler\n",
    "from sklearn.svm import SVC\n",
    "clf = make_pipeline(StandardScaler(), SVC(gamma='auto'))\n",
    "clf.fit(X, y)\n",
    "y_pred_SVM = clf.predict(x_test)\n",
    "print(accuracy_score(y_test, y_pred_SVM))"
   ]
  },
  {
   "cell_type": "markdown",
   "metadata": {},
   "source": [
    "4. Gaussian Naive Bayes"
   ]
  },
  {
   "cell_type": "code",
   "execution_count": 48,
   "metadata": {},
   "outputs": [
    {
     "name": "stdout",
     "output_type": "stream",
     "text": [
      "0.7516940948693127\n"
     ]
    }
   ],
   "source": [
    "# GNB\n",
    "from sklearn.naive_bayes import GaussianNB\n",
    "clf = GaussianNB()\n",
    "clf.fit(x_train, y_train)\n",
    "y_pred_GNB = clf.predict(x_test)\n",
    "print(accuracy_score(y_test, y_pred_GNB))"
   ]
  },
  {
   "cell_type": "markdown",
   "metadata": {},
   "source": [
    "5. Multi Layer Perceptron"
   ]
  },
  {
   "cell_type": "code",
   "execution_count": 49,
   "metadata": {},
   "outputs": [
    {
     "name": "stdout",
     "output_type": "stream",
     "text": [
      "0.7618586640851888\n"
     ]
    }
   ],
   "source": [
    "# MLP\n",
    "from sklearn.neural_network import MLPClassifier\n",
    "clf = MLPClassifier(random_state=1, max_iter=300).fit(x_train, y_train)\n",
    "y_pred_MLP = clf.predict(x_test)\n",
    "print(accuracy_score(y_test, y_pred_MLP))"
   ]
  },
  {
   "cell_type": "markdown",
   "metadata": {},
   "source": [
    "6. Logistic Regression"
   ]
  },
  {
   "cell_type": "code",
   "execution_count": 50,
   "metadata": {},
   "outputs": [
    {
     "name": "stdout",
     "output_type": "stream",
     "text": [
      "LogReg:  0.760406582768635\n"
     ]
    }
   ],
   "source": [
    "# Logisitic Regression\n",
    "from sklearn.linear_model import LogisticRegression\n",
    "clf = LogisticRegression(random_state=0).fit(x_train, y_train)\n",
    "y_pred_LOG = clf.predict(x_test)\n",
    "print(\"LogReg: \",accuracy_score(y_test, y_pred_LOG))"
   ]
  },
  {
   "cell_type": "markdown",
   "metadata": {},
   "source": [
    "<b> Make dataframe of predictions"
   ]
  },
  {
   "cell_type": "code",
   "execution_count": 51,
   "metadata": {},
   "outputs": [
    {
     "data": {
      "text/html": [
       "<div>\n",
       "<style scoped>\n",
       "    .dataframe tbody tr th:only-of-type {\n",
       "        vertical-align: middle;\n",
       "    }\n",
       "\n",
       "    .dataframe tbody tr th {\n",
       "        vertical-align: top;\n",
       "    }\n",
       "\n",
       "    .dataframe thead th {\n",
       "        text-align: right;\n",
       "    }\n",
       "</style>\n",
       "<table border=\"1\" class=\"dataframe\">\n",
       "  <thead>\n",
       "    <tr style=\"text-align: right;\">\n",
       "      <th></th>\n",
       "      <th>DT</th>\n",
       "      <th>KNN</th>\n",
       "      <th>SVM</th>\n",
       "      <th>GNB</th>\n",
       "      <th>MLP</th>\n",
       "      <th>LOG_REG</th>\n",
       "      <th>Test</th>\n",
       "    </tr>\n",
       "  </thead>\n",
       "  <tbody>\n",
       "    <tr>\n",
       "      <th>0</th>\n",
       "      <td>0</td>\n",
       "      <td>0</td>\n",
       "      <td>0</td>\n",
       "      <td>0</td>\n",
       "      <td>0</td>\n",
       "      <td>0</td>\n",
       "      <td>0</td>\n",
       "    </tr>\n",
       "    <tr>\n",
       "      <th>1</th>\n",
       "      <td>1</td>\n",
       "      <td>1</td>\n",
       "      <td>1</td>\n",
       "      <td>0</td>\n",
       "      <td>1</td>\n",
       "      <td>1</td>\n",
       "      <td>1</td>\n",
       "    </tr>\n",
       "    <tr>\n",
       "      <th>2</th>\n",
       "      <td>0</td>\n",
       "      <td>0</td>\n",
       "      <td>0</td>\n",
       "      <td>0</td>\n",
       "      <td>0</td>\n",
       "      <td>0</td>\n",
       "      <td>0</td>\n",
       "    </tr>\n",
       "    <tr>\n",
       "      <th>3</th>\n",
       "      <td>1</td>\n",
       "      <td>1</td>\n",
       "      <td>1</td>\n",
       "      <td>1</td>\n",
       "      <td>1</td>\n",
       "      <td>1</td>\n",
       "      <td>1</td>\n",
       "    </tr>\n",
       "    <tr>\n",
       "      <th>4</th>\n",
       "      <td>0</td>\n",
       "      <td>0</td>\n",
       "      <td>0</td>\n",
       "      <td>0</td>\n",
       "      <td>0</td>\n",
       "      <td>0</td>\n",
       "      <td>0</td>\n",
       "    </tr>\n",
       "    <tr>\n",
       "      <th>...</th>\n",
       "      <td>...</td>\n",
       "      <td>...</td>\n",
       "      <td>...</td>\n",
       "      <td>...</td>\n",
       "      <td>...</td>\n",
       "      <td>...</td>\n",
       "      <td>...</td>\n",
       "    </tr>\n",
       "    <tr>\n",
       "      <th>2061</th>\n",
       "      <td>1</td>\n",
       "      <td>1</td>\n",
       "      <td>1</td>\n",
       "      <td>1</td>\n",
       "      <td>1</td>\n",
       "      <td>1</td>\n",
       "      <td>0</td>\n",
       "    </tr>\n",
       "    <tr>\n",
       "      <th>2062</th>\n",
       "      <td>1</td>\n",
       "      <td>1</td>\n",
       "      <td>0</td>\n",
       "      <td>0</td>\n",
       "      <td>1</td>\n",
       "      <td>1</td>\n",
       "      <td>0</td>\n",
       "    </tr>\n",
       "    <tr>\n",
       "      <th>2063</th>\n",
       "      <td>1</td>\n",
       "      <td>1</td>\n",
       "      <td>0</td>\n",
       "      <td>1</td>\n",
       "      <td>1</td>\n",
       "      <td>1</td>\n",
       "      <td>0</td>\n",
       "    </tr>\n",
       "    <tr>\n",
       "      <th>2064</th>\n",
       "      <td>1</td>\n",
       "      <td>1</td>\n",
       "      <td>1</td>\n",
       "      <td>1</td>\n",
       "      <td>1</td>\n",
       "      <td>1</td>\n",
       "      <td>1</td>\n",
       "    </tr>\n",
       "    <tr>\n",
       "      <th>2065</th>\n",
       "      <td>0</td>\n",
       "      <td>0</td>\n",
       "      <td>0</td>\n",
       "      <td>0</td>\n",
       "      <td>1</td>\n",
       "      <td>0</td>\n",
       "      <td>0</td>\n",
       "    </tr>\n",
       "  </tbody>\n",
       "</table>\n",
       "<p>2066 rows × 7 columns</p>\n",
       "</div>"
      ],
      "text/plain": [
       "      DT  KNN  SVM  GNB  MLP  LOG_REG  Test\n",
       "0      0    0    0    0    0        0     0\n",
       "1      1    1    1    0    1        1     1\n",
       "2      0    0    0    0    0        0     0\n",
       "3      1    1    1    1    1        1     1\n",
       "4      0    0    0    0    0        0     0\n",
       "...   ..  ...  ...  ...  ...      ...   ...\n",
       "2061   1    1    1    1    1        1     0\n",
       "2062   1    1    0    0    1        1     0\n",
       "2063   1    1    0    1    1        1     0\n",
       "2064   1    1    1    1    1        1     1\n",
       "2065   0    0    0    0    1        0     0\n",
       "\n",
       "[2066 rows x 7 columns]"
      ]
     },
     "execution_count": 51,
     "metadata": {},
     "output_type": "execute_result"
    }
   ],
   "source": [
    "pred_df = pd.DataFrame(list(zip(y_pred_DT, y_pred_KNN, y_pred_SVM, y_pred_GNB, y_pred_MLP, y_pred_LOG, y_test)), columns=['DT','KNN','SVM','GNB', 'MLP','LOG_REG','Test'])\n",
    "pred_df"
   ]
  },
  {
   "cell_type": "markdown",
   "metadata": {},
   "source": [
    "<b> Simple ensembling techniques </b>\n",
    "<ol>\n",
    "<li> Max voting\n",
    "<li> Averaging \n",
    "<li> Weighted averaging\n",
    "</ol>\n",
    "<i> Since churn prediction is a classification problem the last two are not applicable as they are meant for regression. Only max voting is applicable among the list of simple ensembling techniques"
   ]
  },
  {
   "cell_type": "markdown",
   "metadata": {},
   "source": [
    "<b> 1. Max voting"
   ]
  },
  {
   "cell_type": "code",
   "execution_count": 52,
   "metadata": {},
   "outputs": [
    {
     "data": {
      "text/plain": [
       "0.8175217812197483"
      ]
     },
     "execution_count": 52,
     "metadata": {},
     "output_type": "execute_result"
    }
   ],
   "source": [
    "y_pred_MAX = np.zeros(y_test.shape[0])\n",
    "for i in range(y_pred_MAX.shape[0]):\n",
    "    y_pred_MAX[i] = pred_df.iloc[i,:].mode()\n",
    "accuracy_score(y_test, y_pred_MAX)"
   ]
  },
  {
   "cell_type": "markdown",
   "metadata": {},
   "source": [
    "<b> Advanced Ensemble Techniques </b>\n",
    "<ol>\n",
    "<li> Stacking \n",
    "<li> Bagging\n",
    "<li> Boosting\n",
    "</ol>\n",
    "\n",
    "<i> The outputs from the above 6 candidate models will be used as input for a new meta learner. The output of the meta learner is the one compared and validated using an accuracy score."
   ]
  },
  {
   "cell_type": "markdown",
   "metadata": {},
   "source": [
    "<b>1. Stacking"
   ]
  },
  {
   "cell_type": "code",
   "execution_count": 53,
   "metadata": {},
   "outputs": [
    {
     "name": "stdout",
     "output_type": "stream",
     "text": [
      "(1652, 6)\n",
      "(1652,)\n",
      "(414, 6)\n",
      "(414,)\n"
     ]
    }
   ],
   "source": [
    "X = pred_df.iloc[:,:-1]\n",
    "y = pred_df['Test']\n",
    "meta_x_train, meta_x_test, meta_y_train, meta_y_test = tts(X,y,test_size=0.2)\n",
    "print(meta_x_train.shape)\n",
    "print(meta_y_train.shape)\n",
    "print(meta_x_test.shape)\n",
    "print(meta_y_test.shape)"
   ]
  },
  {
   "cell_type": "markdown",
   "metadata": {},
   "source": [
    "<b>List of meta learners used </b>\n",
    "<ol>\n",
    "<li>KNN\n",
    "<li>DT\n",
    "<li>SVM\n",
    "<li>GNB\n",
    "<li>ADABOOST\n",
    "<li>BAGGING\n",
    "<li>MLP\n",
    "<li>Logistic Regression\n",
    "</ol>"
   ]
  },
  {
   "cell_type": "code",
   "execution_count": 54,
   "metadata": {},
   "outputs": [
    {
     "data": {
      "text/html": [
       "<div>\n",
       "<style scoped>\n",
       "    .dataframe tbody tr th:only-of-type {\n",
       "        vertical-align: middle;\n",
       "    }\n",
       "\n",
       "    .dataframe tbody tr th {\n",
       "        vertical-align: top;\n",
       "    }\n",
       "\n",
       "    .dataframe thead th {\n",
       "        text-align: right;\n",
       "    }\n",
       "</style>\n",
       "<table border=\"1\" class=\"dataframe\">\n",
       "  <thead>\n",
       "    <tr style=\"text-align: right;\">\n",
       "      <th></th>\n",
       "      <th>Accuracy</th>\n",
       "    </tr>\n",
       "  </thead>\n",
       "  <tbody>\n",
       "    <tr>\n",
       "      <th>KNN</th>\n",
       "      <td>56.280193</td>\n",
       "    </tr>\n",
       "    <tr>\n",
       "      <th>DT</th>\n",
       "      <td>87.681159</td>\n",
       "    </tr>\n",
       "    <tr>\n",
       "      <th>SVM</th>\n",
       "      <td>87.681159</td>\n",
       "    </tr>\n",
       "    <tr>\n",
       "      <th>GNB</th>\n",
       "      <td>82.125604</td>\n",
       "    </tr>\n",
       "    <tr>\n",
       "      <th>ADABOOST</th>\n",
       "      <td>87.198068</td>\n",
       "    </tr>\n",
       "    <tr>\n",
       "      <th>BAGGING</th>\n",
       "      <td>86.956522</td>\n",
       "    </tr>\n",
       "    <tr>\n",
       "      <th>MLP</th>\n",
       "      <td>87.681159</td>\n",
       "    </tr>\n",
       "    <tr>\n",
       "      <th>LOG_REG</th>\n",
       "      <td>87.198068</td>\n",
       "    </tr>\n",
       "  </tbody>\n",
       "</table>\n",
       "</div>"
      ],
      "text/plain": [
       "           Accuracy\n",
       "KNN       56.280193\n",
       "DT        87.681159\n",
       "SVM       87.681159\n",
       "GNB       82.125604\n",
       "ADABOOST  87.198068\n",
       "BAGGING   86.956522\n",
       "MLP       87.681159\n",
       "LOG_REG   87.198068"
      ]
     },
     "execution_count": 54,
     "metadata": {},
     "output_type": "execute_result"
    }
   ],
   "source": [
    "# KNN\n",
    "knn_lis = []\n",
    "from sklearn.neighbors import KNeighborsClassifier\n",
    "\n",
    "model = KNeighborsClassifier(n_neighbors=3)\n",
    "\n",
    "# Train the model using the training sets\n",
    "model.fit(meta_x_train, meta_y_train)\n",
    "y_pred_1 = model.predict(meta_x_test)\n",
    "knn_lis.append(accuracy_score(meta_y_test, y_pred_1)*100)\n",
    "# DT\n",
    "dt_lis = []\n",
    "from sklearn import tree\n",
    "clf = tree.DecisionTreeClassifier()\n",
    "clf = clf.fit(meta_x_train, meta_y_train)\n",
    "y_pred_2 = clf.predict(meta_x_test)\n",
    "dt_lis.append(accuracy_score(meta_y_test, y_pred_2)*100)\n",
    "# SVM\n",
    "svm_lis = []\n",
    "clf = make_pipeline(StandardScaler(), SVC(gamma='auto'))\n",
    "clf.fit(meta_x_train, meta_y_train)\n",
    "y_pred_3 = clf.predict(meta_x_test)\n",
    "svm_lis.append(accuracy_score(meta_y_test, y_pred_3)*100)\n",
    "# GNB\n",
    "gnb_lis = []\n",
    "from sklearn.naive_bayes import GaussianNB\n",
    "clf = GaussianNB()\n",
    "clf.fit(meta_x_train, meta_y_train)\n",
    "y_pred_4 = clf.predict(meta_x_test)\n",
    "gnb_lis.append(accuracy_score(meta_y_test, y_pred_4)*100)\n",
    "# AdaBoost\n",
    "ada_lis = []\n",
    "from sklearn.ensemble import AdaBoostClassifier\n",
    "clf = AdaBoostClassifier(n_estimators=100, random_state=0)\n",
    "clf.fit(meta_x_train, meta_y_train)\n",
    "y_pred_5 = clf.predict(meta_x_test)\n",
    "ada_lis.append(accuracy_score(meta_y_test, y_pred_5)*100)\n",
    "# Bagging classifier\n",
    "bag_lis = []\n",
    "from sklearn.svm import SVC\n",
    "from sklearn.ensemble import BaggingClassifier\n",
    "clf = BaggingClassifier(base_estimator=SVC(),\n",
    "                        n_estimators=10, random_state=0).fit(meta_x_train, meta_y_train)\n",
    "y_pred_6 = clf.predict(meta_x_test)\n",
    "bag_lis.append(accuracy_score(meta_y_test, y_pred_6)*100)\n",
    "\n",
    "# MLP\n",
    "mlp_lis = []\n",
    "from sklearn.neural_network import MLPClassifier\n",
    "clf = MLPClassifier(random_state=1, max_iter=300).fit(meta_x_train, meta_y_train)\n",
    "y_pred_7 = clf.predict(meta_x_test)\n",
    "mlp_lis.append(accuracy_score(meta_y_test, y_pred_7)*100)\n",
    "\n",
    "# Logisitic Regression\n",
    "log_lis = []\n",
    "from sklearn.linear_model import LogisticRegression\n",
    "clf = LogisticRegression(random_state=0).fit(meta_x_train, meta_y_train)\n",
    "y_pred_8 = clf.predict(meta_x_test)\n",
    "log_lis.append(accuracy_score(meta_y_test, y_pred_8)*100)\n",
    "\n",
    "ens_res = pd.DataFrame(list(list(zip(knn_lis, dt_lis, svm_lis, gnb_lis, ada_lis, bag_lis, mlp_lis, log_lis))[0]), columns=['Accuracy'],index=['KNN','DT', 'SVM','GNB', 'ADABOOST','BAGGING','MLP','LOG_REG'])\n",
    "ens_res"
   ]
  },
  {
   "cell_type": "code",
   "execution_count": 55,
   "metadata": {},
   "outputs": [
    {
     "name": "stdout",
     "output_type": "stream",
     "text": [
      "Max accuracy from stacking is 87.681% with meta learner DT\n"
     ]
    }
   ],
   "source": [
    "acc = float(ens_res['Accuracy'].max())\n",
    "max_ind = list(ens_res.idxmax())[0]\n",
    "print(f\"Max accuracy from stacking is {round(acc,3)}% with meta learner {max_ind}\")"
   ]
  },
  {
   "cell_type": "markdown",
   "metadata": {},
   "source": [
    "<b>2. Bagging </b>\n",
    "<ol>\n",
    "<li> Random forest\n",
    "<li> Bagging classifier\n",
    "<li> Bagging meta-estimator\n",
    "</ol>"
   ]
  },
  {
   "cell_type": "markdown",
   "metadata": {},
   "source": [
    "<b> 2.1 Random forest"
   ]
  },
  {
   "cell_type": "code",
   "execution_count": 56,
   "metadata": {},
   "outputs": [
    {
     "name": "stdout",
     "output_type": "stream",
     "text": [
      "Random Forest Classifier with 100 n_estimators and 'gini' criterion gives an accuracy of 89.303%\n"
     ]
    },
    {
     "data": {
      "image/png": "[encoded data removed]",
      "text/plain": [
       "<Figure size 576x396 with 1 Axes>"
      ]
     },
     "metadata": {},
     "output_type": "display_data"
    }
   ],
   "source": [
    "from sklearn.ensemble import RandomForestClassifier\n",
    "random_forest = RandomForestClassifier(n_estimators = 100, criterion = 'gini', random_state = 0)\n",
    "random_forest.fit(x_train, y_train)\n",
    "previsoes = random_forest.predict(x_test)\n",
    "from yellowbrick.classifier import ConfusionMatrix\n",
    "cm = ConfusionMatrix(random_forest)\n",
    "cm.fit(x_train, y_train)\n",
    "print(f\"Random Forest Classifier with {100} n_estimators and 'gini' criterion gives an accuracy of {round(cm.score(x_test, y_test)*100,3)}%\")"
   ]
  },
  {
   "cell_type": "markdown",
   "metadata": {},
   "source": [
    "<b> 2.2 Bagging classifier"
   ]
  },
  {
   "cell_type": "code",
   "execution_count": 57,
   "metadata": {},
   "outputs": [
    {
     "name": "stdout",
     "output_type": "stream",
     "text": [
      "0.7410454985479187\n"
     ]
    }
   ],
   "source": [
    "from sklearn.svm import SVC\n",
    "from sklearn.ensemble import BaggingClassifier\n",
    "clf = BaggingClassifier(base_estimator=SVC(),\n",
    "                        n_estimators=10, random_state=0).fit(x_train, y_train)\n",
    "y_pred_6 = clf.predict(x_test)\n",
    "print(accuracy_score(y_test, y_pred_6))"
   ]
  },
  {
   "cell_type": "markdown",
   "metadata": {},
   "source": [
    "<b> 2.3 Bagging meta-estimator"
   ]
  },
  {
   "cell_type": "code",
   "execution_count": 86,
   "metadata": {},
   "outputs": [
    {
     "data": {
      "text/plain": [
       "0.8823814133591481"
      ]
     },
     "execution_count": 86,
     "metadata": {},
     "output_type": "execute_result"
    }
   ],
   "source": [
    "from sklearn.ensemble import BaggingClassifier\n",
    "from sklearn import tree\n",
    "model = BaggingClassifier(tree.DecisionTreeClassifier(random_state=1))\n",
    "model.fit(x_train, y_train)\n",
    "model.score(x_test,y_test)"
   ]
  },
  {
   "cell_type": "markdown",
   "metadata": {},
   "source": [
    "<b>3. Boosting </b>\n",
    "<ol>\n",
    "<li> CatBoost\n",
    "<li> Light Gradient Boost Machine\n",
    "<li> AdaBoost\n",
    "<li> Gradient Boost Machine\n",
    "<ol>"
   ]
  },
  {
   "cell_type": "markdown",
   "metadata": {},
   "source": [
    "<b> 3.1 CatBoost"
   ]
  },
  {
   "cell_type": "code",
   "execution_count": 58,
   "metadata": {},
   "outputs": [
    {
     "name": "stdout",
     "output_type": "stream",
     "text": [
      "Learning rate set to 0.02538\n",
      "0:\tlearn: 0.6805377\ttotal: 51.4ms\tremaining: 51.3s\n",
      "1:\tlearn: 0.6709790\ttotal: 54.2ms\tremaining: 27s\n",
      "2:\tlearn: 0.6614434\ttotal: 56.5ms\tremaining: 18.8s\n",
      "3:\tlearn: 0.6521609\ttotal: 59.9ms\tremaining: 14.9s\n",
      "4:\tlearn: 0.6416714\ttotal: 62.3ms\tremaining: 12.4s\n",
      "5:\tlearn: 0.6327831\ttotal: 65ms\tremaining: 10.8s\n",
      "6:\tlearn: 0.6236955\ttotal: 67.4ms\tremaining: 9.56s\n",
      "7:\tlearn: 0.6166593\ttotal: 69.6ms\tremaining: 8.63s\n",
      "8:\tlearn: 0.6100387\ttotal: 72.7ms\tremaining: 8.01s\n",
      "9:\tlearn: 0.6035170\ttotal: 74.9ms\tremaining: 7.41s\n",
      "10:\tlearn: 0.5969653\ttotal: 77.6ms\tremaining: 6.98s\n",
      "11:\tlearn: 0.5906972\ttotal: 79.7ms\tremaining: 6.56s\n",
      "12:\tlearn: 0.5846493\ttotal: 82ms\tremaining: 6.23s\n",
      "13:\tlearn: 0.5792760\ttotal: 86.4ms\tremaining: 6.08s\n",
      "14:\tlearn: 0.5740600\ttotal: 88.9ms\tremaining: 5.84s\n",
      "15:\tlearn: 0.5688799\ttotal: 91.8ms\tremaining: 5.65s\n",
      "16:\tlearn: 0.5639272\ttotal: 94.3ms\tremaining: 5.45s\n",
      "17:\tlearn: 0.5599677\ttotal: 97.4ms\tremaining: 5.31s\n",
      "18:\tlearn: 0.5557813\ttotal: 99.4ms\tremaining: 5.13s\n",
      "19:\tlearn: 0.5515039\ttotal: 101ms\tremaining: 4.97s\n",
      "20:\tlearn: 0.5473954\ttotal: 105ms\tremaining: 4.88s\n",
      "21:\tlearn: 0.5434484\ttotal: 107ms\tremaining: 4.76s\n",
      "22:\tlearn: 0.5398839\ttotal: 110ms\tremaining: 4.68s\n",
      "23:\tlearn: 0.5365286\ttotal: 113ms\tremaining: 4.58s\n",
      "24:\tlearn: 0.5331798\ttotal: 115ms\tremaining: 4.49s\n",
      "25:\tlearn: 0.5301726\ttotal: 118ms\tremaining: 4.41s\n",
      "26:\tlearn: 0.5274704\ttotal: 120ms\tremaining: 4.32s\n",
      "27:\tlearn: 0.5249440\ttotal: 123ms\tremaining: 4.27s\n",
      "28:\tlearn: 0.5224486\ttotal: 125ms\tremaining: 4.19s\n",
      "29:\tlearn: 0.5199610\ttotal: 127ms\tremaining: 4.12s\n",
      "30:\tlearn: 0.5175857\ttotal: 130ms\tremaining: 4.05s\n",
      "31:\tlearn: 0.5157211\ttotal: 132ms\tremaining: 3.98s\n",
      "32:\tlearn: 0.5129568\ttotal: 135ms\tremaining: 3.95s\n",
      "33:\tlearn: 0.5110271\ttotal: 137ms\tremaining: 3.9s\n",
      "34:\tlearn: 0.5090792\ttotal: 139ms\tremaining: 3.85s\n",
      "35:\tlearn: 0.5070860\ttotal: 142ms\tremaining: 3.81s\n",
      "36:\tlearn: 0.5054796\ttotal: 145ms\tremaining: 3.76s\n",
      "37:\tlearn: 0.5038434\ttotal: 148ms\tremaining: 3.74s\n",
      "38:\tlearn: 0.5016772\ttotal: 150ms\tremaining: 3.69s\n",
      "39:\tlearn: 0.5004462\ttotal: 152ms\tremaining: 3.66s\n",
      "40:\tlearn: 0.4988189\ttotal: 155ms\tremaining: 3.62s\n",
      "41:\tlearn: 0.4971318\ttotal: 157ms\tremaining: 3.59s\n",
      "42:\tlearn: 0.4956351\ttotal: 160ms\tremaining: 3.57s\n",
      "43:\tlearn: 0.4941471\ttotal: 163ms\tremaining: 3.54s\n",
      "44:\tlearn: 0.4926984\ttotal: 165ms\tremaining: 3.51s\n",
      "45:\tlearn: 0.4913345\ttotal: 168ms\tremaining: 3.49s\n",
      "46:\tlearn: 0.4900326\ttotal: 171ms\tremaining: 3.47s\n",
      "47:\tlearn: 0.4889798\ttotal: 174ms\tremaining: 3.45s\n",
      "48:\tlearn: 0.4876627\ttotal: 176ms\tremaining: 3.42s\n",
      "49:\tlearn: 0.4865047\ttotal: 179ms\tremaining: 3.41s\n",
      "50:\tlearn: 0.4853691\ttotal: 182ms\tremaining: 3.39s\n",
      "51:\tlearn: 0.4840808\ttotal: 185ms\tremaining: 3.37s\n",
      "52:\tlearn: 0.4830795\ttotal: 187ms\tremaining: 3.34s\n",
      "53:\tlearn: 0.4820158\ttotal: 189ms\tremaining: 3.31s\n",
      "54:\tlearn: 0.4809679\ttotal: 192ms\tremaining: 3.3s\n",
      "55:\tlearn: 0.4799543\ttotal: 194ms\tremaining: 3.27s\n",
      "56:\tlearn: 0.4789919\ttotal: 197ms\tremaining: 3.26s\n",
      "57:\tlearn: 0.4781501\ttotal: 199ms\tremaining: 3.24s\n",
      "58:\tlearn: 0.4771906\ttotal: 202ms\tremaining: 3.21s\n",
      "59:\tlearn: 0.4762295\ttotal: 204ms\tremaining: 3.2s\n",
      "60:\tlearn: 0.4753829\ttotal: 206ms\tremaining: 3.18s\n",
      "61:\tlearn: 0.4746325\ttotal: 209ms\tremaining: 3.16s\n",
      "62:\tlearn: 0.4738164\ttotal: 211ms\tremaining: 3.15s\n",
      "63:\tlearn: 0.4730006\ttotal: 214ms\tremaining: 3.12s\n",
      "64:\tlearn: 0.4722001\ttotal: 217ms\tremaining: 3.12s\n",
      "65:\tlearn: 0.4714487\ttotal: 219ms\tremaining: 3.1s\n",
      "66:\tlearn: 0.4705418\ttotal: 222ms\tremaining: 3.09s\n",
      "67:\tlearn: 0.4698851\ttotal: 224ms\tremaining: 3.07s\n",
      "68:\tlearn: 0.4691669\ttotal: 226ms\tremaining: 3.04s\n",
      "69:\tlearn: 0.4684991\ttotal: 229ms\tremaining: 3.04s\n",
      "70:\tlearn: 0.4677251\ttotal: 231ms\tremaining: 3.02s\n",
      "71:\tlearn: 0.4670014\ttotal: 233ms\tremaining: 3s\n",
      "72:\tlearn: 0.4664165\ttotal: 236ms\tremaining: 3s\n",
      "73:\tlearn: 0.4658279\ttotal: 239ms\tremaining: 2.99s\n",
      "74:\tlearn: 0.4651687\ttotal: 242ms\tremaining: 2.98s\n",
      "75:\tlearn: 0.4645401\ttotal: 244ms\tremaining: 2.97s\n",
      "76:\tlearn: 0.4639105\ttotal: 247ms\tremaining: 2.96s\n",
      "77:\tlearn: 0.4633728\ttotal: 249ms\tremaining: 2.95s\n",
      "78:\tlearn: 0.4627787\ttotal: 252ms\tremaining: 2.93s\n",
      "79:\tlearn: 0.4622358\ttotal: 256ms\tremaining: 2.94s\n",
      "80:\tlearn: 0.4616670\ttotal: 259ms\tremaining: 2.94s\n",
      "81:\tlearn: 0.4610564\ttotal: 262ms\tremaining: 2.93s\n",
      "82:\tlearn: 0.4604838\ttotal: 264ms\tremaining: 2.92s\n",
      "83:\tlearn: 0.4600170\ttotal: 267ms\tremaining: 2.91s\n",
      "84:\tlearn: 0.4597020\ttotal: 269ms\tremaining: 2.89s\n",
      "85:\tlearn: 0.4592187\ttotal: 273ms\tremaining: 2.9s\n",
      "86:\tlearn: 0.4587193\ttotal: 275ms\tremaining: 2.88s\n",
      "87:\tlearn: 0.4582406\ttotal: 277ms\tremaining: 2.87s\n",
      "88:\tlearn: 0.4577593\ttotal: 280ms\tremaining: 2.86s\n",
      "89:\tlearn: 0.4571339\ttotal: 283ms\tremaining: 2.86s\n",
      "90:\tlearn: 0.4567130\ttotal: 287ms\tremaining: 2.87s\n",
      "91:\tlearn: 0.4561445\ttotal: 292ms\tremaining: 2.88s\n",
      "92:\tlearn: 0.4557222\ttotal: 294ms\tremaining: 2.87s\n",
      "93:\tlearn: 0.4552246\ttotal: 299ms\tremaining: 2.89s\n",
      "94:\tlearn: 0.4548948\ttotal: 303ms\tremaining: 2.88s\n",
      "95:\tlearn: 0.4543361\ttotal: 305ms\tremaining: 2.87s\n",
      "96:\tlearn: 0.4539704\ttotal: 308ms\tremaining: 2.87s\n",
      "97:\tlearn: 0.4535377\ttotal: 311ms\tremaining: 2.86s\n",
      "98:\tlearn: 0.4530790\ttotal: 313ms\tremaining: 2.85s\n",
      "99:\tlearn: 0.4527560\ttotal: 317ms\tremaining: 2.85s\n",
      "100:\tlearn: 0.4523526\ttotal: 320ms\tremaining: 2.85s\n",
      "101:\tlearn: 0.4520226\ttotal: 324ms\tremaining: 2.85s\n",
      "102:\tlearn: 0.4515787\ttotal: 326ms\tremaining: 2.84s\n",
      "103:\tlearn: 0.4512253\ttotal: 329ms\tremaining: 2.83s\n",
      "104:\tlearn: 0.4509034\ttotal: 332ms\tremaining: 2.83s\n",
      "105:\tlearn: 0.4506114\ttotal: 336ms\tremaining: 2.83s\n",
      "106:\tlearn: 0.4501435\ttotal: 338ms\tremaining: 2.82s\n",
      "107:\tlearn: 0.4497795\ttotal: 341ms\tremaining: 2.82s\n",
      "108:\tlearn: 0.4495188\ttotal: 345ms\tremaining: 2.82s\n",
      "109:\tlearn: 0.4491158\ttotal: 349ms\tremaining: 2.83s\n",
      "110:\tlearn: 0.4487586\ttotal: 352ms\tremaining: 2.82s\n",
      "111:\tlearn: 0.4482443\ttotal: 355ms\tremaining: 2.81s\n",
      "112:\tlearn: 0.4479456\ttotal: 358ms\tremaining: 2.81s\n",
      "113:\tlearn: 0.4475045\ttotal: 361ms\tremaining: 2.81s\n",
      "114:\tlearn: 0.4471945\ttotal: 363ms\tremaining: 2.79s\n",
      "115:\tlearn: 0.4468849\ttotal: 366ms\tremaining: 2.79s\n",
      "116:\tlearn: 0.4466407\ttotal: 368ms\tremaining: 2.78s\n",
      "117:\tlearn: 0.4462536\ttotal: 371ms\tremaining: 2.77s\n",
      "118:\tlearn: 0.4458587\ttotal: 374ms\tremaining: 2.77s\n",
      "119:\tlearn: 0.4454236\ttotal: 375ms\tremaining: 2.75s\n",
      "120:\tlearn: 0.4450860\ttotal: 378ms\tremaining: 2.75s\n",
      "121:\tlearn: 0.4445674\ttotal: 381ms\tremaining: 2.74s\n",
      "122:\tlearn: 0.4443684\ttotal: 385ms\tremaining: 2.74s\n",
      "123:\tlearn: 0.4440318\ttotal: 387ms\tremaining: 2.73s\n",
      "124:\tlearn: 0.4436813\ttotal: 389ms\tremaining: 2.72s\n",
      "125:\tlearn: 0.4433514\ttotal: 392ms\tremaining: 2.72s\n",
      "126:\tlearn: 0.4433335\ttotal: 393ms\tremaining: 2.7s\n",
      "127:\tlearn: 0.4429379\ttotal: 395ms\tremaining: 2.69s\n",
      "128:\tlearn: 0.4426622\ttotal: 398ms\tremaining: 2.69s\n",
      "129:\tlearn: 0.4420945\ttotal: 400ms\tremaining: 2.67s\n",
      "130:\tlearn: 0.4418219\ttotal: 402ms\tremaining: 2.66s\n",
      "131:\tlearn: 0.4414139\ttotal: 404ms\tremaining: 2.65s\n",
      "132:\tlearn: 0.4411865\ttotal: 407ms\tremaining: 2.65s\n",
      "133:\tlearn: 0.4407586\ttotal: 410ms\tremaining: 2.65s\n",
      "134:\tlearn: 0.4406003\ttotal: 414ms\tremaining: 2.65s\n",
      "135:\tlearn: 0.4402478\ttotal: 417ms\tremaining: 2.65s\n",
      "136:\tlearn: 0.4399934\ttotal: 424ms\tremaining: 2.67s\n",
      "137:\tlearn: 0.4397409\ttotal: 428ms\tremaining: 2.67s\n",
      "138:\tlearn: 0.4397158\ttotal: 431ms\tremaining: 2.67s\n",
      "139:\tlearn: 0.4394871\ttotal: 433ms\tremaining: 2.66s\n",
      "140:\tlearn: 0.4394827\ttotal: 435ms\tremaining: 2.65s\n",
      "141:\tlearn: 0.4391450\ttotal: 437ms\tremaining: 2.64s\n",
      "142:\tlearn: 0.4389473\ttotal: 439ms\tremaining: 2.63s\n",
      "143:\tlearn: 0.4385943\ttotal: 442ms\tremaining: 2.63s\n",
      "144:\tlearn: 0.4383935\ttotal: 445ms\tremaining: 2.62s\n",
      "145:\tlearn: 0.4380885\ttotal: 449ms\tremaining: 2.62s\n",
      "146:\tlearn: 0.4380579\ttotal: 450ms\tremaining: 2.61s\n",
      "147:\tlearn: 0.4378380\ttotal: 452ms\tremaining: 2.6s\n",
      "148:\tlearn: 0.4375489\ttotal: 456ms\tremaining: 2.6s\n",
      "149:\tlearn: 0.4372853\ttotal: 459ms\tremaining: 2.6s\n",
      "150:\tlearn: 0.4368642\ttotal: 463ms\tremaining: 2.6s\n",
      "151:\tlearn: 0.4366647\ttotal: 465ms\tremaining: 2.6s\n",
      "152:\tlearn: 0.4363753\ttotal: 468ms\tremaining: 2.59s\n",
      "153:\tlearn: 0.4361195\ttotal: 471ms\tremaining: 2.59s\n",
      "154:\tlearn: 0.4356449\ttotal: 474ms\tremaining: 2.58s\n",
      "155:\tlearn: 0.4353412\ttotal: 477ms\tremaining: 2.58s\n",
      "156:\tlearn: 0.4352121\ttotal: 480ms\tremaining: 2.58s\n",
      "157:\tlearn: 0.4349627\ttotal: 483ms\tremaining: 2.58s\n",
      "158:\tlearn: 0.4345893\ttotal: 486ms\tremaining: 2.57s\n",
      "159:\tlearn: 0.4344022\ttotal: 489ms\tremaining: 2.56s\n",
      "160:\tlearn: 0.4340867\ttotal: 491ms\tremaining: 2.56s\n",
      "161:\tlearn: 0.4336787\ttotal: 494ms\tremaining: 2.55s\n",
      "162:\tlearn: 0.4334049\ttotal: 498ms\tremaining: 2.56s\n",
      "163:\tlearn: 0.4333233\ttotal: 500ms\tremaining: 2.55s\n",
      "164:\tlearn: 0.4330458\ttotal: 505ms\tremaining: 2.55s\n",
      "165:\tlearn: 0.4329016\ttotal: 508ms\tremaining: 2.55s\n",
      "166:\tlearn: 0.4326251\ttotal: 510ms\tremaining: 2.54s\n",
      "167:\tlearn: 0.4321638\ttotal: 516ms\tremaining: 2.56s\n",
      "168:\tlearn: 0.4319350\ttotal: 519ms\tremaining: 2.55s\n",
      "169:\tlearn: 0.4317159\ttotal: 521ms\tremaining: 2.54s\n",
      "170:\tlearn: 0.4314755\ttotal: 526ms\tremaining: 2.55s\n",
      "171:\tlearn: 0.4313187\ttotal: 530ms\tremaining: 2.55s\n",
      "172:\tlearn: 0.4309853\ttotal: 532ms\tremaining: 2.54s\n",
      "173:\tlearn: 0.4307341\ttotal: 535ms\tremaining: 2.54s\n",
      "174:\tlearn: 0.4304989\ttotal: 539ms\tremaining: 2.54s\n",
      "175:\tlearn: 0.4303045\ttotal: 543ms\tremaining: 2.54s\n",
      "176:\tlearn: 0.4300486\ttotal: 547ms\tremaining: 2.54s\n",
      "177:\tlearn: 0.4297900\ttotal: 551ms\tremaining: 2.54s\n",
      "178:\tlearn: 0.4295105\ttotal: 555ms\tremaining: 2.55s\n",
      "179:\tlearn: 0.4292715\ttotal: 558ms\tremaining: 2.54s\n",
      "180:\tlearn: 0.4290501\ttotal: 561ms\tremaining: 2.54s\n",
      "181:\tlearn: 0.4286966\ttotal: 564ms\tremaining: 2.53s\n",
      "182:\tlearn: 0.4285140\ttotal: 567ms\tremaining: 2.53s\n",
      "183:\tlearn: 0.4281685\ttotal: 570ms\tremaining: 2.52s\n",
      "184:\tlearn: 0.4278051\ttotal: 573ms\tremaining: 2.52s\n",
      "185:\tlearn: 0.4275718\ttotal: 576ms\tremaining: 2.52s\n",
      "186:\tlearn: 0.4272915\ttotal: 578ms\tremaining: 2.51s\n",
      "187:\tlearn: 0.4270881\ttotal: 580ms\tremaining: 2.51s\n",
      "188:\tlearn: 0.4266837\ttotal: 583ms\tremaining: 2.5s\n",
      "189:\tlearn: 0.4265033\ttotal: 585ms\tremaining: 2.5s\n",
      "190:\tlearn: 0.4261291\ttotal: 588ms\tremaining: 2.49s\n",
      "191:\tlearn: 0.4257426\ttotal: 591ms\tremaining: 2.49s\n",
      "192:\tlearn: 0.4256909\ttotal: 593ms\tremaining: 2.48s\n",
      "193:\tlearn: 0.4254404\ttotal: 596ms\tremaining: 2.48s\n",
      "194:\tlearn: 0.4251890\ttotal: 598ms\tremaining: 2.47s\n",
      "195:\tlearn: 0.4250257\ttotal: 601ms\tremaining: 2.46s\n",
      "196:\tlearn: 0.4248773\ttotal: 604ms\tremaining: 2.46s\n",
      "197:\tlearn: 0.4246526\ttotal: 606ms\tremaining: 2.46s\n",
      "198:\tlearn: 0.4244118\ttotal: 610ms\tremaining: 2.45s\n",
      "199:\tlearn: 0.4242796\ttotal: 612ms\tremaining: 2.45s\n",
      "200:\tlearn: 0.4241681\ttotal: 614ms\tremaining: 2.44s\n",
      "201:\tlearn: 0.4240426\ttotal: 617ms\tremaining: 2.44s\n",
      "202:\tlearn: 0.4239184\ttotal: 619ms\tremaining: 2.43s\n",
      "203:\tlearn: 0.4237966\ttotal: 623ms\tremaining: 2.43s\n",
      "204:\tlearn: 0.4236917\ttotal: 625ms\tremaining: 2.42s\n",
      "205:\tlearn: 0.4234252\ttotal: 628ms\tremaining: 2.42s\n",
      "206:\tlearn: 0.4230890\ttotal: 630ms\tremaining: 2.41s\n",
      "207:\tlearn: 0.4228245\ttotal: 634ms\tremaining: 2.41s\n",
      "208:\tlearn: 0.4225064\ttotal: 637ms\tremaining: 2.41s\n",
      "209:\tlearn: 0.4222316\ttotal: 639ms\tremaining: 2.4s\n",
      "210:\tlearn: 0.4218541\ttotal: 642ms\tremaining: 2.4s\n",
      "211:\tlearn: 0.4216892\ttotal: 644ms\tremaining: 2.4s\n",
      "212:\tlearn: 0.4213397\ttotal: 648ms\tremaining: 2.39s\n",
      "213:\tlearn: 0.4211650\ttotal: 650ms\tremaining: 2.39s\n",
      "214:\tlearn: 0.4209541\ttotal: 654ms\tremaining: 2.39s\n",
      "215:\tlearn: 0.4207710\ttotal: 656ms\tremaining: 2.38s\n",
      "216:\tlearn: 0.4205054\ttotal: 659ms\tremaining: 2.38s\n",
      "217:\tlearn: 0.4202714\ttotal: 661ms\tremaining: 2.37s\n",
      "218:\tlearn: 0.4201158\ttotal: 663ms\tremaining: 2.36s\n",
      "219:\tlearn: 0.4198537\ttotal: 666ms\tremaining: 2.36s\n",
      "220:\tlearn: 0.4195528\ttotal: 669ms\tremaining: 2.36s\n",
      "221:\tlearn: 0.4193366\ttotal: 672ms\tremaining: 2.36s\n",
      "222:\tlearn: 0.4192439\ttotal: 675ms\tremaining: 2.35s\n",
      "223:\tlearn: 0.4189607\ttotal: 678ms\tremaining: 2.35s\n",
      "224:\tlearn: 0.4186671\ttotal: 681ms\tremaining: 2.35s\n",
      "225:\tlearn: 0.4185384\ttotal: 684ms\tremaining: 2.34s\n",
      "226:\tlearn: 0.4182980\ttotal: 686ms\tremaining: 2.34s\n",
      "227:\tlearn: 0.4181074\ttotal: 689ms\tremaining: 2.33s\n",
      "228:\tlearn: 0.4179123\ttotal: 693ms\tremaining: 2.33s\n",
      "229:\tlearn: 0.4176289\ttotal: 695ms\tremaining: 2.33s\n",
      "230:\tlearn: 0.4175220\ttotal: 699ms\tremaining: 2.33s\n",
      "231:\tlearn: 0.4173726\ttotal: 701ms\tremaining: 2.32s\n",
      "232:\tlearn: 0.4172601\ttotal: 704ms\tremaining: 2.32s\n",
      "233:\tlearn: 0.4170983\ttotal: 707ms\tremaining: 2.31s\n",
      "234:\tlearn: 0.4167532\ttotal: 710ms\tremaining: 2.31s\n",
      "235:\tlearn: 0.4165321\ttotal: 712ms\tremaining: 2.31s\n",
      "236:\tlearn: 0.4162080\ttotal: 716ms\tremaining: 2.3s\n",
      "237:\tlearn: 0.4158442\ttotal: 718ms\tremaining: 2.3s\n",
      "238:\tlearn: 0.4157455\ttotal: 722ms\tremaining: 2.3s\n",
      "239:\tlearn: 0.4155529\ttotal: 725ms\tremaining: 2.29s\n",
      "240:\tlearn: 0.4153545\ttotal: 728ms\tremaining: 2.29s\n",
      "241:\tlearn: 0.4150669\ttotal: 730ms\tremaining: 2.29s\n",
      "242:\tlearn: 0.4148225\ttotal: 733ms\tremaining: 2.28s\n",
      "243:\tlearn: 0.4146008\ttotal: 736ms\tremaining: 2.28s\n",
      "244:\tlearn: 0.4142160\ttotal: 738ms\tremaining: 2.27s\n",
      "245:\tlearn: 0.4140796\ttotal: 741ms\tremaining: 2.27s\n",
      "246:\tlearn: 0.4138852\ttotal: 743ms\tremaining: 2.26s\n",
      "247:\tlearn: 0.4137009\ttotal: 745ms\tremaining: 2.26s\n",
      "248:\tlearn: 0.4134979\ttotal: 748ms\tremaining: 2.25s\n",
      "249:\tlearn: 0.4133362\ttotal: 750ms\tremaining: 2.25s\n",
      "250:\tlearn: 0.4131328\ttotal: 752ms\tremaining: 2.24s\n",
      "251:\tlearn: 0.4128062\ttotal: 754ms\tremaining: 2.24s\n",
      "252:\tlearn: 0.4126086\ttotal: 756ms\tremaining: 2.23s\n",
      "253:\tlearn: 0.4123823\ttotal: 758ms\tremaining: 2.23s\n",
      "254:\tlearn: 0.4121429\ttotal: 761ms\tremaining: 2.22s\n",
      "255:\tlearn: 0.4119962\ttotal: 763ms\tremaining: 2.22s\n",
      "256:\tlearn: 0.4118049\ttotal: 766ms\tremaining: 2.21s\n",
      "257:\tlearn: 0.4116466\ttotal: 768ms\tremaining: 2.21s\n",
      "258:\tlearn: 0.4114394\ttotal: 771ms\tremaining: 2.21s\n",
      "259:\tlearn: 0.4113256\ttotal: 773ms\tremaining: 2.2s\n",
      "260:\tlearn: 0.4111643\ttotal: 775ms\tremaining: 2.19s\n",
      "261:\tlearn: 0.4109527\ttotal: 779ms\tremaining: 2.19s\n",
      "262:\tlearn: 0.4108189\ttotal: 781ms\tremaining: 2.19s\n",
      "263:\tlearn: 0.4106878\ttotal: 783ms\tremaining: 2.18s\n",
      "264:\tlearn: 0.4104453\ttotal: 785ms\tremaining: 2.18s\n",
      "265:\tlearn: 0.4102630\ttotal: 788ms\tremaining: 2.17s\n",
      "266:\tlearn: 0.4100673\ttotal: 790ms\tremaining: 2.17s\n",
      "267:\tlearn: 0.4099242\ttotal: 793ms\tremaining: 2.17s\n",
      "268:\tlearn: 0.4096690\ttotal: 795ms\tremaining: 2.16s\n",
      "269:\tlearn: 0.4094380\ttotal: 798ms\tremaining: 2.16s\n",
      "270:\tlearn: 0.4091944\ttotal: 800ms\tremaining: 2.15s\n",
      "271:\tlearn: 0.4090572\ttotal: 803ms\tremaining: 2.15s\n",
      "272:\tlearn: 0.4090505\ttotal: 804ms\tremaining: 2.14s\n",
      "273:\tlearn: 0.4088590\ttotal: 807ms\tremaining: 2.14s\n",
      "274:\tlearn: 0.4087095\ttotal: 810ms\tremaining: 2.13s\n",
      "275:\tlearn: 0.4084257\ttotal: 812ms\tremaining: 2.13s\n",
      "276:\tlearn: 0.4081736\ttotal: 814ms\tremaining: 2.13s\n",
      "277:\tlearn: 0.4080167\ttotal: 817ms\tremaining: 2.12s\n",
      "278:\tlearn: 0.4078210\ttotal: 819ms\tremaining: 2.12s\n",
      "279:\tlearn: 0.4076223\ttotal: 822ms\tremaining: 2.11s\n",
      "280:\tlearn: 0.4074038\ttotal: 824ms\tremaining: 2.11s\n",
      "281:\tlearn: 0.4072113\ttotal: 826ms\tremaining: 2.1s\n",
      "282:\tlearn: 0.4070366\ttotal: 828ms\tremaining: 2.1s\n",
      "283:\tlearn: 0.4068720\ttotal: 830ms\tremaining: 2.09s\n",
      "284:\tlearn: 0.4066885\ttotal: 832ms\tremaining: 2.09s\n",
      "285:\tlearn: 0.4064120\ttotal: 835ms\tremaining: 2.08s\n",
      "286:\tlearn: 0.4062450\ttotal: 837ms\tremaining: 2.08s\n",
      "287:\tlearn: 0.4060393\ttotal: 840ms\tremaining: 2.08s\n",
      "288:\tlearn: 0.4058802\ttotal: 842ms\tremaining: 2.07s\n",
      "289:\tlearn: 0.4056242\ttotal: 845ms\tremaining: 2.07s\n",
      "290:\tlearn: 0.4054941\ttotal: 847ms\tremaining: 2.06s\n",
      "291:\tlearn: 0.4051799\ttotal: 849ms\tremaining: 2.06s\n",
      "292:\tlearn: 0.4047997\ttotal: 851ms\tremaining: 2.05s\n",
      "293:\tlearn: 0.4046221\ttotal: 854ms\tremaining: 2.05s\n",
      "294:\tlearn: 0.4044178\ttotal: 856ms\tremaining: 2.05s\n",
      "295:\tlearn: 0.4043062\ttotal: 858ms\tremaining: 2.04s\n",
      "296:\tlearn: 0.4039969\ttotal: 861ms\tremaining: 2.04s\n",
      "297:\tlearn: 0.4037613\ttotal: 863ms\tremaining: 2.03s\n",
      "298:\tlearn: 0.4036081\ttotal: 865ms\tremaining: 2.03s\n",
      "299:\tlearn: 0.4034324\ttotal: 867ms\tremaining: 2.02s\n",
      "300:\tlearn: 0.4032478\ttotal: 869ms\tremaining: 2.02s\n",
      "301:\tlearn: 0.4031697\ttotal: 871ms\tremaining: 2.01s\n",
      "302:\tlearn: 0.4030666\ttotal: 874ms\tremaining: 2.01s\n",
      "303:\tlearn: 0.4028263\ttotal: 876ms\tremaining: 2s\n",
      "304:\tlearn: 0.4027927\ttotal: 877ms\tremaining: 2s\n",
      "305:\tlearn: 0.4026504\ttotal: 879ms\tremaining: 1.99s\n",
      "306:\tlearn: 0.4024875\ttotal: 881ms\tremaining: 1.99s\n",
      "307:\tlearn: 0.4021634\ttotal: 884ms\tremaining: 1.99s\n",
      "308:\tlearn: 0.4020826\ttotal: 886ms\tremaining: 1.98s\n",
      "309:\tlearn: 0.4017139\ttotal: 889ms\tremaining: 1.98s\n",
      "310:\tlearn: 0.4014719\ttotal: 894ms\tremaining: 1.98s\n",
      "311:\tlearn: 0.4012688\ttotal: 898ms\tremaining: 1.98s\n",
      "312:\tlearn: 0.4010975\ttotal: 900ms\tremaining: 1.98s\n",
      "313:\tlearn: 0.4008963\ttotal: 902ms\tremaining: 1.97s\n",
      "314:\tlearn: 0.4005898\ttotal: 905ms\tremaining: 1.97s\n",
      "315:\tlearn: 0.4004246\ttotal: 907ms\tremaining: 1.96s\n",
      "316:\tlearn: 0.4002824\ttotal: 910ms\tremaining: 1.96s\n",
      "317:\tlearn: 0.4001344\ttotal: 913ms\tremaining: 1.96s\n",
      "318:\tlearn: 0.3999496\ttotal: 917ms\tremaining: 1.96s\n",
      "319:\tlearn: 0.3997003\ttotal: 921ms\tremaining: 1.96s\n",
      "320:\tlearn: 0.3994330\ttotal: 924ms\tremaining: 1.96s\n",
      "321:\tlearn: 0.3991936\ttotal: 928ms\tremaining: 1.95s\n",
      "322:\tlearn: 0.3989825\ttotal: 932ms\tremaining: 1.95s\n",
      "323:\tlearn: 0.3988029\ttotal: 935ms\tremaining: 1.95s\n",
      "324:\tlearn: 0.3985709\ttotal: 937ms\tremaining: 1.95s\n",
      "325:\tlearn: 0.3983973\ttotal: 939ms\tremaining: 1.94s\n",
      "326:\tlearn: 0.3981022\ttotal: 942ms\tremaining: 1.94s\n",
      "327:\tlearn: 0.3979366\ttotal: 944ms\tremaining: 1.93s\n",
      "328:\tlearn: 0.3976872\ttotal: 947ms\tremaining: 1.93s\n",
      "329:\tlearn: 0.3975055\ttotal: 949ms\tremaining: 1.93s\n",
      "330:\tlearn: 0.3973549\ttotal: 951ms\tremaining: 1.92s\n",
      "331:\tlearn: 0.3972199\ttotal: 954ms\tremaining: 1.92s\n",
      "332:\tlearn: 0.3970198\ttotal: 956ms\tremaining: 1.92s\n",
      "333:\tlearn: 0.3968788\ttotal: 959ms\tremaining: 1.91s\n",
      "334:\tlearn: 0.3967441\ttotal: 961ms\tremaining: 1.91s\n",
      "335:\tlearn: 0.3966543\ttotal: 965ms\tremaining: 1.91s\n",
      "336:\tlearn: 0.3964953\ttotal: 967ms\tremaining: 1.9s\n",
      "337:\tlearn: 0.3962846\ttotal: 970ms\tremaining: 1.9s\n",
      "338:\tlearn: 0.3960581\ttotal: 973ms\tremaining: 1.9s\n",
      "339:\tlearn: 0.3959928\ttotal: 975ms\tremaining: 1.89s\n",
      "340:\tlearn: 0.3957893\ttotal: 977ms\tremaining: 1.89s\n",
      "341:\tlearn: 0.3956495\ttotal: 979ms\tremaining: 1.88s\n",
      "342:\tlearn: 0.3955188\ttotal: 981ms\tremaining: 1.88s\n",
      "343:\tlearn: 0.3952627\ttotal: 983ms\tremaining: 1.88s\n",
      "344:\tlearn: 0.3950720\ttotal: 987ms\tremaining: 1.87s\n",
      "345:\tlearn: 0.3947342\ttotal: 993ms\tremaining: 1.88s\n",
      "346:\tlearn: 0.3945614\ttotal: 997ms\tremaining: 1.88s\n",
      "347:\tlearn: 0.3943944\ttotal: 1s\tremaining: 1.88s\n",
      "348:\tlearn: 0.3942369\ttotal: 1s\tremaining: 1.88s\n",
      "349:\tlearn: 0.3940398\ttotal: 1.01s\tremaining: 1.88s\n",
      "350:\tlearn: 0.3938131\ttotal: 1.01s\tremaining: 1.88s\n",
      "351:\tlearn: 0.3935476\ttotal: 1.02s\tremaining: 1.88s\n",
      "352:\tlearn: 0.3933042\ttotal: 1.02s\tremaining: 1.87s\n",
      "353:\tlearn: 0.3931811\ttotal: 1.03s\tremaining: 1.87s\n",
      "354:\tlearn: 0.3929834\ttotal: 1.03s\tremaining: 1.87s\n",
      "355:\tlearn: 0.3927683\ttotal: 1.03s\tremaining: 1.87s\n",
      "356:\tlearn: 0.3925656\ttotal: 1.04s\tremaining: 1.87s\n",
      "357:\tlearn: 0.3923674\ttotal: 1.04s\tremaining: 1.87s\n",
      "358:\tlearn: 0.3922099\ttotal: 1.04s\tremaining: 1.87s\n",
      "359:\tlearn: 0.3920363\ttotal: 1.05s\tremaining: 1.86s\n",
      "360:\tlearn: 0.3917750\ttotal: 1.05s\tremaining: 1.86s\n",
      "361:\tlearn: 0.3917376\ttotal: 1.05s\tremaining: 1.86s\n",
      "362:\tlearn: 0.3915887\ttotal: 1.06s\tremaining: 1.85s\n",
      "363:\tlearn: 0.3914014\ttotal: 1.06s\tremaining: 1.85s\n",
      "364:\tlearn: 0.3912810\ttotal: 1.06s\tremaining: 1.85s\n",
      "365:\tlearn: 0.3910929\ttotal: 1.06s\tremaining: 1.84s\n",
      "366:\tlearn: 0.3909608\ttotal: 1.07s\tremaining: 1.84s\n",
      "367:\tlearn: 0.3907241\ttotal: 1.07s\tremaining: 1.84s\n",
      "368:\tlearn: 0.3905024\ttotal: 1.07s\tremaining: 1.83s\n",
      "369:\tlearn: 0.3902719\ttotal: 1.08s\tremaining: 1.83s\n",
      "370:\tlearn: 0.3900920\ttotal: 1.08s\tremaining: 1.83s\n",
      "371:\tlearn: 0.3899025\ttotal: 1.08s\tremaining: 1.82s\n",
      "372:\tlearn: 0.3896224\ttotal: 1.08s\tremaining: 1.82s\n",
      "373:\tlearn: 0.3894240\ttotal: 1.08s\tremaining: 1.82s\n",
      "374:\tlearn: 0.3892995\ttotal: 1.09s\tremaining: 1.81s\n",
      "375:\tlearn: 0.3890799\ttotal: 1.09s\tremaining: 1.81s\n",
      "376:\tlearn: 0.3887853\ttotal: 1.09s\tremaining: 1.81s\n",
      "377:\tlearn: 0.3886269\ttotal: 1.1s\tremaining: 1.8s\n",
      "378:\tlearn: 0.3884229\ttotal: 1.1s\tremaining: 1.8s\n",
      "379:\tlearn: 0.3881603\ttotal: 1.1s\tremaining: 1.8s\n",
      "380:\tlearn: 0.3880583\ttotal: 1.1s\tremaining: 1.79s\n",
      "381:\tlearn: 0.3879069\ttotal: 1.11s\tremaining: 1.79s\n",
      "382:\tlearn: 0.3876624\ttotal: 1.11s\tremaining: 1.79s\n",
      "383:\tlearn: 0.3874813\ttotal: 1.11s\tremaining: 1.78s\n",
      "384:\tlearn: 0.3874029\ttotal: 1.11s\tremaining: 1.78s\n",
      "385:\tlearn: 0.3872606\ttotal: 1.11s\tremaining: 1.77s\n",
      "386:\tlearn: 0.3871326\ttotal: 1.12s\tremaining: 1.77s\n",
      "387:\tlearn: 0.3869652\ttotal: 1.12s\tremaining: 1.77s\n",
      "388:\tlearn: 0.3867801\ttotal: 1.12s\tremaining: 1.76s\n",
      "389:\tlearn: 0.3866652\ttotal: 1.12s\tremaining: 1.76s\n",
      "390:\tlearn: 0.3865724\ttotal: 1.13s\tremaining: 1.75s\n",
      "391:\tlearn: 0.3864005\ttotal: 1.13s\tremaining: 1.75s\n",
      "392:\tlearn: 0.3862173\ttotal: 1.13s\tremaining: 1.75s\n",
      "393:\tlearn: 0.3860278\ttotal: 1.13s\tremaining: 1.74s\n",
      "394:\tlearn: 0.3858666\ttotal: 1.13s\tremaining: 1.74s\n",
      "395:\tlearn: 0.3856406\ttotal: 1.14s\tremaining: 1.73s\n",
      "396:\tlearn: 0.3854771\ttotal: 1.14s\tremaining: 1.73s\n",
      "397:\tlearn: 0.3853535\ttotal: 1.14s\tremaining: 1.73s\n",
      "398:\tlearn: 0.3851713\ttotal: 1.14s\tremaining: 1.72s\n",
      "399:\tlearn: 0.3850315\ttotal: 1.15s\tremaining: 1.72s\n",
      "400:\tlearn: 0.3848583\ttotal: 1.15s\tremaining: 1.72s\n",
      "401:\tlearn: 0.3847281\ttotal: 1.15s\tremaining: 1.71s\n",
      "402:\tlearn: 0.3845690\ttotal: 1.15s\tremaining: 1.71s\n",
      "403:\tlearn: 0.3844311\ttotal: 1.15s\tremaining: 1.7s\n",
      "404:\tlearn: 0.3843275\ttotal: 1.16s\tremaining: 1.7s\n",
      "405:\tlearn: 0.3841812\ttotal: 1.16s\tremaining: 1.7s\n",
      "406:\tlearn: 0.3839935\ttotal: 1.16s\tremaining: 1.69s\n",
      "407:\tlearn: 0.3838125\ttotal: 1.16s\tremaining: 1.69s\n",
      "408:\tlearn: 0.3836185\ttotal: 1.17s\tremaining: 1.69s\n",
      "409:\tlearn: 0.3833886\ttotal: 1.17s\tremaining: 1.68s\n",
      "410:\tlearn: 0.3831824\ttotal: 1.17s\tremaining: 1.68s\n",
      "411:\tlearn: 0.3830699\ttotal: 1.17s\tremaining: 1.68s\n",
      "412:\tlearn: 0.3829245\ttotal: 1.18s\tremaining: 1.67s\n",
      "413:\tlearn: 0.3827509\ttotal: 1.18s\tremaining: 1.67s\n",
      "414:\tlearn: 0.3825332\ttotal: 1.18s\tremaining: 1.67s\n",
      "415:\tlearn: 0.3823566\ttotal: 1.18s\tremaining: 1.66s\n",
      "416:\tlearn: 0.3821406\ttotal: 1.19s\tremaining: 1.66s\n",
      "417:\tlearn: 0.3819463\ttotal: 1.19s\tremaining: 1.66s\n",
      "418:\tlearn: 0.3817961\ttotal: 1.19s\tremaining: 1.65s\n",
      "419:\tlearn: 0.3815781\ttotal: 1.19s\tremaining: 1.65s\n",
      "420:\tlearn: 0.3813526\ttotal: 1.2s\tremaining: 1.64s\n",
      "421:\tlearn: 0.3811760\ttotal: 1.2s\tremaining: 1.64s\n",
      "422:\tlearn: 0.3810589\ttotal: 1.2s\tremaining: 1.64s\n",
      "423:\tlearn: 0.3808525\ttotal: 1.2s\tremaining: 1.63s\n",
      "424:\tlearn: 0.3806803\ttotal: 1.21s\tremaining: 1.63s\n",
      "425:\tlearn: 0.3804867\ttotal: 1.21s\tremaining: 1.63s\n",
      "426:\tlearn: 0.3803479\ttotal: 1.21s\tremaining: 1.62s\n",
      "427:\tlearn: 0.3801890\ttotal: 1.21s\tremaining: 1.62s\n",
      "428:\tlearn: 0.3800047\ttotal: 1.21s\tremaining: 1.61s\n",
      "429:\tlearn: 0.3798343\ttotal: 1.22s\tremaining: 1.61s\n",
      "430:\tlearn: 0.3797028\ttotal: 1.22s\tremaining: 1.61s\n",
      "431:\tlearn: 0.3795230\ttotal: 1.22s\tremaining: 1.6s\n",
      "432:\tlearn: 0.3794141\ttotal: 1.22s\tremaining: 1.6s\n",
      "433:\tlearn: 0.3792692\ttotal: 1.22s\tremaining: 1.6s\n",
      "434:\tlearn: 0.3791156\ttotal: 1.23s\tremaining: 1.59s\n",
      "435:\tlearn: 0.3789558\ttotal: 1.23s\tremaining: 1.59s\n",
      "436:\tlearn: 0.3788157\ttotal: 1.23s\tremaining: 1.58s\n",
      "437:\tlearn: 0.3786767\ttotal: 1.23s\tremaining: 1.58s\n",
      "438:\tlearn: 0.3785170\ttotal: 1.23s\tremaining: 1.58s\n",
      "439:\tlearn: 0.3783712\ttotal: 1.24s\tremaining: 1.57s\n",
      "440:\tlearn: 0.3781494\ttotal: 1.24s\tremaining: 1.57s\n",
      "441:\tlearn: 0.3780025\ttotal: 1.24s\tremaining: 1.56s\n",
      "442:\tlearn: 0.3778560\ttotal: 1.24s\tremaining: 1.56s\n",
      "443:\tlearn: 0.3776687\ttotal: 1.24s\tremaining: 1.56s\n",
      "444:\tlearn: 0.3775165\ttotal: 1.25s\tremaining: 1.55s\n",
      "445:\tlearn: 0.3773317\ttotal: 1.25s\tremaining: 1.55s\n",
      "446:\tlearn: 0.3771874\ttotal: 1.25s\tremaining: 1.55s\n",
      "447:\tlearn: 0.3770799\ttotal: 1.25s\tremaining: 1.54s\n",
      "448:\tlearn: 0.3769201\ttotal: 1.25s\tremaining: 1.54s\n",
      "449:\tlearn: 0.3767939\ttotal: 1.26s\tremaining: 1.54s\n",
      "450:\tlearn: 0.3766447\ttotal: 1.26s\tremaining: 1.53s\n",
      "451:\tlearn: 0.3764639\ttotal: 1.26s\tremaining: 1.53s\n",
      "452:\tlearn: 0.3763217\ttotal: 1.26s\tremaining: 1.53s\n",
      "453:\tlearn: 0.3761671\ttotal: 1.27s\tremaining: 1.52s\n",
      "454:\tlearn: 0.3758754\ttotal: 1.27s\tremaining: 1.52s\n",
      "455:\tlearn: 0.3757234\ttotal: 1.27s\tremaining: 1.52s\n",
      "456:\tlearn: 0.3755973\ttotal: 1.27s\tremaining: 1.51s\n",
      "457:\tlearn: 0.3754558\ttotal: 1.28s\tremaining: 1.51s\n",
      "458:\tlearn: 0.3753633\ttotal: 1.28s\tremaining: 1.51s\n",
      "459:\tlearn: 0.3752879\ttotal: 1.28s\tremaining: 1.5s\n",
      "460:\tlearn: 0.3750724\ttotal: 1.28s\tremaining: 1.5s\n",
      "461:\tlearn: 0.3749096\ttotal: 1.29s\tremaining: 1.5s\n",
      "462:\tlearn: 0.3747942\ttotal: 1.29s\tremaining: 1.49s\n",
      "463:\tlearn: 0.3745472\ttotal: 1.29s\tremaining: 1.49s\n",
      "464:\tlearn: 0.3742471\ttotal: 1.29s\tremaining: 1.49s\n",
      "465:\tlearn: 0.3741350\ttotal: 1.3s\tremaining: 1.49s\n",
      "466:\tlearn: 0.3740041\ttotal: 1.3s\tremaining: 1.48s\n",
      "467:\tlearn: 0.3738015\ttotal: 1.3s\tremaining: 1.48s\n",
      "468:\tlearn: 0.3735931\ttotal: 1.3s\tremaining: 1.48s\n",
      "469:\tlearn: 0.3734633\ttotal: 1.31s\tremaining: 1.47s\n",
      "470:\tlearn: 0.3733496\ttotal: 1.31s\tremaining: 1.47s\n",
      "471:\tlearn: 0.3731560\ttotal: 1.31s\tremaining: 1.47s\n",
      "472:\tlearn: 0.3728859\ttotal: 1.31s\tremaining: 1.46s\n",
      "473:\tlearn: 0.3727780\ttotal: 1.31s\tremaining: 1.46s\n",
      "474:\tlearn: 0.3726664\ttotal: 1.32s\tremaining: 1.46s\n",
      "475:\tlearn: 0.3725822\ttotal: 1.32s\tremaining: 1.45s\n",
      "476:\tlearn: 0.3724644\ttotal: 1.32s\tremaining: 1.45s\n",
      "477:\tlearn: 0.3723498\ttotal: 1.32s\tremaining: 1.45s\n",
      "478:\tlearn: 0.3721579\ttotal: 1.32s\tremaining: 1.44s\n",
      "479:\tlearn: 0.3719834\ttotal: 1.33s\tremaining: 1.44s\n",
      "480:\tlearn: 0.3718271\ttotal: 1.33s\tremaining: 1.44s\n",
      "481:\tlearn: 0.3717105\ttotal: 1.33s\tremaining: 1.43s\n",
      "482:\tlearn: 0.3715865\ttotal: 1.33s\tremaining: 1.43s\n",
      "483:\tlearn: 0.3714114\ttotal: 1.34s\tremaining: 1.43s\n",
      "484:\tlearn: 0.3712575\ttotal: 1.34s\tremaining: 1.42s\n",
      "485:\tlearn: 0.3711538\ttotal: 1.34s\tremaining: 1.42s\n",
      "486:\tlearn: 0.3710768\ttotal: 1.34s\tremaining: 1.42s\n",
      "487:\tlearn: 0.3709305\ttotal: 1.34s\tremaining: 1.41s\n",
      "488:\tlearn: 0.3707377\ttotal: 1.35s\tremaining: 1.41s\n",
      "489:\tlearn: 0.3706279\ttotal: 1.35s\tremaining: 1.41s\n",
      "490:\tlearn: 0.3705411\ttotal: 1.35s\tremaining: 1.4s\n",
      "491:\tlearn: 0.3703642\ttotal: 1.35s\tremaining: 1.4s\n",
      "492:\tlearn: 0.3702102\ttotal: 1.36s\tremaining: 1.4s\n",
      "493:\tlearn: 0.3701014\ttotal: 1.36s\tremaining: 1.39s\n",
      "494:\tlearn: 0.3699328\ttotal: 1.36s\tremaining: 1.39s\n",
      "495:\tlearn: 0.3697404\ttotal: 1.36s\tremaining: 1.39s\n",
      "496:\tlearn: 0.3695817\ttotal: 1.37s\tremaining: 1.38s\n",
      "497:\tlearn: 0.3695128\ttotal: 1.37s\tremaining: 1.38s\n",
      "498:\tlearn: 0.3693592\ttotal: 1.37s\tremaining: 1.38s\n",
      "499:\tlearn: 0.3692405\ttotal: 1.37s\tremaining: 1.37s\n",
      "500:\tlearn: 0.3690898\ttotal: 1.38s\tremaining: 1.37s\n",
      "501:\tlearn: 0.3689867\ttotal: 1.38s\tremaining: 1.37s\n",
      "502:\tlearn: 0.3688458\ttotal: 1.38s\tremaining: 1.36s\n",
      "503:\tlearn: 0.3685883\ttotal: 1.38s\tremaining: 1.36s\n",
      "504:\tlearn: 0.3684046\ttotal: 1.39s\tremaining: 1.36s\n",
      "505:\tlearn: 0.3682464\ttotal: 1.39s\tremaining: 1.35s\n",
      "506:\tlearn: 0.3681045\ttotal: 1.39s\tremaining: 1.35s\n",
      "507:\tlearn: 0.3679452\ttotal: 1.39s\tremaining: 1.35s\n",
      "508:\tlearn: 0.3676922\ttotal: 1.39s\tremaining: 1.34s\n",
      "509:\tlearn: 0.3675088\ttotal: 1.4s\tremaining: 1.34s\n",
      "510:\tlearn: 0.3673604\ttotal: 1.4s\tremaining: 1.34s\n",
      "511:\tlearn: 0.3671498\ttotal: 1.4s\tremaining: 1.33s\n",
      "512:\tlearn: 0.3670097\ttotal: 1.4s\tremaining: 1.33s\n",
      "513:\tlearn: 0.3669141\ttotal: 1.41s\tremaining: 1.33s\n",
      "514:\tlearn: 0.3667077\ttotal: 1.41s\tremaining: 1.33s\n",
      "515:\tlearn: 0.3665943\ttotal: 1.41s\tremaining: 1.32s\n",
      "516:\tlearn: 0.3664666\ttotal: 1.42s\tremaining: 1.32s\n",
      "517:\tlearn: 0.3662964\ttotal: 1.42s\tremaining: 1.32s\n",
      "518:\tlearn: 0.3661854\ttotal: 1.42s\tremaining: 1.32s\n",
      "519:\tlearn: 0.3660705\ttotal: 1.42s\tremaining: 1.31s\n",
      "520:\tlearn: 0.3658651\ttotal: 1.43s\tremaining: 1.31s\n",
      "521:\tlearn: 0.3657307\ttotal: 1.43s\tremaining: 1.31s\n",
      "522:\tlearn: 0.3655052\ttotal: 1.43s\tremaining: 1.3s\n",
      "523:\tlearn: 0.3653705\ttotal: 1.43s\tremaining: 1.3s\n",
      "524:\tlearn: 0.3652294\ttotal: 1.43s\tremaining: 1.3s\n",
      "525:\tlearn: 0.3650264\ttotal: 1.44s\tremaining: 1.29s\n",
      "526:\tlearn: 0.3648552\ttotal: 1.44s\tremaining: 1.29s\n",
      "527:\tlearn: 0.3646785\ttotal: 1.44s\tremaining: 1.29s\n",
      "528:\tlearn: 0.3646130\ttotal: 1.45s\tremaining: 1.29s\n",
      "529:\tlearn: 0.3644210\ttotal: 1.45s\tremaining: 1.29s\n",
      "530:\tlearn: 0.3642475\ttotal: 1.46s\tremaining: 1.28s\n",
      "531:\tlearn: 0.3640950\ttotal: 1.46s\tremaining: 1.28s\n",
      "532:\tlearn: 0.3639192\ttotal: 1.46s\tremaining: 1.28s\n",
      "533:\tlearn: 0.3637671\ttotal: 1.46s\tremaining: 1.28s\n",
      "534:\tlearn: 0.3635932\ttotal: 1.47s\tremaining: 1.27s\n",
      "535:\tlearn: 0.3634400\ttotal: 1.47s\tremaining: 1.27s\n",
      "536:\tlearn: 0.3633183\ttotal: 1.47s\tremaining: 1.27s\n",
      "537:\tlearn: 0.3631855\ttotal: 1.47s\tremaining: 1.26s\n",
      "538:\tlearn: 0.3630897\ttotal: 1.47s\tremaining: 1.26s\n",
      "539:\tlearn: 0.3629440\ttotal: 1.48s\tremaining: 1.26s\n",
      "540:\tlearn: 0.3628559\ttotal: 1.48s\tremaining: 1.25s\n",
      "541:\tlearn: 0.3626788\ttotal: 1.48s\tremaining: 1.25s\n",
      "542:\tlearn: 0.3625649\ttotal: 1.48s\tremaining: 1.25s\n",
      "543:\tlearn: 0.3624725\ttotal: 1.48s\tremaining: 1.24s\n",
      "544:\tlearn: 0.3623143\ttotal: 1.49s\tremaining: 1.24s\n",
      "545:\tlearn: 0.3621682\ttotal: 1.49s\tremaining: 1.24s\n",
      "546:\tlearn: 0.3619962\ttotal: 1.49s\tremaining: 1.24s\n",
      "547:\tlearn: 0.3618959\ttotal: 1.49s\tremaining: 1.23s\n",
      "548:\tlearn: 0.3617539\ttotal: 1.5s\tremaining: 1.23s\n",
      "549:\tlearn: 0.3616790\ttotal: 1.5s\tremaining: 1.23s\n",
      "550:\tlearn: 0.3615608\ttotal: 1.5s\tremaining: 1.22s\n",
      "551:\tlearn: 0.3613575\ttotal: 1.5s\tremaining: 1.22s\n",
      "552:\tlearn: 0.3612715\ttotal: 1.5s\tremaining: 1.22s\n",
      "553:\tlearn: 0.3611717\ttotal: 1.51s\tremaining: 1.21s\n",
      "554:\tlearn: 0.3610845\ttotal: 1.51s\tremaining: 1.21s\n",
      "555:\tlearn: 0.3609750\ttotal: 1.51s\tremaining: 1.21s\n",
      "556:\tlearn: 0.3608555\ttotal: 1.51s\tremaining: 1.2s\n",
      "557:\tlearn: 0.3607367\ttotal: 1.51s\tremaining: 1.2s\n",
      "558:\tlearn: 0.3606165\ttotal: 1.52s\tremaining: 1.2s\n",
      "559:\tlearn: 0.3605095\ttotal: 1.52s\tremaining: 1.19s\n",
      "560:\tlearn: 0.3603675\ttotal: 1.52s\tremaining: 1.19s\n",
      "561:\tlearn: 0.3602495\ttotal: 1.52s\tremaining: 1.19s\n",
      "562:\tlearn: 0.3601207\ttotal: 1.52s\tremaining: 1.18s\n",
      "563:\tlearn: 0.3599258\ttotal: 1.53s\tremaining: 1.18s\n",
      "564:\tlearn: 0.3597792\ttotal: 1.53s\tremaining: 1.18s\n",
      "565:\tlearn: 0.3596564\ttotal: 1.53s\tremaining: 1.17s\n",
      "566:\tlearn: 0.3594762\ttotal: 1.53s\tremaining: 1.17s\n",
      "567:\tlearn: 0.3593667\ttotal: 1.53s\tremaining: 1.17s\n",
      "568:\tlearn: 0.3592288\ttotal: 1.54s\tremaining: 1.16s\n",
      "569:\tlearn: 0.3590590\ttotal: 1.54s\tremaining: 1.16s\n",
      "570:\tlearn: 0.3589058\ttotal: 1.54s\tremaining: 1.16s\n",
      "571:\tlearn: 0.3588139\ttotal: 1.54s\tremaining: 1.16s\n",
      "572:\tlearn: 0.3587166\ttotal: 1.55s\tremaining: 1.15s\n",
      "573:\tlearn: 0.3585575\ttotal: 1.55s\tremaining: 1.15s\n",
      "574:\tlearn: 0.3584117\ttotal: 1.55s\tremaining: 1.15s\n",
      "575:\tlearn: 0.3582904\ttotal: 1.55s\tremaining: 1.14s\n",
      "576:\tlearn: 0.3580607\ttotal: 1.55s\tremaining: 1.14s\n",
      "577:\tlearn: 0.3579077\ttotal: 1.56s\tremaining: 1.14s\n",
      "578:\tlearn: 0.3577942\ttotal: 1.56s\tremaining: 1.13s\n",
      "579:\tlearn: 0.3576720\ttotal: 1.56s\tremaining: 1.13s\n",
      "580:\tlearn: 0.3574776\ttotal: 1.56s\tremaining: 1.13s\n",
      "581:\tlearn: 0.3573277\ttotal: 1.56s\tremaining: 1.12s\n",
      "582:\tlearn: 0.3572495\ttotal: 1.57s\tremaining: 1.12s\n",
      "583:\tlearn: 0.3571313\ttotal: 1.57s\tremaining: 1.12s\n",
      "584:\tlearn: 0.3569509\ttotal: 1.57s\tremaining: 1.11s\n",
      "585:\tlearn: 0.3568420\ttotal: 1.57s\tremaining: 1.11s\n",
      "586:\tlearn: 0.3566829\ttotal: 1.57s\tremaining: 1.11s\n",
      "587:\tlearn: 0.3565764\ttotal: 1.58s\tremaining: 1.1s\n",
      "588:\tlearn: 0.3564637\ttotal: 1.58s\tremaining: 1.1s\n",
      "589:\tlearn: 0.3562952\ttotal: 1.58s\tremaining: 1.1s\n",
      "590:\tlearn: 0.3561390\ttotal: 1.58s\tremaining: 1.09s\n",
      "591:\tlearn: 0.3560231\ttotal: 1.58s\tremaining: 1.09s\n",
      "592:\tlearn: 0.3558923\ttotal: 1.59s\tremaining: 1.09s\n",
      "593:\tlearn: 0.3557966\ttotal: 1.59s\tremaining: 1.09s\n",
      "594:\tlearn: 0.3557239\ttotal: 1.59s\tremaining: 1.08s\n",
      "595:\tlearn: 0.3555670\ttotal: 1.59s\tremaining: 1.08s\n",
      "596:\tlearn: 0.3554063\ttotal: 1.59s\tremaining: 1.08s\n",
      "597:\tlearn: 0.3552913\ttotal: 1.6s\tremaining: 1.07s\n",
      "598:\tlearn: 0.3552007\ttotal: 1.6s\tremaining: 1.07s\n",
      "599:\tlearn: 0.3551095\ttotal: 1.6s\tremaining: 1.07s\n",
      "600:\tlearn: 0.3549759\ttotal: 1.6s\tremaining: 1.06s\n",
      "601:\tlearn: 0.3548833\ttotal: 1.6s\tremaining: 1.06s\n",
      "602:\tlearn: 0.3546962\ttotal: 1.61s\tremaining: 1.06s\n",
      "603:\tlearn: 0.3546076\ttotal: 1.61s\tremaining: 1.05s\n",
      "604:\tlearn: 0.3544623\ttotal: 1.61s\tremaining: 1.05s\n",
      "605:\tlearn: 0.3543958\ttotal: 1.61s\tremaining: 1.05s\n",
      "606:\tlearn: 0.3541718\ttotal: 1.61s\tremaining: 1.04s\n",
      "607:\tlearn: 0.3539944\ttotal: 1.62s\tremaining: 1.04s\n",
      "608:\tlearn: 0.3538457\ttotal: 1.62s\tremaining: 1.04s\n",
      "609:\tlearn: 0.3536995\ttotal: 1.62s\tremaining: 1.04s\n",
      "610:\tlearn: 0.3535152\ttotal: 1.62s\tremaining: 1.03s\n",
      "611:\tlearn: 0.3533408\ttotal: 1.63s\tremaining: 1.03s\n",
      "612:\tlearn: 0.3532157\ttotal: 1.63s\tremaining: 1.03s\n",
      "613:\tlearn: 0.3531069\ttotal: 1.63s\tremaining: 1.02s\n",
      "614:\tlearn: 0.3529560\ttotal: 1.63s\tremaining: 1.02s\n",
      "615:\tlearn: 0.3528924\ttotal: 1.64s\tremaining: 1.02s\n",
      "616:\tlearn: 0.3527140\ttotal: 1.64s\tremaining: 1.02s\n",
      "617:\tlearn: 0.3525826\ttotal: 1.64s\tremaining: 1.01s\n",
      "618:\tlearn: 0.3524066\ttotal: 1.64s\tremaining: 1.01s\n",
      "619:\tlearn: 0.3522624\ttotal: 1.64s\tremaining: 1.01s\n",
      "620:\tlearn: 0.3521243\ttotal: 1.65s\tremaining: 1s\n",
      "621:\tlearn: 0.3519660\ttotal: 1.65s\tremaining: 1s\n",
      "622:\tlearn: 0.3517961\ttotal: 1.65s\tremaining: 998ms\n",
      "623:\tlearn: 0.3517335\ttotal: 1.65s\tremaining: 995ms\n",
      "624:\tlearn: 0.3515870\ttotal: 1.65s\tremaining: 992ms\n",
      "625:\tlearn: 0.3514227\ttotal: 1.66s\tremaining: 989ms\n",
      "626:\tlearn: 0.3513236\ttotal: 1.66s\tremaining: 986ms\n",
      "627:\tlearn: 0.3511751\ttotal: 1.66s\tremaining: 983ms\n",
      "628:\tlearn: 0.3510692\ttotal: 1.66s\tremaining: 980ms\n",
      "629:\tlearn: 0.3509276\ttotal: 1.66s\tremaining: 977ms\n",
      "630:\tlearn: 0.3508437\ttotal: 1.67s\tremaining: 974ms\n",
      "631:\tlearn: 0.3507261\ttotal: 1.67s\tremaining: 971ms\n",
      "632:\tlearn: 0.3505994\ttotal: 1.67s\tremaining: 969ms\n",
      "633:\tlearn: 0.3505149\ttotal: 1.67s\tremaining: 966ms\n",
      "634:\tlearn: 0.3504114\ttotal: 1.67s\tremaining: 963ms\n",
      "635:\tlearn: 0.3502833\ttotal: 1.68s\tremaining: 960ms\n",
      "636:\tlearn: 0.3500956\ttotal: 1.68s\tremaining: 957ms\n",
      "637:\tlearn: 0.3499562\ttotal: 1.68s\tremaining: 954ms\n",
      "638:\tlearn: 0.3498050\ttotal: 1.69s\tremaining: 952ms\n",
      "639:\tlearn: 0.3496963\ttotal: 1.69s\tremaining: 949ms\n",
      "640:\tlearn: 0.3495699\ttotal: 1.69s\tremaining: 946ms\n",
      "641:\tlearn: 0.3494492\ttotal: 1.69s\tremaining: 943ms\n",
      "642:\tlearn: 0.3492792\ttotal: 1.69s\tremaining: 940ms\n",
      "643:\tlearn: 0.3491642\ttotal: 1.7s\tremaining: 938ms\n",
      "644:\tlearn: 0.3489611\ttotal: 1.7s\tremaining: 935ms\n",
      "645:\tlearn: 0.3488146\ttotal: 1.7s\tremaining: 932ms\n",
      "646:\tlearn: 0.3486444\ttotal: 1.7s\tremaining: 930ms\n",
      "647:\tlearn: 0.3484418\ttotal: 1.71s\tremaining: 927ms\n",
      "648:\tlearn: 0.3482730\ttotal: 1.71s\tremaining: 924ms\n",
      "649:\tlearn: 0.3480897\ttotal: 1.71s\tremaining: 922ms\n",
      "650:\tlearn: 0.3480051\ttotal: 1.71s\tremaining: 919ms\n",
      "651:\tlearn: 0.3478340\ttotal: 1.72s\tremaining: 916ms\n",
      "652:\tlearn: 0.3476964\ttotal: 1.72s\tremaining: 913ms\n",
      "653:\tlearn: 0.3475561\ttotal: 1.72s\tremaining: 911ms\n",
      "654:\tlearn: 0.3474498\ttotal: 1.72s\tremaining: 908ms\n",
      "655:\tlearn: 0.3473061\ttotal: 1.73s\tremaining: 905ms\n",
      "656:\tlearn: 0.3471654\ttotal: 1.73s\tremaining: 902ms\n",
      "657:\tlearn: 0.3470445\ttotal: 1.73s\tremaining: 899ms\n",
      "658:\tlearn: 0.3468696\ttotal: 1.73s\tremaining: 896ms\n",
      "659:\tlearn: 0.3467848\ttotal: 1.73s\tremaining: 894ms\n",
      "660:\tlearn: 0.3466532\ttotal: 1.74s\tremaining: 891ms\n",
      "661:\tlearn: 0.3464946\ttotal: 1.74s\tremaining: 889ms\n",
      "662:\tlearn: 0.3463841\ttotal: 1.74s\tremaining: 887ms\n",
      "663:\tlearn: 0.3462556\ttotal: 1.75s\tremaining: 884ms\n",
      "664:\tlearn: 0.3461642\ttotal: 1.75s\tremaining: 881ms\n",
      "665:\tlearn: 0.3460240\ttotal: 1.75s\tremaining: 878ms\n",
      "666:\tlearn: 0.3459444\ttotal: 1.75s\tremaining: 875ms\n",
      "667:\tlearn: 0.3457885\ttotal: 1.75s\tremaining: 872ms\n",
      "668:\tlearn: 0.3455628\ttotal: 1.76s\tremaining: 869ms\n",
      "669:\tlearn: 0.3454675\ttotal: 1.76s\tremaining: 866ms\n",
      "670:\tlearn: 0.3453330\ttotal: 1.76s\tremaining: 863ms\n",
      "671:\tlearn: 0.3451852\ttotal: 1.76s\tremaining: 860ms\n",
      "672:\tlearn: 0.3449951\ttotal: 1.76s\tremaining: 857ms\n",
      "673:\tlearn: 0.3448836\ttotal: 1.77s\tremaining: 854ms\n",
      "674:\tlearn: 0.3447789\ttotal: 1.77s\tremaining: 852ms\n",
      "675:\tlearn: 0.3446082\ttotal: 1.77s\tremaining: 849ms\n",
      "676:\tlearn: 0.3444868\ttotal: 1.77s\tremaining: 846ms\n",
      "677:\tlearn: 0.3443602\ttotal: 1.77s\tremaining: 843ms\n",
      "678:\tlearn: 0.3442941\ttotal: 1.78s\tremaining: 840ms\n",
      "679:\tlearn: 0.3442463\ttotal: 1.78s\tremaining: 837ms\n",
      "680:\tlearn: 0.3441665\ttotal: 1.78s\tremaining: 835ms\n",
      "681:\tlearn: 0.3439796\ttotal: 1.78s\tremaining: 832ms\n",
      "682:\tlearn: 0.3438482\ttotal: 1.79s\tremaining: 829ms\n",
      "683:\tlearn: 0.3436702\ttotal: 1.79s\tremaining: 827ms\n",
      "684:\tlearn: 0.3435292\ttotal: 1.79s\tremaining: 824ms\n",
      "685:\tlearn: 0.3434003\ttotal: 1.79s\tremaining: 822ms\n",
      "686:\tlearn: 0.3432976\ttotal: 1.8s\tremaining: 819ms\n",
      "687:\tlearn: 0.3431684\ttotal: 1.8s\tremaining: 817ms\n",
      "688:\tlearn: 0.3430542\ttotal: 1.8s\tremaining: 814ms\n",
      "689:\tlearn: 0.3429437\ttotal: 1.81s\tremaining: 812ms\n",
      "690:\tlearn: 0.3427961\ttotal: 1.81s\tremaining: 809ms\n",
      "691:\tlearn: 0.3426285\ttotal: 1.81s\tremaining: 806ms\n",
      "692:\tlearn: 0.3424657\ttotal: 1.81s\tremaining: 803ms\n",
      "693:\tlearn: 0.3422975\ttotal: 1.81s\tremaining: 800ms\n",
      "694:\tlearn: 0.3421159\ttotal: 1.82s\tremaining: 798ms\n",
      "695:\tlearn: 0.3420624\ttotal: 1.82s\tremaining: 795ms\n",
      "696:\tlearn: 0.3419413\ttotal: 1.82s\tremaining: 792ms\n",
      "697:\tlearn: 0.3418505\ttotal: 1.82s\tremaining: 790ms\n",
      "698:\tlearn: 0.3417320\ttotal: 1.83s\tremaining: 787ms\n",
      "699:\tlearn: 0.3416151\ttotal: 1.83s\tremaining: 784ms\n",
      "700:\tlearn: 0.3414897\ttotal: 1.83s\tremaining: 782ms\n",
      "701:\tlearn: 0.3413353\ttotal: 1.83s\tremaining: 779ms\n",
      "702:\tlearn: 0.3411981\ttotal: 1.84s\tremaining: 776ms\n",
      "703:\tlearn: 0.3410812\ttotal: 1.84s\tremaining: 773ms\n",
      "704:\tlearn: 0.3409807\ttotal: 1.84s\tremaining: 771ms\n",
      "705:\tlearn: 0.3408392\ttotal: 1.84s\tremaining: 768ms\n",
      "706:\tlearn: 0.3407196\ttotal: 1.84s\tremaining: 765ms\n",
      "707:\tlearn: 0.3405504\ttotal: 1.85s\tremaining: 762ms\n",
      "708:\tlearn: 0.3404318\ttotal: 1.85s\tremaining: 759ms\n",
      "709:\tlearn: 0.3402994\ttotal: 1.85s\tremaining: 757ms\n",
      "710:\tlearn: 0.3402450\ttotal: 1.85s\tremaining: 754ms\n",
      "711:\tlearn: 0.3401057\ttotal: 1.86s\tremaining: 751ms\n",
      "712:\tlearn: 0.3399046\ttotal: 1.86s\tremaining: 748ms\n",
      "713:\tlearn: 0.3398194\ttotal: 1.86s\tremaining: 746ms\n",
      "714:\tlearn: 0.3396980\ttotal: 1.86s\tremaining: 743ms\n",
      "715:\tlearn: 0.3396220\ttotal: 1.86s\tremaining: 740ms\n",
      "716:\tlearn: 0.3395001\ttotal: 1.87s\tremaining: 737ms\n",
      "717:\tlearn: 0.3394619\ttotal: 1.87s\tremaining: 735ms\n",
      "718:\tlearn: 0.3393614\ttotal: 1.87s\tremaining: 732ms\n",
      "719:\tlearn: 0.3392661\ttotal: 1.87s\tremaining: 729ms\n",
      "720:\tlearn: 0.3391374\ttotal: 1.88s\tremaining: 726ms\n",
      "721:\tlearn: 0.3390018\ttotal: 1.88s\tremaining: 724ms\n",
      "722:\tlearn: 0.3389301\ttotal: 1.88s\tremaining: 721ms\n",
      "723:\tlearn: 0.3387682\ttotal: 1.88s\tremaining: 718ms\n",
      "724:\tlearn: 0.3386586\ttotal: 1.89s\tremaining: 715ms\n",
      "725:\tlearn: 0.3384638\ttotal: 1.89s\tremaining: 713ms\n",
      "726:\tlearn: 0.3382317\ttotal: 1.89s\tremaining: 710ms\n",
      "727:\tlearn: 0.3381299\ttotal: 1.89s\tremaining: 708ms\n",
      "728:\tlearn: 0.3380425\ttotal: 1.9s\tremaining: 706ms\n",
      "729:\tlearn: 0.3379008\ttotal: 1.9s\tremaining: 703ms\n",
      "730:\tlearn: 0.3377602\ttotal: 1.9s\tremaining: 700ms\n",
      "731:\tlearn: 0.3376554\ttotal: 1.91s\tremaining: 698ms\n",
      "732:\tlearn: 0.3375248\ttotal: 1.91s\tremaining: 695ms\n",
      "733:\tlearn: 0.3373893\ttotal: 1.91s\tremaining: 692ms\n",
      "734:\tlearn: 0.3373046\ttotal: 1.91s\tremaining: 690ms\n",
      "735:\tlearn: 0.3372434\ttotal: 1.92s\tremaining: 687ms\n",
      "736:\tlearn: 0.3371752\ttotal: 1.92s\tremaining: 684ms\n",
      "737:\tlearn: 0.3370646\ttotal: 1.92s\tremaining: 682ms\n",
      "738:\tlearn: 0.3368455\ttotal: 1.92s\tremaining: 679ms\n",
      "739:\tlearn: 0.3367600\ttotal: 1.92s\tremaining: 676ms\n",
      "740:\tlearn: 0.3367096\ttotal: 1.93s\tremaining: 674ms\n",
      "741:\tlearn: 0.3365236\ttotal: 1.93s\tremaining: 671ms\n",
      "742:\tlearn: 0.3363668\ttotal: 1.93s\tremaining: 669ms\n",
      "743:\tlearn: 0.3362920\ttotal: 1.94s\tremaining: 666ms\n",
      "744:\tlearn: 0.3362304\ttotal: 1.94s\tremaining: 664ms\n",
      "745:\tlearn: 0.3361909\ttotal: 1.94s\tremaining: 661ms\n",
      "746:\tlearn: 0.3361022\ttotal: 1.94s\tremaining: 658ms\n",
      "747:\tlearn: 0.3360491\ttotal: 1.95s\tremaining: 656ms\n",
      "748:\tlearn: 0.3359268\ttotal: 1.95s\tremaining: 653ms\n",
      "749:\tlearn: 0.3358231\ttotal: 1.95s\tremaining: 650ms\n",
      "750:\tlearn: 0.3357130\ttotal: 1.95s\tremaining: 648ms\n",
      "751:\tlearn: 0.3355899\ttotal: 1.96s\tremaining: 645ms\n",
      "752:\tlearn: 0.3354792\ttotal: 1.96s\tremaining: 642ms\n",
      "753:\tlearn: 0.3354322\ttotal: 1.96s\tremaining: 640ms\n",
      "754:\tlearn: 0.3352525\ttotal: 1.96s\tremaining: 637ms\n",
      "755:\tlearn: 0.3351954\ttotal: 1.97s\tremaining: 635ms\n",
      "756:\tlearn: 0.3351159\ttotal: 1.97s\tremaining: 632ms\n",
      "757:\tlearn: 0.3350074\ttotal: 1.97s\tremaining: 629ms\n",
      "758:\tlearn: 0.3349011\ttotal: 1.97s\tremaining: 627ms\n",
      "759:\tlearn: 0.3348244\ttotal: 1.98s\tremaining: 624ms\n",
      "760:\tlearn: 0.3347423\ttotal: 1.98s\tremaining: 621ms\n",
      "761:\tlearn: 0.3346132\ttotal: 1.98s\tremaining: 619ms\n",
      "762:\tlearn: 0.3344441\ttotal: 1.98s\tremaining: 616ms\n",
      "763:\tlearn: 0.3343308\ttotal: 1.99s\tremaining: 614ms\n",
      "764:\tlearn: 0.3341887\ttotal: 1.99s\tremaining: 611ms\n",
      "765:\tlearn: 0.3340998\ttotal: 1.99s\tremaining: 608ms\n",
      "766:\tlearn: 0.3339973\ttotal: 1.99s\tremaining: 606ms\n",
      "767:\tlearn: 0.3339047\ttotal: 2s\tremaining: 603ms\n",
      "768:\tlearn: 0.3338275\ttotal: 2s\tremaining: 601ms\n",
      "769:\tlearn: 0.3336828\ttotal: 2s\tremaining: 598ms\n",
      "770:\tlearn: 0.3335489\ttotal: 2s\tremaining: 595ms\n",
      "771:\tlearn: 0.3334738\ttotal: 2.01s\tremaining: 593ms\n",
      "772:\tlearn: 0.3333896\ttotal: 2.01s\tremaining: 591ms\n",
      "773:\tlearn: 0.3332510\ttotal: 2.01s\tremaining: 588ms\n",
      "774:\tlearn: 0.3331556\ttotal: 2.02s\tremaining: 586ms\n",
      "775:\tlearn: 0.3330158\ttotal: 2.02s\tremaining: 583ms\n",
      "776:\tlearn: 0.3329311\ttotal: 2.02s\tremaining: 581ms\n",
      "777:\tlearn: 0.3328001\ttotal: 2.02s\tremaining: 578ms\n",
      "778:\tlearn: 0.3326968\ttotal: 2.03s\tremaining: 575ms\n",
      "779:\tlearn: 0.3325256\ttotal: 2.03s\tremaining: 573ms\n",
      "780:\tlearn: 0.3323457\ttotal: 2.03s\tremaining: 570ms\n",
      "781:\tlearn: 0.3322278\ttotal: 2.04s\tremaining: 567ms\n",
      "782:\tlearn: 0.3320342\ttotal: 2.04s\tremaining: 565ms\n",
      "783:\tlearn: 0.3318675\ttotal: 2.04s\tremaining: 562ms\n",
      "784:\tlearn: 0.3317586\ttotal: 2.04s\tremaining: 559ms\n",
      "785:\tlearn: 0.3317152\ttotal: 2.05s\tremaining: 557ms\n",
      "786:\tlearn: 0.3315931\ttotal: 2.05s\tremaining: 554ms\n",
      "787:\tlearn: 0.3315167\ttotal: 2.05s\tremaining: 551ms\n",
      "788:\tlearn: 0.3314317\ttotal: 2.05s\tremaining: 549ms\n",
      "789:\tlearn: 0.3313327\ttotal: 2.06s\tremaining: 546ms\n",
      "790:\tlearn: 0.3312438\ttotal: 2.06s\tremaining: 544ms\n",
      "791:\tlearn: 0.3310959\ttotal: 2.06s\tremaining: 541ms\n",
      "792:\tlearn: 0.3310514\ttotal: 2.06s\tremaining: 538ms\n",
      "793:\tlearn: 0.3309592\ttotal: 2.06s\tremaining: 536ms\n",
      "794:\tlearn: 0.3308733\ttotal: 2.07s\tremaining: 533ms\n",
      "795:\tlearn: 0.3308004\ttotal: 2.07s\tremaining: 530ms\n",
      "796:\tlearn: 0.3307510\ttotal: 2.07s\tremaining: 528ms\n",
      "797:\tlearn: 0.3306389\ttotal: 2.07s\tremaining: 525ms\n",
      "798:\tlearn: 0.3304728\ttotal: 2.08s\tremaining: 522ms\n",
      "799:\tlearn: 0.3304116\ttotal: 2.08s\tremaining: 520ms\n",
      "800:\tlearn: 0.3302508\ttotal: 2.08s\tremaining: 517ms\n",
      "801:\tlearn: 0.3300888\ttotal: 2.08s\tremaining: 514ms\n",
      "802:\tlearn: 0.3299876\ttotal: 2.08s\tremaining: 512ms\n",
      "803:\tlearn: 0.3298863\ttotal: 2.09s\tremaining: 509ms\n",
      "804:\tlearn: 0.3298072\ttotal: 2.09s\tremaining: 506ms\n",
      "805:\tlearn: 0.3297131\ttotal: 2.09s\tremaining: 504ms\n",
      "806:\tlearn: 0.3296410\ttotal: 2.09s\tremaining: 501ms\n",
      "807:\tlearn: 0.3295142\ttotal: 2.1s\tremaining: 498ms\n",
      "808:\tlearn: 0.3294220\ttotal: 2.1s\tremaining: 496ms\n",
      "809:\tlearn: 0.3292979\ttotal: 2.1s\tremaining: 493ms\n",
      "810:\tlearn: 0.3292505\ttotal: 2.1s\tremaining: 490ms\n",
      "811:\tlearn: 0.3290658\ttotal: 2.1s\tremaining: 488ms\n",
      "812:\tlearn: 0.3289403\ttotal: 2.11s\tremaining: 485ms\n",
      "813:\tlearn: 0.3288522\ttotal: 2.11s\tremaining: 482ms\n",
      "814:\tlearn: 0.3287648\ttotal: 2.11s\tremaining: 479ms\n",
      "815:\tlearn: 0.3286184\ttotal: 2.12s\tremaining: 477ms\n",
      "816:\tlearn: 0.3284659\ttotal: 2.12s\tremaining: 474ms\n",
      "817:\tlearn: 0.3283135\ttotal: 2.12s\tremaining: 472ms\n",
      "818:\tlearn: 0.3281938\ttotal: 2.12s\tremaining: 469ms\n",
      "819:\tlearn: 0.3280833\ttotal: 2.12s\tremaining: 466ms\n",
      "820:\tlearn: 0.3280002\ttotal: 2.13s\tremaining: 464ms\n",
      "821:\tlearn: 0.3278346\ttotal: 2.13s\tremaining: 461ms\n",
      "822:\tlearn: 0.3277619\ttotal: 2.13s\tremaining: 458ms\n",
      "823:\tlearn: 0.3276762\ttotal: 2.13s\tremaining: 456ms\n",
      "824:\tlearn: 0.3275078\ttotal: 2.14s\tremaining: 453ms\n",
      "825:\tlearn: 0.3273932\ttotal: 2.14s\tremaining: 451ms\n",
      "826:\tlearn: 0.3273049\ttotal: 2.14s\tremaining: 448ms\n",
      "827:\tlearn: 0.3272209\ttotal: 2.15s\tremaining: 446ms\n",
      "828:\tlearn: 0.3271329\ttotal: 2.15s\tremaining: 443ms\n",
      "829:\tlearn: 0.3270257\ttotal: 2.15s\tremaining: 440ms\n",
      "830:\tlearn: 0.3269491\ttotal: 2.15s\tremaining: 438ms\n",
      "831:\tlearn: 0.3268155\ttotal: 2.15s\tremaining: 435ms\n",
      "832:\tlearn: 0.3267289\ttotal: 2.16s\tremaining: 432ms\n",
      "833:\tlearn: 0.3266051\ttotal: 2.16s\tremaining: 430ms\n",
      "834:\tlearn: 0.3265668\ttotal: 2.16s\tremaining: 427ms\n",
      "835:\tlearn: 0.3264656\ttotal: 2.17s\tremaining: 425ms\n",
      "836:\tlearn: 0.3263660\ttotal: 2.17s\tremaining: 422ms\n",
      "837:\tlearn: 0.3262720\ttotal: 2.17s\tremaining: 419ms\n",
      "838:\tlearn: 0.3262229\ttotal: 2.17s\tremaining: 417ms\n",
      "839:\tlearn: 0.3261033\ttotal: 2.17s\tremaining: 414ms\n",
      "840:\tlearn: 0.3259514\ttotal: 2.18s\tremaining: 412ms\n",
      "841:\tlearn: 0.3258521\ttotal: 2.18s\tremaining: 409ms\n",
      "842:\tlearn: 0.3257160\ttotal: 2.18s\tremaining: 406ms\n",
      "843:\tlearn: 0.3256272\ttotal: 2.19s\tremaining: 404ms\n",
      "844:\tlearn: 0.3255339\ttotal: 2.19s\tremaining: 401ms\n",
      "845:\tlearn: 0.3254490\ttotal: 2.19s\tremaining: 399ms\n",
      "846:\tlearn: 0.3253288\ttotal: 2.19s\tremaining: 396ms\n",
      "847:\tlearn: 0.3251911\ttotal: 2.19s\tremaining: 393ms\n",
      "848:\tlearn: 0.3251358\ttotal: 2.2s\tremaining: 391ms\n",
      "849:\tlearn: 0.3250393\ttotal: 2.2s\tremaining: 388ms\n",
      "850:\tlearn: 0.3249041\ttotal: 2.2s\tremaining: 386ms\n",
      "851:\tlearn: 0.3248011\ttotal: 2.21s\tremaining: 383ms\n",
      "852:\tlearn: 0.3246886\ttotal: 2.21s\tremaining: 380ms\n",
      "853:\tlearn: 0.3245672\ttotal: 2.21s\tremaining: 378ms\n",
      "854:\tlearn: 0.3244111\ttotal: 2.21s\tremaining: 375ms\n",
      "855:\tlearn: 0.3243249\ttotal: 2.22s\tremaining: 373ms\n",
      "856:\tlearn: 0.3242094\ttotal: 2.22s\tremaining: 370ms\n",
      "857:\tlearn: 0.3241427\ttotal: 2.22s\tremaining: 368ms\n",
      "858:\tlearn: 0.3240276\ttotal: 2.22s\tremaining: 365ms\n",
      "859:\tlearn: 0.3239459\ttotal: 2.23s\tremaining: 362ms\n",
      "860:\tlearn: 0.3238788\ttotal: 2.23s\tremaining: 360ms\n",
      "861:\tlearn: 0.3237830\ttotal: 2.23s\tremaining: 357ms\n",
      "862:\tlearn: 0.3236807\ttotal: 2.23s\tremaining: 354ms\n",
      "863:\tlearn: 0.3235320\ttotal: 2.23s\tremaining: 352ms\n",
      "864:\tlearn: 0.3234233\ttotal: 2.24s\tremaining: 349ms\n",
      "865:\tlearn: 0.3232705\ttotal: 2.24s\tremaining: 347ms\n",
      "866:\tlearn: 0.3231444\ttotal: 2.24s\tremaining: 344ms\n",
      "867:\tlearn: 0.3230434\ttotal: 2.24s\tremaining: 341ms\n",
      "868:\tlearn: 0.3229175\ttotal: 2.25s\tremaining: 339ms\n",
      "869:\tlearn: 0.3227837\ttotal: 2.25s\tremaining: 336ms\n",
      "870:\tlearn: 0.3226787\ttotal: 2.25s\tremaining: 333ms\n",
      "871:\tlearn: 0.3225608\ttotal: 2.26s\tremaining: 331ms\n",
      "872:\tlearn: 0.3225070\ttotal: 2.26s\tremaining: 329ms\n",
      "873:\tlearn: 0.3224010\ttotal: 2.26s\tremaining: 326ms\n",
      "874:\tlearn: 0.3222833\ttotal: 2.26s\tremaining: 323ms\n",
      "875:\tlearn: 0.3222265\ttotal: 2.27s\tremaining: 321ms\n",
      "876:\tlearn: 0.3220868\ttotal: 2.27s\tremaining: 318ms\n",
      "877:\tlearn: 0.3219655\ttotal: 2.27s\tremaining: 316ms\n",
      "878:\tlearn: 0.3218635\ttotal: 2.27s\tremaining: 313ms\n",
      "879:\tlearn: 0.3218236\ttotal: 2.28s\tremaining: 311ms\n",
      "880:\tlearn: 0.3217699\ttotal: 2.28s\tremaining: 308ms\n",
      "881:\tlearn: 0.3216900\ttotal: 2.28s\tremaining: 306ms\n",
      "882:\tlearn: 0.3215273\ttotal: 2.29s\tremaining: 303ms\n",
      "883:\tlearn: 0.3214998\ttotal: 2.29s\tremaining: 300ms\n",
      "884:\tlearn: 0.3214293\ttotal: 2.29s\tremaining: 298ms\n",
      "885:\tlearn: 0.3213605\ttotal: 2.29s\tremaining: 295ms\n",
      "886:\tlearn: 0.3213063\ttotal: 2.3s\tremaining: 293ms\n",
      "887:\tlearn: 0.3211820\ttotal: 2.3s\tremaining: 290ms\n",
      "888:\tlearn: 0.3210871\ttotal: 2.3s\tremaining: 287ms\n",
      "889:\tlearn: 0.3210089\ttotal: 2.3s\tremaining: 285ms\n",
      "890:\tlearn: 0.3209331\ttotal: 2.31s\tremaining: 282ms\n",
      "891:\tlearn: 0.3208211\ttotal: 2.31s\tremaining: 280ms\n",
      "892:\tlearn: 0.3206978\ttotal: 2.31s\tremaining: 277ms\n",
      "893:\tlearn: 0.3206176\ttotal: 2.31s\tremaining: 275ms\n",
      "894:\tlearn: 0.3205239\ttotal: 2.32s\tremaining: 272ms\n",
      "895:\tlearn: 0.3204272\ttotal: 2.32s\tremaining: 269ms\n",
      "896:\tlearn: 0.3203446\ttotal: 2.32s\tremaining: 267ms\n",
      "897:\tlearn: 0.3202277\ttotal: 2.33s\tremaining: 265ms\n",
      "898:\tlearn: 0.3201441\ttotal: 2.34s\tremaining: 263ms\n",
      "899:\tlearn: 0.3201017\ttotal: 2.34s\tremaining: 260ms\n",
      "900:\tlearn: 0.3199154\ttotal: 2.34s\tremaining: 258ms\n",
      "901:\tlearn: 0.3198516\ttotal: 2.35s\tremaining: 255ms\n",
      "902:\tlearn: 0.3197263\ttotal: 2.35s\tremaining: 252ms\n",
      "903:\tlearn: 0.3196577\ttotal: 2.35s\tremaining: 250ms\n",
      "904:\tlearn: 0.3195380\ttotal: 2.35s\tremaining: 247ms\n",
      "905:\tlearn: 0.3194618\ttotal: 2.36s\tremaining: 245ms\n",
      "906:\tlearn: 0.3193909\ttotal: 2.36s\tremaining: 242ms\n",
      "907:\tlearn: 0.3193061\ttotal: 2.37s\tremaining: 240ms\n",
      "908:\tlearn: 0.3192117\ttotal: 2.37s\tremaining: 237ms\n",
      "909:\tlearn: 0.3190957\ttotal: 2.37s\tremaining: 234ms\n",
      "910:\tlearn: 0.3190228\ttotal: 2.37s\tremaining: 232ms\n",
      "911:\tlearn: 0.3189485\ttotal: 2.38s\tremaining: 229ms\n",
      "912:\tlearn: 0.3188458\ttotal: 2.38s\tremaining: 227ms\n",
      "913:\tlearn: 0.3186484\ttotal: 2.38s\tremaining: 224ms\n",
      "914:\tlearn: 0.3185622\ttotal: 2.38s\tremaining: 222ms\n",
      "915:\tlearn: 0.3184280\ttotal: 2.39s\tremaining: 219ms\n",
      "916:\tlearn: 0.3182938\ttotal: 2.39s\tremaining: 216ms\n",
      "917:\tlearn: 0.3181925\ttotal: 2.39s\tremaining: 214ms\n",
      "918:\tlearn: 0.3180840\ttotal: 2.4s\tremaining: 211ms\n",
      "919:\tlearn: 0.3179502\ttotal: 2.4s\tremaining: 209ms\n",
      "920:\tlearn: 0.3178632\ttotal: 2.4s\tremaining: 206ms\n",
      "921:\tlearn: 0.3177669\ttotal: 2.4s\tremaining: 203ms\n",
      "922:\tlearn: 0.3176441\ttotal: 2.4s\tremaining: 201ms\n",
      "923:\tlearn: 0.3175592\ttotal: 2.41s\tremaining: 198ms\n",
      "924:\tlearn: 0.3174608\ttotal: 2.41s\tremaining: 195ms\n",
      "925:\tlearn: 0.3173786\ttotal: 2.41s\tremaining: 193ms\n",
      "926:\tlearn: 0.3172876\ttotal: 2.41s\tremaining: 190ms\n",
      "927:\tlearn: 0.3171963\ttotal: 2.42s\tremaining: 187ms\n",
      "928:\tlearn: 0.3170990\ttotal: 2.42s\tremaining: 185ms\n",
      "929:\tlearn: 0.3169823\ttotal: 2.42s\tremaining: 182ms\n",
      "930:\tlearn: 0.3168585\ttotal: 2.42s\tremaining: 180ms\n",
      "931:\tlearn: 0.3168020\ttotal: 2.42s\tremaining: 177ms\n",
      "932:\tlearn: 0.3166961\ttotal: 2.42s\tremaining: 174ms\n",
      "933:\tlearn: 0.3165828\ttotal: 2.43s\tremaining: 172ms\n",
      "934:\tlearn: 0.3164872\ttotal: 2.43s\tremaining: 169ms\n",
      "935:\tlearn: 0.3164192\ttotal: 2.43s\tremaining: 166ms\n",
      "936:\tlearn: 0.3163111\ttotal: 2.43s\tremaining: 164ms\n",
      "937:\tlearn: 0.3162322\ttotal: 2.44s\tremaining: 161ms\n",
      "938:\tlearn: 0.3161556\ttotal: 2.44s\tremaining: 158ms\n",
      "939:\tlearn: 0.3160674\ttotal: 2.44s\tremaining: 156ms\n",
      "940:\tlearn: 0.3159943\ttotal: 2.44s\tremaining: 153ms\n",
      "941:\tlearn: 0.3158315\ttotal: 2.44s\tremaining: 150ms\n",
      "942:\tlearn: 0.3157680\ttotal: 2.44s\tremaining: 148ms\n",
      "943:\tlearn: 0.3156544\ttotal: 2.45s\tremaining: 145ms\n",
      "944:\tlearn: 0.3154816\ttotal: 2.45s\tremaining: 143ms\n",
      "945:\tlearn: 0.3154225\ttotal: 2.45s\tremaining: 140ms\n",
      "946:\tlearn: 0.3153087\ttotal: 2.45s\tremaining: 137ms\n",
      "947:\tlearn: 0.3152451\ttotal: 2.46s\tremaining: 135ms\n",
      "948:\tlearn: 0.3151945\ttotal: 2.46s\tremaining: 132ms\n",
      "949:\tlearn: 0.3151050\ttotal: 2.46s\tremaining: 129ms\n",
      "950:\tlearn: 0.3150433\ttotal: 2.46s\tremaining: 127ms\n",
      "951:\tlearn: 0.3149919\ttotal: 2.46s\tremaining: 124ms\n",
      "952:\tlearn: 0.3148820\ttotal: 2.46s\tremaining: 122ms\n",
      "953:\tlearn: 0.3148041\ttotal: 2.47s\tremaining: 119ms\n",
      "954:\tlearn: 0.3147411\ttotal: 2.47s\tremaining: 116ms\n",
      "955:\tlearn: 0.3146651\ttotal: 2.47s\tremaining: 114ms\n",
      "956:\tlearn: 0.3145962\ttotal: 2.47s\tremaining: 111ms\n",
      "957:\tlearn: 0.3144837\ttotal: 2.48s\tremaining: 109ms\n",
      "958:\tlearn: 0.3143592\ttotal: 2.48s\tremaining: 106ms\n",
      "959:\tlearn: 0.3142677\ttotal: 2.48s\tremaining: 103ms\n",
      "960:\tlearn: 0.3141967\ttotal: 2.48s\tremaining: 101ms\n",
      "961:\tlearn: 0.3141071\ttotal: 2.48s\tremaining: 98.1ms\n",
      "962:\tlearn: 0.3140597\ttotal: 2.48s\tremaining: 95.5ms\n",
      "963:\tlearn: 0.3139365\ttotal: 2.49s\tremaining: 92.8ms\n",
      "964:\tlearn: 0.3138587\ttotal: 2.49s\tremaining: 90.2ms\n",
      "965:\tlearn: 0.3136712\ttotal: 2.49s\tremaining: 87.7ms\n",
      "966:\tlearn: 0.3135746\ttotal: 2.49s\tremaining: 85.1ms\n",
      "967:\tlearn: 0.3134615\ttotal: 2.5s\tremaining: 82.5ms\n",
      "968:\tlearn: 0.3133700\ttotal: 2.5s\tremaining: 79.9ms\n",
      "969:\tlearn: 0.3133400\ttotal: 2.5s\tremaining: 77.3ms\n",
      "970:\tlearn: 0.3132738\ttotal: 2.5s\tremaining: 74.7ms\n",
      "971:\tlearn: 0.3131910\ttotal: 2.5s\tremaining: 72.1ms\n",
      "972:\tlearn: 0.3131445\ttotal: 2.5s\tremaining: 69.5ms\n",
      "973:\tlearn: 0.3130659\ttotal: 2.51s\tremaining: 66.9ms\n",
      "974:\tlearn: 0.3129515\ttotal: 2.51s\tremaining: 64.4ms\n",
      "975:\tlearn: 0.3128627\ttotal: 2.51s\tremaining: 61.8ms\n",
      "976:\tlearn: 0.3127582\ttotal: 2.51s\tremaining: 59.2ms\n",
      "977:\tlearn: 0.3126862\ttotal: 2.52s\tremaining: 56.6ms\n",
      "978:\tlearn: 0.3125858\ttotal: 2.52s\tremaining: 54ms\n",
      "979:\tlearn: 0.3125289\ttotal: 2.52s\tremaining: 51.4ms\n",
      "980:\tlearn: 0.3124754\ttotal: 2.52s\tremaining: 48.8ms\n",
      "981:\tlearn: 0.3123426\ttotal: 2.52s\tremaining: 46.3ms\n",
      "982:\tlearn: 0.3122519\ttotal: 2.52s\tremaining: 43.7ms\n",
      "983:\tlearn: 0.3121998\ttotal: 2.53s\tremaining: 41.1ms\n",
      "984:\tlearn: 0.3121251\ttotal: 2.53s\tremaining: 38.5ms\n",
      "985:\tlearn: 0.3120462\ttotal: 2.53s\tremaining: 35.9ms\n",
      "986:\tlearn: 0.3119117\ttotal: 2.53s\tremaining: 33.4ms\n",
      "987:\tlearn: 0.3118471\ttotal: 2.54s\tremaining: 30.8ms\n",
      "988:\tlearn: 0.3117798\ttotal: 2.54s\tremaining: 28.2ms\n",
      "989:\tlearn: 0.3116830\ttotal: 2.54s\tremaining: 25.7ms\n",
      "990:\tlearn: 0.3116094\ttotal: 2.54s\tremaining: 23.1ms\n",
      "991:\tlearn: 0.3115109\ttotal: 2.54s\tremaining: 20.5ms\n",
      "992:\tlearn: 0.3113628\ttotal: 2.55s\tremaining: 18ms\n",
      "993:\tlearn: 0.3112739\ttotal: 2.55s\tremaining: 15.4ms\n",
      "994:\tlearn: 0.3112126\ttotal: 2.55s\tremaining: 12.8ms\n",
      "995:\tlearn: 0.3110636\ttotal: 2.55s\tremaining: 10.3ms\n",
      "996:\tlearn: 0.3110226\ttotal: 2.55s\tremaining: 7.69ms\n",
      "997:\tlearn: 0.3108964\ttotal: 2.56s\tremaining: 5.12ms\n",
      "998:\tlearn: 0.3107291\ttotal: 2.56s\tremaining: 2.56ms\n",
      "999:\tlearn: 0.3106777\ttotal: 2.56s\tremaining: 0us\n",
      "              precision    recall  f1-score   support\n",
      "\n",
      "           0       0.89      0.77      0.83      1039\n",
      "           1       0.80      0.90      0.85      1027\n",
      "\n",
      "    accuracy                           0.84      2066\n",
      "   macro avg       0.84      0.84      0.84      2066\n",
      "weighted avg       0.84      0.84      0.84      2066\n",
      "\n",
      "[[805 234]\n",
      " [103 924]]\n",
      "CatBoost method of Boosting gives an accuracy of 83.688%\n"
     ]
    }
   ],
   "source": [
    "import catboost as ctb\n",
    "model_ctb = ctb.CatBoostClassifier()\n",
    "model_ctb.fit(x_train, y_train)\n",
    "expected_y = y_test \n",
    "predicted_y = model_ctb.predict(x_test)\n",
    "from sklearn import metrics\n",
    "print(metrics.classification_report(expected_y, predicted_y))\n",
    "print(metrics.confusion_matrix(expected_y, predicted_y))\n",
    "print(f\"CatBoost method of Boosting gives an accuracy of {round(metrics.accuracy_score(expected_y, predicted_y)*100,3)}%\")"
   ]
  },
  {
   "cell_type": "markdown",
   "metadata": {},
   "source": [
    "<b> 3.2 Light Gradient Boost Machine"
   ]
  },
  {
   "cell_type": "code",
   "execution_count": 59,
   "metadata": {},
   "outputs": [
    {
     "name": "stdout",
     "output_type": "stream",
     "text": [
      "LGBM method of Boosting gives an accuracy of 82.962%\n"
     ]
    }
   ],
   "source": [
    "import lightgbm as lgb\n",
    "clf = lgb.LGBMClassifier()\n",
    "clf.fit(x_train, y_train)\n",
    "y_pred = clf.predict(x_test)\n",
    "print(f\"LGBM method of Boosting gives an accuracy of {round(metrics.accuracy_score(y_test, y_pred)*100,3)}%\")"
   ]
  },
  {
   "cell_type": "markdown",
   "metadata": {},
   "source": [
    "<b> 3.3 AdaBoost"
   ]
  },
  {
   "cell_type": "code",
   "execution_count": 60,
   "metadata": {},
   "outputs": [
    {
     "name": "stdout",
     "output_type": "stream",
     "text": [
      "AdaBoost method of Boosting gives an accuracy of 76.137%\n"
     ]
    }
   ],
   "source": [
    "# AdaBoost\n",
    "from sklearn.ensemble import AdaBoostClassifier\n",
    "clf = AdaBoostClassifier(n_estimators=100, random_state=0)\n",
    "clf.fit(x_train, y_train)\n",
    "y_pred_5 = clf.predict(x_test)\n",
    "print(f\"AdaBoost method of Boosting gives an accuracy of {round(metrics.accuracy_score(y_test, y_pred_5)*100,3)}%\")"
   ]
  },
  {
   "cell_type": "markdown",
   "metadata": {},
   "source": [
    "<b> 3.4 Gradient Boost Machine"
   ]
  },
  {
   "cell_type": "code",
   "execution_count": 88,
   "metadata": {},
   "outputs": [
    {
     "name": "stdout",
     "output_type": "stream",
     "text": [
      "AdaBoost method of Boosting gives an accuracy of 75.944%\n"
     ]
    }
   ],
   "source": [
    "from sklearn.ensemble import GradientBoostingClassifier\n",
    "model= GradientBoostingClassifier(learning_rate=0.01,random_state=1)\n",
    "model.fit(x_train, y_train)\n",
    "print(f\"AdaBoost method of Boosting gives an accuracy of {round(model.score(x_test,y_test)*100,3)}%\")"
   ]
  },
  {
   "cell_type": "markdown",
   "metadata": {},
   "source": [
    "## Improvements using GridSearchCV"
   ]
  },
  {
   "cell_type": "markdown",
   "metadata": {},
   "source": [
    "<b> Logistic Regression using GridSearchCV"
   ]
  },
  {
   "cell_type": "code",
   "execution_count": 89,
   "metadata": {},
   "outputs": [
    {
     "name": "stdout",
     "output_type": "stream",
     "text": [
      "Accuracy : 0.7605326876513316\n"
     ]
    }
   ],
   "source": [
    "from sklearn.model_selection import GridSearchCV\n",
    "logreg = LogisticRegression()\n",
    "parameters = {\n",
    "    'penalty' : ['l1','l2'], \n",
    "    'C'       : np.logspace(-3,3,7),\n",
    "    'solver'  : ['newton-cg', 'lbfgs', 'liblinear'],\n",
    "}\n",
    "clf = GridSearchCV(logreg,                    # model\n",
    "                   param_grid = parameters,   # hyperparameters\n",
    "                   scoring='accuracy',        # metric for scoring\n",
    "                   cv=10)                     # number of folds\n",
    "clf.fit(x_train,y_train)\n",
    "print(\"Accuracy :\",clf.best_score_)        "
   ]
  },
  {
   "cell_type": "code",
   "execution_count": 61,
   "metadata": {},
   "outputs": [],
   "source": [
    "from sklearn.model_selection import GridSearchCV\n",
    "min_split = np.array([2, 3, 4, 5, 6, 7])\n",
    "max_nvl = np.array([3, 4, 5, 6, 7, 9, 11])\n",
    "alg = ['entropy', 'gini']\n",
    "values_grid = {'min_samples_split': min_split, 'max_depth': max_nvl, 'criterion': alg}"
   ]
  },
  {
   "cell_type": "code",
   "execution_count": 62,
   "metadata": {},
   "outputs": [],
   "source": [
    "model = tree.DecisionTreeClassifier()"
   ]
  },
  {
   "cell_type": "code",
   "execution_count": 63,
   "metadata": {},
   "outputs": [],
   "source": [
    "gridDecisionTree = GridSearchCV(estimator = model, param_grid = values_grid, cv = 5)"
   ]
  },
  {
   "cell_type": "code",
   "execution_count": 64,
   "metadata": {},
   "outputs": [
    {
     "data": {
      "text/plain": [
       "GridSearchCV(cv=5, estimator=DecisionTreeClassifier(),\n",
       "             param_grid={'criterion': ['entropy', 'gini'],\n",
       "                         'max_depth': array([ 3,  4,  5,  6,  7,  9, 11]),\n",
       "                         'min_samples_split': array([2, 3, 4, 5, 6, 7])})"
      ]
     },
     "execution_count": 64,
     "metadata": {},
     "output_type": "execute_result"
    }
   ],
   "source": [
    "gridDecisionTree = GridSearchCV(estimator = model, param_grid = values_grid, cv = 5)\n",
    "gridDecisionTree.fit(x_train, y_train)"
   ]
  },
  {
   "cell_type": "code",
   "execution_count": 65,
   "metadata": {},
   "outputs": [
    {
     "name": "stdout",
     "output_type": "stream",
     "text": [
      "Mín Split:  3\n",
      "Max Nvl:  11\n",
      "Algorithm:  gini\n",
      "Score:  0.8010895883777239\n"
     ]
    }
   ],
   "source": [
    "print('Mín Split: ', gridDecisionTree.best_estimator_.min_samples_split)\n",
    "print('Max Nvl: ', gridDecisionTree.best_estimator_.max_depth)\n",
    "print('Algorithm: ', gridDecisionTree.best_estimator_.criterion)\n",
    "print('Score: ', gridDecisionTree.best_score_)"
   ]
  },
  {
   "cell_type": "markdown",
   "metadata": {},
   "source": [
    "<b> Random Forest using Grid Search CV"
   ]
  },
  {
   "cell_type": "code",
   "execution_count": 66,
   "metadata": {},
   "outputs": [],
   "source": [
    "from sklearn.ensemble import RandomForestClassifier"
   ]
  },
  {
   "cell_type": "code",
   "execution_count": 67,
   "metadata": {},
   "outputs": [],
   "source": [
    "n_estimators = np.array([100])\n",
    "alg = ['entropy', 'gini']\n",
    "values_grid = {'n_estimators': n_estimators, 'criterion': alg}"
   ]
  },
  {
   "cell_type": "code",
   "execution_count": 68,
   "metadata": {},
   "outputs": [],
   "source": [
    "model = RandomForestClassifier()"
   ]
  },
  {
   "cell_type": "code",
   "execution_count": 69,
   "metadata": {},
   "outputs": [],
   "source": [
    "gridRandomForest = GridSearchCV(estimator = model, param_grid = values_grid, cv = 5)"
   ]
  },
  {
   "cell_type": "code",
   "execution_count": 70,
   "metadata": {},
   "outputs": [
    {
     "data": {
      "text/plain": [
       "GridSearchCV(cv=5, estimator=RandomForestClassifier(),\n",
       "             param_grid={'criterion': ['entropy', 'gini'],\n",
       "                         'n_estimators': array([100])})"
      ]
     },
     "execution_count": 70,
     "metadata": {},
     "output_type": "execute_result"
    }
   ],
   "source": [
    "gridRandomForest.fit(x_train, y_train)"
   ]
  },
  {
   "cell_type": "code",
   "execution_count": 71,
   "metadata": {},
   "outputs": [
    {
     "name": "stdout",
     "output_type": "stream",
     "text": [
      "Algorithm:  entropy\n",
      "Score:  0.8753026634382566\n"
     ]
    }
   ],
   "source": [
    "print('Algorithm: ', gridRandomForest.best_estimator_.criterion)\n",
    "print('Score: ', gridRandomForest.best_score_)"
   ]
  },
  {
   "cell_type": "code",
   "execution_count": 72,
   "metadata": {},
   "outputs": [],
   "source": [
    "random_forest = RandomForestClassifier(n_estimators = 100, criterion = 'gini', random_state = 0)"
   ]
  },
  {
   "cell_type": "code",
   "execution_count": 73,
   "metadata": {},
   "outputs": [
    {
     "data": {
      "text/plain": [
       "RandomForestClassifier(random_state=0)"
      ]
     },
     "execution_count": 73,
     "metadata": {},
     "output_type": "execute_result"
    }
   ],
   "source": [
    "random_forest.fit(x_train, y_train)"
   ]
  },
  {
   "cell_type": "code",
   "execution_count": 74,
   "metadata": {},
   "outputs": [],
   "source": [
    "previsoes = random_forest.predict(x_test)"
   ]
  },
  {
   "cell_type": "code",
   "execution_count": 75,
   "metadata": {},
   "outputs": [
    {
     "data": {
      "text/plain": [
       "0.8930300096805421"
      ]
     },
     "execution_count": 75,
     "metadata": {},
     "output_type": "execute_result"
    },
    {
     "data": {
      "image/png": "[encoded data removed]",
      "text/plain": [
       "<Figure size 576x396 with 1 Axes>"
      ]
     },
     "metadata": {},
     "output_type": "display_data"
    }
   ],
   "source": [
    "from yellowbrick.classifier import ConfusionMatrix\n",
    "cm = ConfusionMatrix(random_forest)\n",
    "cm.fit(x_train, y_train)\n",
    "cm.score(x_test, y_test)"
   ]
  },
  {
   "cell_type": "markdown",
   "metadata": {},
   "source": [
    "<b> AutoKeras"
   ]
  },
  {
   "cell_type": "code",
   "execution_count": 77,
   "metadata": {},
   "outputs": [
    {
     "name": "stderr",
     "output_type": "stream",
     "text": [
      "2023-01-01 16:46:37.754360: I tensorflow/core/platform/cpu_feature_guard.cc:193] This TensorFlow binary is optimized with oneAPI Deep Neural Network Library (oneDNN) to use the following CPU instructions in performance-critical operations:  AVX2 FMA\n",
      "To enable them in other operations, rebuild TensorFlow with the appropriate compiler flags.\n",
      "2023-01-01 16:46:40.819375: W tensorflow/stream_executor/platform/default/dso_loader.cc:64] Could not load dynamic library 'libcudart.so.11.0'; dlerror: libcudart.so.11.0: cannot open shared object file: No such file or directory\n",
      "2023-01-01 16:46:40.819439: I tensorflow/stream_executor/cuda/cudart_stub.cc:29] Ignore above cudart dlerror if you do not have a GPU set up on your machine.\n",
      "2023-01-01 16:46:41.139225: E tensorflow/stream_executor/cuda/cuda_blas.cc:2981] Unable to register cuBLAS factory: Attempting to register factory for plugin cuBLAS when one has already been registered\n",
      "2023-01-01 16:47:00.073587: W tensorflow/stream_executor/platform/default/dso_loader.cc:64] Could not load dynamic library 'libnvinfer.so.7'; dlerror: libnvinfer.so.7: cannot open shared object file: No such file or directory\n",
      "2023-01-01 16:47:00.075032: W tensorflow/stream_executor/platform/default/dso_loader.cc:64] Could not load dynamic library 'libnvinfer_plugin.so.7'; dlerror: libnvinfer_plugin.so.7: cannot open shared object file: No such file or directory\n",
      "2023-01-01 16:47:00.075085: W tensorflow/compiler/tf2tensorrt/utils/py_utils.cc:38] TF-TRT Warning: Cannot dlopen some TensorRT libraries. If you would like to use Nvidia GPU with TensorRT, please make sure the missing libraries mentioned above are installed properly.\n"
     ]
    }
   ],
   "source": [
    "import autokeras as ak"
   ]
  },
  {
   "cell_type": "code",
   "execution_count": 78,
   "metadata": {},
   "outputs": [
    {
     "name": "stdout",
     "output_type": "stream",
     "text": [
      "INFO:tensorflow:Reloading Oracle from existing project ./structured_data_classifier/oracle.json\n",
      "INFO:tensorflow:Reloading Tuner from ./structured_data_classifier/tuner0.json\n"
     ]
    },
    {
     "name": "stderr",
     "output_type": "stream",
     "text": [
      "2023-01-01 16:47:31.298703: E tensorflow/stream_executor/cuda/cuda_driver.cc:265] failed call to cuInit: CUDA_ERROR_NO_DEVICE: no CUDA-capable device is detected\n",
      "2023-01-01 16:47:31.298771: I tensorflow/stream_executor/cuda/cuda_diagnostics.cc:156] kernel driver does not appear to be running on this host (minato-lap): /proc/driver/nvidia/version does not exist\n",
      "2023-01-01 16:47:31.300100: I tensorflow/core/platform/cpu_feature_guard.cc:193] This TensorFlow binary is optimized with oneAPI Deep Neural Network Library (oneDNN) to use the following CPU instructions in performance-critical operations:  AVX2 FMA\n",
      "To enable them in other operations, rebuild TensorFlow with the appropriate compiler flags.\n"
     ]
    },
    {
     "name": "stdout",
     "output_type": "stream",
     "text": [
      "INFO:tensorflow:Oracle triggered exit\n",
      "Epoch 1/50\n",
      "259/259 [==============================] - 2s 4ms/step - loss: 0.6824 - accuracy: 0.5550\n",
      "Epoch 2/50\n",
      "259/259 [==============================] - 1s 3ms/step - loss: 0.5418 - accuracy: 0.7438\n",
      "Epoch 3/50\n",
      "259/259 [==============================] - 1s 3ms/step - loss: 0.4945 - accuracy: 0.7564\n",
      "Epoch 4/50\n",
      "259/259 [==============================] - 1s 3ms/step - loss: 0.4835 - accuracy: 0.7626\n",
      "Epoch 5/50\n",
      "259/259 [==============================] - 1s 4ms/step - loss: 0.4765 - accuracy: 0.7676\n",
      "Epoch 6/50\n",
      "259/259 [==============================] - 1s 4ms/step - loss: 0.4695 - accuracy: 0.7708\n",
      "Epoch 7/50\n",
      "259/259 [==============================] - 1s 3ms/step - loss: 0.4632 - accuracy: 0.7746\n",
      "Epoch 8/50\n",
      "259/259 [==============================] - 1s 3ms/step - loss: 0.4575 - accuracy: 0.7781\n",
      "Epoch 9/50\n",
      "259/259 [==============================] - 1s 3ms/step - loss: 0.4521 - accuracy: 0.7793\n",
      "Epoch 10/50\n",
      "259/259 [==============================] - 1s 3ms/step - loss: 0.4469 - accuracy: 0.7840\n",
      "Epoch 11/50\n",
      "259/259 [==============================] - 1s 4ms/step - loss: 0.4415 - accuracy: 0.7873\n",
      "Epoch 12/50\n",
      "259/259 [==============================] - 1s 3ms/step - loss: 0.4365 - accuracy: 0.7927\n",
      "Epoch 13/50\n",
      "259/259 [==============================] - 1s 3ms/step - loss: 0.4316 - accuracy: 0.7961\n",
      "Epoch 14/50\n",
      "259/259 [==============================] - 1s 3ms/step - loss: 0.4270 - accuracy: 0.8011\n",
      "Epoch 15/50\n",
      "259/259 [==============================] - 1s 3ms/step - loss: 0.4226 - accuracy: 0.8050\n",
      "Epoch 16/50\n",
      "259/259 [==============================] - 1s 3ms/step - loss: 0.4184 - accuracy: 0.8071\n",
      "Epoch 17/50\n",
      "259/259 [==============================] - 1s 3ms/step - loss: 0.4144 - accuracy: 0.8102\n",
      "Epoch 18/50\n",
      "259/259 [==============================] - 1s 3ms/step - loss: 0.4104 - accuracy: 0.8109\n",
      "Epoch 19/50\n",
      "259/259 [==============================] - 1s 3ms/step - loss: 0.4066 - accuracy: 0.8153\n",
      "Epoch 20/50\n",
      "259/259 [==============================] - 1s 2ms/step - loss: 0.4030 - accuracy: 0.8169\n",
      "Epoch 21/50\n",
      "259/259 [==============================] - 1s 2ms/step - loss: 0.3994 - accuracy: 0.8191\n",
      "Epoch 22/50\n",
      "259/259 [==============================] - 1s 3ms/step - loss: 0.3961 - accuracy: 0.8224\n",
      "Epoch 23/50\n",
      "259/259 [==============================] - 1s 2ms/step - loss: 0.3930 - accuracy: 0.8252\n",
      "Epoch 24/50\n",
      "259/259 [==============================] - 1s 3ms/step - loss: 0.3900 - accuracy: 0.8285\n",
      "Epoch 25/50\n",
      "259/259 [==============================] - 1s 2ms/step - loss: 0.3871 - accuracy: 0.8310\n",
      "Epoch 26/50\n",
      "259/259 [==============================] - 1s 2ms/step - loss: 0.3844 - accuracy: 0.8334\n",
      "Epoch 27/50\n",
      "259/259 [==============================] - 1s 2ms/step - loss: 0.3817 - accuracy: 0.8352\n",
      "Epoch 28/50\n",
      "259/259 [==============================] - 1s 2ms/step - loss: 0.3792 - accuracy: 0.8362\n",
      "Epoch 29/50\n",
      "259/259 [==============================] - 1s 2ms/step - loss: 0.3769 - accuracy: 0.8378\n",
      "Epoch 30/50\n",
      "259/259 [==============================] - 1s 2ms/step - loss: 0.3748 - accuracy: 0.8392\n",
      "Epoch 31/50\n",
      "259/259 [==============================] - 1s 3ms/step - loss: 0.3727 - accuracy: 0.8397\n",
      "Epoch 32/50\n",
      "259/259 [==============================] - 1s 3ms/step - loss: 0.3707 - accuracy: 0.8413\n",
      "Epoch 33/50\n",
      "259/259 [==============================] - 1s 3ms/step - loss: 0.3687 - accuracy: 0.8426\n",
      "Epoch 34/50\n",
      "259/259 [==============================] - 1s 2ms/step - loss: 0.3669 - accuracy: 0.8432\n",
      "Epoch 35/50\n",
      "259/259 [==============================] - 1s 3ms/step - loss: 0.3652 - accuracy: 0.8453\n",
      "Epoch 36/50\n",
      "259/259 [==============================] - 1s 3ms/step - loss: 0.3636 - accuracy: 0.8465\n",
      "Epoch 37/50\n",
      "259/259 [==============================] - 1s 3ms/step - loss: 0.3621 - accuracy: 0.8476\n",
      "Epoch 38/50\n",
      "259/259 [==============================] - 1s 4ms/step - loss: 0.3606 - accuracy: 0.8482\n",
      "Epoch 39/50\n",
      "259/259 [==============================] - 1s 3ms/step - loss: 0.3593 - accuracy: 0.8493\n",
      "Epoch 40/50\n",
      "259/259 [==============================] - 1s 3ms/step - loss: 0.3580 - accuracy: 0.8487\n",
      "Epoch 41/50\n",
      "259/259 [==============================] - 1s 3ms/step - loss: 0.3568 - accuracy: 0.8492\n",
      "Epoch 42/50\n",
      "259/259 [==============================] - 1s 3ms/step - loss: 0.3556 - accuracy: 0.8496\n",
      "Epoch 43/50\n",
      "259/259 [==============================] - 1s 2ms/step - loss: 0.3545 - accuracy: 0.8507\n",
      "Epoch 44/50\n",
      "259/259 [==============================] - 1s 2ms/step - loss: 0.3535 - accuracy: 0.8510\n",
      "Epoch 45/50\n",
      "259/259 [==============================] - 1s 2ms/step - loss: 0.3526 - accuracy: 0.8517\n",
      "Epoch 46/50\n",
      "259/259 [==============================] - 1s 2ms/step - loss: 0.3516 - accuracy: 0.8519\n",
      "Epoch 47/50\n",
      "259/259 [==============================] - 1s 3ms/step - loss: 0.3508 - accuracy: 0.8519\n",
      "Epoch 48/50\n",
      "259/259 [==============================] - 1s 3ms/step - loss: 0.3499 - accuracy: 0.8527\n",
      "Epoch 49/50\n",
      "259/259 [==============================] - 1s 3ms/step - loss: 0.3491 - accuracy: 0.8533\n",
      "Epoch 50/50\n",
      "259/259 [==============================] - 1s 3ms/step - loss: 0.3484 - accuracy: 0.8535\n",
      "INFO:tensorflow:Assets written to: ./structured_data_classifier/best_model/assets\n",
      "65/65 [==============================] - 0s 2ms/step\n",
      "65/65 [==============================] - 0s 2ms/step\n",
      "65/65 [==============================] - 1s 3ms/step - loss: 0.4702 - accuracy: 0.7856\n",
      "[0.4701899290084839, 0.7855759859085083]\n"
     ]
    }
   ],
   "source": [
    "clf = ak.StructuredDataClassifier(max_trials=10,seed=1234)\n",
    "# Feed the structured data classifier with training data.\n",
    "clf.fit(x_train, y_train, epochs=50, validation_split=0.2)\n",
    "# Predict with the best model.\n",
    "predicted_y = clf.predict(x_test)\n",
    "# Evaluate the best model with testing data.\n",
    "print(clf.evaluate(x_test, y_test))"
   ]
  },
  {
   "cell_type": "code",
   "execution_count": 79,
   "metadata": {},
   "outputs": [
    {
     "name": "stdout",
     "output_type": "stream",
     "text": [
      "65/65 [==============================] - 0s 3ms/step\n",
      "65/65 [==============================] - 0s 4ms/step\n"
     ]
    }
   ],
   "source": [
    "predicted = clf.predict(x_test)"
   ]
  },
  {
   "cell_type": "code",
   "execution_count": 80,
   "metadata": {},
   "outputs": [
    {
     "name": "stdout",
     "output_type": "stream",
     "text": [
      "classification report for neural network\n",
      "              precision    recall  f1-score   support\n",
      "\n",
      "         0.0       0.74      0.81      0.78       950\n",
      "         1.0       0.83      0.76      0.79      1116\n",
      "\n",
      "    accuracy                           0.79      2066\n",
      "   macro avg       0.79      0.79      0.79      2066\n",
      "weighted avg       0.79      0.79      0.79      2066\n",
      "\n"
     ]
    }
   ],
   "source": [
    "from sklearn.metrics import classification_report\n",
    "print(\"classification report for neural network\")\n",
    "print(classification_report(predicted,y_test))"
   ]
  },
  {
   "cell_type": "markdown",
   "metadata": {},
   "source": [
    "<b> ANN"
   ]
  },
  {
   "cell_type": "code",
   "execution_count": 81,
   "metadata": {},
   "outputs": [],
   "source": [
    "import tensorflow as tf"
   ]
  },
  {
   "cell_type": "code",
   "execution_count": 82,
   "metadata": {},
   "outputs": [
    {
     "data": {
      "text/plain": [
       "18"
      ]
     },
     "execution_count": 82,
     "metadata": {},
     "output_type": "execute_result"
    }
   ],
   "source": [
    "x_train.shape[1]"
   ]
  },
  {
   "cell_type": "code",
   "execution_count": 83,
   "metadata": {},
   "outputs": [
    {
     "name": "stdout",
     "output_type": "stream",
     "text": [
      "Epoch 1/40\n",
      "661/661 [==============================] - 2s 3ms/step - loss: 0.5723 - accuracy: 0.7303 - val_loss: 0.5303 - val_accuracy: 0.7512\n",
      "Epoch 2/40\n",
      "661/661 [==============================] - 2s 2ms/step - loss: 0.5185 - accuracy: 0.7468 - val_loss: 0.5700 - val_accuracy: 0.7331\n",
      "Epoch 3/40\n",
      "661/661 [==============================] - 2s 3ms/step - loss: 0.5129 - accuracy: 0.7545 - val_loss: 0.4899 - val_accuracy: 0.7657\n",
      "Epoch 4/40\n",
      "661/661 [==============================] - 2s 4ms/step - loss: 0.5082 - accuracy: 0.7514 - val_loss: 0.4994 - val_accuracy: 0.7458\n",
      "Epoch 5/40\n",
      "661/661 [==============================] - 2s 3ms/step - loss: 0.5137 - accuracy: 0.7502 - val_loss: 0.4884 - val_accuracy: 0.7615\n",
      "Epoch 6/40\n",
      "661/661 [==============================] - 2s 2ms/step - loss: 0.5126 - accuracy: 0.7539 - val_loss: 0.5178 - val_accuracy: 0.7337\n",
      "Epoch 7/40\n",
      "661/661 [==============================] - 1s 2ms/step - loss: 0.4977 - accuracy: 0.7529 - val_loss: 0.4907 - val_accuracy: 0.7579\n",
      "Epoch 8/40\n",
      "661/661 [==============================] - 1s 2ms/step - loss: 0.4948 - accuracy: 0.7570 - val_loss: 0.4991 - val_accuracy: 0.7730\n",
      "Epoch 9/40\n",
      "661/661 [==============================] - 1s 2ms/step - loss: 0.4985 - accuracy: 0.7550 - val_loss: 0.5028 - val_accuracy: 0.7585\n",
      "Epoch 10/40\n",
      "661/661 [==============================] - 1s 2ms/step - loss: 0.5014 - accuracy: 0.7559 - val_loss: 0.5143 - val_accuracy: 0.7633\n",
      "Epoch 11/40\n",
      "661/661 [==============================] - 1s 2ms/step - loss: 0.5072 - accuracy: 0.7568 - val_loss: 0.5215 - val_accuracy: 0.7627\n",
      "Epoch 12/40\n",
      "661/661 [==============================] - 1s 2ms/step - loss: 0.4914 - accuracy: 0.7573 - val_loss: 0.4937 - val_accuracy: 0.7639\n",
      "Epoch 13/40\n",
      "661/661 [==============================] - 1s 2ms/step - loss: 0.4902 - accuracy: 0.7601 - val_loss: 0.4898 - val_accuracy: 0.7669\n",
      "Epoch 14/40\n",
      "661/661 [==============================] - 2s 2ms/step - loss: 0.5008 - accuracy: 0.7523 - val_loss: 0.5060 - val_accuracy: 0.7446\n",
      "Epoch 15/40\n",
      "661/661 [==============================] - 2s 3ms/step - loss: 0.4934 - accuracy: 0.7583 - val_loss: 0.5190 - val_accuracy: 0.7379\n",
      "Epoch 16/40\n",
      "661/661 [==============================] - 2s 3ms/step - loss: 0.4862 - accuracy: 0.7627 - val_loss: 0.4857 - val_accuracy: 0.7663\n",
      "Epoch 17/40\n",
      "661/661 [==============================] - 2s 3ms/step - loss: 0.4964 - accuracy: 0.7580 - val_loss: 0.4914 - val_accuracy: 0.7694\n",
      "Epoch 18/40\n",
      "661/661 [==============================] - 2s 2ms/step - loss: 0.4907 - accuracy: 0.7571 - val_loss: 0.4894 - val_accuracy: 0.7676\n",
      "Epoch 19/40\n",
      "661/661 [==============================] - 2s 3ms/step - loss: 0.4881 - accuracy: 0.7618 - val_loss: 0.4893 - val_accuracy: 0.7615\n",
      "Epoch 20/40\n",
      "661/661 [==============================] - 2s 3ms/step - loss: 0.4830 - accuracy: 0.7589 - val_loss: 0.5094 - val_accuracy: 0.7603\n",
      "Epoch 21/40\n",
      "661/661 [==============================] - 2s 2ms/step - loss: 0.4778 - accuracy: 0.7636 - val_loss: 0.4995 - val_accuracy: 0.7669\n",
      "Epoch 22/40\n",
      "661/661 [==============================] - 2s 2ms/step - loss: 0.4837 - accuracy: 0.7657 - val_loss: 0.4814 - val_accuracy: 0.7676\n",
      "Epoch 23/40\n",
      "661/661 [==============================] - 2s 2ms/step - loss: 0.4821 - accuracy: 0.7642 - val_loss: 0.4908 - val_accuracy: 0.7645\n",
      "Epoch 24/40\n",
      "661/661 [==============================] - 1s 2ms/step - loss: 0.4817 - accuracy: 0.7626 - val_loss: 0.4836 - val_accuracy: 0.7688\n",
      "Epoch 25/40\n",
      "661/661 [==============================] - 2s 2ms/step - loss: 0.4831 - accuracy: 0.7603 - val_loss: 0.4847 - val_accuracy: 0.7730\n",
      "Epoch 26/40\n",
      "661/661 [==============================] - 2s 2ms/step - loss: 0.4771 - accuracy: 0.7650 - val_loss: 0.4888 - val_accuracy: 0.7633\n",
      "Epoch 27/40\n",
      "661/661 [==============================] - 2s 3ms/step - loss: 0.4757 - accuracy: 0.7680 - val_loss: 0.4891 - val_accuracy: 0.7512\n",
      "Epoch 28/40\n",
      "661/661 [==============================] - 2s 3ms/step - loss: 0.4725 - accuracy: 0.7735 - val_loss: 0.4835 - val_accuracy: 0.7663\n",
      "Epoch 29/40\n",
      "661/661 [==============================] - 2s 2ms/step - loss: 0.4724 - accuracy: 0.7679 - val_loss: 0.4843 - val_accuracy: 0.7694\n",
      "Epoch 30/40\n",
      "661/661 [==============================] - 2s 3ms/step - loss: 0.4695 - accuracy: 0.7654 - val_loss: 0.5058 - val_accuracy: 0.7512\n",
      "Epoch 31/40\n",
      "661/661 [==============================] - 2s 3ms/step - loss: 0.4735 - accuracy: 0.7666 - val_loss: 0.4820 - val_accuracy: 0.7736\n",
      "Epoch 32/40\n",
      "661/661 [==============================] - 2s 2ms/step - loss: 0.4692 - accuracy: 0.7668 - val_loss: 0.4938 - val_accuracy: 0.7488\n",
      "Epoch 33/40\n",
      "661/661 [==============================] - 2s 2ms/step - loss: 0.4699 - accuracy: 0.7673 - val_loss: 0.4842 - val_accuracy: 0.7651\n",
      "Epoch 34/40\n",
      "661/661 [==============================] - 2s 2ms/step - loss: 0.4676 - accuracy: 0.7688 - val_loss: 0.4777 - val_accuracy: 0.7688\n",
      "Epoch 35/40\n",
      "661/661 [==============================] - 2s 2ms/step - loss: 0.4673 - accuracy: 0.7695 - val_loss: 0.4765 - val_accuracy: 0.7688\n",
      "Epoch 36/40\n",
      "661/661 [==============================] - 2s 2ms/step - loss: 0.4657 - accuracy: 0.7722 - val_loss: 0.4866 - val_accuracy: 0.7548\n",
      "Epoch 37/40\n",
      "661/661 [==============================] - 2s 2ms/step - loss: 0.4645 - accuracy: 0.7700 - val_loss: 0.4762 - val_accuracy: 0.7694\n",
      "Epoch 38/40\n",
      "661/661 [==============================] - 1s 2ms/step - loss: 0.4648 - accuracy: 0.7700 - val_loss: 0.4736 - val_accuracy: 0.7694\n",
      "Epoch 39/40\n",
      "661/661 [==============================] - 1s 2ms/step - loss: 0.4636 - accuracy: 0.7719 - val_loss: 0.4877 - val_accuracy: 0.7524\n",
      "Epoch 40/40\n",
      "661/661 [==============================] - 1s 2ms/step - loss: 0.4629 - accuracy: 0.7765 - val_loss: 0.4857 - val_accuracy: 0.7512\n",
      "65/65 - 0s - loss: 0.4880 - accuracy: 0.7556 - 116ms/epoch - 2ms/step\n",
      "Test loss:  0.488041490316391\n",
      "Test accuracy:  0.7555662989616394\n",
      "Model: \"sequential\"\n",
      "_________________________________________________________________\n",
      " Layer (type)                Output Shape              Param #   \n",
      "=================================================================\n",
      " dense_4 (Dense)             (None, 128)               2432      \n",
      "                                                                 \n",
      " dense_5 (Dense)             (None, 1)                 129       \n",
      "                                                                 \n",
      "=================================================================\n",
      "Total params: 2,561\n",
      "Trainable params: 2,561\n",
      "Non-trainable params: 0\n",
      "_________________________________________________________________\n"
     ]
    }
   ],
   "source": [
    "inputs = tf.keras.Input(shape=(x_train.shape[1],))\n",
    "\n",
    "model = tf.keras.Sequential()\n",
    "model.add(tf.keras.layers.Dense(128, activation='relu', input_dim=x_train.shape[1]))\n",
    "model.add(tf.keras.layers.Dense(1, activation='sigmoid'))\n",
    "model.compile(optimizer='adam', loss='binary_crossentropy', metrics=['accuracy'])\n",
    "hist = model.fit(x_train, y_train, epochs=40, batch_size=10, validation_split=0.2)\n",
    "\n",
    "test_score = model.evaluate(x_test, y_test, verbose=2)\n",
    "print(\"Test loss: \", test_score[0])\n",
    "print(\"Test accuracy: \", test_score[1])\n",
    "model.summary()"
   ]
  },
  {
   "cell_type": "code",
   "execution_count": 84,
   "metadata": {},
   "outputs": [
    {
     "name": "stdout",
     "output_type": "stream",
     "text": [
      "Test loss:  0.488041490316391\n",
      "Test accuracy:  0.7555662989616394\n"
     ]
    }
   ],
   "source": [
    "print(\"Test loss: \", test_score[0])\n",
    "print(\"Test accuracy: \", test_score[1])"
   ]
  },
  {
   "cell_type": "markdown",
   "metadata": {},
   "source": [
    "Check list\n",
    "1. Grid search is giving poor preds, try making it work or throw it away\n",
    "2. Add concepts, architecture diagrams and type about each type of model employed"
   ]
  },
  {
   "cell_type": "markdown",
   "metadata": {},
   "source": []
  }
 ],
 "metadata": {
  "kernelspec": {
   "display_name": "Python 3.9.12 ('base')",
   "language": "python",
   "name": "python3"
  },
  "language_info": {
   "codemirror_mode": {
    "name": "ipython",
    "version": 3
   },
   "file_extension": ".py",
   "mimetype": "text/x-python",
   "name": "python",
   "nbconvert_exporter": "python",
   "pygments_lexer": "ipython3",
   "version": "3.9.12"
  },
  "orig_nbformat": 4,
  "vscode": {
   "interpreter": {
    "hash": "2627dd1015945cb2e6b8fd0e3cddf5a776bc70c3771fdd8974c9c21420125228"
   }
  }
 },
 "nbformat": 4,
 "nbformat_minor": 2
}
