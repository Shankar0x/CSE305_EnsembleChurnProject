{
 "cells": [
  {
   "cell_type": "code",
   "execution_count": 1,
   "metadata": {},
   "outputs": [],
   "source": [
    "import numpy as np\n",
    "import pandas as pd\n",
    "import seaborn as sns\n",
    "import matplotlib.pyplot as plt"
   ]
  },
  {
   "cell_type": "code",
   "execution_count": 2,
   "metadata": {},
   "outputs": [],
   "source": [
    "df = pd.read_csv('Dataset/WA_Fn-UseC_-Telco-Customer-Churn.csv')"
   ]
  },
  {
   "cell_type": "code",
   "execution_count": 3,
   "metadata": {},
   "outputs": [
    {
     "data": {
      "text/html": [
       "<div>\n",
       "<style scoped>\n",
       "    .dataframe tbody tr th:only-of-type {\n",
       "        vertical-align: middle;\n",
       "    }\n",
       "\n",
       "    .dataframe tbody tr th {\n",
       "        vertical-align: top;\n",
       "    }\n",
       "\n",
       "    .dataframe thead th {\n",
       "        text-align: right;\n",
       "    }\n",
       "</style>\n",
       "<table border=\"1\" class=\"dataframe\">\n",
       "  <thead>\n",
       "    <tr style=\"text-align: right;\">\n",
       "      <th></th>\n",
       "      <th>customerID</th>\n",
       "      <th>gender</th>\n",
       "      <th>SeniorCitizen</th>\n",
       "      <th>Partner</th>\n",
       "      <th>Dependents</th>\n",
       "      <th>tenure</th>\n",
       "      <th>PhoneService</th>\n",
       "      <th>MultipleLines</th>\n",
       "      <th>InternetService</th>\n",
       "      <th>OnlineSecurity</th>\n",
       "      <th>...</th>\n",
       "      <th>DeviceProtection</th>\n",
       "      <th>TechSupport</th>\n",
       "      <th>StreamingTV</th>\n",
       "      <th>StreamingMovies</th>\n",
       "      <th>Contract</th>\n",
       "      <th>PaperlessBilling</th>\n",
       "      <th>PaymentMethod</th>\n",
       "      <th>MonthlyCharges</th>\n",
       "      <th>TotalCharges</th>\n",
       "      <th>Churn</th>\n",
       "    </tr>\n",
       "  </thead>\n",
       "  <tbody>\n",
       "    <tr>\n",
       "      <th>0</th>\n",
       "      <td>7590-VHVEG</td>\n",
       "      <td>Female</td>\n",
       "      <td>0</td>\n",
       "      <td>Yes</td>\n",
       "      <td>No</td>\n",
       "      <td>1</td>\n",
       "      <td>No</td>\n",
       "      <td>No phone service</td>\n",
       "      <td>DSL</td>\n",
       "      <td>No</td>\n",
       "      <td>...</td>\n",
       "      <td>No</td>\n",
       "      <td>No</td>\n",
       "      <td>No</td>\n",
       "      <td>No</td>\n",
       "      <td>Month-to-month</td>\n",
       "      <td>Yes</td>\n",
       "      <td>Electronic check</td>\n",
       "      <td>29.85</td>\n",
       "      <td>29.85</td>\n",
       "      <td>No</td>\n",
       "    </tr>\n",
       "    <tr>\n",
       "      <th>1</th>\n",
       "      <td>5575-GNVDE</td>\n",
       "      <td>Male</td>\n",
       "      <td>0</td>\n",
       "      <td>No</td>\n",
       "      <td>No</td>\n",
       "      <td>34</td>\n",
       "      <td>Yes</td>\n",
       "      <td>No</td>\n",
       "      <td>DSL</td>\n",
       "      <td>Yes</td>\n",
       "      <td>...</td>\n",
       "      <td>Yes</td>\n",
       "      <td>No</td>\n",
       "      <td>No</td>\n",
       "      <td>No</td>\n",
       "      <td>One year</td>\n",
       "      <td>No</td>\n",
       "      <td>Mailed check</td>\n",
       "      <td>56.95</td>\n",
       "      <td>1889.5</td>\n",
       "      <td>No</td>\n",
       "    </tr>\n",
       "    <tr>\n",
       "      <th>2</th>\n",
       "      <td>3668-QPYBK</td>\n",
       "      <td>Male</td>\n",
       "      <td>0</td>\n",
       "      <td>No</td>\n",
       "      <td>No</td>\n",
       "      <td>2</td>\n",
       "      <td>Yes</td>\n",
       "      <td>No</td>\n",
       "      <td>DSL</td>\n",
       "      <td>Yes</td>\n",
       "      <td>...</td>\n",
       "      <td>No</td>\n",
       "      <td>No</td>\n",
       "      <td>No</td>\n",
       "      <td>No</td>\n",
       "      <td>Month-to-month</td>\n",
       "      <td>Yes</td>\n",
       "      <td>Mailed check</td>\n",
       "      <td>53.85</td>\n",
       "      <td>108.15</td>\n",
       "      <td>Yes</td>\n",
       "    </tr>\n",
       "    <tr>\n",
       "      <th>3</th>\n",
       "      <td>7795-CFOCW</td>\n",
       "      <td>Male</td>\n",
       "      <td>0</td>\n",
       "      <td>No</td>\n",
       "      <td>No</td>\n",
       "      <td>45</td>\n",
       "      <td>No</td>\n",
       "      <td>No phone service</td>\n",
       "      <td>DSL</td>\n",
       "      <td>Yes</td>\n",
       "      <td>...</td>\n",
       "      <td>Yes</td>\n",
       "      <td>Yes</td>\n",
       "      <td>No</td>\n",
       "      <td>No</td>\n",
       "      <td>One year</td>\n",
       "      <td>No</td>\n",
       "      <td>Bank transfer (automatic)</td>\n",
       "      <td>42.30</td>\n",
       "      <td>1840.75</td>\n",
       "      <td>No</td>\n",
       "    </tr>\n",
       "    <tr>\n",
       "      <th>4</th>\n",
       "      <td>9237-HQITU</td>\n",
       "      <td>Female</td>\n",
       "      <td>0</td>\n",
       "      <td>No</td>\n",
       "      <td>No</td>\n",
       "      <td>2</td>\n",
       "      <td>Yes</td>\n",
       "      <td>No</td>\n",
       "      <td>Fiber optic</td>\n",
       "      <td>No</td>\n",
       "      <td>...</td>\n",
       "      <td>No</td>\n",
       "      <td>No</td>\n",
       "      <td>No</td>\n",
       "      <td>No</td>\n",
       "      <td>Month-to-month</td>\n",
       "      <td>Yes</td>\n",
       "      <td>Electronic check</td>\n",
       "      <td>70.70</td>\n",
       "      <td>151.65</td>\n",
       "      <td>Yes</td>\n",
       "    </tr>\n",
       "    <tr>\n",
       "      <th>...</th>\n",
       "      <td>...</td>\n",
       "      <td>...</td>\n",
       "      <td>...</td>\n",
       "      <td>...</td>\n",
       "      <td>...</td>\n",
       "      <td>...</td>\n",
       "      <td>...</td>\n",
       "      <td>...</td>\n",
       "      <td>...</td>\n",
       "      <td>...</td>\n",
       "      <td>...</td>\n",
       "      <td>...</td>\n",
       "      <td>...</td>\n",
       "      <td>...</td>\n",
       "      <td>...</td>\n",
       "      <td>...</td>\n",
       "      <td>...</td>\n",
       "      <td>...</td>\n",
       "      <td>...</td>\n",
       "      <td>...</td>\n",
       "      <td>...</td>\n",
       "    </tr>\n",
       "    <tr>\n",
       "      <th>7038</th>\n",
       "      <td>6840-RESVB</td>\n",
       "      <td>Male</td>\n",
       "      <td>0</td>\n",
       "      <td>Yes</td>\n",
       "      <td>Yes</td>\n",
       "      <td>24</td>\n",
       "      <td>Yes</td>\n",
       "      <td>Yes</td>\n",
       "      <td>DSL</td>\n",
       "      <td>Yes</td>\n",
       "      <td>...</td>\n",
       "      <td>Yes</td>\n",
       "      <td>Yes</td>\n",
       "      <td>Yes</td>\n",
       "      <td>Yes</td>\n",
       "      <td>One year</td>\n",
       "      <td>Yes</td>\n",
       "      <td>Mailed check</td>\n",
       "      <td>84.80</td>\n",
       "      <td>1990.5</td>\n",
       "      <td>No</td>\n",
       "    </tr>\n",
       "    <tr>\n",
       "      <th>7039</th>\n",
       "      <td>2234-XADUH</td>\n",
       "      <td>Female</td>\n",
       "      <td>0</td>\n",
       "      <td>Yes</td>\n",
       "      <td>Yes</td>\n",
       "      <td>72</td>\n",
       "      <td>Yes</td>\n",
       "      <td>Yes</td>\n",
       "      <td>Fiber optic</td>\n",
       "      <td>No</td>\n",
       "      <td>...</td>\n",
       "      <td>Yes</td>\n",
       "      <td>No</td>\n",
       "      <td>Yes</td>\n",
       "      <td>Yes</td>\n",
       "      <td>One year</td>\n",
       "      <td>Yes</td>\n",
       "      <td>Credit card (automatic)</td>\n",
       "      <td>103.20</td>\n",
       "      <td>7362.9</td>\n",
       "      <td>No</td>\n",
       "    </tr>\n",
       "    <tr>\n",
       "      <th>7040</th>\n",
       "      <td>4801-JZAZL</td>\n",
       "      <td>Female</td>\n",
       "      <td>0</td>\n",
       "      <td>Yes</td>\n",
       "      <td>Yes</td>\n",
       "      <td>11</td>\n",
       "      <td>No</td>\n",
       "      <td>No phone service</td>\n",
       "      <td>DSL</td>\n",
       "      <td>Yes</td>\n",
       "      <td>...</td>\n",
       "      <td>No</td>\n",
       "      <td>No</td>\n",
       "      <td>No</td>\n",
       "      <td>No</td>\n",
       "      <td>Month-to-month</td>\n",
       "      <td>Yes</td>\n",
       "      <td>Electronic check</td>\n",
       "      <td>29.60</td>\n",
       "      <td>346.45</td>\n",
       "      <td>No</td>\n",
       "    </tr>\n",
       "    <tr>\n",
       "      <th>7041</th>\n",
       "      <td>8361-LTMKD</td>\n",
       "      <td>Male</td>\n",
       "      <td>1</td>\n",
       "      <td>Yes</td>\n",
       "      <td>No</td>\n",
       "      <td>4</td>\n",
       "      <td>Yes</td>\n",
       "      <td>Yes</td>\n",
       "      <td>Fiber optic</td>\n",
       "      <td>No</td>\n",
       "      <td>...</td>\n",
       "      <td>No</td>\n",
       "      <td>No</td>\n",
       "      <td>No</td>\n",
       "      <td>No</td>\n",
       "      <td>Month-to-month</td>\n",
       "      <td>Yes</td>\n",
       "      <td>Mailed check</td>\n",
       "      <td>74.40</td>\n",
       "      <td>306.6</td>\n",
       "      <td>Yes</td>\n",
       "    </tr>\n",
       "    <tr>\n",
       "      <th>7042</th>\n",
       "      <td>3186-AJIEK</td>\n",
       "      <td>Male</td>\n",
       "      <td>0</td>\n",
       "      <td>No</td>\n",
       "      <td>No</td>\n",
       "      <td>66</td>\n",
       "      <td>Yes</td>\n",
       "      <td>No</td>\n",
       "      <td>Fiber optic</td>\n",
       "      <td>Yes</td>\n",
       "      <td>...</td>\n",
       "      <td>Yes</td>\n",
       "      <td>Yes</td>\n",
       "      <td>Yes</td>\n",
       "      <td>Yes</td>\n",
       "      <td>Two year</td>\n",
       "      <td>Yes</td>\n",
       "      <td>Bank transfer (automatic)</td>\n",
       "      <td>105.65</td>\n",
       "      <td>6844.5</td>\n",
       "      <td>No</td>\n",
       "    </tr>\n",
       "  </tbody>\n",
       "</table>\n",
       "<p>7043 rows × 21 columns</p>\n",
       "</div>"
      ],
      "text/plain": [
       "      customerID  gender  SeniorCitizen Partner Dependents  tenure  \\\n",
       "0     7590-VHVEG  Female              0     Yes         No       1   \n",
       "1     5575-GNVDE    Male              0      No         No      34   \n",
       "2     3668-QPYBK    Male              0      No         No       2   \n",
       "3     7795-CFOCW    Male              0      No         No      45   \n",
       "4     9237-HQITU  Female              0      No         No       2   \n",
       "...          ...     ...            ...     ...        ...     ...   \n",
       "7038  6840-RESVB    Male              0     Yes        Yes      24   \n",
       "7039  2234-XADUH  Female              0     Yes        Yes      72   \n",
       "7040  4801-JZAZL  Female              0     Yes        Yes      11   \n",
       "7041  8361-LTMKD    Male              1     Yes         No       4   \n",
       "7042  3186-AJIEK    Male              0      No         No      66   \n",
       "\n",
       "     PhoneService     MultipleLines InternetService OnlineSecurity  ...  \\\n",
       "0              No  No phone service             DSL             No  ...   \n",
       "1             Yes                No             DSL            Yes  ...   \n",
       "2             Yes                No             DSL            Yes  ...   \n",
       "3              No  No phone service             DSL            Yes  ...   \n",
       "4             Yes                No     Fiber optic             No  ...   \n",
       "...           ...               ...             ...            ...  ...   \n",
       "7038          Yes               Yes             DSL            Yes  ...   \n",
       "7039          Yes               Yes     Fiber optic             No  ...   \n",
       "7040           No  No phone service             DSL            Yes  ...   \n",
       "7041          Yes               Yes     Fiber optic             No  ...   \n",
       "7042          Yes                No     Fiber optic            Yes  ...   \n",
       "\n",
       "     DeviceProtection TechSupport StreamingTV StreamingMovies        Contract  \\\n",
       "0                  No          No          No              No  Month-to-month   \n",
       "1                 Yes          No          No              No        One year   \n",
       "2                  No          No          No              No  Month-to-month   \n",
       "3                 Yes         Yes          No              No        One year   \n",
       "4                  No          No          No              No  Month-to-month   \n",
       "...               ...         ...         ...             ...             ...   \n",
       "7038              Yes         Yes         Yes             Yes        One year   \n",
       "7039              Yes          No         Yes             Yes        One year   \n",
       "7040               No          No          No              No  Month-to-month   \n",
       "7041               No          No          No              No  Month-to-month   \n",
       "7042              Yes         Yes         Yes             Yes        Two year   \n",
       "\n",
       "     PaperlessBilling              PaymentMethod MonthlyCharges  TotalCharges  \\\n",
       "0                 Yes           Electronic check          29.85         29.85   \n",
       "1                  No               Mailed check          56.95        1889.5   \n",
       "2                 Yes               Mailed check          53.85        108.15   \n",
       "3                  No  Bank transfer (automatic)          42.30       1840.75   \n",
       "4                 Yes           Electronic check          70.70        151.65   \n",
       "...               ...                        ...            ...           ...   \n",
       "7038              Yes               Mailed check          84.80        1990.5   \n",
       "7039              Yes    Credit card (automatic)         103.20        7362.9   \n",
       "7040              Yes           Electronic check          29.60        346.45   \n",
       "7041              Yes               Mailed check          74.40         306.6   \n",
       "7042              Yes  Bank transfer (automatic)         105.65        6844.5   \n",
       "\n",
       "     Churn  \n",
       "0       No  \n",
       "1       No  \n",
       "2      Yes  \n",
       "3       No  \n",
       "4      Yes  \n",
       "...    ...  \n",
       "7038    No  \n",
       "7039    No  \n",
       "7040    No  \n",
       "7041   Yes  \n",
       "7042    No  \n",
       "\n",
       "[7043 rows x 21 columns]"
      ]
     },
     "execution_count": 3,
     "metadata": {},
     "output_type": "execute_result"
    }
   ],
   "source": [
    "df"
   ]
  },
  {
   "cell_type": "code",
   "execution_count": 4,
   "metadata": {},
   "outputs": [
    {
     "name": "stdout",
     "output_type": "stream",
     "text": [
      "<class 'pandas.core.frame.DataFrame'>\n",
      "RangeIndex: 7043 entries, 0 to 7042\n",
      "Data columns (total 21 columns):\n",
      " #   Column            Non-Null Count  Dtype  \n",
      "---  ------            --------------  -----  \n",
      " 0   customerID        7043 non-null   object \n",
      " 1   gender            7043 non-null   object \n",
      " 2   SeniorCitizen     7043 non-null   int64  \n",
      " 3   Partner           7043 non-null   object \n",
      " 4   Dependents        7043 non-null   object \n",
      " 5   tenure            7043 non-null   int64  \n",
      " 6   PhoneService      7043 non-null   object \n",
      " 7   MultipleLines     7043 non-null   object \n",
      " 8   InternetService   7043 non-null   object \n",
      " 9   OnlineSecurity    7043 non-null   object \n",
      " 10  OnlineBackup      7043 non-null   object \n",
      " 11  DeviceProtection  7043 non-null   object \n",
      " 12  TechSupport       7043 non-null   object \n",
      " 13  StreamingTV       7043 non-null   object \n",
      " 14  StreamingMovies   7043 non-null   object \n",
      " 15  Contract          7043 non-null   object \n",
      " 16  PaperlessBilling  7043 non-null   object \n",
      " 17  PaymentMethod     7043 non-null   object \n",
      " 18  MonthlyCharges    7043 non-null   float64\n",
      " 19  TotalCharges      7043 non-null   object \n",
      " 20  Churn             7043 non-null   object \n",
      "dtypes: float64(1), int64(2), object(18)\n",
      "memory usage: 1.1+ MB\n"
     ]
    }
   ],
   "source": [
    "df.info()"
   ]
  },
  {
   "cell_type": "markdown",
   "metadata": {},
   "source": [
    "Dropping 'customer ID' as it is unique to all customers and does not contribute anything to the final churn"
   ]
  },
  {
   "cell_type": "code",
   "execution_count": 5,
   "metadata": {},
   "outputs": [],
   "source": [
    "df.drop(['customerID'],axis=1,inplace=True)"
   ]
  },
  {
   "cell_type": "markdown",
   "metadata": {},
   "source": [
    "Checking if there are any null values in the dataset"
   ]
  },
  {
   "cell_type": "code",
   "execution_count": 6,
   "metadata": {},
   "outputs": [
    {
     "data": {
      "text/plain": [
       "gender              0\n",
       "SeniorCitizen       0\n",
       "Partner             0\n",
       "Dependents          0\n",
       "tenure              0\n",
       "PhoneService        0\n",
       "MultipleLines       0\n",
       "InternetService     0\n",
       "OnlineSecurity      0\n",
       "OnlineBackup        0\n",
       "DeviceProtection    0\n",
       "TechSupport         0\n",
       "StreamingTV         0\n",
       "StreamingMovies     0\n",
       "Contract            0\n",
       "PaperlessBilling    0\n",
       "PaymentMethod       0\n",
       "MonthlyCharges      0\n",
       "TotalCharges        0\n",
       "Churn               0\n",
       "dtype: int64"
      ]
     },
     "execution_count": 6,
     "metadata": {},
     "output_type": "execute_result"
    }
   ],
   "source": [
    "df.isnull().sum()"
   ]
  },
  {
   "cell_type": "markdown",
   "metadata": {},
   "source": [
    "Checking if there are any NAN values in the dataset"
   ]
  },
  {
   "cell_type": "code",
   "execution_count": 7,
   "metadata": {},
   "outputs": [
    {
     "data": {
      "text/plain": [
       "gender              0\n",
       "SeniorCitizen       0\n",
       "Partner             0\n",
       "Dependents          0\n",
       "tenure              0\n",
       "PhoneService        0\n",
       "MultipleLines       0\n",
       "InternetService     0\n",
       "OnlineSecurity      0\n",
       "OnlineBackup        0\n",
       "DeviceProtection    0\n",
       "TechSupport         0\n",
       "StreamingTV         0\n",
       "StreamingMovies     0\n",
       "Contract            0\n",
       "PaperlessBilling    0\n",
       "PaymentMethod       0\n",
       "MonthlyCharges      0\n",
       "TotalCharges        0\n",
       "Churn               0\n",
       "dtype: int64"
      ]
     },
     "execution_count": 7,
     "metadata": {},
     "output_type": "execute_result"
    }
   ],
   "source": [
    "df.isna().sum()"
   ]
  },
  {
   "cell_type": "code",
   "execution_count": 8,
   "metadata": {},
   "outputs": [
    {
     "data": {
      "text/plain": [
       "gender               0\n",
       "SeniorCitizen        0\n",
       "Partner              0\n",
       "Dependents           0\n",
       "tenure               0\n",
       "PhoneService         0\n",
       "MultipleLines        0\n",
       "InternetService      0\n",
       "OnlineSecurity       0\n",
       "OnlineBackup         0\n",
       "DeviceProtection     0\n",
       "TechSupport          0\n",
       "StreamingTV          0\n",
       "StreamingMovies      0\n",
       "Contract             0\n",
       "PaperlessBilling     0\n",
       "PaymentMethod        0\n",
       "MonthlyCharges       0\n",
       "TotalCharges        11\n",
       "Churn                0\n",
       "dtype: int64"
      ]
     },
     "execution_count": 8,
     "metadata": {},
     "output_type": "execute_result"
    }
   ],
   "source": [
    "df['TotalCharges'] = pd.to_numeric(df.TotalCharges,errors='coerce')\n",
    "df.isnull().sum()"
   ]
  },
  {
   "cell_type": "code",
   "execution_count": 9,
   "metadata": {},
   "outputs": [
    {
     "data": {
      "text/html": [
       "<div>\n",
       "<style scoped>\n",
       "    .dataframe tbody tr th:only-of-type {\n",
       "        vertical-align: middle;\n",
       "    }\n",
       "\n",
       "    .dataframe tbody tr th {\n",
       "        vertical-align: top;\n",
       "    }\n",
       "\n",
       "    .dataframe thead th {\n",
       "        text-align: right;\n",
       "    }\n",
       "</style>\n",
       "<table border=\"1\" class=\"dataframe\">\n",
       "  <thead>\n",
       "    <tr style=\"text-align: right;\">\n",
       "      <th></th>\n",
       "      <th>gender</th>\n",
       "      <th>SeniorCitizen</th>\n",
       "      <th>Partner</th>\n",
       "      <th>Dependents</th>\n",
       "      <th>tenure</th>\n",
       "      <th>PhoneService</th>\n",
       "      <th>MultipleLines</th>\n",
       "      <th>InternetService</th>\n",
       "      <th>OnlineSecurity</th>\n",
       "      <th>OnlineBackup</th>\n",
       "      <th>DeviceProtection</th>\n",
       "      <th>TechSupport</th>\n",
       "      <th>StreamingTV</th>\n",
       "      <th>StreamingMovies</th>\n",
       "      <th>Contract</th>\n",
       "      <th>PaperlessBilling</th>\n",
       "      <th>PaymentMethod</th>\n",
       "      <th>MonthlyCharges</th>\n",
       "      <th>TotalCharges</th>\n",
       "      <th>Churn</th>\n",
       "    </tr>\n",
       "  </thead>\n",
       "  <tbody>\n",
       "    <tr>\n",
       "      <th>488</th>\n",
       "      <td>Female</td>\n",
       "      <td>0</td>\n",
       "      <td>Yes</td>\n",
       "      <td>Yes</td>\n",
       "      <td>0</td>\n",
       "      <td>No</td>\n",
       "      <td>No phone service</td>\n",
       "      <td>DSL</td>\n",
       "      <td>Yes</td>\n",
       "      <td>No</td>\n",
       "      <td>Yes</td>\n",
       "      <td>Yes</td>\n",
       "      <td>Yes</td>\n",
       "      <td>No</td>\n",
       "      <td>Two year</td>\n",
       "      <td>Yes</td>\n",
       "      <td>Bank transfer (automatic)</td>\n",
       "      <td>52.55</td>\n",
       "      <td>NaN</td>\n",
       "      <td>No</td>\n",
       "    </tr>\n",
       "    <tr>\n",
       "      <th>753</th>\n",
       "      <td>Male</td>\n",
       "      <td>0</td>\n",
       "      <td>No</td>\n",
       "      <td>Yes</td>\n",
       "      <td>0</td>\n",
       "      <td>Yes</td>\n",
       "      <td>No</td>\n",
       "      <td>No</td>\n",
       "      <td>No internet service</td>\n",
       "      <td>No internet service</td>\n",
       "      <td>No internet service</td>\n",
       "      <td>No internet service</td>\n",
       "      <td>No internet service</td>\n",
       "      <td>No internet service</td>\n",
       "      <td>Two year</td>\n",
       "      <td>No</td>\n",
       "      <td>Mailed check</td>\n",
       "      <td>20.25</td>\n",
       "      <td>NaN</td>\n",
       "      <td>No</td>\n",
       "    </tr>\n",
       "    <tr>\n",
       "      <th>936</th>\n",
       "      <td>Female</td>\n",
       "      <td>0</td>\n",
       "      <td>Yes</td>\n",
       "      <td>Yes</td>\n",
       "      <td>0</td>\n",
       "      <td>Yes</td>\n",
       "      <td>No</td>\n",
       "      <td>DSL</td>\n",
       "      <td>Yes</td>\n",
       "      <td>Yes</td>\n",
       "      <td>Yes</td>\n",
       "      <td>No</td>\n",
       "      <td>Yes</td>\n",
       "      <td>Yes</td>\n",
       "      <td>Two year</td>\n",
       "      <td>No</td>\n",
       "      <td>Mailed check</td>\n",
       "      <td>80.85</td>\n",
       "      <td>NaN</td>\n",
       "      <td>No</td>\n",
       "    </tr>\n",
       "    <tr>\n",
       "      <th>1082</th>\n",
       "      <td>Male</td>\n",
       "      <td>0</td>\n",
       "      <td>Yes</td>\n",
       "      <td>Yes</td>\n",
       "      <td>0</td>\n",
       "      <td>Yes</td>\n",
       "      <td>Yes</td>\n",
       "      <td>No</td>\n",
       "      <td>No internet service</td>\n",
       "      <td>No internet service</td>\n",
       "      <td>No internet service</td>\n",
       "      <td>No internet service</td>\n",
       "      <td>No internet service</td>\n",
       "      <td>No internet service</td>\n",
       "      <td>Two year</td>\n",
       "      <td>No</td>\n",
       "      <td>Mailed check</td>\n",
       "      <td>25.75</td>\n",
       "      <td>NaN</td>\n",
       "      <td>No</td>\n",
       "    </tr>\n",
       "    <tr>\n",
       "      <th>1340</th>\n",
       "      <td>Female</td>\n",
       "      <td>0</td>\n",
       "      <td>Yes</td>\n",
       "      <td>Yes</td>\n",
       "      <td>0</td>\n",
       "      <td>No</td>\n",
       "      <td>No phone service</td>\n",
       "      <td>DSL</td>\n",
       "      <td>Yes</td>\n",
       "      <td>Yes</td>\n",
       "      <td>Yes</td>\n",
       "      <td>Yes</td>\n",
       "      <td>Yes</td>\n",
       "      <td>No</td>\n",
       "      <td>Two year</td>\n",
       "      <td>No</td>\n",
       "      <td>Credit card (automatic)</td>\n",
       "      <td>56.05</td>\n",
       "      <td>NaN</td>\n",
       "      <td>No</td>\n",
       "    </tr>\n",
       "    <tr>\n",
       "      <th>3331</th>\n",
       "      <td>Male</td>\n",
       "      <td>0</td>\n",
       "      <td>Yes</td>\n",
       "      <td>Yes</td>\n",
       "      <td>0</td>\n",
       "      <td>Yes</td>\n",
       "      <td>No</td>\n",
       "      <td>No</td>\n",
       "      <td>No internet service</td>\n",
       "      <td>No internet service</td>\n",
       "      <td>No internet service</td>\n",
       "      <td>No internet service</td>\n",
       "      <td>No internet service</td>\n",
       "      <td>No internet service</td>\n",
       "      <td>Two year</td>\n",
       "      <td>No</td>\n",
       "      <td>Mailed check</td>\n",
       "      <td>19.85</td>\n",
       "      <td>NaN</td>\n",
       "      <td>No</td>\n",
       "    </tr>\n",
       "    <tr>\n",
       "      <th>3826</th>\n",
       "      <td>Male</td>\n",
       "      <td>0</td>\n",
       "      <td>Yes</td>\n",
       "      <td>Yes</td>\n",
       "      <td>0</td>\n",
       "      <td>Yes</td>\n",
       "      <td>Yes</td>\n",
       "      <td>No</td>\n",
       "      <td>No internet service</td>\n",
       "      <td>No internet service</td>\n",
       "      <td>No internet service</td>\n",
       "      <td>No internet service</td>\n",
       "      <td>No internet service</td>\n",
       "      <td>No internet service</td>\n",
       "      <td>Two year</td>\n",
       "      <td>No</td>\n",
       "      <td>Mailed check</td>\n",
       "      <td>25.35</td>\n",
       "      <td>NaN</td>\n",
       "      <td>No</td>\n",
       "    </tr>\n",
       "    <tr>\n",
       "      <th>4380</th>\n",
       "      <td>Female</td>\n",
       "      <td>0</td>\n",
       "      <td>Yes</td>\n",
       "      <td>Yes</td>\n",
       "      <td>0</td>\n",
       "      <td>Yes</td>\n",
       "      <td>No</td>\n",
       "      <td>No</td>\n",
       "      <td>No internet service</td>\n",
       "      <td>No internet service</td>\n",
       "      <td>No internet service</td>\n",
       "      <td>No internet service</td>\n",
       "      <td>No internet service</td>\n",
       "      <td>No internet service</td>\n",
       "      <td>Two year</td>\n",
       "      <td>No</td>\n",
       "      <td>Mailed check</td>\n",
       "      <td>20.00</td>\n",
       "      <td>NaN</td>\n",
       "      <td>No</td>\n",
       "    </tr>\n",
       "    <tr>\n",
       "      <th>5218</th>\n",
       "      <td>Male</td>\n",
       "      <td>0</td>\n",
       "      <td>Yes</td>\n",
       "      <td>Yes</td>\n",
       "      <td>0</td>\n",
       "      <td>Yes</td>\n",
       "      <td>No</td>\n",
       "      <td>No</td>\n",
       "      <td>No internet service</td>\n",
       "      <td>No internet service</td>\n",
       "      <td>No internet service</td>\n",
       "      <td>No internet service</td>\n",
       "      <td>No internet service</td>\n",
       "      <td>No internet service</td>\n",
       "      <td>One year</td>\n",
       "      <td>Yes</td>\n",
       "      <td>Mailed check</td>\n",
       "      <td>19.70</td>\n",
       "      <td>NaN</td>\n",
       "      <td>No</td>\n",
       "    </tr>\n",
       "    <tr>\n",
       "      <th>6670</th>\n",
       "      <td>Female</td>\n",
       "      <td>0</td>\n",
       "      <td>Yes</td>\n",
       "      <td>Yes</td>\n",
       "      <td>0</td>\n",
       "      <td>Yes</td>\n",
       "      <td>Yes</td>\n",
       "      <td>DSL</td>\n",
       "      <td>No</td>\n",
       "      <td>Yes</td>\n",
       "      <td>Yes</td>\n",
       "      <td>Yes</td>\n",
       "      <td>Yes</td>\n",
       "      <td>No</td>\n",
       "      <td>Two year</td>\n",
       "      <td>No</td>\n",
       "      <td>Mailed check</td>\n",
       "      <td>73.35</td>\n",
       "      <td>NaN</td>\n",
       "      <td>No</td>\n",
       "    </tr>\n",
       "    <tr>\n",
       "      <th>6754</th>\n",
       "      <td>Male</td>\n",
       "      <td>0</td>\n",
       "      <td>No</td>\n",
       "      <td>Yes</td>\n",
       "      <td>0</td>\n",
       "      <td>Yes</td>\n",
       "      <td>Yes</td>\n",
       "      <td>DSL</td>\n",
       "      <td>Yes</td>\n",
       "      <td>Yes</td>\n",
       "      <td>No</td>\n",
       "      <td>Yes</td>\n",
       "      <td>No</td>\n",
       "      <td>No</td>\n",
       "      <td>Two year</td>\n",
       "      <td>Yes</td>\n",
       "      <td>Bank transfer (automatic)</td>\n",
       "      <td>61.90</td>\n",
       "      <td>NaN</td>\n",
       "      <td>No</td>\n",
       "    </tr>\n",
       "  </tbody>\n",
       "</table>\n",
       "</div>"
      ],
      "text/plain": [
       "      gender  SeniorCitizen Partner Dependents  tenure PhoneService  \\\n",
       "488   Female              0     Yes        Yes       0           No   \n",
       "753     Male              0      No        Yes       0          Yes   \n",
       "936   Female              0     Yes        Yes       0          Yes   \n",
       "1082    Male              0     Yes        Yes       0          Yes   \n",
       "1340  Female              0     Yes        Yes       0           No   \n",
       "3331    Male              0     Yes        Yes       0          Yes   \n",
       "3826    Male              0     Yes        Yes       0          Yes   \n",
       "4380  Female              0     Yes        Yes       0          Yes   \n",
       "5218    Male              0     Yes        Yes       0          Yes   \n",
       "6670  Female              0     Yes        Yes       0          Yes   \n",
       "6754    Male              0      No        Yes       0          Yes   \n",
       "\n",
       "         MultipleLines InternetService       OnlineSecurity  \\\n",
       "488   No phone service             DSL                  Yes   \n",
       "753                 No              No  No internet service   \n",
       "936                 No             DSL                  Yes   \n",
       "1082               Yes              No  No internet service   \n",
       "1340  No phone service             DSL                  Yes   \n",
       "3331                No              No  No internet service   \n",
       "3826               Yes              No  No internet service   \n",
       "4380                No              No  No internet service   \n",
       "5218                No              No  No internet service   \n",
       "6670               Yes             DSL                   No   \n",
       "6754               Yes             DSL                  Yes   \n",
       "\n",
       "             OnlineBackup     DeviceProtection          TechSupport  \\\n",
       "488                    No                  Yes                  Yes   \n",
       "753   No internet service  No internet service  No internet service   \n",
       "936                   Yes                  Yes                   No   \n",
       "1082  No internet service  No internet service  No internet service   \n",
       "1340                  Yes                  Yes                  Yes   \n",
       "3331  No internet service  No internet service  No internet service   \n",
       "3826  No internet service  No internet service  No internet service   \n",
       "4380  No internet service  No internet service  No internet service   \n",
       "5218  No internet service  No internet service  No internet service   \n",
       "6670                  Yes                  Yes                  Yes   \n",
       "6754                  Yes                   No                  Yes   \n",
       "\n",
       "              StreamingTV      StreamingMovies  Contract PaperlessBilling  \\\n",
       "488                   Yes                   No  Two year              Yes   \n",
       "753   No internet service  No internet service  Two year               No   \n",
       "936                   Yes                  Yes  Two year               No   \n",
       "1082  No internet service  No internet service  Two year               No   \n",
       "1340                  Yes                   No  Two year               No   \n",
       "3331  No internet service  No internet service  Two year               No   \n",
       "3826  No internet service  No internet service  Two year               No   \n",
       "4380  No internet service  No internet service  Two year               No   \n",
       "5218  No internet service  No internet service  One year              Yes   \n",
       "6670                  Yes                   No  Two year               No   \n",
       "6754                   No                   No  Two year              Yes   \n",
       "\n",
       "                  PaymentMethod  MonthlyCharges  TotalCharges Churn  \n",
       "488   Bank transfer (automatic)           52.55           NaN    No  \n",
       "753                Mailed check           20.25           NaN    No  \n",
       "936                Mailed check           80.85           NaN    No  \n",
       "1082               Mailed check           25.75           NaN    No  \n",
       "1340    Credit card (automatic)           56.05           NaN    No  \n",
       "3331               Mailed check           19.85           NaN    No  \n",
       "3826               Mailed check           25.35           NaN    No  \n",
       "4380               Mailed check           20.00           NaN    No  \n",
       "5218               Mailed check           19.70           NaN    No  \n",
       "6670               Mailed check           73.35           NaN    No  \n",
       "6754  Bank transfer (automatic)           61.90           NaN    No  "
      ]
     },
     "execution_count": 9,
     "metadata": {},
     "output_type": "execute_result"
    }
   ],
   "source": [
    "df[np.isnan(df['TotalCharges'])]"
   ]
  },
  {
   "cell_type": "code",
   "execution_count": 10,
   "metadata": {},
   "outputs": [
    {
     "data": {
      "text/plain": [
       "Int64Index([], dtype='int64')"
      ]
     },
     "execution_count": 10,
     "metadata": {},
     "output_type": "execute_result"
    }
   ],
   "source": [
    "# dropping all tenure rows with 0 values\n",
    "df.drop(labels=df[df['tenure']==0].index,axis=0,inplace=True)\n",
    "df[df['tenure']==0].index"
   ]
  },
  {
   "cell_type": "code",
   "execution_count": 11,
   "metadata": {},
   "outputs": [
    {
     "data": {
      "text/plain": [
       "gender              0\n",
       "SeniorCitizen       0\n",
       "Partner             0\n",
       "Dependents          0\n",
       "tenure              0\n",
       "PhoneService        0\n",
       "MultipleLines       0\n",
       "InternetService     0\n",
       "OnlineSecurity      0\n",
       "OnlineBackup        0\n",
       "DeviceProtection    0\n",
       "TechSupport         0\n",
       "StreamingTV         0\n",
       "StreamingMovies     0\n",
       "Contract            0\n",
       "PaperlessBilling    0\n",
       "PaymentMethod       0\n",
       "MonthlyCharges      0\n",
       "TotalCharges        0\n",
       "Churn               0\n",
       "dtype: int64"
      ]
     },
     "execution_count": 11,
     "metadata": {},
     "output_type": "execute_result"
    }
   ],
   "source": [
    "df.isna().sum()"
   ]
  },
  {
   "cell_type": "markdown",
   "metadata": {},
   "source": [
    "Label encoding the Churn column (0 = No, 1 = Yes)"
   ]
  },
  {
   "cell_type": "code",
   "execution_count": 12,
   "metadata": {},
   "outputs": [],
   "source": [
    "from sklearn import preprocessing\n",
    "LE = preprocessing.LabelBinarizer()\n",
    "df['Churn'] = LE.fit_transform(list(df['Churn']))"
   ]
  },
  {
   "cell_type": "markdown",
   "metadata": {},
   "source": [
    "Checking out how many churned and not churned"
   ]
  },
  {
   "cell_type": "code",
   "execution_count": 13,
   "metadata": {},
   "outputs": [
    {
     "name": "stdout",
     "output_type": "stream",
     "text": [
      "Churned percentage is 26.58\n",
      "Not churned percentage is 73.42\n"
     ]
    },
    {
     "data": {
      "image/png": "[encoded data removed]",
      "text/plain": [
       "<Figure size 216x504 with 1 Axes>"
      ]
     },
     "metadata": {
      "needs_background": "light"
     },
     "output_type": "display_data"
    }
   ],
   "source": [
    "churned = round((df['Churn'].value_counts()[1]/df.shape[0])*100,2)\n",
    "notchurned = round((df['Churn'].value_counts()[0]/df.shape[0])*100,2)\n",
    "print(f\"Churned percentage is {churned}\")\n",
    "print(f\"Not churned percentage is {notchurned}\")\n",
    "plotter = {'Retained':df['Churn'].value_counts()[0],'Churned':df['Churn'].value_counts()[1]}\n",
    "fig = plt.figure(figsize=(3,7))\n",
    "axis = fig.add_axes([0,0,1,1])\n",
    "axis.bar(list(plotter.keys()), list(plotter.values()),color=['green','red']);\n",
    "axis.set_ylim(0,df.shape[0])\n",
    "plt.show()\n",
    "# Adding a semi colon in the end of plot statement will suppress unwanted output from the plot"
   ]
  },
  {
   "cell_type": "markdown",
   "metadata": {},
   "source": [
    "Splitting all the categorical and continuous variables"
   ]
  },
  {
   "cell_type": "code",
   "execution_count": 14,
   "metadata": {},
   "outputs": [],
   "source": [
    "categorical = ['gender','SeniorCitizen','Partner','Dependents','PhoneService','MultipleLines','InternetService','OnlineSecurity','OnlineBackup','DeviceProtection','TechSupport','StreamingTV','StreamingMovies','Contract','PaperlessBilling','PaymentMethod']\n",
    "continuous = ['tenure','MonthlyCharges','TotalCharges']"
   ]
  },
  {
   "cell_type": "code",
   "execution_count": 15,
   "metadata": {},
   "outputs": [
    {
     "data": {
      "image/png": "[encoded data removed]",
      "text/plain": [
       "<Figure size 1440x432 with 3 Axes>"
      ]
     },
     "metadata": {
      "needs_background": "light"
     },
     "output_type": "display_data"
    }
   ],
   "source": [
    "df[continuous].hist(figsize=(20, 6),\n",
    "                          bins=20,\n",
    "                          layout=(1, 3),\n",
    "                          color='steelblue',\n",
    "                          edgecolor='firebrick',\n",
    "                          linewidth=1.5);"
   ]
  },
  {
   "cell_type": "markdown",
   "metadata": {},
   "source": [
    "\n",
    "### Analysis of the above graph\n",
    "--> here"
   ]
  },
  {
   "cell_type": "markdown",
   "metadata": {},
   "source": []
  },
  {
   "cell_type": "markdown",
   "metadata": {},
   "source": [
    "Plotting categorical values against in histgrams"
   ]
  },
  {
   "cell_type": "code",
   "execution_count": 16,
   "metadata": {},
   "outputs": [],
   "source": [
    "def plot_categorical(feature):\n",
    "    fig, (ax1, ax2) = plt.subplots(1, 2, figsize=(12, 4))\n",
    "\n",
    "    sns.countplot(x=feature,\n",
    "                  hue='Churn',\n",
    "                  data=df,\n",
    "                  ax=ax1)\n",
    "    ax1.set_ylabel('Count')\n",
    "    ax1.legend(labels=['Retained', 'Churned'])\n",
    "\n",
    "    sns.barplot(x=feature,\n",
    "                y='Churn',\n",
    "                data=df,\n",
    "                ax=ax2)\n",
    "    ax2.set_ylabel('Churn rate')\n",
    "\n",
    "\n",
    "    plt.tight_layout()"
   ]
  },
  {
   "cell_type": "code",
   "execution_count": 17,
   "metadata": {},
   "outputs": [
    {
     "data": {
      "image/png": "[encoded data removed]",
      "text/plain": [
       "<Figure size 864x288 with 2 Axes>"
      ]
     },
     "metadata": {
      "needs_background": "light"
     },
     "output_type": "display_data"
    }
   ],
   "source": [
    "plot_categorical('gender')"
   ]
  },
  {
   "cell_type": "markdown",
   "metadata": {},
   "source": [
    "Analysis of Gender variable\n",
    "\n",
    "The data set has almost equal number of Male and Female customers, and both genders are equally likely to Churn or Retain.\n",
    "The gender variable does not contribute much in determining / predicting if a customer will churn or not."
   ]
  },
  {
   "cell_type": "code",
   "execution_count": 18,
   "metadata": {},
   "outputs": [
    {
     "data": {
      "image/png": "[encoded data removed]",
      "text/plain": [
       "<Figure size 864x288 with 2 Axes>"
      ]
     },
     "metadata": {
      "needs_background": "light"
     },
     "output_type": "display_data"
    }
   ],
   "source": [
    "plot_categorical('SeniorCitizen')"
   ]
  },
  {
   "cell_type": "markdown",
   "metadata": {},
   "source": [
    "Analysis of Senior Citizens variable\n",
    "\n",
    "The majority of customers are not Senior Citizens. The majority of Senior Citizens are likely to retain, while a slightly less number will considern to Churn."
   ]
  },
  {
   "cell_type": "code",
   "execution_count": 19,
   "metadata": {},
   "outputs": [
    {
     "data": {
      "image/png": "[encoded data removed]",
      "text/plain": [
       "<Figure size 864x288 with 2 Axes>"
      ]
     },
     "metadata": {
      "needs_background": "light"
     },
     "output_type": "display_data"
    }
   ],
   "source": [
    "plot_categorical('Partner')"
   ]
  },
  {
   "cell_type": "markdown",
   "metadata": {},
   "source": [
    "Analysis of Partner\n",
    "\n",
    "There is a almost equal number of customers who have and do not have partners. There is not significant distinction of churn rate between customers who have partners and those who do not."
   ]
  },
  {
   "cell_type": "code",
   "execution_count": 20,
   "metadata": {},
   "outputs": [
    {
     "data": {
      "image/png": "[encoded data removed]",
      "text/plain": [
       "<Figure size 864x288 with 2 Axes>"
      ]
     },
     "metadata": {
      "needs_background": "light"
     },
     "output_type": "display_data"
    }
   ],
   "source": [
    "plot_categorical('Dependents')"
   ]
  },
  {
   "cell_type": "markdown",
   "metadata": {},
   "source": [
    "Analysis of Dependents\n",
    "\n",
    "The majority of customers do NOT have any dependents. Majority of people regardless if they have dependents are more likely to Retain then churn."
   ]
  },
  {
   "cell_type": "code",
   "execution_count": 21,
   "metadata": {},
   "outputs": [
    {
     "data": {
      "image/png": "[encoded data removed]",
      "text/plain": [
       "<Figure size 864x288 with 2 Axes>"
      ]
     },
     "metadata": {
      "needs_background": "light"
     },
     "output_type": "display_data"
    }
   ],
   "source": [
    "plot_categorical('PhoneService')"
   ]
  },
  {
   "cell_type": "markdown",
   "metadata": {},
   "source": [
    "Analysis of Phone Service\n",
    "\n",
    "The majority of customers have a phone service. Those who do not are slightly more likely to Retain then churn. The customers who have phone service are most likely going to Retain then Churn."
   ]
  },
  {
   "cell_type": "code",
   "execution_count": 22,
   "metadata": {},
   "outputs": [
    {
     "data": {
      "image/png": "[encoded data removed]",
      "text/plain": [
       "<Figure size 864x288 with 2 Axes>"
      ]
     },
     "metadata": {
      "needs_background": "light"
     },
     "output_type": "display_data"
    }
   ],
   "source": [
    "plot_categorical('MultipleLines')"
   ]
  },
  {
   "cell_type": "markdown",
   "metadata": {},
   "source": [
    "Analysis of Multiple Lines\n",
    "\n",
    "The number of customers who have multiple lines is marginarlly lesser than number of customers who have no multiple lines (by almost 300). The customers with a single line are in the minority."
   ]
  },
  {
   "cell_type": "code",
   "execution_count": 23,
   "metadata": {},
   "outputs": [
    {
     "data": {
      "image/png": "[encoded data removed]",
      "text/plain": [
       "<Figure size 864x288 with 2 Axes>"
      ]
     },
     "metadata": {
      "needs_background": "light"
     },
     "output_type": "display_data"
    }
   ],
   "source": [
    "plot_categorical('InternetService')"
   ]
  },
  {
   "cell_type": "markdown",
   "metadata": {},
   "source": [
    "Analysis of Internet Service\n",
    "\n",
    "Customers having fiber optic or DSL service is considerably higher than those who have no internet service."
   ]
  },
  {
   "cell_type": "code",
   "execution_count": 24,
   "metadata": {},
   "outputs": [
    {
     "data": {
      "image/png": "[encoded data removed]",
      "text/plain": [
       "<Figure size 864x288 with 2 Axes>"
      ]
     },
     "metadata": {
      "needs_background": "light"
     },
     "output_type": "display_data"
    }
   ],
   "source": [
    "plot_categorical('OnlineSecurity')"
   ]
  },
  {
   "cell_type": "markdown",
   "metadata": {},
   "source": [
    "Analysis of Online Security\n",
    "\n",
    "The number of customers who DO NOT have some sort of online security is almost 1500 more than those who have online security.\n",
    "More people with online security are most likely to Retain than Churn."
   ]
  },
  {
   "cell_type": "code",
   "execution_count": 25,
   "metadata": {},
   "outputs": [
    {
     "data": {
      "text/plain": [
       "<AxesSubplot:title={'center':'OnlineBackup'}, xlabel='OnlineBackup', ylabel='count'>"
      ]
     },
     "execution_count": 25,
     "metadata": {},
     "output_type": "execute_result"
    },
    {
     "data": {
      "image/png": "[encoded data removed]",
      "text/plain": [
       "<Figure size 432x288 with 1 Axes>"
      ]
     },
     "metadata": {
      "needs_background": "light"
     },
     "output_type": "display_data"
    }
   ],
   "source": [
    "plt.title('OnlineBackup')\n",
    "sns.countplot(data=df, x=df['OnlineBackup'])"
   ]
  },
  {
   "cell_type": "markdown",
   "metadata": {},
   "source": [
    "Analysis of Online Backup\n",
    "\n",
    "There is almost equal balance between the number of customers who have online backup compared to those who do not."
   ]
  },
  {
   "cell_type": "code",
   "execution_count": 26,
   "metadata": {},
   "outputs": [
    {
     "data": {
      "text/plain": [
       "<AxesSubplot:title={'center':'DeviceProtection'}, xlabel='DeviceProtection', ylabel='count'>"
      ]
     },
     "execution_count": 26,
     "metadata": {},
     "output_type": "execute_result"
    },
    {
     "data": {
      "image/png": "[encoded data removed]",
      "text/plain": [
       "<Figure size 432x288 with 1 Axes>"
      ]
     },
     "metadata": {
      "needs_background": "light"
     },
     "output_type": "display_data"
    }
   ],
   "source": [
    "plt.title('DeviceProtection')\n",
    "sns.countplot(data=df, x=df['DeviceProtection'])"
   ]
  },
  {
   "cell_type": "markdown",
   "metadata": {},
   "source": [
    "There is almost 3000 people with no Device Protection and 2250 customers with some sort of device prediction (which is similar to the results seen in online security)"
   ]
  },
  {
   "cell_type": "code",
   "execution_count": 27,
   "metadata": {},
   "outputs": [
    {
     "data": {
      "text/plain": [
       "<AxesSubplot:title={'center':'TechSupport'}, xlabel='TechSupport', ylabel='count'>"
      ]
     },
     "execution_count": 27,
     "metadata": {},
     "output_type": "execute_result"
    },
    {
     "data": {
      "image/png": "[encoded data removed]",
      "text/plain": [
       "<Figure size 432x288 with 1 Axes>"
      ]
     },
     "metadata": {
      "needs_background": "light"
     },
     "output_type": "display_data"
    }
   ],
   "source": [
    "plt.title('TechSupport')\n",
    "sns.countplot(data=df, x=df['TechSupport'])"
   ]
  },
  {
   "cell_type": "markdown",
   "metadata": {},
   "source": [
    "The results are similar to Online Security and Device Protection. There are about 1250 people more who have no tech support compared to those who have tech support.\n"
   ]
  },
  {
   "cell_type": "code",
   "execution_count": 28,
   "metadata": {},
   "outputs": [
    {
     "data": {
      "image/png": "[encoded data removed]",
      "text/plain": [
       "<Figure size 432x288 with 1 Axes>"
      ]
     },
     "metadata": {
      "needs_background": "light"
     },
     "output_type": "display_data"
    },
    {
     "data": {
      "image/png": "[encoded data removed]",
      "text/plain": [
       "<Figure size 432x288 with 1 Axes>"
      ]
     },
     "metadata": {
      "needs_background": "light"
     },
     "output_type": "display_data"
    },
    {
     "data": {
      "text/plain": [
       "<AxesSubplot:xlabel='Contract', ylabel='count'>"
      ]
     },
     "execution_count": 28,
     "metadata": {},
     "output_type": "execute_result"
    },
    {
     "data": {
      "image/png": "[encoded data removed]",
      "text/plain": [
       "<Figure size 432x288 with 1 Axes>"
      ]
     },
     "metadata": {
      "needs_background": "light"
     },
     "output_type": "display_data"
    }
   ],
   "source": [
    "sns.countplot(data=df, x=df['StreamingTV'])\n",
    "plt.show()\n",
    "sns.countplot(data=df, x=df['StreamingMovies'])\n",
    "plt.show()\n",
    "sns.countplot(data=df, x=df['Contract'])"
   ]
  },
  {
   "cell_type": "markdown",
   "metadata": {},
   "source": [
    "Almost a equal number of people stream movies and TV compared to those who dont. Also, most people prefer to take monthly subscriptions compared to yearly or biyearly subscriptions."
   ]
  },
  {
   "cell_type": "code",
   "execution_count": 29,
   "metadata": {},
   "outputs": [
    {
     "data": {
      "image/png": "[encoded data removed]",
      "text/plain": [
       "<Figure size 432x288 with 1 Axes>"
      ]
     },
     "metadata": {
      "needs_background": "light"
     },
     "output_type": "display_data"
    },
    {
     "data": {
      "image/png": "[encoded data removed]",
      "text/plain": [
       "<Figure size 648x648 with 1 Axes>"
      ]
     },
     "metadata": {
      "needs_background": "light"
     },
     "output_type": "display_data"
    }
   ],
   "source": [
    "plt.title('PaperlessBilling')\n",
    "sns.countplot(data=df, x=df['PaperlessBilling'])\n",
    "plt.show()\n",
    "\n",
    "plt.figure(figsize=(9,9))\n",
    "plt.title('PaymentMethod')\n",
    "sns.countplot(data=df, x=df['PaymentMethod'])\n",
    "plt.show()"
   ]
  },
  {
   "cell_type": "markdown",
   "metadata": {},
   "source": [
    "The number of people using paperless billing is must higher than those who dont (can also be observed by the Payment Method table, where msot people prefer Electronic Check, Bank or Credit Card Transfer)."
   ]
  },
  {
   "cell_type": "code",
   "execution_count": 30,
   "metadata": {},
   "outputs": [
    {
     "data": {
      "image/png": "[encoded data removed]",
      "text/plain": [
       "<Figure size 864x288 with 2 Axes>"
      ]
     },
     "metadata": {
      "needs_background": "light"
     },
     "output_type": "display_data"
    }
   ],
   "source": [
    "plot_categorical('Contract')"
   ]
  },
  {
   "cell_type": "markdown",
   "metadata": {},
   "source": [
    "Analysis of Contract\n",
    "\n",
    "Here, we can see that people with monthly subscriptions are more likely to Churn, while those who have biyearly or yearly subscriptions are less likely to Churn. \\\n",
    "Most people with yearly or biyearly subscriptions will most likely Retain than Churn. "
   ]
  },
  {
   "cell_type": "markdown",
   "metadata": {},
   "source": [
    "### Data Preprocessing"
   ]
  },
  {
   "cell_type": "markdown",
   "metadata": {},
   "source": [
    "Listing out the keys in each column to determine best approach for preprocessing."
   ]
  },
  {
   "cell_type": "code",
   "execution_count": 31,
   "metadata": {},
   "outputs": [
    {
     "name": "stdout",
     "output_type": "stream",
     "text": [
      "gender  :  {'Female', 'Male'}\n",
      "SeniorCitizen  :  {0, 1}\n",
      "Partner  :  {'Yes', 'No'}\n",
      "Dependents  :  {'Yes', 'No'}\n",
      "PhoneService  :  {'Yes', 'No'}\n",
      "MultipleLines  :  {'Yes', 'No phone service', 'No'}\n",
      "InternetService  :  {'Fiber optic', 'DSL', 'No'}\n",
      "OnlineSecurity  :  {'Yes', 'No', 'No internet service'}\n",
      "OnlineBackup  :  {'Yes', 'No', 'No internet service'}\n",
      "DeviceProtection  :  {'Yes', 'No', 'No internet service'}\n",
      "TechSupport  :  {'Yes', 'No', 'No internet service'}\n",
      "StreamingTV  :  {'Yes', 'No', 'No internet service'}\n",
      "StreamingMovies  :  {'Yes', 'No', 'No internet service'}\n",
      "Contract  :  {'One year', 'Two year', 'Month-to-month'}\n",
      "PaperlessBilling  :  {'Yes', 'No'}\n",
      "PaymentMethod  :  {'Electronic check', 'Credit card (automatic)', 'Bank transfer (automatic)', 'Mailed check'}\n"
     ]
    }
   ],
   "source": [
    "for category in categorical:\n",
    "    print(category, \" : \", set(list(df[category])))"
   ]
  },
  {
   "cell_type": "markdown",
   "metadata": {},
   "source": [
    "Data Preprocessing\n",
    "\n",
    "Perform encoding for the categorical variables in the data frame"
   ]
  },
  {
   "cell_type": "code",
   "execution_count": 32,
   "metadata": {},
   "outputs": [
    {
     "data": {
      "text/html": [
       "<div>\n",
       "<style scoped>\n",
       "    .dataframe tbody tr th:only-of-type {\n",
       "        vertical-align: middle;\n",
       "    }\n",
       "\n",
       "    .dataframe tbody tr th {\n",
       "        vertical-align: top;\n",
       "    }\n",
       "\n",
       "    .dataframe thead th {\n",
       "        text-align: right;\n",
       "    }\n",
       "</style>\n",
       "<table border=\"1\" class=\"dataframe\">\n",
       "  <thead>\n",
       "    <tr style=\"text-align: right;\">\n",
       "      <th></th>\n",
       "      <th>gender</th>\n",
       "      <th>SeniorCitizen</th>\n",
       "      <th>Partner</th>\n",
       "      <th>Dependents</th>\n",
       "      <th>tenure</th>\n",
       "      <th>PhoneService</th>\n",
       "      <th>MultipleLines</th>\n",
       "      <th>InternetService</th>\n",
       "      <th>OnlineSecurity</th>\n",
       "      <th>OnlineBackup</th>\n",
       "      <th>DeviceProtection</th>\n",
       "      <th>TechSupport</th>\n",
       "      <th>StreamingTV</th>\n",
       "      <th>StreamingMovies</th>\n",
       "      <th>Contract</th>\n",
       "      <th>PaperlessBilling</th>\n",
       "      <th>PaymentMethod</th>\n",
       "      <th>MonthlyCharges</th>\n",
       "      <th>TotalCharges</th>\n",
       "      <th>Churn</th>\n",
       "    </tr>\n",
       "  </thead>\n",
       "  <tbody>\n",
       "    <tr>\n",
       "      <th>0</th>\n",
       "      <td>0</td>\n",
       "      <td>0</td>\n",
       "      <td>1</td>\n",
       "      <td>0</td>\n",
       "      <td>1</td>\n",
       "      <td>0</td>\n",
       "      <td>No phone service</td>\n",
       "      <td>DSL</td>\n",
       "      <td>No</td>\n",
       "      <td>Yes</td>\n",
       "      <td>No</td>\n",
       "      <td>No</td>\n",
       "      <td>No</td>\n",
       "      <td>No</td>\n",
       "      <td>Month-to-month</td>\n",
       "      <td>1</td>\n",
       "      <td>Electronic check</td>\n",
       "      <td>29.85</td>\n",
       "      <td>29.85</td>\n",
       "      <td>0</td>\n",
       "    </tr>\n",
       "    <tr>\n",
       "      <th>1</th>\n",
       "      <td>1</td>\n",
       "      <td>0</td>\n",
       "      <td>0</td>\n",
       "      <td>0</td>\n",
       "      <td>34</td>\n",
       "      <td>1</td>\n",
       "      <td>No</td>\n",
       "      <td>DSL</td>\n",
       "      <td>Yes</td>\n",
       "      <td>No</td>\n",
       "      <td>Yes</td>\n",
       "      <td>No</td>\n",
       "      <td>No</td>\n",
       "      <td>No</td>\n",
       "      <td>One year</td>\n",
       "      <td>0</td>\n",
       "      <td>Mailed check</td>\n",
       "      <td>56.95</td>\n",
       "      <td>1889.50</td>\n",
       "      <td>0</td>\n",
       "    </tr>\n",
       "    <tr>\n",
       "      <th>2</th>\n",
       "      <td>1</td>\n",
       "      <td>0</td>\n",
       "      <td>0</td>\n",
       "      <td>0</td>\n",
       "      <td>2</td>\n",
       "      <td>1</td>\n",
       "      <td>No</td>\n",
       "      <td>DSL</td>\n",
       "      <td>Yes</td>\n",
       "      <td>Yes</td>\n",
       "      <td>No</td>\n",
       "      <td>No</td>\n",
       "      <td>No</td>\n",
       "      <td>No</td>\n",
       "      <td>Month-to-month</td>\n",
       "      <td>1</td>\n",
       "      <td>Mailed check</td>\n",
       "      <td>53.85</td>\n",
       "      <td>108.15</td>\n",
       "      <td>1</td>\n",
       "    </tr>\n",
       "    <tr>\n",
       "      <th>3</th>\n",
       "      <td>1</td>\n",
       "      <td>0</td>\n",
       "      <td>0</td>\n",
       "      <td>0</td>\n",
       "      <td>45</td>\n",
       "      <td>0</td>\n",
       "      <td>No phone service</td>\n",
       "      <td>DSL</td>\n",
       "      <td>Yes</td>\n",
       "      <td>No</td>\n",
       "      <td>Yes</td>\n",
       "      <td>Yes</td>\n",
       "      <td>No</td>\n",
       "      <td>No</td>\n",
       "      <td>One year</td>\n",
       "      <td>0</td>\n",
       "      <td>Bank transfer (automatic)</td>\n",
       "      <td>42.30</td>\n",
       "      <td>1840.75</td>\n",
       "      <td>0</td>\n",
       "    </tr>\n",
       "    <tr>\n",
       "      <th>4</th>\n",
       "      <td>0</td>\n",
       "      <td>0</td>\n",
       "      <td>0</td>\n",
       "      <td>0</td>\n",
       "      <td>2</td>\n",
       "      <td>1</td>\n",
       "      <td>No</td>\n",
       "      <td>Fiber optic</td>\n",
       "      <td>No</td>\n",
       "      <td>No</td>\n",
       "      <td>No</td>\n",
       "      <td>No</td>\n",
       "      <td>No</td>\n",
       "      <td>No</td>\n",
       "      <td>Month-to-month</td>\n",
       "      <td>1</td>\n",
       "      <td>Electronic check</td>\n",
       "      <td>70.70</td>\n",
       "      <td>151.65</td>\n",
       "      <td>1</td>\n",
       "    </tr>\n",
       "  </tbody>\n",
       "</table>\n",
       "</div>"
      ],
      "text/plain": [
       "   gender  SeniorCitizen  Partner  Dependents  tenure  PhoneService  \\\n",
       "0       0              0        1           0       1             0   \n",
       "1       1              0        0           0      34             1   \n",
       "2       1              0        0           0       2             1   \n",
       "3       1              0        0           0      45             0   \n",
       "4       0              0        0           0       2             1   \n",
       "\n",
       "      MultipleLines InternetService OnlineSecurity OnlineBackup  \\\n",
       "0  No phone service             DSL             No          Yes   \n",
       "1                No             DSL            Yes           No   \n",
       "2                No             DSL            Yes          Yes   \n",
       "3  No phone service             DSL            Yes           No   \n",
       "4                No     Fiber optic             No           No   \n",
       "\n",
       "  DeviceProtection TechSupport StreamingTV StreamingMovies        Contract  \\\n",
       "0               No          No          No              No  Month-to-month   \n",
       "1              Yes          No          No              No        One year   \n",
       "2               No          No          No              No  Month-to-month   \n",
       "3              Yes         Yes          No              No        One year   \n",
       "4               No          No          No              No  Month-to-month   \n",
       "\n",
       "   PaperlessBilling              PaymentMethod  MonthlyCharges  TotalCharges  \\\n",
       "0                 1           Electronic check           29.85         29.85   \n",
       "1                 0               Mailed check           56.95       1889.50   \n",
       "2                 1               Mailed check           53.85        108.15   \n",
       "3                 0  Bank transfer (automatic)           42.30       1840.75   \n",
       "4                 1           Electronic check           70.70        151.65   \n",
       "\n",
       "   Churn  \n",
       "0      0  \n",
       "1      0  \n",
       "2      1  \n",
       "3      0  \n",
       "4      1  "
      ]
     },
     "execution_count": 32,
     "metadata": {},
     "output_type": "execute_result"
    }
   ],
   "source": [
    "from sklearn import preprocessing\n",
    "LE = preprocessing.LabelBinarizer()\n",
    "df['gender'] = LE.fit_transform(list(df['gender']))\n",
    "df['SeniorCitizen'] = LE.fit_transform(list(df['SeniorCitizen']))\n",
    "df['Partner'] = LE.fit_transform(list(df['Partner']))\n",
    "df['Dependents'] = LE.fit_transform(list(df['Dependents']))\n",
    "df['PhoneService'] = LE.fit_transform(list(df['PhoneService']))\n",
    "df['PaperlessBilling'] = LE.fit_transform(list(df['PaperlessBilling']))\n",
    "df.head()"
   ]
  },
  {
   "cell_type": "code",
   "execution_count": 33,
   "metadata": {},
   "outputs": [
    {
     "data": {
      "text/html": [
       "<div>\n",
       "<style scoped>\n",
       "    .dataframe tbody tr th:only-of-type {\n",
       "        vertical-align: middle;\n",
       "    }\n",
       "\n",
       "    .dataframe tbody tr th {\n",
       "        vertical-align: top;\n",
       "    }\n",
       "\n",
       "    .dataframe thead th {\n",
       "        text-align: right;\n",
       "    }\n",
       "</style>\n",
       "<table border=\"1\" class=\"dataframe\">\n",
       "  <thead>\n",
       "    <tr style=\"text-align: right;\">\n",
       "      <th></th>\n",
       "      <th>gender</th>\n",
       "      <th>SeniorCitizen</th>\n",
       "      <th>Partner</th>\n",
       "      <th>Dependents</th>\n",
       "      <th>tenure</th>\n",
       "      <th>PhoneService</th>\n",
       "      <th>MultipleLines</th>\n",
       "      <th>InternetService</th>\n",
       "      <th>OnlineSecurity</th>\n",
       "      <th>OnlineBackup</th>\n",
       "      <th>DeviceProtection</th>\n",
       "      <th>TechSupport</th>\n",
       "      <th>StreamingTV</th>\n",
       "      <th>StreamingMovies</th>\n",
       "      <th>Contract</th>\n",
       "      <th>PaperlessBilling</th>\n",
       "      <th>PaymentMethod</th>\n",
       "      <th>MonthlyCharges</th>\n",
       "      <th>TotalCharges</th>\n",
       "      <th>Churn</th>\n",
       "    </tr>\n",
       "  </thead>\n",
       "  <tbody>\n",
       "    <tr>\n",
       "      <th>0</th>\n",
       "      <td>0</td>\n",
       "      <td>0</td>\n",
       "      <td>1</td>\n",
       "      <td>0</td>\n",
       "      <td>1</td>\n",
       "      <td>0</td>\n",
       "      <td>1.0</td>\n",
       "      <td>0.0</td>\n",
       "      <td>0.0</td>\n",
       "      <td>2.0</td>\n",
       "      <td>0.0</td>\n",
       "      <td>0.0</td>\n",
       "      <td>0.0</td>\n",
       "      <td>0.0</td>\n",
       "      <td>0.0</td>\n",
       "      <td>1</td>\n",
       "      <td>2.0</td>\n",
       "      <td>29.85</td>\n",
       "      <td>29.85</td>\n",
       "      <td>0</td>\n",
       "    </tr>\n",
       "    <tr>\n",
       "      <th>1</th>\n",
       "      <td>1</td>\n",
       "      <td>0</td>\n",
       "      <td>0</td>\n",
       "      <td>0</td>\n",
       "      <td>34</td>\n",
       "      <td>1</td>\n",
       "      <td>0.0</td>\n",
       "      <td>0.0</td>\n",
       "      <td>2.0</td>\n",
       "      <td>0.0</td>\n",
       "      <td>2.0</td>\n",
       "      <td>0.0</td>\n",
       "      <td>0.0</td>\n",
       "      <td>0.0</td>\n",
       "      <td>1.0</td>\n",
       "      <td>0</td>\n",
       "      <td>3.0</td>\n",
       "      <td>56.95</td>\n",
       "      <td>1889.50</td>\n",
       "      <td>0</td>\n",
       "    </tr>\n",
       "    <tr>\n",
       "      <th>2</th>\n",
       "      <td>1</td>\n",
       "      <td>0</td>\n",
       "      <td>0</td>\n",
       "      <td>0</td>\n",
       "      <td>2</td>\n",
       "      <td>1</td>\n",
       "      <td>0.0</td>\n",
       "      <td>0.0</td>\n",
       "      <td>2.0</td>\n",
       "      <td>2.0</td>\n",
       "      <td>0.0</td>\n",
       "      <td>0.0</td>\n",
       "      <td>0.0</td>\n",
       "      <td>0.0</td>\n",
       "      <td>0.0</td>\n",
       "      <td>1</td>\n",
       "      <td>3.0</td>\n",
       "      <td>53.85</td>\n",
       "      <td>108.15</td>\n",
       "      <td>1</td>\n",
       "    </tr>\n",
       "    <tr>\n",
       "      <th>3</th>\n",
       "      <td>1</td>\n",
       "      <td>0</td>\n",
       "      <td>0</td>\n",
       "      <td>0</td>\n",
       "      <td>45</td>\n",
       "      <td>0</td>\n",
       "      <td>1.0</td>\n",
       "      <td>0.0</td>\n",
       "      <td>2.0</td>\n",
       "      <td>0.0</td>\n",
       "      <td>2.0</td>\n",
       "      <td>2.0</td>\n",
       "      <td>0.0</td>\n",
       "      <td>0.0</td>\n",
       "      <td>1.0</td>\n",
       "      <td>0</td>\n",
       "      <td>0.0</td>\n",
       "      <td>42.30</td>\n",
       "      <td>1840.75</td>\n",
       "      <td>0</td>\n",
       "    </tr>\n",
       "    <tr>\n",
       "      <th>4</th>\n",
       "      <td>0</td>\n",
       "      <td>0</td>\n",
       "      <td>0</td>\n",
       "      <td>0</td>\n",
       "      <td>2</td>\n",
       "      <td>1</td>\n",
       "      <td>0.0</td>\n",
       "      <td>1.0</td>\n",
       "      <td>0.0</td>\n",
       "      <td>0.0</td>\n",
       "      <td>0.0</td>\n",
       "      <td>0.0</td>\n",
       "      <td>0.0</td>\n",
       "      <td>0.0</td>\n",
       "      <td>0.0</td>\n",
       "      <td>1</td>\n",
       "      <td>2.0</td>\n",
       "      <td>70.70</td>\n",
       "      <td>151.65</td>\n",
       "      <td>1</td>\n",
       "    </tr>\n",
       "    <tr>\n",
       "      <th>...</th>\n",
       "      <td>...</td>\n",
       "      <td>...</td>\n",
       "      <td>...</td>\n",
       "      <td>...</td>\n",
       "      <td>...</td>\n",
       "      <td>...</td>\n",
       "      <td>...</td>\n",
       "      <td>...</td>\n",
       "      <td>...</td>\n",
       "      <td>...</td>\n",
       "      <td>...</td>\n",
       "      <td>...</td>\n",
       "      <td>...</td>\n",
       "      <td>...</td>\n",
       "      <td>...</td>\n",
       "      <td>...</td>\n",
       "      <td>...</td>\n",
       "      <td>...</td>\n",
       "      <td>...</td>\n",
       "      <td>...</td>\n",
       "    </tr>\n",
       "    <tr>\n",
       "      <th>7038</th>\n",
       "      <td>1</td>\n",
       "      <td>0</td>\n",
       "      <td>1</td>\n",
       "      <td>1</td>\n",
       "      <td>24</td>\n",
       "      <td>1</td>\n",
       "      <td>2.0</td>\n",
       "      <td>0.0</td>\n",
       "      <td>2.0</td>\n",
       "      <td>0.0</td>\n",
       "      <td>2.0</td>\n",
       "      <td>2.0</td>\n",
       "      <td>2.0</td>\n",
       "      <td>2.0</td>\n",
       "      <td>1.0</td>\n",
       "      <td>1</td>\n",
       "      <td>3.0</td>\n",
       "      <td>84.80</td>\n",
       "      <td>1990.50</td>\n",
       "      <td>0</td>\n",
       "    </tr>\n",
       "    <tr>\n",
       "      <th>7039</th>\n",
       "      <td>0</td>\n",
       "      <td>0</td>\n",
       "      <td>1</td>\n",
       "      <td>1</td>\n",
       "      <td>72</td>\n",
       "      <td>1</td>\n",
       "      <td>2.0</td>\n",
       "      <td>1.0</td>\n",
       "      <td>0.0</td>\n",
       "      <td>2.0</td>\n",
       "      <td>2.0</td>\n",
       "      <td>0.0</td>\n",
       "      <td>2.0</td>\n",
       "      <td>2.0</td>\n",
       "      <td>1.0</td>\n",
       "      <td>1</td>\n",
       "      <td>1.0</td>\n",
       "      <td>103.20</td>\n",
       "      <td>7362.90</td>\n",
       "      <td>0</td>\n",
       "    </tr>\n",
       "    <tr>\n",
       "      <th>7040</th>\n",
       "      <td>0</td>\n",
       "      <td>0</td>\n",
       "      <td>1</td>\n",
       "      <td>1</td>\n",
       "      <td>11</td>\n",
       "      <td>0</td>\n",
       "      <td>1.0</td>\n",
       "      <td>0.0</td>\n",
       "      <td>2.0</td>\n",
       "      <td>0.0</td>\n",
       "      <td>0.0</td>\n",
       "      <td>0.0</td>\n",
       "      <td>0.0</td>\n",
       "      <td>0.0</td>\n",
       "      <td>0.0</td>\n",
       "      <td>1</td>\n",
       "      <td>2.0</td>\n",
       "      <td>29.60</td>\n",
       "      <td>346.45</td>\n",
       "      <td>0</td>\n",
       "    </tr>\n",
       "    <tr>\n",
       "      <th>7041</th>\n",
       "      <td>1</td>\n",
       "      <td>1</td>\n",
       "      <td>1</td>\n",
       "      <td>0</td>\n",
       "      <td>4</td>\n",
       "      <td>1</td>\n",
       "      <td>2.0</td>\n",
       "      <td>1.0</td>\n",
       "      <td>0.0</td>\n",
       "      <td>0.0</td>\n",
       "      <td>0.0</td>\n",
       "      <td>0.0</td>\n",
       "      <td>0.0</td>\n",
       "      <td>0.0</td>\n",
       "      <td>0.0</td>\n",
       "      <td>1</td>\n",
       "      <td>3.0</td>\n",
       "      <td>74.40</td>\n",
       "      <td>306.60</td>\n",
       "      <td>1</td>\n",
       "    </tr>\n",
       "    <tr>\n",
       "      <th>7042</th>\n",
       "      <td>1</td>\n",
       "      <td>0</td>\n",
       "      <td>0</td>\n",
       "      <td>0</td>\n",
       "      <td>66</td>\n",
       "      <td>1</td>\n",
       "      <td>0.0</td>\n",
       "      <td>1.0</td>\n",
       "      <td>2.0</td>\n",
       "      <td>0.0</td>\n",
       "      <td>2.0</td>\n",
       "      <td>2.0</td>\n",
       "      <td>2.0</td>\n",
       "      <td>2.0</td>\n",
       "      <td>2.0</td>\n",
       "      <td>1</td>\n",
       "      <td>0.0</td>\n",
       "      <td>105.65</td>\n",
       "      <td>6844.50</td>\n",
       "      <td>0</td>\n",
       "    </tr>\n",
       "  </tbody>\n",
       "</table>\n",
       "<p>7032 rows × 20 columns</p>\n",
       "</div>"
      ],
      "text/plain": [
       "      gender  SeniorCitizen  Partner  Dependents  tenure  PhoneService  \\\n",
       "0          0              0        1           0       1             0   \n",
       "1          1              0        0           0      34             1   \n",
       "2          1              0        0           0       2             1   \n",
       "3          1              0        0           0      45             0   \n",
       "4          0              0        0           0       2             1   \n",
       "...      ...            ...      ...         ...     ...           ...   \n",
       "7038       1              0        1           1      24             1   \n",
       "7039       0              0        1           1      72             1   \n",
       "7040       0              0        1           1      11             0   \n",
       "7041       1              1        1           0       4             1   \n",
       "7042       1              0        0           0      66             1   \n",
       "\n",
       "      MultipleLines  InternetService  OnlineSecurity  OnlineBackup  \\\n",
       "0               1.0              0.0             0.0           2.0   \n",
       "1               0.0              0.0             2.0           0.0   \n",
       "2               0.0              0.0             2.0           2.0   \n",
       "3               1.0              0.0             2.0           0.0   \n",
       "4               0.0              1.0             0.0           0.0   \n",
       "...             ...              ...             ...           ...   \n",
       "7038            2.0              0.0             2.0           0.0   \n",
       "7039            2.0              1.0             0.0           2.0   \n",
       "7040            1.0              0.0             2.0           0.0   \n",
       "7041            2.0              1.0             0.0           0.0   \n",
       "7042            0.0              1.0             2.0           0.0   \n",
       "\n",
       "      DeviceProtection  TechSupport  StreamingTV  StreamingMovies  Contract  \\\n",
       "0                  0.0          0.0          0.0              0.0       0.0   \n",
       "1                  2.0          0.0          0.0              0.0       1.0   \n",
       "2                  0.0          0.0          0.0              0.0       0.0   \n",
       "3                  2.0          2.0          0.0              0.0       1.0   \n",
       "4                  0.0          0.0          0.0              0.0       0.0   \n",
       "...                ...          ...          ...              ...       ...   \n",
       "7038               2.0          2.0          2.0              2.0       1.0   \n",
       "7039               2.0          0.0          2.0              2.0       1.0   \n",
       "7040               0.0          0.0          0.0              0.0       0.0   \n",
       "7041               0.0          0.0          0.0              0.0       0.0   \n",
       "7042               2.0          2.0          2.0              2.0       2.0   \n",
       "\n",
       "      PaperlessBilling  PaymentMethod  MonthlyCharges  TotalCharges  Churn  \n",
       "0                    1            2.0           29.85         29.85      0  \n",
       "1                    0            3.0           56.95       1889.50      0  \n",
       "2                    1            3.0           53.85        108.15      1  \n",
       "3                    0            0.0           42.30       1840.75      0  \n",
       "4                    1            2.0           70.70        151.65      1  \n",
       "...                ...            ...             ...           ...    ...  \n",
       "7038                 1            3.0           84.80       1990.50      0  \n",
       "7039                 1            1.0          103.20       7362.90      0  \n",
       "7040                 1            2.0           29.60        346.45      0  \n",
       "7041                 1            3.0           74.40        306.60      1  \n",
       "7042                 1            0.0          105.65       6844.50      0  \n",
       "\n",
       "[7032 rows x 20 columns]"
      ]
     },
     "execution_count": 33,
     "metadata": {},
     "output_type": "execute_result"
    }
   ],
   "source": [
    "import numpy as np\n",
    "from sklearn.preprocessing import OrdinalEncoder\n",
    "OE=OrdinalEncoder()\n",
    "df['MultipleLines']= OE.fit_transform(df.MultipleLines.values.reshape(-1,1))\n",
    "df['InternetService'] = OE.fit_transform(df.InternetService.values.reshape(-1,1))\n",
    "df['OnlineSecurity'] = OE.fit_transform(df.OnlineSecurity.values.reshape(-1,1))\n",
    "df['OnlineBackup']=OE.fit_transform(df.OnlineBackup.values.reshape(-1,1))\n",
    "df['DeviceProtection'] = OE.fit_transform(df.DeviceProtection.values.reshape(-1,1))\n",
    "df['TechSupport'] = OE.fit_transform(df.TechSupport.values.reshape(-1,1))\n",
    "df['StreamingTV']= OE.fit_transform(df.StreamingTV.values.reshape(-1,1))\n",
    "df['StreamingMovies'] = OE.fit_transform(df.StreamingMovies.values.reshape(-1,1))\n",
    "df['Contract']=OE.fit_transform(df.Contract.values.reshape(-1,1))\n",
    "df['PaymentMethod']= OE.fit_transform(df.PaymentMethod.values.reshape(-1,1))\n",
    "df"
   ]
  },
  {
   "cell_type": "markdown",
   "metadata": {},
   "source": [
    "Check the data types of all values (categorical) in each column to determine if any conversion have to be made.\n",
    "\n",
    "This is done because performing statisticaly measures on larger than required data types and non numerical types (ex : object) \n",
    "can give false results when calculating statistical results"
   ]
  },
  {
   "cell_type": "code",
   "execution_count": 34,
   "metadata": {},
   "outputs": [
    {
     "name": "stdout",
     "output_type": "stream",
     "text": [
      "gender                int64\n",
      "SeniorCitizen         int64\n",
      "Partner               int64\n",
      "Dependents            int64\n",
      "tenure                int64\n",
      "PhoneService          int64\n",
      "MultipleLines       float64\n",
      "InternetService     float64\n",
      "OnlineSecurity      float64\n",
      "OnlineBackup        float64\n",
      "DeviceProtection    float64\n",
      "TechSupport         float64\n",
      "StreamingTV         float64\n",
      "StreamingMovies     float64\n",
      "Contract            float64\n",
      "PaperlessBilling      int64\n",
      "PaymentMethod       float64\n",
      "MonthlyCharges      float64\n",
      "TotalCharges        float64\n",
      "Churn                 int64\n",
      "dtype: object\n"
     ]
    }
   ],
   "source": [
    "# Check the data types of all values in each column to determine if any conversion have to be made.\n",
    "print(df.dtypes)"
   ]
  },
  {
   "cell_type": "markdown",
   "metadata": {},
   "source": [
    "Because of encoding done earlier, all categorical variables are now represented as integer data tyeps. \n",
    "\n",
    "Now, we check the max / min range of these variables and perform data compression wherever appropriate"
   ]
  },
  {
   "cell_type": "code",
   "execution_count": 35,
   "metadata": {},
   "outputs": [
    {
     "name": "stdout",
     "output_type": "stream",
     "text": [
      "127\n",
      "Converting data types of  gender  to int8 as max value is only :  1\n",
      "Converting data types of  SeniorCitizen  to int8 as max value is only :  1\n",
      "Converting data types of  Partner  to int8 as max value is only :  1\n",
      "Converting data types of  Dependents  to int8 as max value is only :  1\n",
      "Converting data types of  PhoneService  to int8 as max value is only :  1\n",
      "Converting data types of  MultipleLines  to int8 as max value is only :  2.0\n",
      "Converting data types of  InternetService  to int8 as max value is only :  2.0\n",
      "Converting data types of  OnlineSecurity  to int8 as max value is only :  2.0\n",
      "Converting data types of  OnlineBackup  to int8 as max value is only :  2.0\n",
      "Converting data types of  DeviceProtection  to int8 as max value is only :  2.0\n",
      "Converting data types of  TechSupport  to int8 as max value is only :  2.0\n",
      "Converting data types of  StreamingTV  to int8 as max value is only :  2.0\n",
      "Converting data types of  StreamingMovies  to int8 as max value is only :  2.0\n",
      "Converting data types of  Contract  to int8 as max value is only :  2.0\n",
      "Converting data types of  PaperlessBilling  to int8 as max value is only :  1\n",
      "Converting data types of  PaymentMethod  to int8 as max value is only :  3.0\n",
      "Data types after performing conversions:\n"
     ]
    },
    {
     "data": {
      "text/plain": [
       "gender                 int8\n",
       "SeniorCitizen          int8\n",
       "Partner                int8\n",
       "Dependents             int8\n",
       "tenure                int64\n",
       "PhoneService           int8\n",
       "MultipleLines          int8\n",
       "InternetService        int8\n",
       "OnlineSecurity         int8\n",
       "OnlineBackup           int8\n",
       "DeviceProtection       int8\n",
       "TechSupport            int8\n",
       "StreamingTV            int8\n",
       "StreamingMovies        int8\n",
       "Contract               int8\n",
       "PaperlessBilling       int8\n",
       "PaymentMethod          int8\n",
       "MonthlyCharges      float64\n",
       "TotalCharges        float64\n",
       "Churn                 int64\n",
       "dtype: object"
      ]
     },
     "execution_count": 35,
     "metadata": {},
     "output_type": "execute_result"
    }
   ],
   "source": [
    "ii8 = np.iinfo(np.int8)\n",
    "ii16 = np.iinfo(np.int16)\n",
    "ii32 = np.iinfo(np.int32)\n",
    "ii64 = np.iinfo(np.int64)\n",
    "\n",
    "print(ii8.max)\n",
    "for category in categorical:\n",
    "    max_value = df[category].max()\n",
    "    min_value = df[category].min()\n",
    "\n",
    "    if max_value < ii8.max:\n",
    "        print(\"Converting data types of \", category, \" to int8 as max value is only : \", max_value)\n",
    "        df[category] = df[category].astype(np.int8)\n",
    "\n",
    "    elif max_value < ii16.max:\n",
    "        print(\"Converting data types of \", category, \" to int16 as max value is only : \", max_value)\n",
    "        df[category] = df[category].astype(np.int16)\n",
    "\n",
    "    elif max_value < ii32.max:\n",
    "        print(\"Converting data types of \", category, \" to int32 as max value is only : \", max_value)\n",
    "        df[category] = df[category].astype(np.int32)\n",
    "\n",
    "    elif max_value < ii64.max:\n",
    "        print(\"Converting data types of \", category, \" to int64 as max value is only : \", max_value)\n",
    "        df[category] = df[category].astype(np.int64)\n",
    "\n",
    "print(\"Data types after performing conversions:\")\n",
    "df.dtypes"
   ]
  },
  {
   "cell_type": "markdown",
   "metadata": {},
   "source": [
    "We can observe that TotalCharges has a data type of float64. We check the range of values it holds to determine if casting to a \n",
    "smaller type (float16, for example) is possible."
   ]
  },
  {
   "cell_type": "code",
   "execution_count": 36,
   "metadata": {},
   "outputs": [
    {
     "name": "stdout",
     "output_type": "stream",
     "text": [
      "Converting data types of  TotalCharges  to f16 as max value is only :  8684.8\n",
      "New data type of  TotalCharges  :  float16\n"
     ]
    }
   ],
   "source": [
    "f16 = np.finfo(np.float16)\n",
    "f32 = np.finfo(np.float32)\n",
    "f64 = np.finfo(np.float64)\n",
    "\n",
    "category = 'TotalCharges'\n",
    "\n",
    "max_value = df[category].max()\n",
    "min_value = df[category].min()\n",
    "\n",
    "\n",
    "if max_value < f16.max:\n",
    "    print(\"Converting data types of \", category, \" to f16 as max value is only : \", max_value)\n",
    "    df[category] = df[category].astype(np.float16)\n",
    "\n",
    "elif max_value < f32.max:\n",
    "    print(\"Converting data types of \", category, \" to f32 as max value is only : \", max_value)\n",
    "    df[category] = df[category].astype(np.float32)\n",
    "\n",
    "elif max_value < f64.max:\n",
    "    print(\"Converting data types of \", category, \" to f64 as max value is only : \", max_value)\n",
    "    df[category] = df[category].astype(np.float64)\n",
    "\n",
    "print(\"New data type of \", category, \" : \", df[category].dtype)"
   ]
  },
  {
   "cell_type": "markdown",
   "metadata": {},
   "source": [
    "## Plotting "
   ]
  },
  {
   "cell_type": "code",
   "execution_count": 37,
   "metadata": {},
   "outputs": [
    {
     "data": {
      "text/plain": [
       "<AxesSubplot:>"
      ]
     },
     "execution_count": 37,
     "metadata": {},
     "output_type": "execute_result"
    },
    {
     "data": {
      "image/png": "[encoded data removed]",
      "text/plain": [
       "<Figure size 1440x1440 with 2 Axes>"
      ]
     },
     "metadata": {
      "needs_background": "light"
     },
     "output_type": "display_data"
    }
   ],
   "source": [
    "corr = abs(df.corr())\n",
    "plt.figure(figsize=(20,20))\n",
    "sns.heatmap(corr, annot=True)"
   ]
  },
  {
   "cell_type": "markdown",
   "metadata": {},
   "source": [
    "Analysis of the HeatMap (correlation Map):"
   ]
  },
  {
   "cell_type": "markdown",
   "metadata": {},
   "source": [
    "* Correlation between target (Churn) and independent variables \\\n",
    "    We can see the independent variables (gender, phoneService, MultipleLines, InternetService, StreamingTV, StreamingMovies, PaymentMethod) have a correlation value < 0.15 when compared to Churn.\n",
    "    This implies that we cannot directly uses these variables for prediction using linear regression, but we can definitely use multiple regression, decision tree etc"
   ]
  },
  {
   "cell_type": "markdown",
   "metadata": {},
   "source": [
    "* Correlation between the independent variables \\\n",
    "    We can see that between the independent variables, the pairs (Contract, Tenure), (TotalCharges, Tenure) and (MonthlyCharges, TotalCharges) have very high correlation values. This significant intercorrelation can cause multicollinearity problems."
   ]
  },
  {
   "cell_type": "markdown",
   "metadata": {},
   "source": [
    "Determining which records contribute more towards Churn:\n",
    "\n",
    "* Correlations of Contract, TotalCharges, and MonthlyCharges, Tenure vs Churn \n",
    "    >Contract -> 0.68 \\\n",
    "    TotalCharges -> 0.83 \\\n",
    "    MonthlyCharges -> 0.25 \\\n",
    "    Tenure -> 0.35 \n",
    "\n",
    "    We could drop MonthlyCharges and Tenure in favour of TotalCharges and MonthlyCharges as the laters have higher correlation with the Target variable. Doing so would remove multicollinearity problems.\n"
   ]
  },
  {
   "cell_type": "markdown",
   "metadata": {},
   "source": [
    "Determining outliers in Continuos variables"
   ]
  },
  {
   "cell_type": "code",
   "execution_count": 38,
   "metadata": {},
   "outputs": [
    {
     "data": {
      "image/png": "[encoded data removed]",
      "text/plain": [
       "<Figure size 432x288 with 1 Axes>"
      ]
     },
     "metadata": {
      "needs_background": "light"
     },
     "output_type": "display_data"
    },
    {
     "data": {
      "image/png": "[encoded data removed]",
      "text/plain": [
       "<Figure size 432x288 with 1 Axes>"
      ]
     },
     "metadata": {
      "needs_background": "light"
     },
     "output_type": "display_data"
    },
    {
     "data": {
      "text/plain": [
       "<AxesSubplot:title={'center':'TotalCharges'}>"
      ]
     },
     "execution_count": 38,
     "metadata": {},
     "output_type": "execute_result"
    },
    {
     "data": {
      "image/png": "[encoded data removed]",
      "text/plain": [
       "<Figure size 432x288 with 1 Axes>"
      ]
     },
     "metadata": {
      "needs_background": "light"
     },
     "output_type": "display_data"
    }
   ],
   "source": [
    "plt.title(\"Tenure\")\n",
    "sns.boxplot(data=df, x=df['tenure'])\n",
    "plt.show()\n",
    "\n",
    "plt.title(\"MonthlyCharges\")\n",
    "sns.boxplot(data=df['MonthlyCharges'])\n",
    "plt.show()\n",
    "\n",
    "plt.title(\"TotalCharges\")\n",
    "sns.boxplot(data=df['TotalCharges'])"
   ]
  },
  {
   "cell_type": "markdown",
   "metadata": {},
   "source": [
    "There is no outliers in the continuous variables."
   ]
  },
  {
   "cell_type": "markdown",
   "metadata": {},
   "source": [
    "View continuous variables in a histogram to determine if scaling should be used."
   ]
  },
  {
   "cell_type": "code",
   "execution_count": 39,
   "metadata": {},
   "outputs": [
    {
     "data": {
      "image/png": "[encoded data removed]",
      "text/plain": [
       "<Figure size 432x288 with 1 Axes>"
      ]
     },
     "metadata": {
      "needs_background": "light"
     },
     "output_type": "display_data"
    },
    {
     "data": {
      "image/png": "[encoded data removed]",
      "text/plain": [
       "<Figure size 432x288 with 1 Axes>"
      ]
     },
     "metadata": {
      "needs_background": "light"
     },
     "output_type": "display_data"
    },
    {
     "data": {
      "image/png": "[encoded data removed]",
      "text/plain": [
       "<Figure size 432x288 with 1 Axes>"
      ]
     },
     "metadata": {
      "needs_background": "light"
     },
     "output_type": "display_data"
    }
   ],
   "source": [
    "plt.title('Tenure')\n",
    "sns.histplot(data=df, x=df['tenure'], kde=True)\n",
    "plt.show()\n",
    "\n",
    "plt.title('TotalCharges')\n",
    "sns.histplot(data=df, x=df['TotalCharges'], kde=True)\n",
    "plt.show()\n",
    "\n",
    "plt.title('Monthly Charges')\n",
    "sns.histplot(data=df, x=df['MonthlyCharges'], kde=True)\n",
    "plt.show()"
   ]
  },
  {
   "cell_type": "markdown",
   "metadata": {},
   "source": [
    "Inferences\n",
    "> None of the continuos variables match normal distribution.\n",
    "> The second graph (i.e TotalCharges) can be scaled using min max scaling as the data should a continuus decreasing trend.\n",
    "> The third graph (i.e MonthlyCharges) varies on a random basis.\n"
   ]
  },
  {
   "cell_type": "code",
   "execution_count": 40,
   "metadata": {},
   "outputs": [
    {
     "data": {
      "text/html": [
       "<div>\n",
       "<style scoped>\n",
       "    .dataframe tbody tr th:only-of-type {\n",
       "        vertical-align: middle;\n",
       "    }\n",
       "\n",
       "    .dataframe tbody tr th {\n",
       "        vertical-align: top;\n",
       "    }\n",
       "\n",
       "    .dataframe thead th {\n",
       "        text-align: right;\n",
       "    }\n",
       "</style>\n",
       "<table border=\"1\" class=\"dataframe\">\n",
       "  <thead>\n",
       "    <tr style=\"text-align: right;\">\n",
       "      <th></th>\n",
       "      <th>gender</th>\n",
       "      <th>SeniorCitizen</th>\n",
       "      <th>Partner</th>\n",
       "      <th>Dependents</th>\n",
       "      <th>tenure</th>\n",
       "      <th>PhoneService</th>\n",
       "      <th>MultipleLines</th>\n",
       "      <th>InternetService</th>\n",
       "      <th>OnlineSecurity</th>\n",
       "      <th>OnlineBackup</th>\n",
       "      <th>DeviceProtection</th>\n",
       "      <th>TechSupport</th>\n",
       "      <th>StreamingTV</th>\n",
       "      <th>StreamingMovies</th>\n",
       "      <th>Contract</th>\n",
       "      <th>PaperlessBilling</th>\n",
       "      <th>PaymentMethod</th>\n",
       "      <th>MonthlyCharges</th>\n",
       "      <th>TotalCharges</th>\n",
       "      <th>Churn</th>\n",
       "    </tr>\n",
       "  </thead>\n",
       "  <tbody>\n",
       "    <tr>\n",
       "      <th>0</th>\n",
       "      <td>0</td>\n",
       "      <td>0</td>\n",
       "      <td>1</td>\n",
       "      <td>0</td>\n",
       "      <td>1</td>\n",
       "      <td>0</td>\n",
       "      <td>1</td>\n",
       "      <td>0</td>\n",
       "      <td>0</td>\n",
       "      <td>2</td>\n",
       "      <td>0</td>\n",
       "      <td>0</td>\n",
       "      <td>0</td>\n",
       "      <td>0</td>\n",
       "      <td>0</td>\n",
       "      <td>1</td>\n",
       "      <td>2</td>\n",
       "      <td>29.85</td>\n",
       "      <td>29.84375</td>\n",
       "      <td>0</td>\n",
       "    </tr>\n",
       "    <tr>\n",
       "      <th>1</th>\n",
       "      <td>1</td>\n",
       "      <td>0</td>\n",
       "      <td>0</td>\n",
       "      <td>0</td>\n",
       "      <td>34</td>\n",
       "      <td>1</td>\n",
       "      <td>0</td>\n",
       "      <td>0</td>\n",
       "      <td>2</td>\n",
       "      <td>0</td>\n",
       "      <td>2</td>\n",
       "      <td>0</td>\n",
       "      <td>0</td>\n",
       "      <td>0</td>\n",
       "      <td>1</td>\n",
       "      <td>0</td>\n",
       "      <td>3</td>\n",
       "      <td>56.95</td>\n",
       "      <td>1890.00000</td>\n",
       "      <td>0</td>\n",
       "    </tr>\n",
       "    <tr>\n",
       "      <th>2</th>\n",
       "      <td>1</td>\n",
       "      <td>0</td>\n",
       "      <td>0</td>\n",
       "      <td>0</td>\n",
       "      <td>2</td>\n",
       "      <td>1</td>\n",
       "      <td>0</td>\n",
       "      <td>0</td>\n",
       "      <td>2</td>\n",
       "      <td>2</td>\n",
       "      <td>0</td>\n",
       "      <td>0</td>\n",
       "      <td>0</td>\n",
       "      <td>0</td>\n",
       "      <td>0</td>\n",
       "      <td>1</td>\n",
       "      <td>3</td>\n",
       "      <td>53.85</td>\n",
       "      <td>108.12500</td>\n",
       "      <td>1</td>\n",
       "    </tr>\n",
       "    <tr>\n",
       "      <th>3</th>\n",
       "      <td>1</td>\n",
       "      <td>0</td>\n",
       "      <td>0</td>\n",
       "      <td>0</td>\n",
       "      <td>45</td>\n",
       "      <td>0</td>\n",
       "      <td>1</td>\n",
       "      <td>0</td>\n",
       "      <td>2</td>\n",
       "      <td>0</td>\n",
       "      <td>2</td>\n",
       "      <td>2</td>\n",
       "      <td>0</td>\n",
       "      <td>0</td>\n",
       "      <td>1</td>\n",
       "      <td>0</td>\n",
       "      <td>0</td>\n",
       "      <td>42.30</td>\n",
       "      <td>1841.00000</td>\n",
       "      <td>0</td>\n",
       "    </tr>\n",
       "    <tr>\n",
       "      <th>4</th>\n",
       "      <td>0</td>\n",
       "      <td>0</td>\n",
       "      <td>0</td>\n",
       "      <td>0</td>\n",
       "      <td>2</td>\n",
       "      <td>1</td>\n",
       "      <td>0</td>\n",
       "      <td>1</td>\n",
       "      <td>0</td>\n",
       "      <td>0</td>\n",
       "      <td>0</td>\n",
       "      <td>0</td>\n",
       "      <td>0</td>\n",
       "      <td>0</td>\n",
       "      <td>0</td>\n",
       "      <td>1</td>\n",
       "      <td>2</td>\n",
       "      <td>70.70</td>\n",
       "      <td>151.62500</td>\n",
       "      <td>1</td>\n",
       "    </tr>\n",
       "  </tbody>\n",
       "</table>\n",
       "</div>"
      ],
      "text/plain": [
       "   gender  SeniorCitizen  Partner  Dependents  tenure  PhoneService  \\\n",
       "0       0              0        1           0       1             0   \n",
       "1       1              0        0           0      34             1   \n",
       "2       1              0        0           0       2             1   \n",
       "3       1              0        0           0      45             0   \n",
       "4       0              0        0           0       2             1   \n",
       "\n",
       "   MultipleLines  InternetService  OnlineSecurity  OnlineBackup  \\\n",
       "0              1                0               0             2   \n",
       "1              0                0               2             0   \n",
       "2              0                0               2             2   \n",
       "3              1                0               2             0   \n",
       "4              0                1               0             0   \n",
       "\n",
       "   DeviceProtection  TechSupport  StreamingTV  StreamingMovies  Contract  \\\n",
       "0                 0            0            0                0         0   \n",
       "1                 2            0            0                0         1   \n",
       "2                 0            0            0                0         0   \n",
       "3                 2            2            0                0         1   \n",
       "4                 0            0            0                0         0   \n",
       "\n",
       "   PaperlessBilling  PaymentMethod  MonthlyCharges  TotalCharges  Churn  \n",
       "0                 1              2           29.85      29.84375      0  \n",
       "1                 0              3           56.95    1890.00000      0  \n",
       "2                 1              3           53.85     108.12500      1  \n",
       "3                 0              0           42.30    1841.00000      0  \n",
       "4                 1              2           70.70     151.62500      1  "
      ]
     },
     "execution_count": 40,
     "metadata": {},
     "output_type": "execute_result"
    }
   ],
   "source": [
    "df.head()"
   ]
  },
  {
   "cell_type": "code",
   "execution_count": 41,
   "metadata": {},
   "outputs": [
    {
     "name": "stdout",
     "output_type": "stream",
     "text": [
      "The dimensions of train data frame is (5625, 20) and test data frame is (1407, 20)\n"
     ]
    }
   ],
   "source": [
    "# Train and Test split\n",
    "from sklearn.model_selection import train_test_split as tts \n",
    "traindf, testdf = tts(df,test_size=0.2,random_state=42)\n",
    "print(f\"The dimensions of train data frame is {traindf.shape} and test data frame is {testdf.shape}\")"
   ]
  },
  {
   "cell_type": "code",
   "execution_count": 42,
   "metadata": {},
   "outputs": [
    {
     "data": {
      "text/plain": [
       "gender                 int8\n",
       "SeniorCitizen          int8\n",
       "Partner                int8\n",
       "Dependents             int8\n",
       "tenure                int64\n",
       "PhoneService           int8\n",
       "MultipleLines          int8\n",
       "InternetService        int8\n",
       "OnlineSecurity         int8\n",
       "OnlineBackup           int8\n",
       "DeviceProtection       int8\n",
       "TechSupport            int8\n",
       "StreamingTV            int8\n",
       "StreamingMovies        int8\n",
       "Contract               int8\n",
       "PaperlessBilling       int8\n",
       "PaymentMethod          int8\n",
       "MonthlyCharges      float64\n",
       "TotalCharges        float16\n",
       "Churn                 int64\n",
       "dtype: object"
      ]
     },
     "execution_count": 42,
     "metadata": {},
     "output_type": "execute_result"
    }
   ],
   "source": [
    "df.dtypes"
   ]
  },
  {
   "cell_type": "code",
   "execution_count": 43,
   "metadata": {},
   "outputs": [
    {
     "data": {
      "text/html": [
       "<div>\n",
       "<style scoped>\n",
       "    .dataframe tbody tr th:only-of-type {\n",
       "        vertical-align: middle;\n",
       "    }\n",
       "\n",
       "    .dataframe tbody tr th {\n",
       "        vertical-align: top;\n",
       "    }\n",
       "\n",
       "    .dataframe thead th {\n",
       "        text-align: right;\n",
       "    }\n",
       "</style>\n",
       "<table border=\"1\" class=\"dataframe\">\n",
       "  <thead>\n",
       "    <tr style=\"text-align: right;\">\n",
       "      <th></th>\n",
       "      <th>gender</th>\n",
       "      <th>SeniorCitizen</th>\n",
       "      <th>Partner</th>\n",
       "      <th>Dependents</th>\n",
       "      <th>tenure</th>\n",
       "      <th>PhoneService</th>\n",
       "      <th>MultipleLines</th>\n",
       "      <th>InternetService</th>\n",
       "      <th>OnlineSecurity</th>\n",
       "      <th>OnlineBackup</th>\n",
       "      <th>DeviceProtection</th>\n",
       "      <th>TechSupport</th>\n",
       "      <th>StreamingTV</th>\n",
       "      <th>StreamingMovies</th>\n",
       "      <th>Contract</th>\n",
       "      <th>PaperlessBilling</th>\n",
       "      <th>PaymentMethod</th>\n",
       "      <th>MonthlyCharges</th>\n",
       "      <th>TotalCharges</th>\n",
       "      <th>Churn</th>\n",
       "    </tr>\n",
       "  </thead>\n",
       "  <tbody>\n",
       "    <tr>\n",
       "      <th>0</th>\n",
       "      <td>0</td>\n",
       "      <td>0</td>\n",
       "      <td>1</td>\n",
       "      <td>0</td>\n",
       "      <td>1</td>\n",
       "      <td>0</td>\n",
       "      <td>1</td>\n",
       "      <td>0</td>\n",
       "      <td>0</td>\n",
       "      <td>2</td>\n",
       "      <td>0</td>\n",
       "      <td>0</td>\n",
       "      <td>0</td>\n",
       "      <td>0</td>\n",
       "      <td>0</td>\n",
       "      <td>1</td>\n",
       "      <td>2</td>\n",
       "      <td>29.85</td>\n",
       "      <td>29.84375</td>\n",
       "      <td>0</td>\n",
       "    </tr>\n",
       "    <tr>\n",
       "      <th>1</th>\n",
       "      <td>1</td>\n",
       "      <td>0</td>\n",
       "      <td>0</td>\n",
       "      <td>0</td>\n",
       "      <td>34</td>\n",
       "      <td>1</td>\n",
       "      <td>0</td>\n",
       "      <td>0</td>\n",
       "      <td>2</td>\n",
       "      <td>0</td>\n",
       "      <td>2</td>\n",
       "      <td>0</td>\n",
       "      <td>0</td>\n",
       "      <td>0</td>\n",
       "      <td>1</td>\n",
       "      <td>0</td>\n",
       "      <td>3</td>\n",
       "      <td>56.95</td>\n",
       "      <td>1890.00000</td>\n",
       "      <td>0</td>\n",
       "    </tr>\n",
       "    <tr>\n",
       "      <th>2</th>\n",
       "      <td>1</td>\n",
       "      <td>0</td>\n",
       "      <td>0</td>\n",
       "      <td>0</td>\n",
       "      <td>2</td>\n",
       "      <td>1</td>\n",
       "      <td>0</td>\n",
       "      <td>0</td>\n",
       "      <td>2</td>\n",
       "      <td>2</td>\n",
       "      <td>0</td>\n",
       "      <td>0</td>\n",
       "      <td>0</td>\n",
       "      <td>0</td>\n",
       "      <td>0</td>\n",
       "      <td>1</td>\n",
       "      <td>3</td>\n",
       "      <td>53.85</td>\n",
       "      <td>108.12500</td>\n",
       "      <td>1</td>\n",
       "    </tr>\n",
       "    <tr>\n",
       "      <th>3</th>\n",
       "      <td>1</td>\n",
       "      <td>0</td>\n",
       "      <td>0</td>\n",
       "      <td>0</td>\n",
       "      <td>45</td>\n",
       "      <td>0</td>\n",
       "      <td>1</td>\n",
       "      <td>0</td>\n",
       "      <td>2</td>\n",
       "      <td>0</td>\n",
       "      <td>2</td>\n",
       "      <td>2</td>\n",
       "      <td>0</td>\n",
       "      <td>0</td>\n",
       "      <td>1</td>\n",
       "      <td>0</td>\n",
       "      <td>0</td>\n",
       "      <td>42.30</td>\n",
       "      <td>1841.00000</td>\n",
       "      <td>0</td>\n",
       "    </tr>\n",
       "    <tr>\n",
       "      <th>4</th>\n",
       "      <td>0</td>\n",
       "      <td>0</td>\n",
       "      <td>0</td>\n",
       "      <td>0</td>\n",
       "      <td>2</td>\n",
       "      <td>1</td>\n",
       "      <td>0</td>\n",
       "      <td>1</td>\n",
       "      <td>0</td>\n",
       "      <td>0</td>\n",
       "      <td>0</td>\n",
       "      <td>0</td>\n",
       "      <td>0</td>\n",
       "      <td>0</td>\n",
       "      <td>0</td>\n",
       "      <td>1</td>\n",
       "      <td>2</td>\n",
       "      <td>70.70</td>\n",
       "      <td>151.62500</td>\n",
       "      <td>1</td>\n",
       "    </tr>\n",
       "    <tr>\n",
       "      <th>...</th>\n",
       "      <td>...</td>\n",
       "      <td>...</td>\n",
       "      <td>...</td>\n",
       "      <td>...</td>\n",
       "      <td>...</td>\n",
       "      <td>...</td>\n",
       "      <td>...</td>\n",
       "      <td>...</td>\n",
       "      <td>...</td>\n",
       "      <td>...</td>\n",
       "      <td>...</td>\n",
       "      <td>...</td>\n",
       "      <td>...</td>\n",
       "      <td>...</td>\n",
       "      <td>...</td>\n",
       "      <td>...</td>\n",
       "      <td>...</td>\n",
       "      <td>...</td>\n",
       "      <td>...</td>\n",
       "      <td>...</td>\n",
       "    </tr>\n",
       "    <tr>\n",
       "      <th>7038</th>\n",
       "      <td>1</td>\n",
       "      <td>0</td>\n",
       "      <td>1</td>\n",
       "      <td>1</td>\n",
       "      <td>24</td>\n",
       "      <td>1</td>\n",
       "      <td>2</td>\n",
       "      <td>0</td>\n",
       "      <td>2</td>\n",
       "      <td>0</td>\n",
       "      <td>2</td>\n",
       "      <td>2</td>\n",
       "      <td>2</td>\n",
       "      <td>2</td>\n",
       "      <td>1</td>\n",
       "      <td>1</td>\n",
       "      <td>3</td>\n",
       "      <td>84.80</td>\n",
       "      <td>1990.00000</td>\n",
       "      <td>0</td>\n",
       "    </tr>\n",
       "    <tr>\n",
       "      <th>7039</th>\n",
       "      <td>0</td>\n",
       "      <td>0</td>\n",
       "      <td>1</td>\n",
       "      <td>1</td>\n",
       "      <td>72</td>\n",
       "      <td>1</td>\n",
       "      <td>2</td>\n",
       "      <td>1</td>\n",
       "      <td>0</td>\n",
       "      <td>2</td>\n",
       "      <td>2</td>\n",
       "      <td>0</td>\n",
       "      <td>2</td>\n",
       "      <td>2</td>\n",
       "      <td>1</td>\n",
       "      <td>1</td>\n",
       "      <td>1</td>\n",
       "      <td>103.20</td>\n",
       "      <td>7364.00000</td>\n",
       "      <td>0</td>\n",
       "    </tr>\n",
       "    <tr>\n",
       "      <th>7040</th>\n",
       "      <td>0</td>\n",
       "      <td>0</td>\n",
       "      <td>1</td>\n",
       "      <td>1</td>\n",
       "      <td>11</td>\n",
       "      <td>0</td>\n",
       "      <td>1</td>\n",
       "      <td>0</td>\n",
       "      <td>2</td>\n",
       "      <td>0</td>\n",
       "      <td>0</td>\n",
       "      <td>0</td>\n",
       "      <td>0</td>\n",
       "      <td>0</td>\n",
       "      <td>0</td>\n",
       "      <td>1</td>\n",
       "      <td>2</td>\n",
       "      <td>29.60</td>\n",
       "      <td>346.50000</td>\n",
       "      <td>0</td>\n",
       "    </tr>\n",
       "    <tr>\n",
       "      <th>7041</th>\n",
       "      <td>1</td>\n",
       "      <td>1</td>\n",
       "      <td>1</td>\n",
       "      <td>0</td>\n",
       "      <td>4</td>\n",
       "      <td>1</td>\n",
       "      <td>2</td>\n",
       "      <td>1</td>\n",
       "      <td>0</td>\n",
       "      <td>0</td>\n",
       "      <td>0</td>\n",
       "      <td>0</td>\n",
       "      <td>0</td>\n",
       "      <td>0</td>\n",
       "      <td>0</td>\n",
       "      <td>1</td>\n",
       "      <td>3</td>\n",
       "      <td>74.40</td>\n",
       "      <td>306.50000</td>\n",
       "      <td>1</td>\n",
       "    </tr>\n",
       "    <tr>\n",
       "      <th>7042</th>\n",
       "      <td>1</td>\n",
       "      <td>0</td>\n",
       "      <td>0</td>\n",
       "      <td>0</td>\n",
       "      <td>66</td>\n",
       "      <td>1</td>\n",
       "      <td>0</td>\n",
       "      <td>1</td>\n",
       "      <td>2</td>\n",
       "      <td>0</td>\n",
       "      <td>2</td>\n",
       "      <td>2</td>\n",
       "      <td>2</td>\n",
       "      <td>2</td>\n",
       "      <td>2</td>\n",
       "      <td>1</td>\n",
       "      <td>0</td>\n",
       "      <td>105.65</td>\n",
       "      <td>6844.00000</td>\n",
       "      <td>0</td>\n",
       "    </tr>\n",
       "  </tbody>\n",
       "</table>\n",
       "<p>7032 rows × 20 columns</p>\n",
       "</div>"
      ],
      "text/plain": [
       "      gender  SeniorCitizen  Partner  Dependents  tenure  PhoneService  \\\n",
       "0          0              0        1           0       1             0   \n",
       "1          1              0        0           0      34             1   \n",
       "2          1              0        0           0       2             1   \n",
       "3          1              0        0           0      45             0   \n",
       "4          0              0        0           0       2             1   \n",
       "...      ...            ...      ...         ...     ...           ...   \n",
       "7038       1              0        1           1      24             1   \n",
       "7039       0              0        1           1      72             1   \n",
       "7040       0              0        1           1      11             0   \n",
       "7041       1              1        1           0       4             1   \n",
       "7042       1              0        0           0      66             1   \n",
       "\n",
       "      MultipleLines  InternetService  OnlineSecurity  OnlineBackup  \\\n",
       "0                 1                0               0             2   \n",
       "1                 0                0               2             0   \n",
       "2                 0                0               2             2   \n",
       "3                 1                0               2             0   \n",
       "4                 0                1               0             0   \n",
       "...             ...              ...             ...           ...   \n",
       "7038              2                0               2             0   \n",
       "7039              2                1               0             2   \n",
       "7040              1                0               2             0   \n",
       "7041              2                1               0             0   \n",
       "7042              0                1               2             0   \n",
       "\n",
       "      DeviceProtection  TechSupport  StreamingTV  StreamingMovies  Contract  \\\n",
       "0                    0            0            0                0         0   \n",
       "1                    2            0            0                0         1   \n",
       "2                    0            0            0                0         0   \n",
       "3                    2            2            0                0         1   \n",
       "4                    0            0            0                0         0   \n",
       "...                ...          ...          ...              ...       ...   \n",
       "7038                 2            2            2                2         1   \n",
       "7039                 2            0            2                2         1   \n",
       "7040                 0            0            0                0         0   \n",
       "7041                 0            0            0                0         0   \n",
       "7042                 2            2            2                2         2   \n",
       "\n",
       "      PaperlessBilling  PaymentMethod  MonthlyCharges  TotalCharges  Churn  \n",
       "0                    1              2           29.85      29.84375      0  \n",
       "1                    0              3           56.95    1890.00000      0  \n",
       "2                    1              3           53.85     108.12500      1  \n",
       "3                    0              0           42.30    1841.00000      0  \n",
       "4                    1              2           70.70     151.62500      1  \n",
       "...                ...            ...             ...           ...    ...  \n",
       "7038                 1              3           84.80    1990.00000      0  \n",
       "7039                 1              1          103.20    7364.00000      0  \n",
       "7040                 1              2           29.60     346.50000      0  \n",
       "7041                 1              3           74.40     306.50000      1  \n",
       "7042                 1              0          105.65    6844.00000      0  \n",
       "\n",
       "[7032 rows x 20 columns]"
      ]
     },
     "execution_count": 43,
     "metadata": {},
     "output_type": "execute_result"
    }
   ],
   "source": [
    "df"
   ]
  },
  {
   "cell_type": "markdown",
   "metadata": {},
   "source": [
    "## Review 3 starts here"
   ]
  },
  {
   "cell_type": "code",
   "execution_count": 44,
   "metadata": {},
   "outputs": [
    {
     "name": "stdout",
     "output_type": "stream",
     "text": [
      "Requirement already satisfied: catboost in /home/minato/anaconda3/lib/python3.9/site-packages (1.1.1)\n",
      "Requirement already satisfied: plotly in /home/minato/anaconda3/lib/python3.9/site-packages (from catboost) (5.6.0)\n",
      "Requirement already satisfied: matplotlib in /home/minato/anaconda3/lib/python3.9/site-packages (from catboost) (3.5.1)\n",
      "Requirement already satisfied: scipy in /home/minato/anaconda3/lib/python3.9/site-packages (from catboost) (1.7.3)\n",
      "Requirement already satisfied: graphviz in /home/minato/anaconda3/lib/python3.9/site-packages (from catboost) (0.20.1)\n",
      "Requirement already satisfied: six in /home/minato/anaconda3/lib/python3.9/site-packages (from catboost) (1.16.0)\n",
      "Requirement already satisfied: numpy>=1.16.0 in /home/minato/anaconda3/lib/python3.9/site-packages (from catboost) (1.21.5)\n",
      "Requirement already satisfied: pandas>=0.24.0 in /home/minato/anaconda3/lib/python3.9/site-packages (from catboost) (1.4.2)\n",
      "Requirement already satisfied: python-dateutil>=2.8.1 in /home/minato/anaconda3/lib/python3.9/site-packages (from pandas>=0.24.0->catboost) (2.8.2)\n",
      "Requirement already satisfied: pytz>=2020.1 in /home/minato/anaconda3/lib/python3.9/site-packages (from pandas>=0.24.0->catboost) (2021.3)\n",
      "Requirement already satisfied: kiwisolver>=1.0.1 in /home/minato/anaconda3/lib/python3.9/site-packages (from matplotlib->catboost) (1.3.2)\n",
      "Requirement already satisfied: pillow>=6.2.0 in /home/minato/anaconda3/lib/python3.9/site-packages (from matplotlib->catboost) (9.0.1)\n",
      "Requirement already satisfied: fonttools>=4.22.0 in /home/minato/anaconda3/lib/python3.9/site-packages (from matplotlib->catboost) (4.25.0)\n",
      "Requirement already satisfied: packaging>=20.0 in /home/minato/anaconda3/lib/python3.9/site-packages (from matplotlib->catboost) (21.3)\n",
      "Requirement already satisfied: pyparsing>=2.2.1 in /home/minato/anaconda3/lib/python3.9/site-packages (from matplotlib->catboost) (3.0.4)\n",
      "Requirement already satisfied: cycler>=0.10 in /home/minato/anaconda3/lib/python3.9/site-packages (from matplotlib->catboost) (0.11.0)\n",
      "Requirement already satisfied: tenacity>=6.2.0 in /home/minato/anaconda3/lib/python3.9/site-packages (from plotly->catboost) (8.0.1)\n"
     ]
    }
   ],
   "source": [
    "!pip install catboost"
   ]
  },
  {
   "cell_type": "code",
   "execution_count": 45,
   "metadata": {},
   "outputs": [],
   "source": [
    "import catboost as ctb"
   ]
  },
  {
   "cell_type": "code",
   "execution_count": 46,
   "metadata": {},
   "outputs": [],
   "source": [
    "df.drop('TotalCharges',axis=1 ,inplace=True)\n",
    "X = df.iloc[:,:-1]\n",
    "y = df['Churn']\n",
    "from imblearn.over_sampling import RandomOverSampler\n",
    "ros = RandomOverSampler(random_state=0)\n",
    "X, y = ros.fit_resample(X, y)\n",
    "x_train, x_test, y_train, y_test = tts(X,y,test_size=0.2)"
   ]
  },
  {
   "cell_type": "code",
   "execution_count": 47,
   "metadata": {},
   "outputs": [
    {
     "name": "stdout",
     "output_type": "stream",
     "text": [
      "(8260, 18)\n",
      "(2066, 18)\n"
     ]
    }
   ],
   "source": [
    "print(x_train.shape)\n",
    "print(x_test.shape)"
   ]
  },
  {
   "cell_type": "code",
   "execution_count": 48,
   "metadata": {},
   "outputs": [
    {
     "name": "stdout",
     "output_type": "stream",
     "text": [
      "Learning rate set to 0.02538\n",
      "0:\tlearn: 0.6806239\ttotal: 52.5ms\tremaining: 52.4s\n",
      "1:\tlearn: 0.6710338\ttotal: 69.2ms\tremaining: 34.5s\n",
      "2:\tlearn: 0.6604761\ttotal: 88.3ms\tremaining: 29.3s\n",
      "3:\tlearn: 0.6511703\ttotal: 91.1ms\tremaining: 22.7s\n",
      "4:\tlearn: 0.6408847\ttotal: 94.8ms\tremaining: 18.9s\n",
      "5:\tlearn: 0.6318703\ttotal: 98.4ms\tremaining: 16.3s\n",
      "6:\tlearn: 0.6235512\ttotal: 101ms\tremaining: 14.4s\n",
      "7:\tlearn: 0.6158830\ttotal: 104ms\tremaining: 12.8s\n",
      "8:\tlearn: 0.6092114\ttotal: 106ms\tremaining: 11.6s\n",
      "9:\tlearn: 0.6025077\ttotal: 110ms\tremaining: 10.8s\n",
      "10:\tlearn: 0.5961073\ttotal: 113ms\tremaining: 10.1s\n",
      "11:\tlearn: 0.5900861\ttotal: 116ms\tremaining: 9.58s\n",
      "12:\tlearn: 0.5840631\ttotal: 119ms\tremaining: 9.04s\n",
      "13:\tlearn: 0.5787974\ttotal: 123ms\tremaining: 8.64s\n",
      "14:\tlearn: 0.5734412\ttotal: 126ms\tremaining: 8.26s\n",
      "15:\tlearn: 0.5684249\ttotal: 128ms\tremaining: 7.89s\n",
      "16:\tlearn: 0.5634277\ttotal: 130ms\tremaining: 7.54s\n",
      "17:\tlearn: 0.5594216\ttotal: 142ms\tremaining: 7.77s\n",
      "18:\tlearn: 0.5548799\ttotal: 148ms\tremaining: 7.66s\n",
      "19:\tlearn: 0.5514863\ttotal: 151ms\tremaining: 7.41s\n",
      "20:\tlearn: 0.5475132\ttotal: 154ms\tremaining: 7.19s\n",
      "21:\tlearn: 0.5440742\ttotal: 156ms\tremaining: 6.96s\n",
      "22:\tlearn: 0.5404129\ttotal: 158ms\tremaining: 6.73s\n",
      "23:\tlearn: 0.5368700\ttotal: 161ms\tremaining: 6.56s\n",
      "24:\tlearn: 0.5337671\ttotal: 163ms\tremaining: 6.37s\n",
      "25:\tlearn: 0.5309506\ttotal: 166ms\tremaining: 6.23s\n",
      "26:\tlearn: 0.5281829\ttotal: 169ms\tremaining: 6.1s\n",
      "27:\tlearn: 0.5257713\ttotal: 172ms\tremaining: 5.97s\n",
      "28:\tlearn: 0.5228689\ttotal: 175ms\tremaining: 5.85s\n",
      "29:\tlearn: 0.5203020\ttotal: 177ms\tremaining: 5.73s\n",
      "30:\tlearn: 0.5178625\ttotal: 180ms\tremaining: 5.63s\n",
      "31:\tlearn: 0.5157229\ttotal: 183ms\tremaining: 5.53s\n",
      "32:\tlearn: 0.5132940\ttotal: 185ms\tremaining: 5.42s\n",
      "33:\tlearn: 0.5110582\ttotal: 187ms\tremaining: 5.31s\n",
      "34:\tlearn: 0.5090200\ttotal: 191ms\tremaining: 5.26s\n",
      "35:\tlearn: 0.5070871\ttotal: 194ms\tremaining: 5.2s\n",
      "36:\tlearn: 0.5054220\ttotal: 198ms\tremaining: 5.15s\n",
      "37:\tlearn: 0.5033100\ttotal: 200ms\tremaining: 5.07s\n",
      "38:\tlearn: 0.5016733\ttotal: 203ms\tremaining: 4.99s\n",
      "39:\tlearn: 0.5003726\ttotal: 205ms\tremaining: 4.93s\n",
      "40:\tlearn: 0.4988466\ttotal: 208ms\tremaining: 4.88s\n",
      "41:\tlearn: 0.4971577\ttotal: 212ms\tremaining: 4.83s\n",
      "42:\tlearn: 0.4956061\ttotal: 214ms\tremaining: 4.77s\n",
      "43:\tlearn: 0.4941689\ttotal: 217ms\tremaining: 4.71s\n",
      "44:\tlearn: 0.4935970\ttotal: 219ms\tremaining: 4.64s\n",
      "45:\tlearn: 0.4920717\ttotal: 221ms\tremaining: 4.59s\n",
      "46:\tlearn: 0.4908847\ttotal: 224ms\tremaining: 4.53s\n",
      "47:\tlearn: 0.4896186\ttotal: 226ms\tremaining: 4.47s\n",
      "48:\tlearn: 0.4883789\ttotal: 228ms\tremaining: 4.43s\n",
      "49:\tlearn: 0.4871595\ttotal: 231ms\tremaining: 4.39s\n",
      "50:\tlearn: 0.4861046\ttotal: 234ms\tremaining: 4.35s\n",
      "51:\tlearn: 0.4847931\ttotal: 236ms\tremaining: 4.31s\n",
      "52:\tlearn: 0.4836708\ttotal: 238ms\tremaining: 4.25s\n",
      "53:\tlearn: 0.4827635\ttotal: 240ms\tremaining: 4.21s\n",
      "54:\tlearn: 0.4817306\ttotal: 243ms\tremaining: 4.17s\n",
      "55:\tlearn: 0.4808418\ttotal: 245ms\tremaining: 4.13s\n",
      "56:\tlearn: 0.4798599\ttotal: 248ms\tremaining: 4.09s\n",
      "57:\tlearn: 0.4790574\ttotal: 250ms\tremaining: 4.06s\n",
      "58:\tlearn: 0.4781718\ttotal: 253ms\tremaining: 4.03s\n",
      "59:\tlearn: 0.4773212\ttotal: 256ms\tremaining: 4s\n",
      "60:\tlearn: 0.4765114\ttotal: 258ms\tremaining: 3.97s\n",
      "61:\tlearn: 0.4756686\ttotal: 262ms\tremaining: 3.96s\n",
      "62:\tlearn: 0.4747388\ttotal: 264ms\tremaining: 3.93s\n",
      "63:\tlearn: 0.4739565\ttotal: 268ms\tremaining: 3.92s\n",
      "64:\tlearn: 0.4730181\ttotal: 276ms\tremaining: 3.96s\n",
      "65:\tlearn: 0.4722262\ttotal: 278ms\tremaining: 3.94s\n",
      "66:\tlearn: 0.4716041\ttotal: 282ms\tremaining: 3.93s\n",
      "67:\tlearn: 0.4708447\ttotal: 285ms\tremaining: 3.9s\n",
      "68:\tlearn: 0.4702197\ttotal: 294ms\tremaining: 3.96s\n",
      "69:\tlearn: 0.4696496\ttotal: 298ms\tremaining: 3.96s\n",
      "70:\tlearn: 0.4689037\ttotal: 301ms\tremaining: 3.94s\n",
      "71:\tlearn: 0.4681009\ttotal: 304ms\tremaining: 3.92s\n",
      "72:\tlearn: 0.4675613\ttotal: 307ms\tremaining: 3.89s\n",
      "73:\tlearn: 0.4669728\ttotal: 309ms\tremaining: 3.87s\n",
      "74:\tlearn: 0.4662965\ttotal: 312ms\tremaining: 3.85s\n",
      "75:\tlearn: 0.4656533\ttotal: 316ms\tremaining: 3.84s\n",
      "76:\tlearn: 0.4651122\ttotal: 319ms\tremaining: 3.82s\n",
      "77:\tlearn: 0.4643248\ttotal: 322ms\tremaining: 3.8s\n",
      "78:\tlearn: 0.4636686\ttotal: 325ms\tremaining: 3.79s\n",
      "79:\tlearn: 0.4629959\ttotal: 327ms\tremaining: 3.77s\n",
      "80:\tlearn: 0.4623317\ttotal: 331ms\tremaining: 3.75s\n",
      "81:\tlearn: 0.4617699\ttotal: 333ms\tremaining: 3.73s\n",
      "82:\tlearn: 0.4611462\ttotal: 335ms\tremaining: 3.7s\n",
      "83:\tlearn: 0.4606747\ttotal: 338ms\tremaining: 3.68s\n",
      "84:\tlearn: 0.4601787\ttotal: 340ms\tremaining: 3.66s\n",
      "85:\tlearn: 0.4596178\ttotal: 344ms\tremaining: 3.65s\n",
      "86:\tlearn: 0.4590886\ttotal: 346ms\tremaining: 3.63s\n",
      "87:\tlearn: 0.4586601\ttotal: 349ms\tremaining: 3.61s\n",
      "88:\tlearn: 0.4583240\ttotal: 357ms\tremaining: 3.66s\n",
      "89:\tlearn: 0.4577138\ttotal: 363ms\tremaining: 3.67s\n",
      "90:\tlearn: 0.4572110\ttotal: 366ms\tremaining: 3.65s\n",
      "91:\tlearn: 0.4567620\ttotal: 370ms\tremaining: 3.65s\n",
      "92:\tlearn: 0.4562725\ttotal: 376ms\tremaining: 3.67s\n",
      "93:\tlearn: 0.4558142\ttotal: 381ms\tremaining: 3.67s\n",
      "94:\tlearn: 0.4553450\ttotal: 387ms\tremaining: 3.69s\n",
      "95:\tlearn: 0.4549561\ttotal: 394ms\tremaining: 3.71s\n",
      "96:\tlearn: 0.4545003\ttotal: 397ms\tremaining: 3.69s\n",
      "97:\tlearn: 0.4541434\ttotal: 401ms\tremaining: 3.69s\n",
      "98:\tlearn: 0.4535773\ttotal: 406ms\tremaining: 3.69s\n",
      "99:\tlearn: 0.4531447\ttotal: 409ms\tremaining: 3.68s\n",
      "100:\tlearn: 0.4527046\ttotal: 413ms\tremaining: 3.68s\n",
      "101:\tlearn: 0.4521973\ttotal: 421ms\tremaining: 3.71s\n",
      "102:\tlearn: 0.4517715\ttotal: 426ms\tremaining: 3.71s\n",
      "103:\tlearn: 0.4512378\ttotal: 430ms\tremaining: 3.71s\n",
      "104:\tlearn: 0.4508253\ttotal: 435ms\tremaining: 3.71s\n",
      "105:\tlearn: 0.4505830\ttotal: 439ms\tremaining: 3.7s\n",
      "106:\tlearn: 0.4501837\ttotal: 441ms\tremaining: 3.68s\n",
      "107:\tlearn: 0.4498113\ttotal: 446ms\tremaining: 3.69s\n",
      "108:\tlearn: 0.4495736\ttotal: 449ms\tremaining: 3.67s\n",
      "109:\tlearn: 0.4490987\ttotal: 453ms\tremaining: 3.66s\n",
      "110:\tlearn: 0.4487451\ttotal: 458ms\tremaining: 3.67s\n",
      "111:\tlearn: 0.4483366\ttotal: 462ms\tremaining: 3.66s\n",
      "112:\tlearn: 0.4480881\ttotal: 465ms\tremaining: 3.65s\n",
      "113:\tlearn: 0.4477168\ttotal: 468ms\tremaining: 3.64s\n",
      "114:\tlearn: 0.4473410\ttotal: 470ms\tremaining: 3.62s\n",
      "115:\tlearn: 0.4470133\ttotal: 472ms\tremaining: 3.6s\n",
      "116:\tlearn: 0.4465764\ttotal: 476ms\tremaining: 3.59s\n",
      "117:\tlearn: 0.4461942\ttotal: 478ms\tremaining: 3.57s\n",
      "118:\tlearn: 0.4456786\ttotal: 481ms\tremaining: 3.56s\n",
      "119:\tlearn: 0.4453265\ttotal: 483ms\tremaining: 3.54s\n",
      "120:\tlearn: 0.4449667\ttotal: 486ms\tremaining: 3.53s\n",
      "121:\tlearn: 0.4446682\ttotal: 488ms\tremaining: 3.52s\n",
      "122:\tlearn: 0.4442809\ttotal: 491ms\tremaining: 3.5s\n",
      "123:\tlearn: 0.4439698\ttotal: 493ms\tremaining: 3.48s\n",
      "124:\tlearn: 0.4436839\ttotal: 496ms\tremaining: 3.47s\n",
      "125:\tlearn: 0.4436384\ttotal: 498ms\tremaining: 3.45s\n",
      "126:\tlearn: 0.4434283\ttotal: 501ms\tremaining: 3.45s\n",
      "127:\tlearn: 0.4431127\ttotal: 506ms\tremaining: 3.45s\n",
      "128:\tlearn: 0.4428692\ttotal: 513ms\tremaining: 3.47s\n",
      "129:\tlearn: 0.4424960\ttotal: 519ms\tremaining: 3.47s\n",
      "130:\tlearn: 0.4421532\ttotal: 524ms\tremaining: 3.47s\n",
      "131:\tlearn: 0.4419827\ttotal: 529ms\tremaining: 3.48s\n",
      "132:\tlearn: 0.4416865\ttotal: 533ms\tremaining: 3.47s\n",
      "133:\tlearn: 0.4414635\ttotal: 537ms\tremaining: 3.47s\n",
      "134:\tlearn: 0.4411057\ttotal: 540ms\tremaining: 3.46s\n",
      "135:\tlearn: 0.4407652\ttotal: 546ms\tremaining: 3.47s\n",
      "136:\tlearn: 0.4404941\ttotal: 549ms\tremaining: 3.46s\n",
      "137:\tlearn: 0.4401867\ttotal: 553ms\tremaining: 3.45s\n",
      "138:\tlearn: 0.4399770\ttotal: 556ms\tremaining: 3.45s\n",
      "139:\tlearn: 0.4396992\ttotal: 563ms\tremaining: 3.46s\n",
      "140:\tlearn: 0.4392912\ttotal: 565ms\tremaining: 3.44s\n",
      "141:\tlearn: 0.4390680\ttotal: 569ms\tremaining: 3.44s\n",
      "142:\tlearn: 0.4388017\ttotal: 574ms\tremaining: 3.44s\n",
      "143:\tlearn: 0.4385651\ttotal: 577ms\tremaining: 3.43s\n",
      "144:\tlearn: 0.4382818\ttotal: 579ms\tremaining: 3.42s\n",
      "145:\tlearn: 0.4380548\ttotal: 581ms\tremaining: 3.4s\n",
      "146:\tlearn: 0.4378261\ttotal: 584ms\tremaining: 3.39s\n",
      "147:\tlearn: 0.4376362\ttotal: 587ms\tremaining: 3.38s\n",
      "148:\tlearn: 0.4373463\ttotal: 590ms\tremaining: 3.37s\n",
      "149:\tlearn: 0.4370413\ttotal: 592ms\tremaining: 3.35s\n",
      "150:\tlearn: 0.4367994\ttotal: 594ms\tremaining: 3.34s\n",
      "151:\tlearn: 0.4365090\ttotal: 597ms\tremaining: 3.33s\n",
      "152:\tlearn: 0.4362025\ttotal: 600ms\tremaining: 3.32s\n",
      "153:\tlearn: 0.4359927\ttotal: 604ms\tremaining: 3.32s\n",
      "154:\tlearn: 0.4356091\ttotal: 606ms\tremaining: 3.3s\n",
      "155:\tlearn: 0.4352639\ttotal: 609ms\tremaining: 3.29s\n",
      "156:\tlearn: 0.4348698\ttotal: 612ms\tremaining: 3.28s\n",
      "157:\tlearn: 0.4346157\ttotal: 615ms\tremaining: 3.28s\n",
      "158:\tlearn: 0.4344342\ttotal: 618ms\tremaining: 3.27s\n",
      "159:\tlearn: 0.4341926\ttotal: 620ms\tremaining: 3.25s\n",
      "160:\tlearn: 0.4338895\ttotal: 623ms\tremaining: 3.25s\n",
      "161:\tlearn: 0.4336156\ttotal: 625ms\tremaining: 3.23s\n",
      "162:\tlearn: 0.4333948\ttotal: 628ms\tremaining: 3.22s\n",
      "163:\tlearn: 0.4330871\ttotal: 630ms\tremaining: 3.21s\n",
      "164:\tlearn: 0.4329010\ttotal: 632ms\tremaining: 3.2s\n",
      "165:\tlearn: 0.4327356\ttotal: 635ms\tremaining: 3.19s\n",
      "166:\tlearn: 0.4325289\ttotal: 637ms\tremaining: 3.18s\n",
      "167:\tlearn: 0.4322324\ttotal: 640ms\tremaining: 3.17s\n",
      "168:\tlearn: 0.4318864\ttotal: 642ms\tremaining: 3.16s\n",
      "169:\tlearn: 0.4315507\ttotal: 645ms\tremaining: 3.15s\n",
      "170:\tlearn: 0.4313109\ttotal: 650ms\tremaining: 3.15s\n",
      "171:\tlearn: 0.4311201\ttotal: 652ms\tremaining: 3.14s\n",
      "172:\tlearn: 0.4307869\ttotal: 655ms\tremaining: 3.13s\n",
      "173:\tlearn: 0.4305491\ttotal: 657ms\tremaining: 3.12s\n",
      "174:\tlearn: 0.4303718\ttotal: 659ms\tremaining: 3.11s\n",
      "175:\tlearn: 0.4301646\ttotal: 663ms\tremaining: 3.1s\n",
      "176:\tlearn: 0.4299716\ttotal: 666ms\tremaining: 3.1s\n",
      "177:\tlearn: 0.4296791\ttotal: 668ms\tremaining: 3.09s\n",
      "178:\tlearn: 0.4294192\ttotal: 671ms\tremaining: 3.08s\n",
      "179:\tlearn: 0.4291290\ttotal: 673ms\tremaining: 3.07s\n",
      "180:\tlearn: 0.4288308\ttotal: 677ms\tremaining: 3.06s\n",
      "181:\tlearn: 0.4284852\ttotal: 680ms\tremaining: 3.06s\n",
      "182:\tlearn: 0.4281303\ttotal: 683ms\tremaining: 3.05s\n",
      "183:\tlearn: 0.4277555\ttotal: 686ms\tremaining: 3.04s\n",
      "184:\tlearn: 0.4275772\ttotal: 688ms\tremaining: 3.03s\n",
      "185:\tlearn: 0.4273469\ttotal: 690ms\tremaining: 3.02s\n",
      "186:\tlearn: 0.4271244\ttotal: 694ms\tremaining: 3.02s\n",
      "187:\tlearn: 0.4267215\ttotal: 696ms\tremaining: 3.01s\n",
      "188:\tlearn: 0.4264825\ttotal: 699ms\tremaining: 3s\n",
      "189:\tlearn: 0.4260895\ttotal: 702ms\tremaining: 2.99s\n",
      "190:\tlearn: 0.4257828\ttotal: 704ms\tremaining: 2.98s\n",
      "191:\tlearn: 0.4256543\ttotal: 706ms\tremaining: 2.97s\n",
      "192:\tlearn: 0.4254006\ttotal: 709ms\tremaining: 2.97s\n",
      "193:\tlearn: 0.4251606\ttotal: 712ms\tremaining: 2.96s\n",
      "194:\tlearn: 0.4248371\ttotal: 714ms\tremaining: 2.95s\n",
      "195:\tlearn: 0.4246943\ttotal: 716ms\tremaining: 2.94s\n",
      "196:\tlearn: 0.4244104\ttotal: 721ms\tremaining: 2.94s\n",
      "197:\tlearn: 0.4241593\ttotal: 723ms\tremaining: 2.93s\n",
      "198:\tlearn: 0.4240078\ttotal: 726ms\tremaining: 2.92s\n",
      "199:\tlearn: 0.4238196\ttotal: 729ms\tremaining: 2.91s\n",
      "200:\tlearn: 0.4235071\ttotal: 732ms\tremaining: 2.91s\n",
      "201:\tlearn: 0.4232982\ttotal: 734ms\tremaining: 2.9s\n",
      "202:\tlearn: 0.4230831\ttotal: 737ms\tremaining: 2.89s\n",
      "203:\tlearn: 0.4228245\ttotal: 740ms\tremaining: 2.89s\n",
      "204:\tlearn: 0.4225690\ttotal: 743ms\tremaining: 2.88s\n",
      "205:\tlearn: 0.4222264\ttotal: 745ms\tremaining: 2.87s\n",
      "206:\tlearn: 0.4220381\ttotal: 746ms\tremaining: 2.86s\n",
      "207:\tlearn: 0.4218732\ttotal: 748ms\tremaining: 2.85s\n",
      "208:\tlearn: 0.4216699\ttotal: 751ms\tremaining: 2.84s\n",
      "209:\tlearn: 0.4214133\ttotal: 755ms\tremaining: 2.84s\n",
      "210:\tlearn: 0.4211374\ttotal: 758ms\tremaining: 2.83s\n",
      "211:\tlearn: 0.4209544\ttotal: 760ms\tremaining: 2.83s\n",
      "212:\tlearn: 0.4207631\ttotal: 762ms\tremaining: 2.82s\n",
      "213:\tlearn: 0.4205097\ttotal: 765ms\tremaining: 2.81s\n",
      "214:\tlearn: 0.4201284\ttotal: 769ms\tremaining: 2.81s\n",
      "215:\tlearn: 0.4198809\ttotal: 771ms\tremaining: 2.8s\n",
      "216:\tlearn: 0.4195958\ttotal: 774ms\tremaining: 2.79s\n",
      "217:\tlearn: 0.4192365\ttotal: 776ms\tremaining: 2.78s\n",
      "218:\tlearn: 0.4189787\ttotal: 779ms\tremaining: 2.78s\n",
      "219:\tlearn: 0.4187343\ttotal: 784ms\tremaining: 2.78s\n",
      "220:\tlearn: 0.4185722\ttotal: 786ms\tremaining: 2.77s\n",
      "221:\tlearn: 0.4184059\ttotal: 788ms\tremaining: 2.76s\n",
      "222:\tlearn: 0.4182436\ttotal: 791ms\tremaining: 2.75s\n",
      "223:\tlearn: 0.4180727\ttotal: 793ms\tremaining: 2.75s\n",
      "224:\tlearn: 0.4178740\ttotal: 796ms\tremaining: 2.74s\n",
      "225:\tlearn: 0.4176751\ttotal: 798ms\tremaining: 2.73s\n",
      "226:\tlearn: 0.4174389\ttotal: 804ms\tremaining: 2.74s\n",
      "227:\tlearn: 0.4171770\ttotal: 808ms\tremaining: 2.73s\n",
      "228:\tlearn: 0.4168978\ttotal: 810ms\tremaining: 2.73s\n",
      "229:\tlearn: 0.4167921\ttotal: 812ms\tremaining: 2.72s\n",
      "230:\tlearn: 0.4165928\ttotal: 815ms\tremaining: 2.71s\n",
      "231:\tlearn: 0.4163085\ttotal: 820ms\tremaining: 2.71s\n",
      "232:\tlearn: 0.4160896\ttotal: 823ms\tremaining: 2.71s\n",
      "233:\tlearn: 0.4158936\ttotal: 826ms\tremaining: 2.71s\n",
      "234:\tlearn: 0.4157643\ttotal: 829ms\tremaining: 2.7s\n",
      "235:\tlearn: 0.4155872\ttotal: 832ms\tremaining: 2.69s\n",
      "236:\tlearn: 0.4153871\ttotal: 835ms\tremaining: 2.69s\n",
      "237:\tlearn: 0.4151936\ttotal: 837ms\tremaining: 2.68s\n",
      "238:\tlearn: 0.4150147\ttotal: 841ms\tremaining: 2.68s\n",
      "239:\tlearn: 0.4148448\ttotal: 845ms\tremaining: 2.67s\n",
      "240:\tlearn: 0.4146304\ttotal: 848ms\tremaining: 2.67s\n",
      "241:\tlearn: 0.4144643\ttotal: 851ms\tremaining: 2.67s\n",
      "242:\tlearn: 0.4143378\ttotal: 855ms\tremaining: 2.66s\n",
      "243:\tlearn: 0.4141011\ttotal: 858ms\tremaining: 2.66s\n",
      "244:\tlearn: 0.4139106\ttotal: 860ms\tremaining: 2.65s\n",
      "245:\tlearn: 0.4138052\ttotal: 863ms\tremaining: 2.65s\n",
      "246:\tlearn: 0.4137335\ttotal: 866ms\tremaining: 2.64s\n",
      "247:\tlearn: 0.4135358\ttotal: 872ms\tremaining: 2.65s\n",
      "248:\tlearn: 0.4134223\ttotal: 880ms\tremaining: 2.65s\n",
      "249:\tlearn: 0.4132025\ttotal: 882ms\tremaining: 2.65s\n",
      "250:\tlearn: 0.4130487\ttotal: 886ms\tremaining: 2.64s\n",
      "251:\tlearn: 0.4127221\ttotal: 891ms\tremaining: 2.64s\n",
      "252:\tlearn: 0.4127089\ttotal: 894ms\tremaining: 2.64s\n",
      "253:\tlearn: 0.4124568\ttotal: 899ms\tremaining: 2.64s\n",
      "254:\tlearn: 0.4122537\ttotal: 905ms\tremaining: 2.64s\n",
      "255:\tlearn: 0.4120876\ttotal: 916ms\tremaining: 2.66s\n",
      "256:\tlearn: 0.4119274\ttotal: 921ms\tremaining: 2.66s\n",
      "257:\tlearn: 0.4116379\ttotal: 927ms\tremaining: 2.67s\n",
      "258:\tlearn: 0.4114159\ttotal: 940ms\tremaining: 2.69s\n",
      "259:\tlearn: 0.4111967\ttotal: 945ms\tremaining: 2.69s\n",
      "260:\tlearn: 0.4109818\ttotal: 961ms\tremaining: 2.72s\n",
      "261:\tlearn: 0.4108023\ttotal: 965ms\tremaining: 2.72s\n",
      "262:\tlearn: 0.4106097\ttotal: 969ms\tremaining: 2.71s\n",
      "263:\tlearn: 0.4103810\ttotal: 973ms\tremaining: 2.71s\n",
      "264:\tlearn: 0.4101496\ttotal: 978ms\tremaining: 2.71s\n",
      "265:\tlearn: 0.4100336\ttotal: 982ms\tremaining: 2.71s\n",
      "266:\tlearn: 0.4098821\ttotal: 985ms\tremaining: 2.7s\n",
      "267:\tlearn: 0.4096926\ttotal: 989ms\tremaining: 2.7s\n",
      "268:\tlearn: 0.4095128\ttotal: 992ms\tremaining: 2.69s\n",
      "269:\tlearn: 0.4092659\ttotal: 996ms\tremaining: 2.69s\n",
      "270:\tlearn: 0.4091531\ttotal: 999ms\tremaining: 2.69s\n",
      "271:\tlearn: 0.4088484\ttotal: 1s\tremaining: 2.69s\n",
      "272:\tlearn: 0.4086160\ttotal: 1.01s\tremaining: 2.68s\n",
      "273:\tlearn: 0.4084167\ttotal: 1.01s\tremaining: 2.68s\n",
      "274:\tlearn: 0.4081696\ttotal: 1.01s\tremaining: 2.68s\n",
      "275:\tlearn: 0.4079934\ttotal: 1.02s\tremaining: 2.67s\n",
      "276:\tlearn: 0.4077768\ttotal: 1.02s\tremaining: 2.67s\n",
      "277:\tlearn: 0.4076216\ttotal: 1.03s\tremaining: 2.67s\n",
      "278:\tlearn: 0.4073884\ttotal: 1.03s\tremaining: 2.67s\n",
      "279:\tlearn: 0.4070793\ttotal: 1.04s\tremaining: 2.68s\n",
      "280:\tlearn: 0.4069128\ttotal: 1.04s\tremaining: 2.67s\n",
      "281:\tlearn: 0.4066896\ttotal: 1.05s\tremaining: 2.67s\n",
      "282:\tlearn: 0.4065548\ttotal: 1.05s\tremaining: 2.66s\n",
      "283:\tlearn: 0.4062651\ttotal: 1.05s\tremaining: 2.66s\n",
      "284:\tlearn: 0.4061015\ttotal: 1.06s\tremaining: 2.65s\n",
      "285:\tlearn: 0.4058732\ttotal: 1.06s\tremaining: 2.65s\n",
      "286:\tlearn: 0.4058682\ttotal: 1.06s\tremaining: 2.64s\n",
      "287:\tlearn: 0.4056703\ttotal: 1.07s\tremaining: 2.63s\n",
      "288:\tlearn: 0.4052642\ttotal: 1.07s\tremaining: 2.63s\n",
      "289:\tlearn: 0.4051226\ttotal: 1.07s\tremaining: 2.62s\n",
      "290:\tlearn: 0.4049633\ttotal: 1.07s\tremaining: 2.62s\n",
      "291:\tlearn: 0.4046866\ttotal: 1.08s\tremaining: 2.61s\n",
      "292:\tlearn: 0.4045012\ttotal: 1.08s\tremaining: 2.61s\n",
      "293:\tlearn: 0.4041773\ttotal: 1.09s\tremaining: 2.61s\n",
      "294:\tlearn: 0.4039814\ttotal: 1.09s\tremaining: 2.61s\n",
      "295:\tlearn: 0.4037689\ttotal: 1.1s\tremaining: 2.61s\n",
      "296:\tlearn: 0.4035225\ttotal: 1.1s\tremaining: 2.6s\n",
      "297:\tlearn: 0.4033585\ttotal: 1.1s\tremaining: 2.6s\n",
      "298:\tlearn: 0.4031552\ttotal: 1.1s\tremaining: 2.59s\n",
      "299:\tlearn: 0.4029346\ttotal: 1.11s\tremaining: 2.59s\n",
      "300:\tlearn: 0.4028114\ttotal: 1.12s\tremaining: 2.59s\n",
      "301:\tlearn: 0.4026929\ttotal: 1.12s\tremaining: 2.6s\n",
      "302:\tlearn: 0.4025460\ttotal: 1.13s\tremaining: 2.59s\n",
      "303:\tlearn: 0.4023944\ttotal: 1.13s\tremaining: 2.59s\n",
      "304:\tlearn: 0.4023138\ttotal: 1.14s\tremaining: 2.59s\n",
      "305:\tlearn: 0.4021262\ttotal: 1.14s\tremaining: 2.58s\n",
      "306:\tlearn: 0.4020005\ttotal: 1.14s\tremaining: 2.58s\n",
      "307:\tlearn: 0.4018153\ttotal: 1.15s\tremaining: 2.58s\n",
      "308:\tlearn: 0.4016589\ttotal: 1.15s\tremaining: 2.57s\n",
      "309:\tlearn: 0.4014338\ttotal: 1.15s\tremaining: 2.57s\n",
      "310:\tlearn: 0.4012117\ttotal: 1.16s\tremaining: 2.56s\n",
      "311:\tlearn: 0.4010414\ttotal: 1.16s\tremaining: 2.56s\n",
      "312:\tlearn: 0.4007798\ttotal: 1.17s\tremaining: 2.56s\n",
      "313:\tlearn: 0.4005389\ttotal: 1.17s\tremaining: 2.55s\n",
      "314:\tlearn: 0.4004515\ttotal: 1.17s\tremaining: 2.54s\n",
      "315:\tlearn: 0.4002514\ttotal: 1.17s\tremaining: 2.54s\n",
      "316:\tlearn: 0.4000303\ttotal: 1.18s\tremaining: 2.54s\n",
      "317:\tlearn: 0.3997842\ttotal: 1.18s\tremaining: 2.53s\n",
      "318:\tlearn: 0.3996174\ttotal: 1.18s\tremaining: 2.52s\n",
      "319:\tlearn: 0.3993349\ttotal: 1.19s\tremaining: 2.52s\n",
      "320:\tlearn: 0.3991693\ttotal: 1.19s\tremaining: 2.52s\n",
      "321:\tlearn: 0.3989406\ttotal: 1.19s\tremaining: 2.51s\n",
      "322:\tlearn: 0.3987804\ttotal: 1.2s\tremaining: 2.51s\n",
      "323:\tlearn: 0.3984319\ttotal: 1.2s\tremaining: 2.5s\n",
      "324:\tlearn: 0.3983012\ttotal: 1.21s\tremaining: 2.5s\n",
      "325:\tlearn: 0.3981689\ttotal: 1.21s\tremaining: 2.5s\n",
      "326:\tlearn: 0.3980486\ttotal: 1.21s\tremaining: 2.5s\n",
      "327:\tlearn: 0.3978810\ttotal: 1.22s\tremaining: 2.49s\n",
      "328:\tlearn: 0.3976968\ttotal: 1.22s\tremaining: 2.49s\n",
      "329:\tlearn: 0.3973893\ttotal: 1.22s\tremaining: 2.48s\n",
      "330:\tlearn: 0.3971628\ttotal: 1.23s\tremaining: 2.48s\n",
      "331:\tlearn: 0.3969928\ttotal: 1.23s\tremaining: 2.48s\n",
      "332:\tlearn: 0.3968862\ttotal: 1.24s\tremaining: 2.47s\n",
      "333:\tlearn: 0.3966316\ttotal: 1.24s\tremaining: 2.47s\n",
      "334:\tlearn: 0.3964983\ttotal: 1.24s\tremaining: 2.46s\n",
      "335:\tlearn: 0.3964053\ttotal: 1.24s\tremaining: 2.46s\n",
      "336:\tlearn: 0.3962043\ttotal: 1.25s\tremaining: 2.46s\n",
      "337:\tlearn: 0.3960471\ttotal: 1.25s\tremaining: 2.45s\n",
      "338:\tlearn: 0.3958976\ttotal: 1.26s\tremaining: 2.45s\n",
      "339:\tlearn: 0.3956946\ttotal: 1.26s\tremaining: 2.45s\n",
      "340:\tlearn: 0.3954501\ttotal: 1.26s\tremaining: 2.44s\n",
      "341:\tlearn: 0.3952155\ttotal: 1.27s\tremaining: 2.44s\n",
      "342:\tlearn: 0.3951122\ttotal: 1.27s\tremaining: 2.44s\n",
      "343:\tlearn: 0.3949274\ttotal: 1.28s\tremaining: 2.44s\n",
      "344:\tlearn: 0.3947181\ttotal: 1.28s\tremaining: 2.44s\n",
      "345:\tlearn: 0.3946004\ttotal: 1.28s\tremaining: 2.43s\n",
      "346:\tlearn: 0.3944475\ttotal: 1.29s\tremaining: 2.42s\n",
      "347:\tlearn: 0.3942557\ttotal: 1.3s\tremaining: 2.43s\n",
      "348:\tlearn: 0.3940948\ttotal: 1.3s\tremaining: 2.43s\n",
      "349:\tlearn: 0.3939844\ttotal: 1.31s\tremaining: 2.44s\n",
      "350:\tlearn: 0.3937852\ttotal: 1.32s\tremaining: 2.45s\n",
      "351:\tlearn: 0.3935519\ttotal: 1.33s\tremaining: 2.45s\n",
      "352:\tlearn: 0.3933053\ttotal: 1.33s\tremaining: 2.44s\n",
      "353:\tlearn: 0.3931990\ttotal: 1.34s\tremaining: 2.44s\n",
      "354:\tlearn: 0.3930371\ttotal: 1.35s\tremaining: 2.44s\n",
      "355:\tlearn: 0.3928897\ttotal: 1.35s\tremaining: 2.45s\n",
      "356:\tlearn: 0.3926884\ttotal: 1.36s\tremaining: 2.44s\n",
      "357:\tlearn: 0.3925646\ttotal: 1.36s\tremaining: 2.44s\n",
      "358:\tlearn: 0.3923576\ttotal: 1.36s\tremaining: 2.44s\n",
      "359:\tlearn: 0.3921210\ttotal: 1.37s\tremaining: 2.43s\n",
      "360:\tlearn: 0.3919841\ttotal: 1.37s\tremaining: 2.43s\n",
      "361:\tlearn: 0.3918554\ttotal: 1.37s\tremaining: 2.42s\n",
      "362:\tlearn: 0.3916422\ttotal: 1.38s\tremaining: 2.42s\n",
      "363:\tlearn: 0.3914328\ttotal: 1.38s\tremaining: 2.41s\n",
      "364:\tlearn: 0.3912066\ttotal: 1.39s\tremaining: 2.41s\n",
      "365:\tlearn: 0.3910315\ttotal: 1.39s\tremaining: 2.41s\n",
      "366:\tlearn: 0.3907883\ttotal: 1.39s\tremaining: 2.4s\n",
      "367:\tlearn: 0.3906533\ttotal: 1.4s\tremaining: 2.4s\n",
      "368:\tlearn: 0.3905025\ttotal: 1.4s\tremaining: 2.4s\n",
      "369:\tlearn: 0.3902511\ttotal: 1.4s\tremaining: 2.39s\n",
      "370:\tlearn: 0.3901298\ttotal: 1.41s\tremaining: 2.39s\n",
      "371:\tlearn: 0.3899548\ttotal: 1.41s\tremaining: 2.39s\n",
      "372:\tlearn: 0.3897909\ttotal: 1.42s\tremaining: 2.38s\n",
      "373:\tlearn: 0.3895864\ttotal: 1.43s\tremaining: 2.39s\n",
      "374:\tlearn: 0.3894070\ttotal: 1.43s\tremaining: 2.39s\n",
      "375:\tlearn: 0.3892261\ttotal: 1.44s\tremaining: 2.39s\n",
      "376:\tlearn: 0.3890405\ttotal: 1.45s\tremaining: 2.39s\n",
      "377:\tlearn: 0.3888289\ttotal: 1.45s\tremaining: 2.39s\n",
      "378:\tlearn: 0.3886756\ttotal: 1.46s\tremaining: 2.39s\n",
      "379:\tlearn: 0.3885179\ttotal: 1.46s\tremaining: 2.39s\n",
      "380:\tlearn: 0.3882699\ttotal: 1.47s\tremaining: 2.38s\n",
      "381:\tlearn: 0.3881008\ttotal: 1.47s\tremaining: 2.38s\n",
      "382:\tlearn: 0.3879616\ttotal: 1.48s\tremaining: 2.38s\n",
      "383:\tlearn: 0.3877484\ttotal: 1.48s\tremaining: 2.38s\n",
      "384:\tlearn: 0.3875950\ttotal: 1.49s\tremaining: 2.37s\n",
      "385:\tlearn: 0.3874046\ttotal: 1.49s\tremaining: 2.37s\n",
      "386:\tlearn: 0.3872237\ttotal: 1.49s\tremaining: 2.36s\n",
      "387:\tlearn: 0.3870271\ttotal: 1.49s\tremaining: 2.36s\n",
      "388:\tlearn: 0.3868248\ttotal: 1.5s\tremaining: 2.35s\n",
      "389:\tlearn: 0.3866519\ttotal: 1.5s\tremaining: 2.34s\n",
      "390:\tlearn: 0.3865445\ttotal: 1.5s\tremaining: 2.34s\n",
      "391:\tlearn: 0.3863719\ttotal: 1.5s\tremaining: 2.33s\n",
      "392:\tlearn: 0.3862231\ttotal: 1.5s\tremaining: 2.32s\n",
      "393:\tlearn: 0.3860267\ttotal: 1.51s\tremaining: 2.32s\n",
      "394:\tlearn: 0.3858831\ttotal: 1.51s\tremaining: 2.31s\n",
      "395:\tlearn: 0.3857712\ttotal: 1.51s\tremaining: 2.31s\n",
      "396:\tlearn: 0.3856306\ttotal: 1.51s\tremaining: 2.3s\n",
      "397:\tlearn: 0.3853840\ttotal: 1.52s\tremaining: 2.29s\n",
      "398:\tlearn: 0.3851702\ttotal: 1.52s\tremaining: 2.29s\n",
      "399:\tlearn: 0.3849787\ttotal: 1.52s\tremaining: 2.29s\n",
      "400:\tlearn: 0.3847465\ttotal: 1.53s\tremaining: 2.28s\n",
      "401:\tlearn: 0.3845872\ttotal: 1.53s\tremaining: 2.28s\n",
      "402:\tlearn: 0.3844043\ttotal: 1.53s\tremaining: 2.27s\n",
      "403:\tlearn: 0.3842320\ttotal: 1.54s\tremaining: 2.27s\n",
      "404:\tlearn: 0.3841150\ttotal: 1.54s\tremaining: 2.26s\n",
      "405:\tlearn: 0.3839693\ttotal: 1.54s\tremaining: 2.26s\n",
      "406:\tlearn: 0.3838533\ttotal: 1.54s\tremaining: 2.25s\n",
      "407:\tlearn: 0.3836883\ttotal: 1.55s\tremaining: 2.25s\n",
      "408:\tlearn: 0.3835223\ttotal: 1.55s\tremaining: 2.24s\n",
      "409:\tlearn: 0.3832567\ttotal: 1.55s\tremaining: 2.23s\n",
      "410:\tlearn: 0.3831002\ttotal: 1.56s\tremaining: 2.23s\n",
      "411:\tlearn: 0.3829607\ttotal: 1.56s\tremaining: 2.22s\n",
      "412:\tlearn: 0.3827907\ttotal: 1.56s\tremaining: 2.22s\n",
      "413:\tlearn: 0.3826693\ttotal: 1.56s\tremaining: 2.21s\n",
      "414:\tlearn: 0.3824854\ttotal: 1.56s\tremaining: 2.21s\n",
      "415:\tlearn: 0.3823893\ttotal: 1.57s\tremaining: 2.2s\n",
      "416:\tlearn: 0.3822569\ttotal: 1.57s\tremaining: 2.2s\n",
      "417:\tlearn: 0.3821033\ttotal: 1.57s\tremaining: 2.19s\n",
      "418:\tlearn: 0.3819609\ttotal: 1.58s\tremaining: 2.19s\n",
      "419:\tlearn: 0.3817831\ttotal: 1.58s\tremaining: 2.18s\n",
      "420:\tlearn: 0.3816618\ttotal: 1.58s\tremaining: 2.17s\n",
      "421:\tlearn: 0.3815179\ttotal: 1.58s\tremaining: 2.17s\n",
      "422:\tlearn: 0.3814080\ttotal: 1.59s\tremaining: 2.16s\n",
      "423:\tlearn: 0.3812502\ttotal: 1.59s\tremaining: 2.16s\n",
      "424:\tlearn: 0.3811229\ttotal: 1.59s\tremaining: 2.15s\n",
      "425:\tlearn: 0.3809781\ttotal: 1.59s\tremaining: 2.15s\n",
      "426:\tlearn: 0.3807439\ttotal: 1.6s\tremaining: 2.14s\n",
      "427:\tlearn: 0.3806071\ttotal: 1.6s\tremaining: 2.14s\n",
      "428:\tlearn: 0.3804519\ttotal: 1.6s\tremaining: 2.13s\n",
      "429:\tlearn: 0.3803779\ttotal: 1.6s\tremaining: 2.13s\n",
      "430:\tlearn: 0.3802391\ttotal: 1.61s\tremaining: 2.12s\n",
      "431:\tlearn: 0.3800727\ttotal: 1.61s\tremaining: 2.12s\n",
      "432:\tlearn: 0.3798907\ttotal: 1.61s\tremaining: 2.11s\n",
      "433:\tlearn: 0.3797355\ttotal: 1.61s\tremaining: 2.11s\n",
      "434:\tlearn: 0.3795129\ttotal: 1.62s\tremaining: 2.1s\n",
      "435:\tlearn: 0.3793995\ttotal: 1.62s\tremaining: 2.1s\n",
      "436:\tlearn: 0.3792556\ttotal: 1.62s\tremaining: 2.09s\n",
      "437:\tlearn: 0.3790851\ttotal: 1.63s\tremaining: 2.09s\n",
      "438:\tlearn: 0.3789174\ttotal: 1.63s\tremaining: 2.08s\n",
      "439:\tlearn: 0.3787715\ttotal: 1.63s\tremaining: 2.08s\n",
      "440:\tlearn: 0.3786263\ttotal: 1.63s\tremaining: 2.07s\n",
      "441:\tlearn: 0.3784758\ttotal: 1.64s\tremaining: 2.07s\n",
      "442:\tlearn: 0.3782570\ttotal: 1.64s\tremaining: 2.06s\n",
      "443:\tlearn: 0.3779939\ttotal: 1.64s\tremaining: 2.06s\n",
      "444:\tlearn: 0.3777987\ttotal: 1.64s\tremaining: 2.05s\n",
      "445:\tlearn: 0.3776831\ttotal: 1.65s\tremaining: 2.05s\n",
      "446:\tlearn: 0.3775606\ttotal: 1.65s\tremaining: 2.04s\n",
      "447:\tlearn: 0.3774758\ttotal: 1.65s\tremaining: 2.04s\n",
      "448:\tlearn: 0.3772978\ttotal: 1.66s\tremaining: 2.03s\n",
      "449:\tlearn: 0.3771118\ttotal: 1.66s\tremaining: 2.03s\n",
      "450:\tlearn: 0.3770191\ttotal: 1.67s\tremaining: 2.03s\n",
      "451:\tlearn: 0.3769057\ttotal: 1.67s\tremaining: 2.02s\n",
      "452:\tlearn: 0.3766916\ttotal: 1.67s\tremaining: 2.02s\n",
      "453:\tlearn: 0.3764793\ttotal: 1.68s\tremaining: 2.02s\n",
      "454:\tlearn: 0.3763766\ttotal: 1.68s\tremaining: 2.01s\n",
      "455:\tlearn: 0.3762362\ttotal: 1.68s\tremaining: 2.01s\n",
      "456:\tlearn: 0.3760943\ttotal: 1.69s\tremaining: 2s\n",
      "457:\tlearn: 0.3759740\ttotal: 1.69s\tremaining: 2s\n",
      "458:\tlearn: 0.3758329\ttotal: 1.69s\tremaining: 1.99s\n",
      "459:\tlearn: 0.3756700\ttotal: 1.69s\tremaining: 1.99s\n",
      "460:\tlearn: 0.3755122\ttotal: 1.7s\tremaining: 1.98s\n",
      "461:\tlearn: 0.3753617\ttotal: 1.7s\tremaining: 1.98s\n",
      "462:\tlearn: 0.3752573\ttotal: 1.7s\tremaining: 1.97s\n",
      "463:\tlearn: 0.3751388\ttotal: 1.7s\tremaining: 1.97s\n",
      "464:\tlearn: 0.3750044\ttotal: 1.71s\tremaining: 1.96s\n",
      "465:\tlearn: 0.3749201\ttotal: 1.71s\tremaining: 1.96s\n",
      "466:\tlearn: 0.3747444\ttotal: 1.72s\tremaining: 1.96s\n",
      "467:\tlearn: 0.3746245\ttotal: 1.72s\tremaining: 1.96s\n",
      "468:\tlearn: 0.3744578\ttotal: 1.73s\tremaining: 1.95s\n",
      "469:\tlearn: 0.3742922\ttotal: 1.73s\tremaining: 1.95s\n",
      "470:\tlearn: 0.3741517\ttotal: 1.73s\tremaining: 1.95s\n",
      "471:\tlearn: 0.3739463\ttotal: 1.74s\tremaining: 1.94s\n",
      "472:\tlearn: 0.3738745\ttotal: 1.74s\tremaining: 1.94s\n",
      "473:\tlearn: 0.3737281\ttotal: 1.75s\tremaining: 1.94s\n",
      "474:\tlearn: 0.3735348\ttotal: 1.75s\tremaining: 1.93s\n",
      "475:\tlearn: 0.3734348\ttotal: 1.75s\tremaining: 1.93s\n",
      "476:\tlearn: 0.3732396\ttotal: 1.76s\tremaining: 1.93s\n",
      "477:\tlearn: 0.3730494\ttotal: 1.76s\tremaining: 1.92s\n",
      "478:\tlearn: 0.3729272\ttotal: 1.76s\tremaining: 1.92s\n",
      "479:\tlearn: 0.3727733\ttotal: 1.77s\tremaining: 1.91s\n",
      "480:\tlearn: 0.3726224\ttotal: 1.77s\tremaining: 1.91s\n",
      "481:\tlearn: 0.3724933\ttotal: 1.77s\tremaining: 1.91s\n",
      "482:\tlearn: 0.3723883\ttotal: 1.77s\tremaining: 1.9s\n",
      "483:\tlearn: 0.3722742\ttotal: 1.78s\tremaining: 1.9s\n",
      "484:\tlearn: 0.3721600\ttotal: 1.78s\tremaining: 1.89s\n",
      "485:\tlearn: 0.3720282\ttotal: 1.78s\tremaining: 1.89s\n",
      "486:\tlearn: 0.3719033\ttotal: 1.79s\tremaining: 1.88s\n",
      "487:\tlearn: 0.3717999\ttotal: 1.79s\tremaining: 1.88s\n",
      "488:\tlearn: 0.3716685\ttotal: 1.8s\tremaining: 1.88s\n",
      "489:\tlearn: 0.3715480\ttotal: 1.8s\tremaining: 1.87s\n",
      "490:\tlearn: 0.3713794\ttotal: 1.8s\tremaining: 1.87s\n",
      "491:\tlearn: 0.3712022\ttotal: 1.8s\tremaining: 1.86s\n",
      "492:\tlearn: 0.3709516\ttotal: 1.81s\tremaining: 1.86s\n",
      "493:\tlearn: 0.3708415\ttotal: 1.81s\tremaining: 1.85s\n",
      "494:\tlearn: 0.3707212\ttotal: 1.81s\tremaining: 1.85s\n",
      "495:\tlearn: 0.3705945\ttotal: 1.82s\tremaining: 1.85s\n",
      "496:\tlearn: 0.3703916\ttotal: 1.82s\tremaining: 1.84s\n",
      "497:\tlearn: 0.3702483\ttotal: 1.82s\tremaining: 1.84s\n",
      "498:\tlearn: 0.3701282\ttotal: 1.82s\tremaining: 1.83s\n",
      "499:\tlearn: 0.3700228\ttotal: 1.83s\tremaining: 1.83s\n",
      "500:\tlearn: 0.3697977\ttotal: 1.83s\tremaining: 1.82s\n",
      "501:\tlearn: 0.3696438\ttotal: 1.83s\tremaining: 1.82s\n",
      "502:\tlearn: 0.3694890\ttotal: 1.84s\tremaining: 1.81s\n",
      "503:\tlearn: 0.3693936\ttotal: 1.84s\tremaining: 1.81s\n",
      "504:\tlearn: 0.3692886\ttotal: 1.84s\tremaining: 1.8s\n",
      "505:\tlearn: 0.3691303\ttotal: 1.84s\tremaining: 1.8s\n",
      "506:\tlearn: 0.3689307\ttotal: 1.85s\tremaining: 1.79s\n",
      "507:\tlearn: 0.3688232\ttotal: 1.85s\tremaining: 1.79s\n",
      "508:\tlearn: 0.3687191\ttotal: 1.85s\tremaining: 1.79s\n",
      "509:\tlearn: 0.3686175\ttotal: 1.86s\tremaining: 1.78s\n",
      "510:\tlearn: 0.3684677\ttotal: 1.86s\tremaining: 1.78s\n",
      "511:\tlearn: 0.3683701\ttotal: 1.86s\tremaining: 1.78s\n",
      "512:\tlearn: 0.3682297\ttotal: 1.87s\tremaining: 1.77s\n",
      "513:\tlearn: 0.3681281\ttotal: 1.87s\tremaining: 1.77s\n",
      "514:\tlearn: 0.3679643\ttotal: 1.87s\tremaining: 1.76s\n",
      "515:\tlearn: 0.3678943\ttotal: 1.87s\tremaining: 1.76s\n",
      "516:\tlearn: 0.3676953\ttotal: 1.88s\tremaining: 1.75s\n",
      "517:\tlearn: 0.3675333\ttotal: 1.88s\tremaining: 1.75s\n",
      "518:\tlearn: 0.3673411\ttotal: 1.88s\tremaining: 1.74s\n",
      "519:\tlearn: 0.3671175\ttotal: 1.88s\tremaining: 1.74s\n",
      "520:\tlearn: 0.3669706\ttotal: 1.89s\tremaining: 1.73s\n",
      "521:\tlearn: 0.3668940\ttotal: 1.89s\tremaining: 1.73s\n",
      "522:\tlearn: 0.3667896\ttotal: 1.89s\tremaining: 1.72s\n",
      "523:\tlearn: 0.3666694\ttotal: 1.89s\tremaining: 1.72s\n",
      "524:\tlearn: 0.3664561\ttotal: 1.89s\tremaining: 1.71s\n",
      "525:\tlearn: 0.3663984\ttotal: 1.9s\tremaining: 1.71s\n",
      "526:\tlearn: 0.3662440\ttotal: 1.9s\tremaining: 1.7s\n",
      "527:\tlearn: 0.3661334\ttotal: 1.9s\tremaining: 1.7s\n",
      "528:\tlearn: 0.3660598\ttotal: 1.9s\tremaining: 1.69s\n",
      "529:\tlearn: 0.3659413\ttotal: 1.91s\tremaining: 1.69s\n",
      "530:\tlearn: 0.3658417\ttotal: 1.91s\tremaining: 1.68s\n",
      "531:\tlearn: 0.3657003\ttotal: 1.91s\tremaining: 1.68s\n",
      "532:\tlearn: 0.3655859\ttotal: 1.91s\tremaining: 1.68s\n",
      "533:\tlearn: 0.3654655\ttotal: 1.91s\tremaining: 1.67s\n",
      "534:\tlearn: 0.3652616\ttotal: 1.92s\tremaining: 1.67s\n",
      "535:\tlearn: 0.3651176\ttotal: 1.92s\tremaining: 1.66s\n",
      "536:\tlearn: 0.3649989\ttotal: 1.92s\tremaining: 1.66s\n",
      "537:\tlearn: 0.3649204\ttotal: 1.92s\tremaining: 1.65s\n",
      "538:\tlearn: 0.3648338\ttotal: 1.93s\tremaining: 1.65s\n",
      "539:\tlearn: 0.3646718\ttotal: 1.93s\tremaining: 1.64s\n",
      "540:\tlearn: 0.3645031\ttotal: 1.93s\tremaining: 1.64s\n",
      "541:\tlearn: 0.3644039\ttotal: 1.94s\tremaining: 1.64s\n",
      "542:\tlearn: 0.3642130\ttotal: 1.94s\tremaining: 1.63s\n",
      "543:\tlearn: 0.3641228\ttotal: 1.95s\tremaining: 1.63s\n",
      "544:\tlearn: 0.3639969\ttotal: 1.95s\tremaining: 1.63s\n",
      "545:\tlearn: 0.3638042\ttotal: 1.96s\tremaining: 1.63s\n",
      "546:\tlearn: 0.3636485\ttotal: 1.97s\tremaining: 1.63s\n",
      "547:\tlearn: 0.3635148\ttotal: 1.98s\tremaining: 1.63s\n",
      "548:\tlearn: 0.3633311\ttotal: 1.98s\tremaining: 1.63s\n",
      "549:\tlearn: 0.3632520\ttotal: 1.98s\tremaining: 1.62s\n",
      "550:\tlearn: 0.3630749\ttotal: 1.98s\tremaining: 1.62s\n",
      "551:\tlearn: 0.3629396\ttotal: 1.99s\tremaining: 1.61s\n",
      "552:\tlearn: 0.3627953\ttotal: 1.99s\tremaining: 1.61s\n",
      "553:\tlearn: 0.3626355\ttotal: 2s\tremaining: 1.61s\n",
      "554:\tlearn: 0.3625439\ttotal: 2s\tremaining: 1.6s\n",
      "555:\tlearn: 0.3623778\ttotal: 2s\tremaining: 1.6s\n",
      "556:\tlearn: 0.3622881\ttotal: 2.01s\tremaining: 1.6s\n",
      "557:\tlearn: 0.3621619\ttotal: 2.01s\tremaining: 1.59s\n",
      "558:\tlearn: 0.3620450\ttotal: 2.01s\tremaining: 1.59s\n",
      "559:\tlearn: 0.3619302\ttotal: 2.02s\tremaining: 1.59s\n",
      "560:\tlearn: 0.3617501\ttotal: 2.02s\tremaining: 1.58s\n",
      "561:\tlearn: 0.3616215\ttotal: 2.03s\tremaining: 1.58s\n",
      "562:\tlearn: 0.3614069\ttotal: 2.04s\tremaining: 1.58s\n",
      "563:\tlearn: 0.3612582\ttotal: 2.04s\tremaining: 1.57s\n",
      "564:\tlearn: 0.3611495\ttotal: 2.04s\tremaining: 1.57s\n",
      "565:\tlearn: 0.3610330\ttotal: 2.05s\tremaining: 1.57s\n",
      "566:\tlearn: 0.3608909\ttotal: 2.05s\tremaining: 1.56s\n",
      "567:\tlearn: 0.3606677\ttotal: 2.05s\tremaining: 1.56s\n",
      "568:\tlearn: 0.3605704\ttotal: 2.06s\tremaining: 1.56s\n",
      "569:\tlearn: 0.3604711\ttotal: 2.06s\tremaining: 1.55s\n",
      "570:\tlearn: 0.3603262\ttotal: 2.06s\tremaining: 1.55s\n",
      "571:\tlearn: 0.3601864\ttotal: 2.07s\tremaining: 1.55s\n",
      "572:\tlearn: 0.3600495\ttotal: 2.07s\tremaining: 1.54s\n",
      "573:\tlearn: 0.3598983\ttotal: 2.07s\tremaining: 1.54s\n",
      "574:\tlearn: 0.3598033\ttotal: 2.07s\tremaining: 1.53s\n",
      "575:\tlearn: 0.3596833\ttotal: 2.08s\tremaining: 1.53s\n",
      "576:\tlearn: 0.3595311\ttotal: 2.08s\tremaining: 1.52s\n",
      "577:\tlearn: 0.3594429\ttotal: 2.08s\tremaining: 1.52s\n",
      "578:\tlearn: 0.3592470\ttotal: 2.08s\tremaining: 1.51s\n",
      "579:\tlearn: 0.3590772\ttotal: 2.08s\tremaining: 1.51s\n",
      "580:\tlearn: 0.3589326\ttotal: 2.09s\tremaining: 1.5s\n",
      "581:\tlearn: 0.3588436\ttotal: 2.09s\tremaining: 1.5s\n",
      "582:\tlearn: 0.3587403\ttotal: 2.09s\tremaining: 1.5s\n",
      "583:\tlearn: 0.3586099\ttotal: 2.09s\tremaining: 1.49s\n",
      "584:\tlearn: 0.3585066\ttotal: 2.1s\tremaining: 1.49s\n",
      "585:\tlearn: 0.3583006\ttotal: 2.1s\tremaining: 1.48s\n",
      "586:\tlearn: 0.3581244\ttotal: 2.1s\tremaining: 1.48s\n",
      "587:\tlearn: 0.3579648\ttotal: 2.1s\tremaining: 1.47s\n",
      "588:\tlearn: 0.3578562\ttotal: 2.11s\tremaining: 1.47s\n",
      "589:\tlearn: 0.3576743\ttotal: 2.11s\tremaining: 1.47s\n",
      "590:\tlearn: 0.3575587\ttotal: 2.12s\tremaining: 1.46s\n",
      "591:\tlearn: 0.3574540\ttotal: 2.12s\tremaining: 1.46s\n",
      "592:\tlearn: 0.3573253\ttotal: 2.12s\tremaining: 1.46s\n",
      "593:\tlearn: 0.3571844\ttotal: 2.13s\tremaining: 1.45s\n",
      "594:\tlearn: 0.3570563\ttotal: 2.13s\tremaining: 1.45s\n",
      "595:\tlearn: 0.3568788\ttotal: 2.13s\tremaining: 1.45s\n",
      "596:\tlearn: 0.3567055\ttotal: 2.14s\tremaining: 1.45s\n",
      "597:\tlearn: 0.3565249\ttotal: 2.14s\tremaining: 1.44s\n",
      "598:\tlearn: 0.3563761\ttotal: 2.15s\tremaining: 1.44s\n",
      "599:\tlearn: 0.3562690\ttotal: 2.15s\tremaining: 1.43s\n",
      "600:\tlearn: 0.3561622\ttotal: 2.15s\tremaining: 1.43s\n",
      "601:\tlearn: 0.3560538\ttotal: 2.15s\tremaining: 1.42s\n",
      "602:\tlearn: 0.3559208\ttotal: 2.15s\tremaining: 1.42s\n",
      "603:\tlearn: 0.3558003\ttotal: 2.16s\tremaining: 1.41s\n",
      "604:\tlearn: 0.3556979\ttotal: 2.16s\tremaining: 1.41s\n",
      "605:\tlearn: 0.3555496\ttotal: 2.16s\tremaining: 1.4s\n",
      "606:\tlearn: 0.3553721\ttotal: 2.16s\tremaining: 1.4s\n",
      "607:\tlearn: 0.3552592\ttotal: 2.16s\tremaining: 1.4s\n",
      "608:\tlearn: 0.3551510\ttotal: 2.17s\tremaining: 1.39s\n",
      "609:\tlearn: 0.3550498\ttotal: 2.17s\tremaining: 1.39s\n",
      "610:\tlearn: 0.3549859\ttotal: 2.18s\tremaining: 1.39s\n",
      "611:\tlearn: 0.3548843\ttotal: 2.18s\tremaining: 1.38s\n",
      "612:\tlearn: 0.3548096\ttotal: 2.18s\tremaining: 1.38s\n",
      "613:\tlearn: 0.3547547\ttotal: 2.19s\tremaining: 1.37s\n",
      "614:\tlearn: 0.3546290\ttotal: 2.19s\tremaining: 1.37s\n",
      "615:\tlearn: 0.3544101\ttotal: 2.19s\tremaining: 1.37s\n",
      "616:\tlearn: 0.3542749\ttotal: 2.2s\tremaining: 1.36s\n",
      "617:\tlearn: 0.3541699\ttotal: 2.2s\tremaining: 1.36s\n",
      "618:\tlearn: 0.3541095\ttotal: 2.2s\tremaining: 1.35s\n",
      "619:\tlearn: 0.3540150\ttotal: 2.2s\tremaining: 1.35s\n",
      "620:\tlearn: 0.3539044\ttotal: 2.21s\tremaining: 1.35s\n",
      "621:\tlearn: 0.3538407\ttotal: 2.21s\tremaining: 1.34s\n",
      "622:\tlearn: 0.3537222\ttotal: 2.21s\tremaining: 1.34s\n",
      "623:\tlearn: 0.3536478\ttotal: 2.21s\tremaining: 1.33s\n",
      "624:\tlearn: 0.3535279\ttotal: 2.22s\tremaining: 1.33s\n",
      "625:\tlearn: 0.3533380\ttotal: 2.22s\tremaining: 1.33s\n",
      "626:\tlearn: 0.3532587\ttotal: 2.22s\tremaining: 1.32s\n",
      "627:\tlearn: 0.3531842\ttotal: 2.23s\tremaining: 1.32s\n",
      "628:\tlearn: 0.3531014\ttotal: 2.23s\tremaining: 1.31s\n",
      "629:\tlearn: 0.3529970\ttotal: 2.23s\tremaining: 1.31s\n",
      "630:\tlearn: 0.3528944\ttotal: 2.23s\tremaining: 1.31s\n",
      "631:\tlearn: 0.3527661\ttotal: 2.24s\tremaining: 1.3s\n",
      "632:\tlearn: 0.3526410\ttotal: 2.24s\tremaining: 1.3s\n",
      "633:\tlearn: 0.3524745\ttotal: 2.24s\tremaining: 1.29s\n",
      "634:\tlearn: 0.3523736\ttotal: 2.25s\tremaining: 1.29s\n",
      "635:\tlearn: 0.3522168\ttotal: 2.25s\tremaining: 1.29s\n",
      "636:\tlearn: 0.3520625\ttotal: 2.25s\tremaining: 1.28s\n",
      "637:\tlearn: 0.3519912\ttotal: 2.26s\tremaining: 1.28s\n",
      "638:\tlearn: 0.3518359\ttotal: 2.26s\tremaining: 1.28s\n",
      "639:\tlearn: 0.3516471\ttotal: 2.26s\tremaining: 1.27s\n",
      "640:\tlearn: 0.3515434\ttotal: 2.27s\tremaining: 1.27s\n",
      "641:\tlearn: 0.3513957\ttotal: 2.27s\tremaining: 1.26s\n",
      "642:\tlearn: 0.3512869\ttotal: 2.27s\tremaining: 1.26s\n",
      "643:\tlearn: 0.3511622\ttotal: 2.27s\tremaining: 1.26s\n",
      "644:\tlearn: 0.3510216\ttotal: 2.28s\tremaining: 1.25s\n",
      "645:\tlearn: 0.3509013\ttotal: 2.28s\tremaining: 1.25s\n",
      "646:\tlearn: 0.3508525\ttotal: 2.28s\tremaining: 1.24s\n",
      "647:\tlearn: 0.3506977\ttotal: 2.28s\tremaining: 1.24s\n",
      "648:\tlearn: 0.3505974\ttotal: 2.29s\tremaining: 1.24s\n",
      "649:\tlearn: 0.3504286\ttotal: 2.29s\tremaining: 1.23s\n",
      "650:\tlearn: 0.3502816\ttotal: 2.29s\tremaining: 1.23s\n",
      "651:\tlearn: 0.3501097\ttotal: 2.29s\tremaining: 1.22s\n",
      "652:\tlearn: 0.3500137\ttotal: 2.29s\tremaining: 1.22s\n",
      "653:\tlearn: 0.3499051\ttotal: 2.3s\tremaining: 1.22s\n",
      "654:\tlearn: 0.3498122\ttotal: 2.3s\tremaining: 1.21s\n",
      "655:\tlearn: 0.3496706\ttotal: 2.3s\tremaining: 1.21s\n",
      "656:\tlearn: 0.3495220\ttotal: 2.31s\tremaining: 1.2s\n",
      "657:\tlearn: 0.3494569\ttotal: 2.31s\tremaining: 1.2s\n",
      "658:\tlearn: 0.3493549\ttotal: 2.31s\tremaining: 1.2s\n",
      "659:\tlearn: 0.3492010\ttotal: 2.32s\tremaining: 1.19s\n",
      "660:\tlearn: 0.3490781\ttotal: 2.32s\tremaining: 1.19s\n",
      "661:\tlearn: 0.3489610\ttotal: 2.32s\tremaining: 1.19s\n",
      "662:\tlearn: 0.3488291\ttotal: 2.33s\tremaining: 1.18s\n",
      "663:\tlearn: 0.3487044\ttotal: 2.33s\tremaining: 1.18s\n",
      "664:\tlearn: 0.3485185\ttotal: 2.33s\tremaining: 1.18s\n",
      "665:\tlearn: 0.3483945\ttotal: 2.34s\tremaining: 1.17s\n",
      "666:\tlearn: 0.3482878\ttotal: 2.34s\tremaining: 1.17s\n",
      "667:\tlearn: 0.3481998\ttotal: 2.34s\tremaining: 1.16s\n",
      "668:\tlearn: 0.3480918\ttotal: 2.35s\tremaining: 1.16s\n",
      "669:\tlearn: 0.3479102\ttotal: 2.35s\tremaining: 1.16s\n",
      "670:\tlearn: 0.3477624\ttotal: 2.36s\tremaining: 1.16s\n",
      "671:\tlearn: 0.3476078\ttotal: 2.37s\tremaining: 1.16s\n",
      "672:\tlearn: 0.3475383\ttotal: 2.37s\tremaining: 1.15s\n",
      "673:\tlearn: 0.3473374\ttotal: 2.37s\tremaining: 1.15s\n",
      "674:\tlearn: 0.3471626\ttotal: 2.39s\tremaining: 1.15s\n",
      "675:\tlearn: 0.3469470\ttotal: 2.4s\tremaining: 1.15s\n",
      "676:\tlearn: 0.3467711\ttotal: 2.41s\tremaining: 1.15s\n",
      "677:\tlearn: 0.3465886\ttotal: 2.41s\tremaining: 1.15s\n",
      "678:\tlearn: 0.3464517\ttotal: 2.44s\tremaining: 1.15s\n",
      "679:\tlearn: 0.3463056\ttotal: 2.44s\tremaining: 1.15s\n",
      "680:\tlearn: 0.3462120\ttotal: 2.45s\tremaining: 1.15s\n",
      "681:\tlearn: 0.3461038\ttotal: 2.45s\tremaining: 1.14s\n",
      "682:\tlearn: 0.3459965\ttotal: 2.46s\tremaining: 1.14s\n",
      "683:\tlearn: 0.3458199\ttotal: 2.46s\tremaining: 1.14s\n",
      "684:\tlearn: 0.3457211\ttotal: 2.47s\tremaining: 1.13s\n",
      "685:\tlearn: 0.3455543\ttotal: 2.47s\tremaining: 1.13s\n",
      "686:\tlearn: 0.3454172\ttotal: 2.47s\tremaining: 1.13s\n",
      "687:\tlearn: 0.3453635\ttotal: 2.48s\tremaining: 1.12s\n",
      "688:\tlearn: 0.3452724\ttotal: 2.48s\tremaining: 1.12s\n",
      "689:\tlearn: 0.3451719\ttotal: 2.49s\tremaining: 1.12s\n",
      "690:\tlearn: 0.3450072\ttotal: 2.49s\tremaining: 1.11s\n",
      "691:\tlearn: 0.3448682\ttotal: 2.5s\tremaining: 1.11s\n",
      "692:\tlearn: 0.3447266\ttotal: 2.5s\tremaining: 1.11s\n",
      "693:\tlearn: 0.3445918\ttotal: 2.5s\tremaining: 1.1s\n",
      "694:\tlearn: 0.3444199\ttotal: 2.5s\tremaining: 1.1s\n",
      "695:\tlearn: 0.3442422\ttotal: 2.51s\tremaining: 1.09s\n",
      "696:\tlearn: 0.3441304\ttotal: 2.51s\tremaining: 1.09s\n",
      "697:\tlearn: 0.3439942\ttotal: 2.51s\tremaining: 1.09s\n",
      "698:\tlearn: 0.3438062\ttotal: 2.52s\tremaining: 1.08s\n",
      "699:\tlearn: 0.3436683\ttotal: 2.52s\tremaining: 1.08s\n",
      "700:\tlearn: 0.3435416\ttotal: 2.52s\tremaining: 1.08s\n",
      "701:\tlearn: 0.3434654\ttotal: 2.53s\tremaining: 1.07s\n",
      "702:\tlearn: 0.3433863\ttotal: 2.53s\tremaining: 1.07s\n",
      "703:\tlearn: 0.3432879\ttotal: 2.53s\tremaining: 1.06s\n",
      "704:\tlearn: 0.3432036\ttotal: 2.54s\tremaining: 1.06s\n",
      "705:\tlearn: 0.3431599\ttotal: 2.54s\tremaining: 1.06s\n",
      "706:\tlearn: 0.3431008\ttotal: 2.54s\tremaining: 1.05s\n",
      "707:\tlearn: 0.3429770\ttotal: 2.55s\tremaining: 1.05s\n",
      "708:\tlearn: 0.3428241\ttotal: 2.55s\tremaining: 1.05s\n",
      "709:\tlearn: 0.3427344\ttotal: 2.55s\tremaining: 1.04s\n",
      "710:\tlearn: 0.3425907\ttotal: 2.56s\tremaining: 1.04s\n",
      "711:\tlearn: 0.3424127\ttotal: 2.56s\tremaining: 1.03s\n",
      "712:\tlearn: 0.3423329\ttotal: 2.56s\tremaining: 1.03s\n",
      "713:\tlearn: 0.3422302\ttotal: 2.56s\tremaining: 1.03s\n",
      "714:\tlearn: 0.3421271\ttotal: 2.56s\tremaining: 1.02s\n",
      "715:\tlearn: 0.3420032\ttotal: 2.57s\tremaining: 1.02s\n",
      "716:\tlearn: 0.3418670\ttotal: 2.57s\tremaining: 1.01s\n",
      "717:\tlearn: 0.3417605\ttotal: 2.57s\tremaining: 1.01s\n",
      "718:\tlearn: 0.3416711\ttotal: 2.58s\tremaining: 1.01s\n",
      "719:\tlearn: 0.3415908\ttotal: 2.58s\tremaining: 1s\n",
      "720:\tlearn: 0.3414258\ttotal: 2.58s\tremaining: 999ms\n",
      "721:\tlearn: 0.3413584\ttotal: 2.58s\tremaining: 995ms\n",
      "722:\tlearn: 0.3412262\ttotal: 2.59s\tremaining: 991ms\n",
      "723:\tlearn: 0.3410933\ttotal: 2.59s\tremaining: 987ms\n",
      "724:\tlearn: 0.3409843\ttotal: 2.59s\tremaining: 983ms\n",
      "725:\tlearn: 0.3408487\ttotal: 2.6s\tremaining: 979ms\n",
      "726:\tlearn: 0.3407425\ttotal: 2.6s\tremaining: 976ms\n",
      "727:\tlearn: 0.3406711\ttotal: 2.6s\tremaining: 972ms\n",
      "728:\tlearn: 0.3405584\ttotal: 2.6s\tremaining: 968ms\n",
      "729:\tlearn: 0.3404538\ttotal: 2.61s\tremaining: 966ms\n",
      "730:\tlearn: 0.3403430\ttotal: 2.62s\tremaining: 962ms\n",
      "731:\tlearn: 0.3402521\ttotal: 2.62s\tremaining: 960ms\n",
      "732:\tlearn: 0.3401448\ttotal: 2.63s\tremaining: 956ms\n",
      "733:\tlearn: 0.3400277\ttotal: 2.63s\tremaining: 953ms\n",
      "734:\tlearn: 0.3399166\ttotal: 2.63s\tremaining: 950ms\n",
      "735:\tlearn: 0.3398328\ttotal: 2.64s\tremaining: 946ms\n",
      "736:\tlearn: 0.3397388\ttotal: 2.64s\tremaining: 943ms\n",
      "737:\tlearn: 0.3396378\ttotal: 2.65s\tremaining: 939ms\n",
      "738:\tlearn: 0.3395710\ttotal: 2.65s\tremaining: 935ms\n",
      "739:\tlearn: 0.3393388\ttotal: 2.65s\tremaining: 931ms\n",
      "740:\tlearn: 0.3391907\ttotal: 2.65s\tremaining: 927ms\n",
      "741:\tlearn: 0.3391358\ttotal: 2.65s\tremaining: 923ms\n",
      "742:\tlearn: 0.3390193\ttotal: 2.66s\tremaining: 919ms\n",
      "743:\tlearn: 0.3389049\ttotal: 2.66s\tremaining: 915ms\n",
      "744:\tlearn: 0.3388200\ttotal: 2.66s\tremaining: 911ms\n",
      "745:\tlearn: 0.3387565\ttotal: 2.66s\tremaining: 907ms\n",
      "746:\tlearn: 0.3386404\ttotal: 2.67s\tremaining: 903ms\n",
      "747:\tlearn: 0.3385202\ttotal: 2.67s\tremaining: 899ms\n",
      "748:\tlearn: 0.3384285\ttotal: 2.67s\tremaining: 894ms\n",
      "749:\tlearn: 0.3383553\ttotal: 2.67s\tremaining: 890ms\n",
      "750:\tlearn: 0.3382126\ttotal: 2.67s\tremaining: 886ms\n",
      "751:\tlearn: 0.3380897\ttotal: 2.67s\tremaining: 882ms\n",
      "752:\tlearn: 0.3379398\ttotal: 2.68s\tremaining: 878ms\n",
      "753:\tlearn: 0.3378563\ttotal: 2.68s\tremaining: 875ms\n",
      "754:\tlearn: 0.3377129\ttotal: 2.68s\tremaining: 871ms\n",
      "755:\tlearn: 0.3375863\ttotal: 2.69s\tremaining: 867ms\n",
      "756:\tlearn: 0.3374930\ttotal: 2.69s\tremaining: 863ms\n",
      "757:\tlearn: 0.3373920\ttotal: 2.69s\tremaining: 859ms\n",
      "758:\tlearn: 0.3372384\ttotal: 2.69s\tremaining: 855ms\n",
      "759:\tlearn: 0.3371573\ttotal: 2.69s\tremaining: 851ms\n",
      "760:\tlearn: 0.3370050\ttotal: 2.69s\tremaining: 847ms\n",
      "761:\tlearn: 0.3368613\ttotal: 2.7s\tremaining: 843ms\n",
      "762:\tlearn: 0.3367789\ttotal: 2.7s\tremaining: 839ms\n",
      "763:\tlearn: 0.3366499\ttotal: 2.7s\tremaining: 835ms\n",
      "764:\tlearn: 0.3365208\ttotal: 2.7s\tremaining: 831ms\n",
      "765:\tlearn: 0.3364345\ttotal: 2.71s\tremaining: 827ms\n",
      "766:\tlearn: 0.3362452\ttotal: 2.71s\tremaining: 823ms\n",
      "767:\tlearn: 0.3361508\ttotal: 2.71s\tremaining: 819ms\n",
      "768:\tlearn: 0.3360061\ttotal: 2.71s\tremaining: 815ms\n",
      "769:\tlearn: 0.3358863\ttotal: 2.71s\tremaining: 811ms\n",
      "770:\tlearn: 0.3358039\ttotal: 2.72s\tremaining: 807ms\n",
      "771:\tlearn: 0.3356611\ttotal: 2.72s\tremaining: 803ms\n",
      "772:\tlearn: 0.3355807\ttotal: 2.72s\tremaining: 799ms\n",
      "773:\tlearn: 0.3354838\ttotal: 2.72s\tremaining: 795ms\n",
      "774:\tlearn: 0.3353605\ttotal: 2.72s\tremaining: 791ms\n",
      "775:\tlearn: 0.3352537\ttotal: 2.73s\tremaining: 787ms\n",
      "776:\tlearn: 0.3351445\ttotal: 2.73s\tremaining: 783ms\n",
      "777:\tlearn: 0.3350788\ttotal: 2.73s\tremaining: 779ms\n",
      "778:\tlearn: 0.3349691\ttotal: 2.73s\tremaining: 775ms\n",
      "779:\tlearn: 0.3348565\ttotal: 2.73s\tremaining: 771ms\n",
      "780:\tlearn: 0.3347180\ttotal: 2.74s\tremaining: 767ms\n",
      "781:\tlearn: 0.3346387\ttotal: 2.74s\tremaining: 763ms\n",
      "782:\tlearn: 0.3345968\ttotal: 2.74s\tremaining: 759ms\n",
      "783:\tlearn: 0.3345066\ttotal: 2.74s\tremaining: 755ms\n",
      "784:\tlearn: 0.3344241\ttotal: 2.74s\tremaining: 752ms\n",
      "785:\tlearn: 0.3343355\ttotal: 2.75s\tremaining: 748ms\n",
      "786:\tlearn: 0.3342035\ttotal: 2.75s\tremaining: 744ms\n",
      "787:\tlearn: 0.3340709\ttotal: 2.75s\tremaining: 740ms\n",
      "788:\tlearn: 0.3339412\ttotal: 2.75s\tremaining: 736ms\n",
      "789:\tlearn: 0.3338087\ttotal: 2.76s\tremaining: 733ms\n",
      "790:\tlearn: 0.3336922\ttotal: 2.76s\tremaining: 729ms\n",
      "791:\tlearn: 0.3336036\ttotal: 2.76s\tremaining: 725ms\n",
      "792:\tlearn: 0.3334710\ttotal: 2.76s\tremaining: 721ms\n",
      "793:\tlearn: 0.3333868\ttotal: 2.77s\tremaining: 717ms\n",
      "794:\tlearn: 0.3333106\ttotal: 2.77s\tremaining: 714ms\n",
      "795:\tlearn: 0.3332435\ttotal: 2.77s\tremaining: 710ms\n",
      "796:\tlearn: 0.3330533\ttotal: 2.77s\tremaining: 706ms\n",
      "797:\tlearn: 0.3329359\ttotal: 2.77s\tremaining: 702ms\n",
      "798:\tlearn: 0.3328372\ttotal: 2.77s\tremaining: 698ms\n",
      "799:\tlearn: 0.3327130\ttotal: 2.78s\tremaining: 694ms\n",
      "800:\tlearn: 0.3325942\ttotal: 2.78s\tremaining: 691ms\n",
      "801:\tlearn: 0.3324413\ttotal: 2.78s\tremaining: 687ms\n",
      "802:\tlearn: 0.3323703\ttotal: 2.79s\tremaining: 683ms\n",
      "803:\tlearn: 0.3322725\ttotal: 2.79s\tremaining: 680ms\n",
      "804:\tlearn: 0.3322038\ttotal: 2.79s\tremaining: 676ms\n",
      "805:\tlearn: 0.3321307\ttotal: 2.79s\tremaining: 672ms\n",
      "806:\tlearn: 0.3320182\ttotal: 2.8s\tremaining: 669ms\n",
      "807:\tlearn: 0.3318302\ttotal: 2.8s\tremaining: 665ms\n",
      "808:\tlearn: 0.3316814\ttotal: 2.8s\tremaining: 662ms\n",
      "809:\tlearn: 0.3315914\ttotal: 2.8s\tremaining: 658ms\n",
      "810:\tlearn: 0.3314574\ttotal: 2.81s\tremaining: 654ms\n",
      "811:\tlearn: 0.3313360\ttotal: 2.81s\tremaining: 651ms\n",
      "812:\tlearn: 0.3312395\ttotal: 2.81s\tremaining: 647ms\n",
      "813:\tlearn: 0.3310962\ttotal: 2.82s\tremaining: 644ms\n",
      "814:\tlearn: 0.3310212\ttotal: 2.82s\tremaining: 640ms\n",
      "815:\tlearn: 0.3308983\ttotal: 2.82s\tremaining: 636ms\n",
      "816:\tlearn: 0.3307777\ttotal: 2.82s\tremaining: 632ms\n",
      "817:\tlearn: 0.3306671\ttotal: 2.83s\tremaining: 629ms\n",
      "818:\tlearn: 0.3305603\ttotal: 2.83s\tremaining: 625ms\n",
      "819:\tlearn: 0.3304138\ttotal: 2.83s\tremaining: 622ms\n",
      "820:\tlearn: 0.3302814\ttotal: 2.83s\tremaining: 618ms\n",
      "821:\tlearn: 0.3301407\ttotal: 2.84s\tremaining: 615ms\n",
      "822:\tlearn: 0.3300579\ttotal: 2.84s\tremaining: 611ms\n",
      "823:\tlearn: 0.3299884\ttotal: 2.84s\tremaining: 607ms\n",
      "824:\tlearn: 0.3298767\ttotal: 2.85s\tremaining: 604ms\n",
      "825:\tlearn: 0.3297421\ttotal: 2.85s\tremaining: 600ms\n",
      "826:\tlearn: 0.3296299\ttotal: 2.85s\tremaining: 597ms\n",
      "827:\tlearn: 0.3294952\ttotal: 2.85s\tremaining: 593ms\n",
      "828:\tlearn: 0.3293670\ttotal: 2.86s\tremaining: 589ms\n",
      "829:\tlearn: 0.3292500\ttotal: 2.86s\tremaining: 586ms\n",
      "830:\tlearn: 0.3291815\ttotal: 2.86s\tremaining: 582ms\n",
      "831:\tlearn: 0.3290479\ttotal: 2.87s\tremaining: 579ms\n",
      "832:\tlearn: 0.3289228\ttotal: 2.87s\tremaining: 575ms\n",
      "833:\tlearn: 0.3288407\ttotal: 2.87s\tremaining: 572ms\n",
      "834:\tlearn: 0.3287034\ttotal: 2.88s\tremaining: 568ms\n",
      "835:\tlearn: 0.3285872\ttotal: 2.88s\tremaining: 565ms\n",
      "836:\tlearn: 0.3284635\ttotal: 2.88s\tremaining: 561ms\n",
      "837:\tlearn: 0.3283593\ttotal: 2.88s\tremaining: 558ms\n",
      "838:\tlearn: 0.3282627\ttotal: 2.89s\tremaining: 554ms\n",
      "839:\tlearn: 0.3281716\ttotal: 2.89s\tremaining: 551ms\n",
      "840:\tlearn: 0.3280772\ttotal: 2.89s\tremaining: 547ms\n",
      "841:\tlearn: 0.3279518\ttotal: 2.9s\tremaining: 544ms\n",
      "842:\tlearn: 0.3278532\ttotal: 2.9s\tremaining: 541ms\n",
      "843:\tlearn: 0.3277583\ttotal: 2.9s\tremaining: 537ms\n",
      "844:\tlearn: 0.3276274\ttotal: 2.91s\tremaining: 534ms\n",
      "845:\tlearn: 0.3274666\ttotal: 2.91s\tremaining: 530ms\n",
      "846:\tlearn: 0.3273398\ttotal: 2.92s\tremaining: 527ms\n",
      "847:\tlearn: 0.3272774\ttotal: 2.92s\tremaining: 524ms\n",
      "848:\tlearn: 0.3271527\ttotal: 2.92s\tremaining: 520ms\n",
      "849:\tlearn: 0.3270382\ttotal: 2.92s\tremaining: 516ms\n",
      "850:\tlearn: 0.3269660\ttotal: 2.93s\tremaining: 513ms\n",
      "851:\tlearn: 0.3268888\ttotal: 2.93s\tremaining: 509ms\n",
      "852:\tlearn: 0.3268131\ttotal: 2.93s\tremaining: 505ms\n",
      "853:\tlearn: 0.3266913\ttotal: 2.94s\tremaining: 502ms\n",
      "854:\tlearn: 0.3265718\ttotal: 2.94s\tremaining: 498ms\n",
      "855:\tlearn: 0.3264585\ttotal: 2.94s\tremaining: 495ms\n",
      "856:\tlearn: 0.3263048\ttotal: 2.94s\tremaining: 491ms\n",
      "857:\tlearn: 0.3262175\ttotal: 2.95s\tremaining: 488ms\n",
      "858:\tlearn: 0.3260925\ttotal: 2.95s\tremaining: 484ms\n",
      "859:\tlearn: 0.3259789\ttotal: 2.95s\tremaining: 481ms\n",
      "860:\tlearn: 0.3258450\ttotal: 2.96s\tremaining: 477ms\n",
      "861:\tlearn: 0.3256910\ttotal: 2.96s\tremaining: 474ms\n",
      "862:\tlearn: 0.3255316\ttotal: 2.96s\tremaining: 470ms\n",
      "863:\tlearn: 0.3254030\ttotal: 2.96s\tremaining: 466ms\n",
      "864:\tlearn: 0.3252181\ttotal: 2.97s\tremaining: 463ms\n",
      "865:\tlearn: 0.3251021\ttotal: 2.97s\tremaining: 459ms\n",
      "866:\tlearn: 0.3249710\ttotal: 2.97s\tremaining: 456ms\n",
      "867:\tlearn: 0.3249153\ttotal: 2.97s\tremaining: 452ms\n",
      "868:\tlearn: 0.3248189\ttotal: 2.98s\tremaining: 449ms\n",
      "869:\tlearn: 0.3247067\ttotal: 2.98s\tremaining: 446ms\n",
      "870:\tlearn: 0.3245855\ttotal: 2.98s\tremaining: 442ms\n",
      "871:\tlearn: 0.3244702\ttotal: 2.99s\tremaining: 439ms\n",
      "872:\tlearn: 0.3243579\ttotal: 2.99s\tremaining: 435ms\n",
      "873:\tlearn: 0.3242491\ttotal: 2.99s\tremaining: 432ms\n",
      "874:\tlearn: 0.3240507\ttotal: 3s\tremaining: 428ms\n",
      "875:\tlearn: 0.3239731\ttotal: 3s\tremaining: 424ms\n",
      "876:\tlearn: 0.3238924\ttotal: 3s\tremaining: 421ms\n",
      "877:\tlearn: 0.3237898\ttotal: 3s\tremaining: 417ms\n",
      "878:\tlearn: 0.3237015\ttotal: 3.01s\tremaining: 414ms\n",
      "879:\tlearn: 0.3236315\ttotal: 3.01s\tremaining: 410ms\n",
      "880:\tlearn: 0.3234332\ttotal: 3.01s\tremaining: 407ms\n",
      "881:\tlearn: 0.3233421\ttotal: 3.02s\tremaining: 403ms\n",
      "882:\tlearn: 0.3232525\ttotal: 3.02s\tremaining: 400ms\n",
      "883:\tlearn: 0.3231046\ttotal: 3.02s\tremaining: 397ms\n",
      "884:\tlearn: 0.3230321\ttotal: 3.02s\tremaining: 393ms\n",
      "885:\tlearn: 0.3228951\ttotal: 3.03s\tremaining: 389ms\n",
      "886:\tlearn: 0.3227937\ttotal: 3.03s\tremaining: 386ms\n",
      "887:\tlearn: 0.3226311\ttotal: 3.03s\tremaining: 382ms\n",
      "888:\tlearn: 0.3224887\ttotal: 3.04s\tremaining: 379ms\n",
      "889:\tlearn: 0.3223882\ttotal: 3.04s\tremaining: 375ms\n",
      "890:\tlearn: 0.3223452\ttotal: 3.04s\tremaining: 372ms\n",
      "891:\tlearn: 0.3222281\ttotal: 3.04s\tremaining: 369ms\n",
      "892:\tlearn: 0.3221180\ttotal: 3.05s\tremaining: 365ms\n",
      "893:\tlearn: 0.3220250\ttotal: 3.05s\tremaining: 362ms\n",
      "894:\tlearn: 0.3219133\ttotal: 3.05s\tremaining: 358ms\n",
      "895:\tlearn: 0.3218159\ttotal: 3.06s\tremaining: 355ms\n",
      "896:\tlearn: 0.3217175\ttotal: 3.06s\tremaining: 351ms\n",
      "897:\tlearn: 0.3216009\ttotal: 3.06s\tremaining: 348ms\n",
      "898:\tlearn: 0.3214927\ttotal: 3.06s\tremaining: 344ms\n",
      "899:\tlearn: 0.3214229\ttotal: 3.07s\tremaining: 341ms\n",
      "900:\tlearn: 0.3213342\ttotal: 3.07s\tremaining: 337ms\n",
      "901:\tlearn: 0.3212323\ttotal: 3.07s\tremaining: 334ms\n",
      "902:\tlearn: 0.3211669\ttotal: 3.08s\tremaining: 330ms\n",
      "903:\tlearn: 0.3210971\ttotal: 3.08s\tremaining: 327ms\n",
      "904:\tlearn: 0.3209852\ttotal: 3.08s\tremaining: 323ms\n",
      "905:\tlearn: 0.3208542\ttotal: 3.08s\tremaining: 320ms\n",
      "906:\tlearn: 0.3207459\ttotal: 3.09s\tremaining: 316ms\n",
      "907:\tlearn: 0.3206607\ttotal: 3.09s\tremaining: 313ms\n",
      "908:\tlearn: 0.3205563\ttotal: 3.09s\tremaining: 310ms\n",
      "909:\tlearn: 0.3204773\ttotal: 3.1s\tremaining: 306ms\n",
      "910:\tlearn: 0.3203420\ttotal: 3.1s\tremaining: 303ms\n",
      "911:\tlearn: 0.3202314\ttotal: 3.1s\tremaining: 299ms\n",
      "912:\tlearn: 0.3201443\ttotal: 3.1s\tremaining: 296ms\n",
      "913:\tlearn: 0.3200724\ttotal: 3.11s\tremaining: 292ms\n",
      "914:\tlearn: 0.3199820\ttotal: 3.11s\tremaining: 289ms\n",
      "915:\tlearn: 0.3198806\ttotal: 3.11s\tremaining: 285ms\n",
      "916:\tlearn: 0.3196875\ttotal: 3.12s\tremaining: 282ms\n",
      "917:\tlearn: 0.3195706\ttotal: 3.12s\tremaining: 279ms\n",
      "918:\tlearn: 0.3193960\ttotal: 3.12s\tremaining: 275ms\n",
      "919:\tlearn: 0.3192656\ttotal: 3.12s\tremaining: 272ms\n",
      "920:\tlearn: 0.3190948\ttotal: 3.13s\tremaining: 268ms\n",
      "921:\tlearn: 0.3190281\ttotal: 3.13s\tremaining: 265ms\n",
      "922:\tlearn: 0.3189538\ttotal: 3.13s\tremaining: 261ms\n",
      "923:\tlearn: 0.3187669\ttotal: 3.13s\tremaining: 258ms\n",
      "924:\tlearn: 0.3186652\ttotal: 3.14s\tremaining: 254ms\n",
      "925:\tlearn: 0.3185863\ttotal: 3.14s\tremaining: 251ms\n",
      "926:\tlearn: 0.3185098\ttotal: 3.14s\tremaining: 247ms\n",
      "927:\tlearn: 0.3184385\ttotal: 3.15s\tremaining: 244ms\n",
      "928:\tlearn: 0.3183551\ttotal: 3.15s\tremaining: 241ms\n",
      "929:\tlearn: 0.3182354\ttotal: 3.15s\tremaining: 237ms\n",
      "930:\tlearn: 0.3181377\ttotal: 3.15s\tremaining: 234ms\n",
      "931:\tlearn: 0.3180797\ttotal: 3.16s\tremaining: 230ms\n",
      "932:\tlearn: 0.3180344\ttotal: 3.16s\tremaining: 227ms\n",
      "933:\tlearn: 0.3179305\ttotal: 3.16s\tremaining: 223ms\n",
      "934:\tlearn: 0.3178433\ttotal: 3.16s\tremaining: 220ms\n",
      "935:\tlearn: 0.3177694\ttotal: 3.17s\tremaining: 217ms\n",
      "936:\tlearn: 0.3177014\ttotal: 3.17s\tremaining: 213ms\n",
      "937:\tlearn: 0.3174503\ttotal: 3.17s\tremaining: 210ms\n",
      "938:\tlearn: 0.3173719\ttotal: 3.17s\tremaining: 206ms\n",
      "939:\tlearn: 0.3173103\ttotal: 3.18s\tremaining: 203ms\n",
      "940:\tlearn: 0.3170797\ttotal: 3.18s\tremaining: 199ms\n",
      "941:\tlearn: 0.3169496\ttotal: 3.18s\tremaining: 196ms\n",
      "942:\tlearn: 0.3168009\ttotal: 3.19s\tremaining: 193ms\n",
      "943:\tlearn: 0.3167187\ttotal: 3.19s\tremaining: 189ms\n",
      "944:\tlearn: 0.3165877\ttotal: 3.19s\tremaining: 186ms\n",
      "945:\tlearn: 0.3164545\ttotal: 3.19s\tremaining: 182ms\n",
      "946:\tlearn: 0.3163620\ttotal: 3.2s\tremaining: 179ms\n",
      "947:\tlearn: 0.3162157\ttotal: 3.2s\tremaining: 175ms\n",
      "948:\tlearn: 0.3161414\ttotal: 3.2s\tremaining: 172ms\n",
      "949:\tlearn: 0.3159713\ttotal: 3.2s\tremaining: 169ms\n",
      "950:\tlearn: 0.3158594\ttotal: 3.21s\tremaining: 165ms\n",
      "951:\tlearn: 0.3156939\ttotal: 3.21s\tremaining: 162ms\n",
      "952:\tlearn: 0.3154785\ttotal: 3.21s\tremaining: 158ms\n",
      "953:\tlearn: 0.3153762\ttotal: 3.21s\tremaining: 155ms\n",
      "954:\tlearn: 0.3152192\ttotal: 3.21s\tremaining: 152ms\n",
      "955:\tlearn: 0.3149879\ttotal: 3.22s\tremaining: 148ms\n",
      "956:\tlearn: 0.3149138\ttotal: 3.22s\tremaining: 145ms\n",
      "957:\tlearn: 0.3147959\ttotal: 3.22s\tremaining: 141ms\n",
      "958:\tlearn: 0.3147210\ttotal: 3.23s\tremaining: 138ms\n",
      "959:\tlearn: 0.3145852\ttotal: 3.23s\tremaining: 135ms\n",
      "960:\tlearn: 0.3144847\ttotal: 3.23s\tremaining: 131ms\n",
      "961:\tlearn: 0.3143450\ttotal: 3.23s\tremaining: 128ms\n",
      "962:\tlearn: 0.3142546\ttotal: 3.24s\tremaining: 124ms\n",
      "963:\tlearn: 0.3141827\ttotal: 3.24s\tremaining: 121ms\n",
      "964:\tlearn: 0.3140695\ttotal: 3.25s\tremaining: 118ms\n",
      "965:\tlearn: 0.3139781\ttotal: 3.25s\tremaining: 114ms\n",
      "966:\tlearn: 0.3138367\ttotal: 3.25s\tremaining: 111ms\n",
      "967:\tlearn: 0.3137334\ttotal: 3.26s\tremaining: 108ms\n",
      "968:\tlearn: 0.3136285\ttotal: 3.26s\tremaining: 104ms\n",
      "969:\tlearn: 0.3135634\ttotal: 3.26s\tremaining: 101ms\n",
      "970:\tlearn: 0.3134778\ttotal: 3.27s\tremaining: 97.7ms\n",
      "971:\tlearn: 0.3134090\ttotal: 3.27s\tremaining: 94.3ms\n",
      "972:\tlearn: 0.3132912\ttotal: 3.28s\tremaining: 91ms\n",
      "973:\tlearn: 0.3131391\ttotal: 3.28s\tremaining: 87.6ms\n",
      "974:\tlearn: 0.3130335\ttotal: 3.29s\tremaining: 84.2ms\n",
      "975:\tlearn: 0.3129423\ttotal: 3.29s\tremaining: 80.8ms\n",
      "976:\tlearn: 0.3128393\ttotal: 3.29s\tremaining: 77.4ms\n",
      "977:\tlearn: 0.3127671\ttotal: 3.29s\tremaining: 74.1ms\n",
      "978:\tlearn: 0.3126172\ttotal: 3.29s\tremaining: 70.7ms\n",
      "979:\tlearn: 0.3125228\ttotal: 3.3s\tremaining: 67.3ms\n",
      "980:\tlearn: 0.3124201\ttotal: 3.3s\tremaining: 63.9ms\n",
      "981:\tlearn: 0.3123246\ttotal: 3.3s\tremaining: 60.6ms\n",
      "982:\tlearn: 0.3122457\ttotal: 3.31s\tremaining: 57.2ms\n",
      "983:\tlearn: 0.3121392\ttotal: 3.31s\tremaining: 53.8ms\n",
      "984:\tlearn: 0.3120442\ttotal: 3.31s\tremaining: 50.4ms\n",
      "985:\tlearn: 0.3118834\ttotal: 3.32s\tremaining: 47.1ms\n",
      "986:\tlearn: 0.3117691\ttotal: 3.32s\tremaining: 43.7ms\n",
      "987:\tlearn: 0.3115713\ttotal: 3.32s\tremaining: 40.3ms\n",
      "988:\tlearn: 0.3114586\ttotal: 3.33s\tremaining: 37ms\n",
      "989:\tlearn: 0.3113668\ttotal: 3.33s\tremaining: 33.6ms\n",
      "990:\tlearn: 0.3113055\ttotal: 3.33s\tremaining: 30.3ms\n",
      "991:\tlearn: 0.3112057\ttotal: 3.34s\tremaining: 26.9ms\n",
      "992:\tlearn: 0.3111188\ttotal: 3.34s\tremaining: 23.5ms\n",
      "993:\tlearn: 0.3110610\ttotal: 3.34s\tremaining: 20.2ms\n",
      "994:\tlearn: 0.3109983\ttotal: 3.35s\tremaining: 16.8ms\n",
      "995:\tlearn: 0.3108856\ttotal: 3.35s\tremaining: 13.4ms\n",
      "996:\tlearn: 0.3107898\ttotal: 3.35s\tremaining: 10.1ms\n",
      "997:\tlearn: 0.3106611\ttotal: 3.35s\tremaining: 6.72ms\n",
      "998:\tlearn: 0.3106165\ttotal: 3.36s\tremaining: 3.36ms\n",
      "999:\tlearn: 0.3105472\ttotal: 3.36s\tremaining: 0us\n",
      "<catboost.core.CatBoostClassifier object at 0x7f6edc48e550>\n"
     ]
    }
   ],
   "source": [
    "model_ctb = ctb.CatBoostClassifier()\n",
    "model_ctb.fit(x_train, y_train)\n",
    "print(model_ctb)"
   ]
  },
  {
   "cell_type": "code",
   "execution_count": 49,
   "metadata": {},
   "outputs": [],
   "source": [
    "expected_y = y_test \n",
    "predicted_y = model_ctb.predict(x_test)"
   ]
  },
  {
   "cell_type": "code",
   "execution_count": 50,
   "metadata": {},
   "outputs": [
    {
     "name": "stdout",
     "output_type": "stream",
     "text": [
      "              precision    recall  f1-score   support\n",
      "\n",
      "           0       0.87      0.76      0.81      1042\n",
      "           1       0.78      0.89      0.83      1024\n",
      "\n",
      "    accuracy                           0.82      2066\n",
      "   macro avg       0.83      0.82      0.82      2066\n",
      "weighted avg       0.83      0.82      0.82      2066\n",
      "\n",
      "[[791 251]\n",
      " [115 909]]\n"
     ]
    }
   ],
   "source": [
    "from sklearn import metrics\n",
    "print(metrics.classification_report(expected_y, predicted_y))\n",
    "print(metrics.confusion_matrix(expected_y, predicted_y))"
   ]
  },
  {
   "cell_type": "code",
   "execution_count": 51,
   "metadata": {},
   "outputs": [
    {
     "name": "stdout",
     "output_type": "stream",
     "text": [
      "0.8228460793804453\n"
     ]
    }
   ],
   "source": [
    "print(metrics.accuracy_score(expected_y, predicted_y))"
   ]
  },
  {
   "cell_type": "code",
   "execution_count": 52,
   "metadata": {},
   "outputs": [
    {
     "name": "stdout",
     "output_type": "stream",
     "text": [
      "Requirement already satisfied: lightgbm in /home/minato/anaconda3/lib/python3.9/site-packages (3.3.3)\n",
      "Requirement already satisfied: numpy in /home/minato/anaconda3/lib/python3.9/site-packages (from lightgbm) (1.21.5)\n",
      "Requirement already satisfied: scikit-learn!=0.22.0 in /home/minato/anaconda3/lib/python3.9/site-packages (from lightgbm) (1.1.2)\n",
      "Requirement already satisfied: wheel in /home/minato/anaconda3/lib/python3.9/site-packages (from lightgbm) (0.37.1)\n",
      "Requirement already satisfied: scipy in /home/minato/anaconda3/lib/python3.9/site-packages (from lightgbm) (1.7.3)\n",
      "Requirement already satisfied: joblib>=1.0.0 in /home/minato/anaconda3/lib/python3.9/site-packages (from scikit-learn!=0.22.0->lightgbm) (1.2.0)\n",
      "Requirement already satisfied: threadpoolctl>=2.0.0 in /home/minato/anaconda3/lib/python3.9/site-packages (from scikit-learn!=0.22.0->lightgbm) (2.2.0)\n"
     ]
    }
   ],
   "source": [
    "!pip install lightgbm"
   ]
  },
  {
   "cell_type": "code",
   "execution_count": 53,
   "metadata": {},
   "outputs": [
    {
     "data": {
      "text/plain": [
       "LGBMClassifier()"
      ]
     },
     "execution_count": 53,
     "metadata": {},
     "output_type": "execute_result"
    }
   ],
   "source": [
    "import lightgbm as lgb\n",
    "clf = lgb.LGBMClassifier()\n",
    "clf.fit(x_train, y_train)"
   ]
  },
  {
   "cell_type": "code",
   "execution_count": 54,
   "metadata": {},
   "outputs": [
    {
     "name": "stdout",
     "output_type": "stream",
     "text": [
      "0.8184898354307841\n"
     ]
    }
   ],
   "source": [
    "y_pred = clf.predict(x_test)\n",
    "print(metrics.accuracy_score(y_test, y_pred))"
   ]
  },
  {
   "cell_type": "code",
   "execution_count": 55,
   "metadata": {},
   "outputs": [
    {
     "name": "stdout",
     "output_type": "stream",
     "text": [
      "0.78702807357212\n"
     ]
    }
   ],
   "source": [
    "# KNN\n",
    "from sklearn.neighbors import KNeighborsClassifier\n",
    "\n",
    "model = KNeighborsClassifier(n_neighbors=3)\n",
    "\n",
    "# Train the model using the training sets\n",
    "model.fit(x_train, y_train)\n",
    "y_pred_1 = model.predict(x_test)\n",
    "print(metrics.accuracy_score(y_test, y_pred_1))"
   ]
  },
  {
   "cell_type": "code",
   "execution_count": 56,
   "metadata": {},
   "outputs": [
    {
     "name": "stdout",
     "output_type": "stream",
     "text": [
      "0.8664085188770572\n"
     ]
    }
   ],
   "source": [
    "# DT\n",
    "from sklearn import tree\n",
    "clf = tree.DecisionTreeClassifier()\n",
    "clf = clf.fit(x_train, y_train)\n",
    "y_pred_2 = clf.predict(x_test)\n",
    "print(metrics.accuracy_score(y_test, y_pred_2))"
   ]
  },
  {
   "cell_type": "code",
   "execution_count": 57,
   "metadata": {},
   "outputs": [
    {
     "name": "stdout",
     "output_type": "stream",
     "text": [
      "0.808809293320426\n"
     ]
    }
   ],
   "source": [
    "# SVM\n",
    "import numpy as np\n",
    "from sklearn.pipeline import make_pipeline\n",
    "from sklearn.preprocessing import StandardScaler\n",
    "from sklearn.svm import SVC\n",
    "clf = make_pipeline(StandardScaler(), SVC(gamma='auto'))\n",
    "clf.fit(X, y)\n",
    "y_pred_3 = clf.predict(x_test)\n",
    "print(metrics.accuracy_score(y_test, y_pred_3))"
   ]
  },
  {
   "cell_type": "code",
   "execution_count": 58,
   "metadata": {},
   "outputs": [
    {
     "name": "stdout",
     "output_type": "stream",
     "text": [
      "0.7386253630203291\n"
     ]
    }
   ],
   "source": [
    "# GNB\n",
    "from sklearn.naive_bayes import GaussianNB\n",
    "clf = GaussianNB()\n",
    "clf.fit(x_train, y_train)\n",
    "y_pred_4 = clf.predict(x_test)\n",
    "print(metrics.accuracy_score(y_test, y_pred_4))"
   ]
  },
  {
   "cell_type": "code",
   "execution_count": 59,
   "metadata": {},
   "outputs": [
    {
     "name": "stdout",
     "output_type": "stream",
     "text": [
      "0.7681510164569216\n"
     ]
    }
   ],
   "source": [
    "# AdaBoost\n",
    "from sklearn.ensemble import AdaBoostClassifier\n",
    "clf = AdaBoostClassifier(n_estimators=100, random_state=0)\n",
    "clf.fit(x_train, y_train)\n",
    "y_pred_5 = clf.predict(x_test)\n",
    "print(metrics.accuracy_score(y_test, y_pred_5))"
   ]
  },
  {
   "cell_type": "code",
   "execution_count": 60,
   "metadata": {},
   "outputs": [
    {
     "name": "stdout",
     "output_type": "stream",
     "text": [
      "0.7492739593417231\n"
     ]
    }
   ],
   "source": [
    "# Bagging classifier\n",
    "from sklearn.svm import SVC\n",
    "from sklearn.ensemble import BaggingClassifier\n",
    "clf = BaggingClassifier(base_estimator=SVC(),\n",
    "                        n_estimators=10, random_state=0).fit(x_train, y_train)\n",
    "y_pred_6 = clf.predict(x_test)\n",
    "print(metrics.accuracy_score(y_test, y_pred_6))"
   ]
  },
  {
   "cell_type": "code",
   "execution_count": 61,
   "metadata": {},
   "outputs": [
    {
     "data": {
      "text/html": [
       "<div>\n",
       "<style scoped>\n",
       "    .dataframe tbody tr th:only-of-type {\n",
       "        vertical-align: middle;\n",
       "    }\n",
       "\n",
       "    .dataframe tbody tr th {\n",
       "        vertical-align: top;\n",
       "    }\n",
       "\n",
       "    .dataframe thead th {\n",
       "        text-align: right;\n",
       "    }\n",
       "</style>\n",
       "<table border=\"1\" class=\"dataframe\">\n",
       "  <thead>\n",
       "    <tr style=\"text-align: right;\">\n",
       "      <th></th>\n",
       "      <th>KNN</th>\n",
       "      <th>DT</th>\n",
       "      <th>SVC</th>\n",
       "      <th>Gau NB</th>\n",
       "      <th>adaboost</th>\n",
       "      <th>bagging classifier</th>\n",
       "      <th>Test</th>\n",
       "    </tr>\n",
       "  </thead>\n",
       "  <tbody>\n",
       "    <tr>\n",
       "      <th>0</th>\n",
       "      <td>1</td>\n",
       "      <td>1</td>\n",
       "      <td>1</td>\n",
       "      <td>1</td>\n",
       "      <td>1</td>\n",
       "      <td>0</td>\n",
       "      <td>1</td>\n",
       "    </tr>\n",
       "    <tr>\n",
       "      <th>1</th>\n",
       "      <td>1</td>\n",
       "      <td>1</td>\n",
       "      <td>1</td>\n",
       "      <td>1</td>\n",
       "      <td>1</td>\n",
       "      <td>1</td>\n",
       "      <td>0</td>\n",
       "    </tr>\n",
       "    <tr>\n",
       "      <th>2</th>\n",
       "      <td>0</td>\n",
       "      <td>0</td>\n",
       "      <td>1</td>\n",
       "      <td>1</td>\n",
       "      <td>1</td>\n",
       "      <td>1</td>\n",
       "      <td>0</td>\n",
       "    </tr>\n",
       "    <tr>\n",
       "      <th>3</th>\n",
       "      <td>0</td>\n",
       "      <td>1</td>\n",
       "      <td>0</td>\n",
       "      <td>0</td>\n",
       "      <td>1</td>\n",
       "      <td>1</td>\n",
       "      <td>0</td>\n",
       "    </tr>\n",
       "    <tr>\n",
       "      <th>4</th>\n",
       "      <td>0</td>\n",
       "      <td>0</td>\n",
       "      <td>0</td>\n",
       "      <td>0</td>\n",
       "      <td>0</td>\n",
       "      <td>0</td>\n",
       "      <td>0</td>\n",
       "    </tr>\n",
       "    <tr>\n",
       "      <th>...</th>\n",
       "      <td>...</td>\n",
       "      <td>...</td>\n",
       "      <td>...</td>\n",
       "      <td>...</td>\n",
       "      <td>...</td>\n",
       "      <td>...</td>\n",
       "      <td>...</td>\n",
       "    </tr>\n",
       "    <tr>\n",
       "      <th>2061</th>\n",
       "      <td>1</td>\n",
       "      <td>1</td>\n",
       "      <td>1</td>\n",
       "      <td>1</td>\n",
       "      <td>1</td>\n",
       "      <td>1</td>\n",
       "      <td>1</td>\n",
       "    </tr>\n",
       "    <tr>\n",
       "      <th>2062</th>\n",
       "      <td>1</td>\n",
       "      <td>1</td>\n",
       "      <td>0</td>\n",
       "      <td>0</td>\n",
       "      <td>0</td>\n",
       "      <td>0</td>\n",
       "      <td>1</td>\n",
       "    </tr>\n",
       "    <tr>\n",
       "      <th>2063</th>\n",
       "      <td>1</td>\n",
       "      <td>1</td>\n",
       "      <td>1</td>\n",
       "      <td>1</td>\n",
       "      <td>1</td>\n",
       "      <td>0</td>\n",
       "      <td>1</td>\n",
       "    </tr>\n",
       "    <tr>\n",
       "      <th>2064</th>\n",
       "      <td>0</td>\n",
       "      <td>0</td>\n",
       "      <td>0</td>\n",
       "      <td>0</td>\n",
       "      <td>0</td>\n",
       "      <td>0</td>\n",
       "      <td>0</td>\n",
       "    </tr>\n",
       "    <tr>\n",
       "      <th>2065</th>\n",
       "      <td>1</td>\n",
       "      <td>1</td>\n",
       "      <td>1</td>\n",
       "      <td>1</td>\n",
       "      <td>1</td>\n",
       "      <td>1</td>\n",
       "      <td>1</td>\n",
       "    </tr>\n",
       "  </tbody>\n",
       "</table>\n",
       "<p>2066 rows × 7 columns</p>\n",
       "</div>"
      ],
      "text/plain": [
       "      KNN  DT  SVC  Gau NB  adaboost  bagging classifier  Test\n",
       "0       1   1    1       1         1                   0     1\n",
       "1       1   1    1       1         1                   1     0\n",
       "2       0   0    1       1         1                   1     0\n",
       "3       0   1    0       0         1                   1     0\n",
       "4       0   0    0       0         0                   0     0\n",
       "...   ...  ..  ...     ...       ...                 ...   ...\n",
       "2061    1   1    1       1         1                   1     1\n",
       "2062    1   1    0       0         0                   0     1\n",
       "2063    1   1    1       1         1                   0     1\n",
       "2064    0   0    0       0         0                   0     0\n",
       "2065    1   1    1       1         1                   1     1\n",
       "\n",
       "[2066 rows x 7 columns]"
      ]
     },
     "execution_count": 61,
     "metadata": {},
     "output_type": "execute_result"
    }
   ],
   "source": [
    "new_df = pd.DataFrame(list(zip(y_pred_1, y_pred_2, y_pred_3, y_pred_4, y_pred_5, y_pred_6, y_test)), columns=['KNN','DT','SVC','Gau NB',  'adaboost','bagging classifier','Test'])\n",
    "new_df"
   ]
  },
  {
   "cell_type": "code",
   "execution_count": 62,
   "metadata": {},
   "outputs": [
    {
     "name": "stdout",
     "output_type": "stream",
     "text": [
      "(1652, 6)\n",
      "(1652,)\n",
      "(414, 6)\n",
      "(414,)\n"
     ]
    }
   ],
   "source": [
    "meta_x_train, meta_x_test, meta_y_train, meta_y_test = tts(new_df[new_df.columns[:-1]],new_df['Test'],test_size=0.2)\n",
    "print(meta_x_train.shape)\n",
    "print(meta_y_train.shape)\n",
    "print(meta_x_test.shape)\n",
    "print(meta_y_test.shape)"
   ]
  },
  {
   "cell_type": "code",
   "execution_count": 63,
   "metadata": {},
   "outputs": [
    {
     "name": "stdout",
     "output_type": "stream",
     "text": [
      "KNN:  0.8743961352657005\n",
      "DT:  0.8695652173913043\n",
      "SVM:  0.8743961352657005\n",
      "GNB:  0.8454106280193237\n",
      "ADABOOST:  0.8695652173913043\n",
      "BAGGING:  0.8695652173913043\n",
      "MLP:  0.8695652173913043\n",
      "LogReg:  0.8695652173913043\n"
     ]
    }
   ],
   "source": [
    "# KNN\n",
    "from sklearn.neighbors import KNeighborsClassifier\n",
    "\n",
    "model = KNeighborsClassifier(n_neighbors=3)\n",
    "\n",
    "# Train the model using the training sets\n",
    "model.fit(meta_x_train, meta_y_train)\n",
    "y_pred_1 = model.predict(meta_x_test)\n",
    "print(\"KNN: \", metrics.accuracy_score(meta_y_test, y_pred_1))\n",
    "# DT\n",
    "from sklearn import tree\n",
    "clf = tree.DecisionTreeClassifier()\n",
    "clf = clf.fit(meta_x_train, meta_y_train)\n",
    "y_pred_2 = clf.predict(meta_x_test)\n",
    "print(\"DT: \",metrics.accuracy_score(meta_y_test, y_pred_2))\n",
    "# SVM\n",
    "import numpy as np\n",
    "from sklearn.pipeline import make_pipeline\n",
    "from sklearn.preprocessing import StandardScaler\n",
    "from sklearn.svm import SVC\n",
    "clf = make_pipeline(StandardScaler(), SVC(gamma='auto'))\n",
    "clf.fit(meta_x_train, meta_y_train)\n",
    "y_pred_3 = clf.predict(meta_x_test)\n",
    "print(\"SVM: \",metrics.accuracy_score(meta_y_test, y_pred_3))\n",
    "# GNB\n",
    "from sklearn.naive_bayes import GaussianNB\n",
    "clf = GaussianNB()\n",
    "clf.fit(meta_x_train, meta_y_train)\n",
    "y_pred_4 = clf.predict(meta_x_test)\n",
    "print(\"GNB: \",metrics.accuracy_score(meta_y_test, y_pred_4))\n",
    "# AdaBoost\n",
    "from sklearn.ensemble import AdaBoostClassifier\n",
    "clf = AdaBoostClassifier(n_estimators=100, random_state=0)\n",
    "clf.fit(meta_x_train, meta_y_train)\n",
    "y_pred_5 = clf.predict(meta_x_test)\n",
    "print(\"ADABOOST: \", metrics.accuracy_score(meta_y_test, y_pred_5))\n",
    "# Bagging classifier\n",
    "from sklearn.svm import SVC\n",
    "from sklearn.ensemble import BaggingClassifier\n",
    "clf = BaggingClassifier(base_estimator=SVC(),\n",
    "                        n_estimators=10, random_state=0).fit(meta_x_train, meta_y_train)\n",
    "y_pred_6 = clf.predict(meta_x_test)\n",
    "print(\"BAGGING: \",metrics.accuracy_score(meta_y_test, y_pred_6))\n",
    "\n",
    "# MLP\n",
    "from sklearn.neural_network import MLPClassifier\n",
    "clf = MLPClassifier(random_state=1, max_iter=300).fit(meta_x_train, meta_y_train)\n",
    "y_pred_7 = clf.predict(meta_x_test)\n",
    "print(\"MLP: \",metrics.accuracy_score(meta_y_test, y_pred_7))\n",
    "\n",
    "# Logisitic Regression\n",
    "from sklearn.linear_model import LogisticRegression\n",
    "clf = LogisticRegression(random_state=0).fit(meta_x_train, meta_y_train)\n",
    "y_pred_8 = clf.predict(meta_x_test)\n",
    "print(\"LogReg: \",metrics.accuracy_score(meta_y_test, y_pred_8))\n"
   ]
  },
  {
   "cell_type": "markdown",
   "metadata": {},
   "source": [
    "## Extras"
   ]
  },
  {
   "cell_type": "markdown",
   "metadata": {},
   "source": [
    "<b> Decision Tree using GridSearchCV"
   ]
  },
  {
   "cell_type": "code",
   "execution_count": 64,
   "metadata": {},
   "outputs": [],
   "source": [
    "from sklearn.model_selection import GridSearchCV\n",
    "min_split = np.array([2, 3, 4, 5, 6, 7])\n",
    "max_nvl = np.array([3, 4, 5, 6, 7, 9, 11])\n",
    "alg = ['entropy', 'gini']\n",
    "values_grid = {'min_samples_split': min_split, 'max_depth': max_nvl, 'criterion': alg}"
   ]
  },
  {
   "cell_type": "code",
   "execution_count": 65,
   "metadata": {},
   "outputs": [],
   "source": [
    "model = tree.DecisionTreeClassifier()"
   ]
  },
  {
   "cell_type": "code",
   "execution_count": 66,
   "metadata": {},
   "outputs": [],
   "source": [
    "gridDecisionTree = GridSearchCV(estimator = model, param_grid = values_grid, cv = 5)"
   ]
  },
  {
   "cell_type": "code",
   "execution_count": 67,
   "metadata": {},
   "outputs": [
    {
     "data": {
      "text/plain": [
       "GridSearchCV(cv=5, estimator=DecisionTreeClassifier(),\n",
       "             param_grid={'criterion': ['entropy', 'gini'],\n",
       "                         'max_depth': array([ 3,  4,  5,  6,  7,  9, 11]),\n",
       "                         'min_samples_split': array([2, 3, 4, 5, 6, 7])})"
      ]
     },
     "execution_count": 67,
     "metadata": {},
     "output_type": "execute_result"
    }
   ],
   "source": [
    "gridDecisionTree = GridSearchCV(estimator = model, param_grid = values_grid, cv = 5)\n",
    "gridDecisionTree.fit(x_train, y_train)"
   ]
  },
  {
   "cell_type": "code",
   "execution_count": 68,
   "metadata": {},
   "outputs": [
    {
     "name": "stdout",
     "output_type": "stream",
     "text": [
      "Mín Split:  2\n",
      "Max Nvl:  11\n",
      "Algorithm:  gini\n",
      "Score:  0.8067796610169491\n"
     ]
    }
   ],
   "source": [
    "print('Mín Split: ', gridDecisionTree.best_estimator_.min_samples_split)\n",
    "print('Max Nvl: ', gridDecisionTree.best_estimator_.max_depth)\n",
    "print('Algorithm: ', gridDecisionTree.best_estimator_.criterion)\n",
    "print('Score: ', gridDecisionTree.best_score_)"
   ]
  },
  {
   "cell_type": "markdown",
   "metadata": {},
   "source": [
    "<b> Random Forest using Grid Search CV"
   ]
  },
  {
   "cell_type": "code",
   "execution_count": 69,
   "metadata": {},
   "outputs": [],
   "source": [
    "from sklearn.ensemble import RandomForestClassifier"
   ]
  },
  {
   "cell_type": "code",
   "execution_count": 70,
   "metadata": {},
   "outputs": [],
   "source": [
    "n_estimators = np.array([100])\n",
    "alg = ['entropy', 'gini']\n",
    "values_grid = {'n_estimators': n_estimators, 'criterion': alg}"
   ]
  },
  {
   "cell_type": "code",
   "execution_count": 71,
   "metadata": {},
   "outputs": [],
   "source": [
    "model = RandomForestClassifier()"
   ]
  },
  {
   "cell_type": "code",
   "execution_count": 72,
   "metadata": {},
   "outputs": [],
   "source": [
    "gridRandomForest = GridSearchCV(estimator = model, param_grid = values_grid, cv = 5)"
   ]
  },
  {
   "cell_type": "code",
   "execution_count": 73,
   "metadata": {},
   "outputs": [
    {
     "data": {
      "text/plain": [
       "GridSearchCV(cv=5, estimator=RandomForestClassifier(),\n",
       "             param_grid={'criterion': ['entropy', 'gini'],\n",
       "                         'n_estimators': array([100])})"
      ]
     },
     "execution_count": 73,
     "metadata": {},
     "output_type": "execute_result"
    }
   ],
   "source": [
    "gridRandomForest.fit(x_train, y_train)"
   ]
  },
  {
   "cell_type": "code",
   "execution_count": 74,
   "metadata": {},
   "outputs": [
    {
     "name": "stdout",
     "output_type": "stream",
     "text": [
      "Algorithm:  entropy\n",
      "Score:  0.8728813559322035\n"
     ]
    }
   ],
   "source": [
    "print('Algorithm: ', gridRandomForest.best_estimator_.criterion)\n",
    "print('Score: ', gridRandomForest.best_score_)"
   ]
  },
  {
   "cell_type": "code",
   "execution_count": 75,
   "metadata": {},
   "outputs": [],
   "source": [
    "random_forest = RandomForestClassifier(n_estimators = 100, criterion = 'gini', random_state = 0)"
   ]
  },
  {
   "cell_type": "code",
   "execution_count": 76,
   "metadata": {},
   "outputs": [
    {
     "data": {
      "text/plain": [
       "RandomForestClassifier(random_state=0)"
      ]
     },
     "execution_count": 76,
     "metadata": {},
     "output_type": "execute_result"
    }
   ],
   "source": [
    "random_forest.fit(x_train, y_train)"
   ]
  },
  {
   "cell_type": "code",
   "execution_count": 77,
   "metadata": {},
   "outputs": [],
   "source": [
    "previsoes = random_forest.predict(x_test)"
   ]
  },
  {
   "cell_type": "code",
   "execution_count": 78,
   "metadata": {},
   "outputs": [
    {
     "name": "stderr",
     "output_type": "stream",
     "text": [
      "/home/minato/anaconda3/lib/python3.9/site-packages/sklearn/base.py:450: UserWarning: X does not have valid feature names, but RandomForestClassifier was fitted with feature names\n",
      "  warnings.warn(\n"
     ]
    },
    {
     "data": {
      "text/plain": [
       "0.8954501452081317"
      ]
     },
     "execution_count": 78,
     "metadata": {},
     "output_type": "execute_result"
    },
    {
     "data": {
      "image/png": "[encoded data removed]",
      "text/plain": [
       "<Figure size 576x396 with 1 Axes>"
      ]
     },
     "metadata": {},
     "output_type": "display_data"
    }
   ],
   "source": [
    "from yellowbrick.classifier import ConfusionMatrix\n",
    "cm = ConfusionMatrix(random_forest)\n",
    "cm.fit(x_train, y_train)\n",
    "cm.score(x_test, y_test)"
   ]
  },
  {
   "cell_type": "markdown",
   "metadata": {},
   "source": [
    "<b> AutoKeras"
   ]
  },
  {
   "cell_type": "code",
   "execution_count": 79,
   "metadata": {},
   "outputs": [
    {
     "name": "stdout",
     "output_type": "stream",
     "text": [
      "Requirement already satisfied: autokeras in /home/minato/anaconda3/lib/python3.9/site-packages (1.0.20)\n",
      "Requirement already satisfied: tensorflow>=2.8.0 in /home/minato/anaconda3/lib/python3.9/site-packages (from autokeras) (2.10.0)\n",
      "Requirement already satisfied: keras-tuner>=1.1.0 in /home/minato/anaconda3/lib/python3.9/site-packages (from autokeras) (1.1.3)\n",
      "Requirement already satisfied: packaging in /home/minato/anaconda3/lib/python3.9/site-packages (from autokeras) (21.3)\n",
      "Requirement already satisfied: pandas in /home/minato/anaconda3/lib/python3.9/site-packages (from autokeras) (1.4.2)\n",
      "Requirement already satisfied: ipython in /home/minato/anaconda3/lib/python3.9/site-packages (from keras-tuner>=1.1.0->autokeras) (8.2.0)\n",
      "Requirement already satisfied: requests in /home/minato/anaconda3/lib/python3.9/site-packages (from keras-tuner>=1.1.0->autokeras) (2.27.1)\n",
      "Requirement already satisfied: tensorboard in /home/minato/anaconda3/lib/python3.9/site-packages (from keras-tuner>=1.1.0->autokeras) (2.10.0)\n",
      "Requirement already satisfied: kt-legacy in /home/minato/anaconda3/lib/python3.9/site-packages (from keras-tuner>=1.1.0->autokeras) (1.0.4)\n",
      "Requirement already satisfied: numpy in /home/minato/anaconda3/lib/python3.9/site-packages (from keras-tuner>=1.1.0->autokeras) (1.21.5)\n",
      "Requirement already satisfied: absl-py>=1.0.0 in /home/minato/anaconda3/lib/python3.9/site-packages (from tensorflow>=2.8.0->autokeras) (1.3.0)\n",
      "Requirement already satisfied: wrapt>=1.11.0 in /home/minato/anaconda3/lib/python3.9/site-packages (from tensorflow>=2.8.0->autokeras) (1.12.1)\n",
      "Requirement already satisfied: setuptools in /home/minato/anaconda3/lib/python3.9/site-packages (from tensorflow>=2.8.0->autokeras) (61.2.0)\n",
      "Requirement already satisfied: termcolor>=1.1.0 in /home/minato/anaconda3/lib/python3.9/site-packages (from tensorflow>=2.8.0->autokeras) (2.0.1)\n",
      "Requirement already satisfied: grpcio<2.0,>=1.24.3 in /home/minato/anaconda3/lib/python3.9/site-packages (from tensorflow>=2.8.0->autokeras) (1.42.0)\n",
      "Requirement already satisfied: tensorflow-io-gcs-filesystem>=0.23.1 in /home/minato/anaconda3/lib/python3.9/site-packages (from tensorflow>=2.8.0->autokeras) (0.27.0)\n",
      "Requirement already satisfied: tensorflow-estimator<2.11,>=2.10.0 in /home/minato/anaconda3/lib/python3.9/site-packages (from tensorflow>=2.8.0->autokeras) (2.10.0)\n",
      "Requirement already satisfied: six>=1.12.0 in /home/minato/anaconda3/lib/python3.9/site-packages (from tensorflow>=2.8.0->autokeras) (1.16.0)\n",
      "Requirement already satisfied: protobuf<3.20,>=3.9.2 in /home/minato/anaconda3/lib/python3.9/site-packages (from tensorflow>=2.8.0->autokeras) (3.19.1)\n",
      "Requirement already satisfied: opt-einsum>=2.3.2 in /home/minato/anaconda3/lib/python3.9/site-packages (from tensorflow>=2.8.0->autokeras) (3.3.0)\n",
      "Requirement already satisfied: h5py>=2.9.0 in /home/minato/anaconda3/lib/python3.9/site-packages (from tensorflow>=2.8.0->autokeras) (3.6.0)\n",
      "Requirement already satisfied: flatbuffers>=2.0 in /home/minato/anaconda3/lib/python3.9/site-packages (from tensorflow>=2.8.0->autokeras) (2.0.7)\n",
      "Requirement already satisfied: keras-preprocessing>=1.1.1 in /home/minato/anaconda3/lib/python3.9/site-packages (from tensorflow>=2.8.0->autokeras) (1.1.2)\n",
      "Requirement already satisfied: keras<2.11,>=2.10.0 in /home/minato/anaconda3/lib/python3.9/site-packages (from tensorflow>=2.8.0->autokeras) (2.10.0)\n",
      "Requirement already satisfied: google-pasta>=0.1.1 in /home/minato/anaconda3/lib/python3.9/site-packages (from tensorflow>=2.8.0->autokeras) (0.2.0)\n",
      "Requirement already satisfied: typing-extensions>=3.6.6 in /home/minato/anaconda3/lib/python3.9/site-packages (from tensorflow>=2.8.0->autokeras) (4.1.1)\n",
      "Requirement already satisfied: libclang>=13.0.0 in /home/minato/anaconda3/lib/python3.9/site-packages (from tensorflow>=2.8.0->autokeras) (14.0.6)\n",
      "Requirement already satisfied: gast<=0.4.0,>=0.2.1 in /home/minato/anaconda3/lib/python3.9/site-packages (from tensorflow>=2.8.0->autokeras) (0.4.0)\n",
      "Requirement already satisfied: astunparse>=1.6.0 in /home/minato/anaconda3/lib/python3.9/site-packages (from tensorflow>=2.8.0->autokeras) (1.6.3)\n",
      "Requirement already satisfied: pyparsing!=3.0.5,>=2.0.2 in /home/minato/anaconda3/lib/python3.9/site-packages (from packaging->autokeras) (3.0.4)\n",
      "Requirement already satisfied: python-dateutil>=2.8.1 in /home/minato/anaconda3/lib/python3.9/site-packages (from pandas->autokeras) (2.8.2)\n",
      "Requirement already satisfied: pytz>=2020.1 in /home/minato/anaconda3/lib/python3.9/site-packages (from pandas->autokeras) (2021.3)\n",
      "Requirement already satisfied: wheel<1.0,>=0.23.0 in /home/minato/anaconda3/lib/python3.9/site-packages (from astunparse>=1.6.0->tensorflow>=2.8.0->autokeras) (0.37.1)\n",
      "Requirement already satisfied: markdown>=2.6.8 in /home/minato/anaconda3/lib/python3.9/site-packages (from tensorboard->keras-tuner>=1.1.0->autokeras) (3.3.4)\n",
      "Requirement already satisfied: google-auth-oauthlib<0.5,>=0.4.1 in /home/minato/anaconda3/lib/python3.9/site-packages (from tensorboard->keras-tuner>=1.1.0->autokeras) (0.4.6)\n",
      "Requirement already satisfied: tensorboard-plugin-wit>=1.6.0 in /home/minato/anaconda3/lib/python3.9/site-packages (from tensorboard->keras-tuner>=1.1.0->autokeras) (1.8.1)\n",
      "Requirement already satisfied: tensorboard-data-server<0.7.0,>=0.6.0 in /home/minato/anaconda3/lib/python3.9/site-packages (from tensorboard->keras-tuner>=1.1.0->autokeras) (0.6.1)\n",
      "Requirement already satisfied: google-auth<3,>=1.6.3 in /home/minato/anaconda3/lib/python3.9/site-packages (from tensorboard->keras-tuner>=1.1.0->autokeras) (1.33.0)\n",
      "Requirement already satisfied: werkzeug>=1.0.1 in /home/minato/anaconda3/lib/python3.9/site-packages (from tensorboard->keras-tuner>=1.1.0->autokeras) (2.0.3)\n",
      "Requirement already satisfied: urllib3<1.27,>=1.21.1 in /home/minato/anaconda3/lib/python3.9/site-packages (from requests->keras-tuner>=1.1.0->autokeras) (1.26.9)\n",
      "Requirement already satisfied: certifi>=2017.4.17 in /home/minato/anaconda3/lib/python3.9/site-packages (from requests->keras-tuner>=1.1.0->autokeras) (2022.12.7)\n",
      "Requirement already satisfied: idna<4,>=2.5 in /home/minato/anaconda3/lib/python3.9/site-packages (from requests->keras-tuner>=1.1.0->autokeras) (3.3)\n",
      "Requirement already satisfied: charset-normalizer~=2.0.0 in /home/minato/anaconda3/lib/python3.9/site-packages (from requests->keras-tuner>=1.1.0->autokeras) (2.0.4)\n",
      "Requirement already satisfied: stack-data in /home/minato/anaconda3/lib/python3.9/site-packages (from ipython->keras-tuner>=1.1.0->autokeras) (0.2.0)\n",
      "Requirement already satisfied: pexpect>4.3 in /home/minato/anaconda3/lib/python3.9/site-packages (from ipython->keras-tuner>=1.1.0->autokeras) (4.8.0)\n",
      "Requirement already satisfied: pygments>=2.4.0 in /home/minato/anaconda3/lib/python3.9/site-packages (from ipython->keras-tuner>=1.1.0->autokeras) (2.11.2)\n",
      "Requirement already satisfied: traitlets>=5 in /home/minato/anaconda3/lib/python3.9/site-packages (from ipython->keras-tuner>=1.1.0->autokeras) (5.1.1)\n",
      "Requirement already satisfied: matplotlib-inline in /home/minato/anaconda3/lib/python3.9/site-packages (from ipython->keras-tuner>=1.1.0->autokeras) (0.1.2)\n",
      "Requirement already satisfied: prompt-toolkit!=3.0.0,!=3.0.1,<3.1.0,>=2.0.0 in /home/minato/anaconda3/lib/python3.9/site-packages (from ipython->keras-tuner>=1.1.0->autokeras) (3.0.20)\n",
      "Requirement already satisfied: jedi>=0.16 in /home/minato/anaconda3/lib/python3.9/site-packages (from ipython->keras-tuner>=1.1.0->autokeras) (0.18.1)\n",
      "Requirement already satisfied: pickleshare in /home/minato/anaconda3/lib/python3.9/site-packages (from ipython->keras-tuner>=1.1.0->autokeras) (0.7.5)\n",
      "Requirement already satisfied: backcall in /home/minato/anaconda3/lib/python3.9/site-packages (from ipython->keras-tuner>=1.1.0->autokeras) (0.2.0)\n",
      "Requirement already satisfied: decorator in /home/minato/anaconda3/lib/python3.9/site-packages (from ipython->keras-tuner>=1.1.0->autokeras) (5.1.1)\n",
      "Requirement already satisfied: pyasn1-modules>=0.2.1 in /home/minato/anaconda3/lib/python3.9/site-packages (from google-auth<3,>=1.6.3->tensorboard->keras-tuner>=1.1.0->autokeras) (0.2.8)\n",
      "Requirement already satisfied: rsa<5,>=3.1.4 in /home/minato/anaconda3/lib/python3.9/site-packages (from google-auth<3,>=1.6.3->tensorboard->keras-tuner>=1.1.0->autokeras) (4.7.2)\n",
      "Requirement already satisfied: cachetools<5.0,>=2.0.0 in /home/minato/anaconda3/lib/python3.9/site-packages (from google-auth<3,>=1.6.3->tensorboard->keras-tuner>=1.1.0->autokeras) (4.2.2)\n",
      "Requirement already satisfied: requests-oauthlib>=0.7.0 in /home/minato/anaconda3/lib/python3.9/site-packages (from google-auth-oauthlib<0.5,>=0.4.1->tensorboard->keras-tuner>=1.1.0->autokeras) (1.3.1)\n",
      "Requirement already satisfied: parso<0.9.0,>=0.8.0 in /home/minato/anaconda3/lib/python3.9/site-packages (from jedi>=0.16->ipython->keras-tuner>=1.1.0->autokeras) (0.8.3)\n",
      "Requirement already satisfied: ptyprocess>=0.5 in /home/minato/anaconda3/lib/python3.9/site-packages (from pexpect>4.3->ipython->keras-tuner>=1.1.0->autokeras) (0.7.0)\n",
      "Requirement already satisfied: wcwidth in /home/minato/anaconda3/lib/python3.9/site-packages (from prompt-toolkit!=3.0.0,!=3.0.1,<3.1.0,>=2.0.0->ipython->keras-tuner>=1.1.0->autokeras) (0.2.5)\n",
      "Requirement already satisfied: executing in /home/minato/anaconda3/lib/python3.9/site-packages (from stack-data->ipython->keras-tuner>=1.1.0->autokeras) (0.8.3)\n",
      "Requirement already satisfied: asttokens in /home/minato/anaconda3/lib/python3.9/site-packages (from stack-data->ipython->keras-tuner>=1.1.0->autokeras) (2.0.5)\n",
      "Requirement already satisfied: pure-eval in /home/minato/anaconda3/lib/python3.9/site-packages (from stack-data->ipython->keras-tuner>=1.1.0->autokeras) (0.2.2)\n",
      "Requirement already satisfied: pyasn1<0.5.0,>=0.4.6 in /home/minato/anaconda3/lib/python3.9/site-packages (from pyasn1-modules>=0.2.1->google-auth<3,>=1.6.3->tensorboard->keras-tuner>=1.1.0->autokeras) (0.4.8)\n",
      "Requirement already satisfied: oauthlib>=3.0.0 in /home/minato/anaconda3/lib/python3.9/site-packages (from requests-oauthlib>=0.7.0->google-auth-oauthlib<0.5,>=0.4.1->tensorboard->keras-tuner>=1.1.0->autokeras) (3.2.1)\n"
     ]
    }
   ],
   "source": [
    "!pip install autokeras"
   ]
  },
  {
   "cell_type": "code",
   "execution_count": 80,
   "metadata": {},
   "outputs": [
    {
     "name": "stderr",
     "output_type": "stream",
     "text": [
      "2023-01-01 08:47:01.724931: I tensorflow/core/platform/cpu_feature_guard.cc:193] This TensorFlow binary is optimized with oneAPI Deep Neural Network Library (oneDNN) to use the following CPU instructions in performance-critical operations:  AVX2 FMA\n",
      "To enable them in other operations, rebuild TensorFlow with the appropriate compiler flags.\n",
      "2023-01-01 08:47:01.947370: W tensorflow/stream_executor/platform/default/dso_loader.cc:64] Could not load dynamic library 'libcudart.so.11.0'; dlerror: libcudart.so.11.0: cannot open shared object file: No such file or directory\n",
      "2023-01-01 08:47:01.947400: I tensorflow/stream_executor/cuda/cudart_stub.cc:29] Ignore above cudart dlerror if you do not have a GPU set up on your machine.\n",
      "2023-01-01 08:47:01.976875: E tensorflow/stream_executor/cuda/cuda_blas.cc:2981] Unable to register cuBLAS factory: Attempting to register factory for plugin cuBLAS when one has already been registered\n",
      "2023-01-01 08:47:02.842580: W tensorflow/stream_executor/platform/default/dso_loader.cc:64] Could not load dynamic library 'libnvinfer.so.7'; dlerror: libnvinfer.so.7: cannot open shared object file: No such file or directory\n",
      "2023-01-01 08:47:02.842654: W tensorflow/stream_executor/platform/default/dso_loader.cc:64] Could not load dynamic library 'libnvinfer_plugin.so.7'; dlerror: libnvinfer_plugin.so.7: cannot open shared object file: No such file or directory\n",
      "2023-01-01 08:47:02.842662: W tensorflow/compiler/tf2tensorrt/utils/py_utils.cc:38] TF-TRT Warning: Cannot dlopen some TensorRT libraries. If you would like to use Nvidia GPU with TensorRT, please make sure the missing libraries mentioned above are installed properly.\n"
     ]
    }
   ],
   "source": [
    "import autokeras as ak"
   ]
  },
  {
   "cell_type": "code",
   "execution_count": 81,
   "metadata": {},
   "outputs": [
    {
     "name": "stdout",
     "output_type": "stream",
     "text": [
      "INFO:tensorflow:Reloading Oracle from existing project ./structured_data_classifier/oracle.json\n",
      "INFO:tensorflow:Reloading Tuner from ./structured_data_classifier/tuner0.json\n"
     ]
    },
    {
     "name": "stderr",
     "output_type": "stream",
     "text": [
      "2023-01-01 08:47:34.271386: E tensorflow/stream_executor/cuda/cuda_driver.cc:265] failed call to cuInit: CUDA_ERROR_NO_DEVICE: no CUDA-capable device is detected\n",
      "2023-01-01 08:47:34.271512: I tensorflow/stream_executor/cuda/cuda_diagnostics.cc:156] kernel driver does not appear to be running on this host (minato-lap): /proc/driver/nvidia/version does not exist\n",
      "2023-01-01 08:47:34.288741: I tensorflow/core/platform/cpu_feature_guard.cc:193] This TensorFlow binary is optimized with oneAPI Deep Neural Network Library (oneDNN) to use the following CPU instructions in performance-critical operations:  AVX2 FMA\n",
      "To enable them in other operations, rebuild TensorFlow with the appropriate compiler flags.\n"
     ]
    },
    {
     "name": "stdout",
     "output_type": "stream",
     "text": [
      "INFO:tensorflow:Oracle triggered exit\n",
      "Epoch 1/50\n",
      "259/259 [==============================] - 2s 3ms/step - loss: 0.6482 - accuracy: 0.6380\n",
      "Epoch 2/50\n",
      "259/259 [==============================] - 1s 3ms/step - loss: 0.5350 - accuracy: 0.7465\n",
      "Epoch 3/50\n",
      "259/259 [==============================] - 1s 3ms/step - loss: 0.4971 - accuracy: 0.7620\n",
      "Epoch 4/50\n",
      "259/259 [==============================] - 1s 3ms/step - loss: 0.4866 - accuracy: 0.7632\n",
      "Epoch 5/50\n",
      "259/259 [==============================] - 1s 3ms/step - loss: 0.4801 - accuracy: 0.7643\n",
      "Epoch 6/50\n",
      "259/259 [==============================] - 1s 3ms/step - loss: 0.4740 - accuracy: 0.7674\n",
      "Epoch 7/50\n",
      "259/259 [==============================] - 1s 3ms/step - loss: 0.4689 - accuracy: 0.7706\n",
      "Epoch 8/50\n",
      "259/259 [==============================] - 1s 3ms/step - loss: 0.4644 - accuracy: 0.7738\n",
      "Epoch 9/50\n",
      "259/259 [==============================] - 1s 2ms/step - loss: 0.4605 - accuracy: 0.7769\n",
      "Epoch 10/50\n",
      "259/259 [==============================] - 1s 3ms/step - loss: 0.4565 - accuracy: 0.7789\n",
      "Epoch 11/50\n",
      "259/259 [==============================] - 1s 2ms/step - loss: 0.4526 - accuracy: 0.7824\n",
      "Epoch 12/50\n",
      "259/259 [==============================] - 1s 2ms/step - loss: 0.4490 - accuracy: 0.7851\n",
      "Epoch 13/50\n",
      "259/259 [==============================] - 1s 2ms/step - loss: 0.4454 - accuracy: 0.7867\n",
      "Epoch 14/50\n",
      "259/259 [==============================] - 1s 3ms/step - loss: 0.4418 - accuracy: 0.7895\n",
      "Epoch 15/50\n",
      "259/259 [==============================] - 1s 3ms/step - loss: 0.4383 - accuracy: 0.7927\n",
      "Epoch 16/50\n",
      "259/259 [==============================] - 1s 2ms/step - loss: 0.4346 - accuracy: 0.7941\n",
      "Epoch 17/50\n",
      "259/259 [==============================] - 1s 2ms/step - loss: 0.4314 - accuracy: 0.7958\n",
      "Epoch 18/50\n",
      "259/259 [==============================] - 1s 2ms/step - loss: 0.4282 - accuracy: 0.7983\n",
      "Epoch 19/50\n",
      "259/259 [==============================] - 1s 2ms/step - loss: 0.4248 - accuracy: 0.8006\n",
      "Epoch 20/50\n",
      "259/259 [==============================] - 1s 3ms/step - loss: 0.4218 - accuracy: 0.8027\n",
      "Epoch 21/50\n",
      "259/259 [==============================] - 1s 3ms/step - loss: 0.4189 - accuracy: 0.8048\n",
      "Epoch 22/50\n",
      "259/259 [==============================] - 1s 2ms/step - loss: 0.4161 - accuracy: 0.8067\n",
      "Epoch 23/50\n",
      "259/259 [==============================] - 1s 2ms/step - loss: 0.4134 - accuracy: 0.8074\n",
      "Epoch 24/50\n",
      "259/259 [==============================] - 1s 2ms/step - loss: 0.4107 - accuracy: 0.8094\n",
      "Epoch 25/50\n",
      "259/259 [==============================] - 1s 2ms/step - loss: 0.4082 - accuracy: 0.8123\n",
      "Epoch 26/50\n",
      "259/259 [==============================] - 1s 2ms/step - loss: 0.4058 - accuracy: 0.8136\n",
      "Epoch 27/50\n",
      "259/259 [==============================] - 1s 2ms/step - loss: 0.4036 - accuracy: 0.8143\n",
      "Epoch 28/50\n",
      "259/259 [==============================] - 1s 2ms/step - loss: 0.4013 - accuracy: 0.8145\n",
      "Epoch 29/50\n",
      "259/259 [==============================] - 1s 2ms/step - loss: 0.3993 - accuracy: 0.8159\n",
      "Epoch 30/50\n",
      "259/259 [==============================] - 1s 2ms/step - loss: 0.3974 - accuracy: 0.8174\n",
      "Epoch 31/50\n",
      "259/259 [==============================] - 1s 3ms/step - loss: 0.3955 - accuracy: 0.8196\n",
      "Epoch 32/50\n",
      "259/259 [==============================] - 1s 3ms/step - loss: 0.3936 - accuracy: 0.8215\n",
      "Epoch 33/50\n",
      "259/259 [==============================] - 1s 2ms/step - loss: 0.3918 - accuracy: 0.8218\n",
      "Epoch 34/50\n",
      "259/259 [==============================] - 1s 2ms/step - loss: 0.3902 - accuracy: 0.8236\n",
      "Epoch 35/50\n",
      "259/259 [==============================] - 1s 3ms/step - loss: 0.3887 - accuracy: 0.8253\n",
      "Epoch 36/50\n",
      "259/259 [==============================] - 1s 3ms/step - loss: 0.3871 - accuracy: 0.8262\n",
      "Epoch 37/50\n",
      "259/259 [==============================] - 1s 3ms/step - loss: 0.3857 - accuracy: 0.8269\n",
      "Epoch 38/50\n",
      "259/259 [==============================] - 1s 2ms/step - loss: 0.3844 - accuracy: 0.8275\n",
      "Epoch 39/50\n",
      "259/259 [==============================] - 1s 2ms/step - loss: 0.3831 - accuracy: 0.8293\n",
      "Epoch 40/50\n",
      "259/259 [==============================] - 1s 2ms/step - loss: 0.3819 - accuracy: 0.8292\n",
      "Epoch 41/50\n",
      "259/259 [==============================] - 1s 2ms/step - loss: 0.3807 - accuracy: 0.8298\n",
      "Epoch 42/50\n",
      "259/259 [==============================] - 1s 3ms/step - loss: 0.3796 - accuracy: 0.8301\n",
      "Epoch 43/50\n",
      "259/259 [==============================] - 1s 3ms/step - loss: 0.3786 - accuracy: 0.8305\n",
      "Epoch 44/50\n",
      "259/259 [==============================] - 1s 2ms/step - loss: 0.3777 - accuracy: 0.8312\n",
      "Epoch 45/50\n",
      "259/259 [==============================] - 1s 2ms/step - loss: 0.3768 - accuracy: 0.8326\n",
      "Epoch 46/50\n",
      "259/259 [==============================] - 1s 2ms/step - loss: 0.3759 - accuracy: 0.8335\n",
      "Epoch 47/50\n",
      "259/259 [==============================] - 1s 2ms/step - loss: 0.3751 - accuracy: 0.8341\n",
      "Epoch 48/50\n",
      "259/259 [==============================] - 1s 3ms/step - loss: 0.3743 - accuracy: 0.8343\n",
      "Epoch 49/50\n",
      "259/259 [==============================] - 1s 2ms/step - loss: 0.3736 - accuracy: 0.8344\n",
      "Epoch 50/50\n",
      "259/259 [==============================] - 1s 3ms/step - loss: 0.3729 - accuracy: 0.8345\n",
      "INFO:tensorflow:Assets written to: ./structured_data_classifier/best_model/assets\n",
      "65/65 [==============================] - 0s 2ms/step\n",
      "65/65 [==============================] - 0s 2ms/step\n",
      "65/65 [==============================] - 0s 2ms/step - loss: 0.4848 - accuracy: 0.7832\n",
      "[0.48476919531822205, 0.7831558585166931]\n"
     ]
    }
   ],
   "source": [
    "clf = ak.StructuredDataClassifier(max_trials=10,seed=1234)\n",
    "# Feed the structured data classifier with training data.\n",
    "clf.fit(x_train, y_train, epochs=50, validation_split=0.2)\n",
    "# Predict with the best model.\n",
    "predicted_y = clf.predict(x_test)\n",
    "# Evaluate the best model with testing data.\n",
    "print(clf.evaluate(x_test, y_test))"
   ]
  },
  {
   "cell_type": "code",
   "execution_count": 82,
   "metadata": {},
   "outputs": [
    {
     "name": "stdout",
     "output_type": "stream",
     "text": [
      "65/65 [==============================] - 0s 2ms/step\n",
      "65/65 [==============================] - 0s 3ms/step\n"
     ]
    }
   ],
   "source": [
    "predicted = clf.predict(x_test)"
   ]
  },
  {
   "cell_type": "code",
   "execution_count": 83,
   "metadata": {},
   "outputs": [
    {
     "name": "stdout",
     "output_type": "stream",
     "text": [
      "classification report for neural network\n",
      "              precision    recall  f1-score   support\n",
      "\n",
      "         0.0       0.74      0.81      0.78       958\n",
      "         1.0       0.82      0.76      0.79      1108\n",
      "\n",
      "    accuracy                           0.78      2066\n",
      "   macro avg       0.78      0.78      0.78      2066\n",
      "weighted avg       0.79      0.78      0.78      2066\n",
      "\n"
     ]
    }
   ],
   "source": [
    "from sklearn.metrics import classification_report\n",
    "print(\"classification report for neural network\")\n",
    "print(classification_report(predicted,y_test))"
   ]
  },
  {
   "cell_type": "markdown",
   "metadata": {},
   "source": [
    "<b> ANN"
   ]
  },
  {
   "cell_type": "code",
   "execution_count": 84,
   "metadata": {},
   "outputs": [],
   "source": [
    "import tensorflow as tf"
   ]
  },
  {
   "cell_type": "code",
   "execution_count": 85,
   "metadata": {},
   "outputs": [
    {
     "data": {
      "text/plain": [
       "18"
      ]
     },
     "execution_count": 85,
     "metadata": {},
     "output_type": "execute_result"
    }
   ],
   "source": [
    "x_train.shape[1]"
   ]
  },
  {
   "cell_type": "code",
   "execution_count": 86,
   "metadata": {},
   "outputs": [
    {
     "name": "stdout",
     "output_type": "stream",
     "text": [
      "Epoch 1/40\n",
      "661/661 [==============================] - 2s 2ms/step - loss: 0.5223 - accuracy: 0.7468 - val_loss: 0.5259 - val_accuracy: 0.7324\n",
      "Epoch 2/40\n",
      "661/661 [==============================] - 1s 2ms/step - loss: 0.5057 - accuracy: 0.7544 - val_loss: 0.5212 - val_accuracy: 0.7439\n",
      "Epoch 3/40\n",
      "661/661 [==============================] - 2s 2ms/step - loss: 0.5055 - accuracy: 0.7521 - val_loss: 0.5050 - val_accuracy: 0.7518\n",
      "Epoch 4/40\n",
      "661/661 [==============================] - 1s 2ms/step - loss: 0.5091 - accuracy: 0.7582 - val_loss: 0.6675 - val_accuracy: 0.6870\n",
      "Epoch 5/40\n",
      "661/661 [==============================] - 1s 2ms/step - loss: 0.5037 - accuracy: 0.7562 - val_loss: 0.5047 - val_accuracy: 0.7524\n",
      "Epoch 6/40\n",
      "661/661 [==============================] - 2s 2ms/step - loss: 0.4918 - accuracy: 0.7645 - val_loss: 0.4996 - val_accuracy: 0.7573\n",
      "Epoch 7/40\n",
      "661/661 [==============================] - 1s 2ms/step - loss: 0.5029 - accuracy: 0.7641 - val_loss: 0.5043 - val_accuracy: 0.7567\n",
      "Epoch 8/40\n",
      "661/661 [==============================] - 1s 2ms/step - loss: 0.4970 - accuracy: 0.7615 - val_loss: 0.5062 - val_accuracy: 0.7561\n",
      "Epoch 9/40\n",
      "661/661 [==============================] - 1s 2ms/step - loss: 0.4907 - accuracy: 0.7639 - val_loss: 0.5055 - val_accuracy: 0.7512\n",
      "Epoch 10/40\n",
      "661/661 [==============================] - 1s 2ms/step - loss: 0.4937 - accuracy: 0.7641 - val_loss: 0.5040 - val_accuracy: 0.7567\n",
      "Epoch 11/40\n",
      "661/661 [==============================] - 1s 2ms/step - loss: 0.4914 - accuracy: 0.7656 - val_loss: 0.5726 - val_accuracy: 0.7082\n",
      "Epoch 12/40\n",
      "661/661 [==============================] - 1s 2ms/step - loss: 0.4854 - accuracy: 0.7647 - val_loss: 0.5010 - val_accuracy: 0.7561\n",
      "Epoch 13/40\n",
      "661/661 [==============================] - 1s 2ms/step - loss: 0.4842 - accuracy: 0.7642 - val_loss: 0.5228 - val_accuracy: 0.7355\n",
      "Epoch 14/40\n",
      "661/661 [==============================] - 1s 2ms/step - loss: 0.4804 - accuracy: 0.7676 - val_loss: 0.5210 - val_accuracy: 0.7349\n",
      "Epoch 15/40\n",
      "661/661 [==============================] - 1s 2ms/step - loss: 0.4845 - accuracy: 0.7669 - val_loss: 0.5086 - val_accuracy: 0.7554\n",
      "Epoch 16/40\n",
      "661/661 [==============================] - 1s 2ms/step - loss: 0.4822 - accuracy: 0.7685 - val_loss: 0.5170 - val_accuracy: 0.7579\n",
      "Epoch 17/40\n",
      "661/661 [==============================] - 1s 2ms/step - loss: 0.4841 - accuracy: 0.7660 - val_loss: 0.5209 - val_accuracy: 0.7415\n",
      "Epoch 18/40\n",
      "661/661 [==============================] - 1s 2ms/step - loss: 0.4769 - accuracy: 0.7765 - val_loss: 0.4963 - val_accuracy: 0.7573\n",
      "Epoch 19/40\n",
      "661/661 [==============================] - 1s 2ms/step - loss: 0.4806 - accuracy: 0.7682 - val_loss: 0.5000 - val_accuracy: 0.7439\n",
      "Epoch 20/40\n",
      "661/661 [==============================] - 1s 2ms/step - loss: 0.4751 - accuracy: 0.7707 - val_loss: 0.5216 - val_accuracy: 0.7367\n",
      "Epoch 21/40\n",
      "661/661 [==============================] - 1s 2ms/step - loss: 0.4823 - accuracy: 0.7674 - val_loss: 0.5155 - val_accuracy: 0.7476\n",
      "Epoch 22/40\n",
      "661/661 [==============================] - 1s 2ms/step - loss: 0.4770 - accuracy: 0.7709 - val_loss: 0.5004 - val_accuracy: 0.7476\n",
      "Epoch 23/40\n",
      "661/661 [==============================] - 1s 2ms/step - loss: 0.4739 - accuracy: 0.7707 - val_loss: 0.5082 - val_accuracy: 0.7524\n",
      "Epoch 24/40\n",
      "661/661 [==============================] - 1s 2ms/step - loss: 0.4774 - accuracy: 0.7712 - val_loss: 0.5482 - val_accuracy: 0.7282\n",
      "Epoch 25/40\n",
      "661/661 [==============================] - 1s 2ms/step - loss: 0.4736 - accuracy: 0.7735 - val_loss: 0.4949 - val_accuracy: 0.7573\n",
      "Epoch 26/40\n",
      "661/661 [==============================] - 1s 2ms/step - loss: 0.4724 - accuracy: 0.7735 - val_loss: 0.5040 - val_accuracy: 0.7421\n",
      "Epoch 27/40\n",
      "661/661 [==============================] - 1s 2ms/step - loss: 0.4697 - accuracy: 0.7724 - val_loss: 0.4998 - val_accuracy: 0.7609\n",
      "Epoch 28/40\n",
      "661/661 [==============================] - 1s 2ms/step - loss: 0.4685 - accuracy: 0.7756 - val_loss: 0.5137 - val_accuracy: 0.7494\n",
      "Epoch 29/40\n",
      "661/661 [==============================] - 1s 2ms/step - loss: 0.4684 - accuracy: 0.7762 - val_loss: 0.5018 - val_accuracy: 0.7633\n",
      "Epoch 30/40\n",
      "661/661 [==============================] - 1s 2ms/step - loss: 0.4707 - accuracy: 0.7709 - val_loss: 0.4965 - val_accuracy: 0.7554\n",
      "Epoch 31/40\n",
      "661/661 [==============================] - 1s 2ms/step - loss: 0.4673 - accuracy: 0.7756 - val_loss: 0.5034 - val_accuracy: 0.7585\n",
      "Epoch 32/40\n",
      "661/661 [==============================] - 1s 2ms/step - loss: 0.4670 - accuracy: 0.7721 - val_loss: 0.5058 - val_accuracy: 0.7548\n",
      "Epoch 33/40\n",
      "661/661 [==============================] - 1s 2ms/step - loss: 0.4651 - accuracy: 0.7748 - val_loss: 0.5023 - val_accuracy: 0.7476\n",
      "Epoch 34/40\n",
      "661/661 [==============================] - 1s 2ms/step - loss: 0.4649 - accuracy: 0.7735 - val_loss: 0.5085 - val_accuracy: 0.7488\n",
      "Epoch 35/40\n",
      "661/661 [==============================] - 1s 2ms/step - loss: 0.4647 - accuracy: 0.7745 - val_loss: 0.5101 - val_accuracy: 0.7542\n",
      "Epoch 36/40\n",
      "661/661 [==============================] - 1s 2ms/step - loss: 0.4660 - accuracy: 0.7750 - val_loss: 0.5028 - val_accuracy: 0.7500\n",
      "Epoch 37/40\n",
      "661/661 [==============================] - 1s 2ms/step - loss: 0.4675 - accuracy: 0.7712 - val_loss: 0.5006 - val_accuracy: 0.7561\n",
      "Epoch 38/40\n",
      "661/661 [==============================] - 1s 2ms/step - loss: 0.4635 - accuracy: 0.7741 - val_loss: 0.4976 - val_accuracy: 0.7615\n",
      "Epoch 39/40\n",
      "661/661 [==============================] - 1s 2ms/step - loss: 0.4620 - accuracy: 0.7769 - val_loss: 0.5040 - val_accuracy: 0.7464\n",
      "Epoch 40/40\n",
      "661/661 [==============================] - 1s 2ms/step - loss: 0.4608 - accuracy: 0.7780 - val_loss: 0.5006 - val_accuracy: 0.7476\n",
      "65/65 - 0s - loss: 0.4873 - accuracy: 0.7536 - 87ms/epoch - 1ms/step\n",
      "Test loss:  0.48732247948646545\n",
      "Test accuracy:  0.7536302208900452\n",
      "Model: \"sequential\"\n",
      "_________________________________________________________________\n",
      " Layer (type)                Output Shape              Param #   \n",
      "=================================================================\n",
      " dense_4 (Dense)             (None, 128)               2432      \n",
      "                                                                 \n",
      " dense_5 (Dense)             (None, 1)                 129       \n",
      "                                                                 \n",
      "=================================================================\n",
      "Total params: 2,561\n",
      "Trainable params: 2,561\n",
      "Non-trainable params: 0\n",
      "_________________________________________________________________\n"
     ]
    }
   ],
   "source": [
    "inputs = tf.keras.Input(shape=(x_train.shape[1],))\n",
    "\n",
    "model = tf.keras.Sequential()\n",
    "model.add(tf.keras.layers.Dense(128, activation='relu', input_dim=x_train.shape[1]))\n",
    "model.add(tf.keras.layers.Dense(1, activation='sigmoid'))\n",
    "model.compile(optimizer='adam', loss='binary_crossentropy', metrics=['accuracy'])\n",
    "hist = model.fit(x_train, y_train, epochs=40, batch_size=10, validation_split=0.2)\n",
    "\n",
    "test_score = model.evaluate(x_test, y_test, verbose=2)\n",
    "print(\"Test loss: \", test_score[0])\n",
    "print(\"Test accuracy: \", test_score[1])\n",
    "model.summary()"
   ]
  },
  {
   "cell_type": "code",
   "execution_count": 87,
   "metadata": {},
   "outputs": [
    {
     "name": "stdout",
     "output_type": "stream",
     "text": [
      "Test loss:  0.48732247948646545\n",
      "Test accuracy:  0.7536302208900452\n"
     ]
    }
   ],
   "source": [
    "print(\"Test loss: \", test_score[0])\n",
    "print(\"Test accuracy: \", test_score[1])"
   ]
  }
 ],
 "metadata": {
  "kernelspec": {
   "display_name": "Python 3.9.12 ('base')",
   "language": "python",
   "name": "python3"
  },
  "language_info": {
   "codemirror_mode": {
    "name": "ipython",
    "version": 3
   },
   "file_extension": ".py",
   "mimetype": "text/x-python",
   "name": "python",
   "nbconvert_exporter": "python",
   "pygments_lexer": "ipython3",
   "version": "3.9.12"
  },
  "orig_nbformat": 4,
  "vscode": {
   "interpreter": {
    "hash": "2627dd1015945cb2e6b8fd0e3cddf5a776bc70c3771fdd8974c9c21420125228"
   }
  }
 },
 "nbformat": 4,
 "nbformat_minor": 2
}
